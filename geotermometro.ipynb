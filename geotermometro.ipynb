{
 "cells": [
  {
   "cell_type": "markdown",
   "metadata": {},
   "source": [
    "## Geotermometro clino/orto-pirosseno\n",
    "\n",
    "Vedremo qui di mettere in pratica la teoria discussa nelle lezioni di termodinamica (rif. lezione termodinamica_17), con l'esempio di un *ipotetico* geotermometro basato sulla ripartizione di ferro e magnesio tra due pirosseni, di cui uno monoclino e l'altro ortorombico. \n",
    "\n",
    "Per chi volesse replicare i dati usati per la calibrazione del geotermometro, questi sono stati *simulati* usando il programma Perplex, con il database termodinamico *hp622ver.dat* per gli end-member, i modelli di soluzione Opx(JH) e Cpx(JH), e per una composizione globale (in moli) pari a: \n",
    "\n",
    "CaO 0.4; MgO 1.4; FeO 0.2 e SiO2 2.0.\n",
    "\n",
    "I dati ottenuti dalla simulazione con Perplex (frazioni molari di Fe nel clinopirosseno, nell'ortopirosseno e la temperatura corrispondente) sono contenuti nel file Excel *geotermometro.xlsx* che deve essere presente nel folder da cui viene lanciato il programma o questo notebook. \n",
    "\n",
    "Il notebook funziona sulla base del programma *geotermometro.py* che lanceremo nelle celle successive."
   ]
  },
  {
   "cell_type": "code",
   "execution_count": 1,
   "metadata": {},
   "outputs": [],
   "source": [
    "import inspect as ins\n",
    "%matplotlib inline"
   ]
  },
  {
   "cell_type": "code",
   "execution_count": 2,
   "metadata": {},
   "outputs": [],
   "source": [
    "%run geotermometro.py"
   ]
  },
  {
   "cell_type": "markdown",
   "metadata": {},
   "source": [
    "Dopo aver lanciato il programma (cella precedente) devono essere caricati i dati per la calibrazione del geotermometro, usando la funzione read_data, il cui codice è:"
   ]
  },
  {
   "cell_type": "code",
   "execution_count": 3,
   "metadata": {},
   "outputs": [
    {
     "name": "stdout",
     "output_type": "stream",
     "text": [
      "def read_data(file='geotermometro.xlsx'):\n",
      "    data=pd.read_excel(file)\n",
      "    dt.t_list=data['T'].values\n",
      "    dt.c_list=data['CPX'].values\n",
      "    dt.o_list=data['OPX'].values\n",
      "    dt.ll_dat=len(dt.t_list)\n",
      "    dt.data_flag=True\n",
      "    print_data()\n",
      "\n"
     ]
    }
   ],
   "source": [
    "print(ins.getsource(read_data))"
   ]
  },
  {
   "cell_type": "markdown",
   "metadata": {},
   "source": [
    "Dal punto di vista dell'attività di programmazione, l'interesse per questa funzione sta nell'uso delle funzioni della libreria [pandas](https://pandas.pydata.org/) per leggere dataset contenuti in file di vario formato (tra cui Excel) e di manipolarli nel modo opportuno. In questo caso si usa la funzione *read_excel* della libreria *pandas* per caricare il file ed assegnare le variabili t_list (T: temperatura), c_list (CPX: frazione molare del ferro nel clinopirosseno) e o_list (OPX: frazione molare del ferro nell'ortopirosseno) con i dati contenuti nel file. \n",
    "\n",
    "I dati caricati devono essere condivisi tra funzioni diverse del programma e, per questo motivo, vengono salvati entro una variabile *dt* che è l'istanza di una semplice classe *data* il cui codice è \n",
    "\n",
    "```\n",
    "class data():\n",
    "      def __init__(self):\n",
    "          self.t_list=np.array([])\n",
    "          self.c_list=np.array([])\n",
    "          self.o_list=np.array([])\n",
    "          self.reg=np.array([])\n",
    "          self.data_flag=False\n",
    "          self.reg_flag=False\n",
    "          self.mnr=0.\n",
    "          self.mxr=0.\n",
    "          self.ll_dat=0\n",
    "      def set_reg(self,reg,mnr,mxr):\n",
    "          self.reg_flag=True\n",
    "          self.reg=reg\n",
    "          self.mnr=mnr\n",
    "          self.mxr=mxr\n",
    "```\n",
    "\n",
    "La variabile *dt* è poi creata con l'assegnazione\n",
    "\n",
    "dt=data()\n",
    "\n",
    "In questo modo, la lista dei valori di temperatura viene ad esempio conservata nella variabile *dt.t_list*. La classe prevede anche un metodo (*set_reg*) per assegnare i parametri della regressione lineare del rapporto CPX/OPX in funzione della temperatura (che sono usati in varie funzioni del programma)"
   ]
  },
  {
   "cell_type": "code",
   "execution_count": 4,
   "metadata": {},
   "outputs": [
    {
     "name": "stdout",
     "output_type": "stream",
     "text": [
      "\n",
      "Dati iniziali (sampling factor: 4)\n",
      "\n",
      "    T    c-Fe   o_Fe   c-Mg   o-Mg    rFe    rMg \n",
      "  498.3  0.011  0.160  0.989  0.840  0.070  1.177\n",
      "  559.3  0.016  0.157  0.984  0.843  0.104  1.167\n",
      "  620.3  0.022  0.154  0.978  0.846  0.146  1.155\n",
      "  681.4  0.028  0.151  0.972  0.849  0.184  1.145\n",
      "  742.4  0.034  0.147  0.966  0.853  0.230  1.133\n",
      "  803.4  0.039  0.144  0.961  0.856  0.270  1.123\n",
      "  864.4  0.044  0.141  0.956  0.859  0.313  1.112\n",
      "  925.4  0.048  0.138  0.952  0.862  0.352  1.104\n",
      "  986.4  0.053  0.135  0.947  0.865  0.395  1.094\n",
      " 1047.5  0.057  0.132  0.943  0.868  0.432  1.087\n",
      " 1108.5  0.062  0.130  0.938  0.870  0.476  1.078\n",
      " 1169.5  0.065  0.128  0.935  0.872  0.512  1.071\n"
     ]
    }
   ],
   "source": [
    "read_data()"
   ]
  },
  {
   "cell_type": "markdown",
   "metadata": {},
   "source": [
    "La lista dei dati di calibrazione viene stampata come illustrato nella cella precedente da una funzione *print_data* chiamata da *read_data*, il cui codice è: "
   ]
  },
  {
   "cell_type": "code",
   "execution_count": 5,
   "metadata": {},
   "outputs": [
    {
     "name": "stdout",
     "output_type": "stream",
     "text": [
      "def print_data(ns=4):\n",
      "    \n",
      "    if not dt.data_flag:\n",
      "        read_data()\n",
      "        return\n",
      "        \n",
      "    c_mg_list=1-dt.c_list\n",
      "    o_mg_list=1-dt.o_list\n",
      "    r_mg=c_mg_list/o_mg_list\n",
      "    r_fe=dt.c_list/dt.o_list\n",
      "    \n",
      "    serie=(dt.t_list.round(1),dt.c_list.round(3),dt.o_list.round(3),c_mg_list.round(3),\\\n",
      "           o_mg_list.round(3),r_fe.round(3),r_mg.round(3))\n",
      "    pd.set_option('colheader_justify', 'center')\n",
      "    df=pd.DataFrame(serie, index=['T', 'c-Fe', 'o_Fe', 'c-Mg', 'o-Mg', 'rFe','rMg'])\n",
      "    df=df.T\n",
      "    print(\"\\nDati iniziali (sampling factor: %i)\\n\" % ns)\n",
      "    df2=df.iloc[0:-1:ns]\n",
      "    print(df2.to_string(index=False))\n",
      "\n"
     ]
    }
   ],
   "source": [
    "print(ins.getsource(print_data))"
   ]
  },
  {
   "cell_type": "markdown",
   "metadata": {},
   "source": [
    "La funzione *print_data* sfrutta alcune funzionalità della libreria *pandas* per strutturare velocemente delle tabelle di dati per una chiara visualizzazione. Per esempio, supponiamo di creare una lista di valori di una variabile indipendente *x* e del suo *quadrato* (<i>y=x^2</i>); possiamo costruire una tabella con il codice che segue:  "
   ]
  },
  {
   "cell_type": "code",
   "execution_count": 6,
   "metadata": {},
   "outputs": [
    {
     "name": "stdout",
     "output_type": "stream",
     "text": [
      "    0     1     2     3      4  \n",
      "X  0.0  2.50   5.0   7.50   10.0\n",
      "Y  0.0  6.25  25.0  56.25  100.0\n"
     ]
    }
   ],
   "source": [
    "n_val=5\n",
    "x_ini=0.\n",
    "x_fin=10.\n",
    "\n",
    "# Liste x e y\n",
    "x_list=np.linspace(x_ini,x_fin,n_val)\n",
    "y_list=x_list**2\n",
    "\n",
    "tab=(x_list,y_list)\n",
    "data=pd.DataFrame(tab, index=['X', 'Y'])\n",
    "\n",
    "print(data)"
   ]
  },
  {
   "cell_type": "markdown",
   "metadata": {},
   "source": [
    "Volendo scrivere la tabella in due colonne, *trasponiamo* il *DataFrame* *data* scrivendo semplicemente:"
   ]
  },
  {
   "cell_type": "code",
   "execution_count": 7,
   "metadata": {},
   "outputs": [
    {
     "name": "stdout",
     "output_type": "stream",
     "text": [
      "     X      Y  \n",
      "0   0.0    0.00\n",
      "1   2.5    6.25\n",
      "2   5.0   25.00\n",
      "3   7.5   56.25\n",
      "4  10.0  100.00\n"
     ]
    }
   ],
   "source": [
    "data=data.T\n",
    "\n",
    "print(data)"
   ]
  },
  {
   "cell_type": "markdown",
   "metadata": {},
   "source": [
    "Per eliminare i *numeri di linea* un modo semplice è:"
   ]
  },
  {
   "cell_type": "code",
   "execution_count": 8,
   "metadata": {},
   "outputs": [
    {
     "name": "stdout",
     "output_type": "stream",
     "text": [
      "   X      Y  \n",
      "  0.0    0.00\n",
      "  2.5    6.25\n",
      "  5.0   25.00\n",
      "  7.5   56.25\n",
      " 10.0  100.00\n"
     ]
    }
   ],
   "source": [
    "print(data.to_string(index=False))"
   ]
  },
  {
   "cell_type": "markdown",
   "metadata": {},
   "source": [
    "che sfrutta il metodo *to_string* per convertire i dati numerici della tabella in righe di tipo *carattere*, rimuovendo l'indice (*index=False* che corrisponde al numero di linea). Esistono poi molti attributi e metodi scritti per i DataFrame di *pandas* che consentono di operare sui dati. Per esempio i due seguenti: "
   ]
  },
  {
   "cell_type": "code",
   "execution_count": 9,
   "metadata": {},
   "outputs": [
    {
     "data": {
      "text/plain": [
       "array([  0.  ,   6.25,  25.  ,  56.25, 100.  ])"
      ]
     },
     "execution_count": 9,
     "metadata": {},
     "output_type": "execute_result"
    }
   ],
   "source": [
    "data['Y'].values  # accede ai dati della colonna \"Y\""
   ]
  },
  {
   "cell_type": "code",
   "execution_count": 10,
   "metadata": {},
   "outputs": [
    {
     "data": {
      "text/plain": [
       "5.0"
      ]
     },
     "execution_count": 10,
     "metadata": {},
     "output_type": "execute_result"
    }
   ],
   "source": [
    "data['X'].mean()  # metodo per calcolare la media dei dati di colonna 'X'"
   ]
  },
  {
   "cell_type": "markdown",
   "metadata": {},
   "source": [
    "Tornando al geotermometro, la calibrazione viene fatta dalla funzione *calibrazione*: questa calcola il rapporto (*ratio*) tra le frazioni molari del ferro nel clinopirosseno e nell'ortopirosseno per ogni valore di temperatura (*dt.t_list*) e poi fa un fit lineare di *T* in funzione di *ratio*: <i>T=m\\*ratio + q</i>. La funzione *polyfit* della libreria *Numpy* esegue il fit;  i risultati (*m* e *q*) vengono passati alla variabile *reg* che viene poi salvata nella variabile *dt* (istanza della classe *data*), usando il metodo *set_reg* (in modo che le altre funzioni possano accedervi; l'uso di questa tecnica evita il ricorso alle dichiarazioni *global* di variabili create all'interno di funzioni e poi utilizzate all'esterno di esse; come già accennato in altri notebook, l'uso di dichiarative *global* è sconsigliato). date un'occhiata alla funzione *calibrazione*:"
   ]
  },
  {
   "cell_type": "code",
   "execution_count": 11,
   "metadata": {},
   "outputs": [
    {
     "name": "stdout",
     "output_type": "stream",
     "text": [
      "def calibrazione():\n",
      "    \n",
      "    if not dt.data_flag:\n",
      "       read_data()\n",
      "    \n",
      "    # Rapporti Cpx/Opx\n",
      "    ratio = dt.c_list/dt.o_list\n",
      "\n",
      "    mnr=min(ratio)\n",
      "    mxr=max(ratio)\n",
      "    \n",
      "    # Fit di grado 1 t(ratio) e plot del fit\n",
      "    reg=np.polyfit(ratio, dt.t_list, 1)\n",
      "    r_line=np.linspace(min(ratio),max(ratio),50)\n",
      "    t_line=np.polyval(reg,r_line)\n",
      "    \n",
      "    dt.set_reg(reg,mnr,mxr)\n",
      "    \n",
      "    plt.figure()\n",
      "    plt.plot(ratio,dt.t_list,\"k*\",markersize=5,label=\"Dati effettivi\")\n",
      "    plt.plot(r_line,t_line,\"r-\",label=\"Fit\")\n",
      "    plt.xlabel(\"clino/orto ratio\")\n",
      "    plt.ylabel(\"T (K)\")\n",
      "    plt.title(\"Curva di calibrazione\")\n",
      "    plt.legend(frameon=False)\n",
      "    plt.show()\n",
      "\n"
     ]
    }
   ],
   "source": [
    "print(ins.getsource(calibrazione))"
   ]
  },
  {
   "cell_type": "markdown",
   "metadata": {},
   "source": [
    "Oltre che fare il fit, la funzione si preoccupa di mostrare un grafico con i dati originali e la retta di regressione. Lanciamola:"
   ]
  },
  {
   "cell_type": "code",
   "execution_count": 12,
   "metadata": {},
   "outputs": [
    {
     "data": {
      "image/png": "[encoded data removed]",
      "text/plain": [
       "<Figure size 432x288 with 1 Axes>"
      ]
     },
     "metadata": {
      "needs_background": "light"
     },
     "output_type": "display_data"
    }
   ],
   "source": [
    "calibrazione()"
   ]
  },
  {
   "cell_type": "markdown",
   "metadata": {},
   "source": [
    "Come detto nella lezione *termodinamica_17*, con riferimento alla reazione di scambio:\n",
    "\n",
    "$${\\rm Mg}^c + {\\rm Fe}^o \\leftrightarrow {\\rm Mg}^o + {\\rm Fe}^c$$\n",
    "\n",
    "(il simbolo $A^\\alpha$ indica la specie chimica $A$ nella fase $\\alpha$; $c$ sta per clinopirosseno e $o$ sta per ortopirosseno) possiamo scrivere la *costante di equilibrio* (*costante* a temperatura e pressione costante) come\n",
    "\n",
    "$$K = \\frac{x_{\\rm Mg}^{o} x_{\\rm Fe}^{c}}{x_{\\rm Mg}^{c} x_{\\rm Fe}^{o}}=\n",
    "\\frac{x_{\\rm Fe}^{c}/x_{\\rm Fe}^{o}}{x_{\\rm Mg}^{c}/x_{\\rm Mg}^{o}}$$\n",
    "\n",
    "Come visto nelle lezioni, esiste una relazione tra $K$ e la temperatura:\n",
    "\n",
    "$$\\log K= -\\frac{\\Delta\\mu^0}{RT}$$\n",
    "\n",
    "dove $\\Delta\\mu^0$ è la variazione di energia libera molare associata alla reazione medesima e dipende dalle energie libere molari dei termini puri alla temperatura e pressione determinata. Essendo una variazione di energia libera a *P* e *T* costanti, sappiamo che questa può essere scritta come:\n",
    "\n",
    "$$\\Delta\\mu^0 = \\Delta h^0 - T\\Delta s^0$$\n",
    "\n",
    "e quindi:\n",
    "\n",
    "<br>\n",
    "\n",
    "$$\\log K= -\\frac{\\Delta\\mu^0}{RT} = -\\frac{\\Delta h^0}{R}\\frac{1}{T}+\\frac{\\Delta s^0}{R}$$\n",
    "\n",
    "<br>\n",
    "\n",
    "Facendo un fit *lineare* di $\\log K$ in funzione di $1/T$ otteniamo allora l'entalpia della reazione di scambio (*coefficiente angolare* $m=-\\Delta h^0/R$) e l'entropia (*intercetta* $q=\\Delta s^0/R$). La dipendenza di $\\log K$ da $1/T$ è lineare ammesso che l'entalpia e l'entropia di reazione non varino apprezzabilmente con la temperatura.\n",
    "\n",
    "Per chi sia interessato, ecco il codice che calcola l'entalpia e l'entropia della reazione di scambio a partire dai dati usati per la calibrazione del geotermometro (la funzione è relativamente *complicata* da istruzioni che eseguono un sampling conveniente dei dati di temperatura, essenzialmente per motivi *grafici*; sorvoliamo su questi aspetti): "
   ]
  },
  {
   "cell_type": "code",
   "execution_count": 13,
   "metadata": {},
   "outputs": [
    {
     "name": "stdout",
     "output_type": "stream",
     "text": [
      "def log_ratio():\n",
      "    \n",
      "    if not dt.reg_flag:\n",
      "        calibrazione()\n",
      "    \n",
      "    # c_list e' la frazione molare del ferro nella fase monoclina\n",
      "    # o_list e' la frazione del ferro nella fase ortorombica\n",
      "    # c_mg_list e' la frazione di Mg nel monoclino\n",
      "    # o_mg_list e' la frazione di Mg nell'ortorombico\n",
      "    c_mg_list=1-dt.c_list\n",
      "    o_mg_list=1-dt.o_list\n",
      "    \n",
      "    # rapporti delle concentrazioni di Mg e Fe tra le due fasi\n",
      "    r_mg=c_mg_list/o_mg_list\n",
      "    r_fe=dt.c_list/dt.o_list\n",
      "    \n",
      "    # logaritmo del rapporto\n",
      "    log_r=np.log(r_mg/r_fe)\n",
      "    \n",
      "    # reciproco della temperatura\n",
      "    rt_list=1./dt.t_list\n",
      "    \n",
      "    # resampling della lista rt_list \n",
      "    rt_min=np.min(rt_list)\n",
      "    rt_max=np.max(rt_list)\n",
      "    rt_samp=np.linspace(rt_min,rt_max,20)   \n",
      "    r_samp=np.interp(rt_samp,rt_list,log_r,period=-1)\n",
      "    \n",
      "    reg=np.polyfit(rt_list,log_r,1)\n",
      "    m=reg[0]\n",
      "    q=reg[1]\n",
      "    \n",
      "    DH=-1*R*m\n",
      "    DS=q*R\n",
      "    \n",
      "    print(\"Delta_H di reazione %9.2f J/mole\" % DH)\n",
      "    print(\"Delta_S di reazione %9.2f J/K mole\" % DS)\n",
      "    \n",
      "    rt_fit=np.linspace(rt_min,rt_max,50)\n",
      "    r_fit=np.polyval(reg,rt_fit)\n",
      "    \n",
      "    plt.figure()\n",
      "    plt.plot(rt_samp,r_samp,\"*\",markersize=5,label=\"exp\")\n",
      "    plt.plot(rt_fit,r_fit,\"k-\",label=\"fit\")\n",
      "    plt.xlabel(\"1/T (K^-1)\")\n",
      "    plt.ylabel(\"log(rMg/rFe)\")\n",
      "    plt.legend(frameon=False)\n",
      "    plt.title(\"log(rMg/rFe) vs 1/T\")\n",
      "    plt.show()\n",
      "\n"
     ]
    }
   ],
   "source": [
    "print(ins.getsource(log_ratio))"
   ]
  },
  {
   "cell_type": "markdown",
   "metadata": {},
   "source": [
    "Ed eccone il semplice uso:"
   ]
  },
  {
   "cell_type": "code",
   "execution_count": 14,
   "metadata": {},
   "outputs": [
    {
     "name": "stdout",
     "output_type": "stream",
     "text": [
      "Delta_H di reazione -14901.91 J/mole\n",
      "Delta_S di reazione     -6.64 J/K mole\n"
     ]
    },
    {
     "data": {
      "image/png": "[encoded data removed]",
      "text/plain": [
       "<Figure size 432x288 with 1 Axes>"
      ]
     },
     "metadata": {
      "needs_background": "light"
     },
     "output_type": "display_data"
    }
   ],
   "source": [
    "log_ratio()"
   ]
  },
  {
   "cell_type": "markdown",
   "metadata": {},
   "source": [
    "Siamo adesso pronti a utilizzare il geotermometro su ipotetici dati: abbiamo per esempio misurato la frazione molare del ferro in un clinopirosseno e in un ortopirosseno che sono a contatto in un dato campione di roccia, e vogliamo avere una stima della temperatura a cui questa si è equilibrata. Usiamo allo scopo la funzione temperatura, passandogli come argomenti i valori delle frazioni molari misurate. \n",
    "\n",
    "Il codice della funzione è molto semplice: usa i parametri della retta di regressione ottimizzati dalla funzione *calibrazione* e calcola direttamente la temperatura note le frazioni molari. Esegue anche un plot per vedere come si *colloca* il nostro dato $\\left(x_{\\rm Fe}^{c}, x_{\\rm Fe}^{o}\\right)$ rispetto ai dati usati per la calibrazione:"
   ]
  },
  {
   "cell_type": "code",
   "execution_count": 15,
   "metadata": {},
   "outputs": [
    {
     "name": "stdout",
     "output_type": "stream",
     "text": [
      "def temperatura(c_val,o_val,flag=True):\n",
      "    \"\"\"\n",
      "    Calcola la temperatura di equilibrio del sistema\n",
      "    in base al rapporto delle concentrazioni del\n",
      "    ferro in Cpx e Opx\n",
      "    \n",
      "    Input: \n",
      "        c_val: frazione molare del ferro in cpx\n",
      "        o_val: frazione molare del ferro in opx\n",
      "    \"\"\"\n",
      "    \n",
      "    if not dt.reg_flag:\n",
      "       calibrazione()\n",
      "    \n",
      "    r_val=c_val/o_val\n",
      "    \n",
      "    # if r_val > dt.mxr or r_val < dt.mnr:\n",
      "    #     print(\"Rapporto clino/orto fuori dal range\")\n",
      "    #     return\n",
      "    \n",
      "    t_val=np.polyval(dt.reg,r_val)\n",
      "\n",
      "    if flag:         \n",
      "        print(\"Temperatura stimata: %4.2f K\" % t_val)\n",
      "        \n",
      "        plt.figure()\n",
      "        plt.plot(dt.c_list,dt.o_list,label=\"Dati di calibrazione\")\n",
      "        plt.scatter(c_val,o_val,s=50,c='red',marker='*',label=\"Dato attuale\")\n",
      "        plt.title(\"c-Fe vs o-Fe\")\n",
      "        plt.xlabel(\"c-Fe\")\n",
      "        plt.ylabel(\"o-Fe\")\n",
      "        plt.legend(frameon=False)\n",
      "        plt.show()\n",
      "    else:\n",
      "        return t_val\n",
      "\n"
     ]
    }
   ],
   "source": [
    "print(ins.getsource(temperatura))"
   ]
  },
  {
   "cell_type": "markdown",
   "metadata": {},
   "source": [
    "Usiamo la funzione:"
   ]
  },
  {
   "cell_type": "code",
   "execution_count": 16,
   "metadata": {},
   "outputs": [
    {
     "name": "stdout",
     "output_type": "stream",
     "text": [
      "Temperatura stimata: 958.14 K\n"
     ]
    },
    {
     "data": {
      "image/png": "[encoded data removed]",
      "text/plain": [
       "<Figure size 432x288 with 1 Axes>"
      ]
     },
     "metadata": {
      "needs_background": "light"
     },
     "output_type": "display_data"
    }
   ],
   "source": [
    "temperatura(0.050,0.134)"
   ]
  },
  {
   "cell_type": "markdown",
   "metadata": {},
   "source": [
    "Un'idea dell'errore associato a questa stima la abbiamo guardando all'errore medio del fit dei dati di calibrazione, calcolato con la funzione *error*:"
   ]
  },
  {
   "cell_type": "code",
   "execution_count": 17,
   "metadata": {},
   "outputs": [
    {
     "name": "stdout",
     "output_type": "stream",
     "text": [
      "def error():\n",
      "    \n",
      "    if not dt.reg_flag:\n",
      "        calibrazione()\n",
      "        \n",
      "    index=0\n",
      "    rl=np.array([])\n",
      "    et=np.array([])\n",
      "    for ir in dt.c_list:\n",
      "        c=dt.c_list[index]\n",
      "        o=dt.o_list[index]\n",
      "        t=temperatura(c,o,flag=False)\n",
      "        it=dt.t_list[index]\n",
      "        irl=c/o\n",
      "        rl=np.append(rl,irl)\n",
      "        iet=(it-t)**2\n",
      "        et=np.append(et,iet)\n",
      "        index=index+1\n",
      "\n",
      "    ets=np.sqrt(et)\n",
      "    plt.figure()\n",
      "    plt.plot(dt.t_list,ets,\"k-\",label=\"|T_exp - T_fit|\")\n",
      "    plt.xlabel(\"T (K)\")\n",
      "    plt.ylabel(\"Errore\")\n",
      "    plt.title(\"Errore sulle stime di temperatura\")\n",
      "    plt.legend(frameon=False)\n",
      "    \n",
      "    et_sum=np.sum(et)\n",
      "    err=np.sqrt(et_sum/(dt.ll_dat-1))\n",
      "    print(\"\\nErrore medio sulla stima di temperatura: %4.1f K\" %\\\n",
      "          err)\n",
      "    mxe=max(ets)\n",
      "    print(\"Scarto massimo: %4.1f K\" % mxe)\n",
      "\n"
     ]
    }
   ],
   "source": [
    "print(ins.getsource(error))"
   ]
  },
  {
   "cell_type": "code",
   "execution_count": 18,
   "metadata": {},
   "outputs": [
    {
     "name": "stdout",
     "output_type": "stream",
     "text": [
      "\n",
      "Errore medio sulla stima di temperatura:  3.6 K\n",
      "Scarto massimo:  9.0 K\n"
     ]
    },
    {
     "data": {
      "image/png": "[encoded data removed]",
      "text/plain": [
       "<Figure size 432x288 with 1 Axes>"
      ]
     },
     "metadata": {
      "needs_background": "light"
     },
     "output_type": "display_data"
    }
   ],
   "source": [
    "error()"
   ]
  },
  {
   "cell_type": "markdown",
   "metadata": {},
   "source": [
    "Possiamo quindi aspettarci un errore di circa 4 K, dovuto al fit dei dati di calibrazione. Poi può esserci un errore legato all'incertezza delle nostre misure sul campione specifico. Per questo è improbabile (e sconsigliabile) avere *una sola* misura delle concentrazioni della nostra specie chimica nelle due fasi a contatto... E' normale fare misurazioni ripetute in punti adiacenti del campione per poi mediare su tutte le stime di temperatura ottenuta. Supponiamo di aver fatto più misure e di averle riportate in due colonne di un file Excel *user_data.xlsx* (presente nel folder di questo notebook); usiamo la funzione *temp_serie* per stimare le corrispondenti temperature e mediare i risultati. \n",
    "\n",
    "Il codice della funzione è: "
   ]
  },
  {
   "cell_type": "code",
   "execution_count": 19,
   "metadata": {},
   "outputs": [
    {
     "name": "stdout",
     "output_type": "stream",
     "text": [
      "def temp_serie(file='user_data.xlsx'):\n",
      "    data=pd.read_excel(file)\n",
      "    c_user=data['CPX'].values\n",
      "    o_user=data['OPX'].values\n",
      "    \n",
      "    t_user=np.array([])\n",
      "    index=0\n",
      "    for ic in c_user:\n",
      "        c_val=c_user[index]\n",
      "        o_val=o_user[index]\n",
      "        t_val=temperatura(c_val,o_val,flag=False)\n",
      "        t_user=np.append(t_user,t_val)\n",
      "        index=index+1\n",
      "     \n",
      "    plt.figure()\n",
      "    plt.plot(dt.c_list,dt.o_list,label=\"Dati di calibrazione\")\n",
      "    plt.scatter(c_user,o_user,s=50,c='red',marker='*',label=\"Dati attuali\")\n",
      "    plt.title(\"c-Fe vs o-Fe\")\n",
      "    plt.xlabel(\"c-Fe\")\n",
      "    plt.ylabel(\"o-Fe\")\n",
      "    plt.legend(frameon=False)\n",
      "    plt.show()\n",
      "\n",
      "    serie=(c_user.round(4),o_user.round(4),t_user.round(2))\n",
      "    pd.set_option('colheader_justify', 'center')\n",
      "    df=pd.DataFrame(serie, index=['c-Fe', 'o_Fe', 'T'])\n",
      "    df=df.T\n",
      "    print(df.to_string(index=False))  \n",
      "    \n",
      "    media=df['T'].mean()\n",
      "    std=df['T'].std()\n",
      "    print(\"\\nTemperatura media: %6.2f (std: %3.0f)\" % (media, std))\n",
      "\n"
     ]
    }
   ],
   "source": [
    "print(ins.getsource(temp_serie))"
   ]
  },
  {
   "cell_type": "markdown",
   "metadata": {},
   "source": [
    "Anche questa funzione usa le funzioni della libreria *pandas* per leggere i dati del nostro file e per costruire una tabella che riassuma dati e risultati: "
   ]
  },
  {
   "cell_type": "code",
   "execution_count": 20,
   "metadata": {},
   "outputs": [
    {
     "data": {
      "image/png": "[encoded data removed]",
      "text/plain": [
       "<Figure size 432x288 with 1 Axes>"
      ]
     },
     "metadata": {
      "needs_background": "light"
     },
     "output_type": "display_data"
    },
    {
     "name": "stdout",
     "output_type": "stream",
     "text": [
      "  c-Fe    o_Fe      T  \n",
      " 0.0400  0.1410  825.09\n",
      " 0.0412  0.1420  834.69\n",
      " 0.0395  0.1425  815.43\n",
      " 0.0402  0.1405  828.71\n",
      " 0.0409  0.1404  836.43\n",
      " 0.0410  0.1398  839.35\n",
      "\n",
      "Temperatura media: 829.95 (std:   9)\n"
     ]
    }
   ],
   "source": [
    "temp_serie()"
   ]
  },
  {
   "cell_type": "markdown",
   "metadata": {},
   "source": [
    "Con quei dati abbiamo una stima della temperatura intorno agli 830K, con un'incertezza di 9K dovuta alla dispersione dei dati medesimi. Questa incertezza va combinata con quella relativa al fit di calibrazione (4K)..."
   ]
  },
  {
   "cell_type": "code",
   "execution_count": 21,
   "metadata": {},
   "outputs": [
    {
     "data": {
      "text/plain": [
       "9.8"
      ]
     },
     "execution_count": 21,
     "metadata": {},
     "output_type": "execute_result"
    }
   ],
   "source": [
    "np.sqrt(9**2+4**2).round(1)"
   ]
  },
  {
   "cell_type": "markdown",
   "metadata": {},
   "source": [
    "Quindi siamo intorno ai 10K di possibile errore sulla stima della temperatura. Ma c'è dell'altro... I nostri dati (asterischi in rosso nel grafico sopra) indicano che forse il nostro sistema non ha raggiunto il pieno *equilibrio*, oppure che la calibrazione è stata fatta su un campione di roccia chimicamente troppo diverso da quello sul quale stiamo lavorando noi... In questo genere di lavori, mai *fidarsi* troppo di dati che provengano da un'unica tecnica: li si può accettare *provvisoriamente* in mancanza di altre evidenze e supporti incrociati, ma bisogna sempre essere pronti a una loro revisione. "
   ]
  },
  {
   "cell_type": "markdown",
   "metadata": {},
   "source": [
    "### Lavoriamo di fantasia...\n",
    "\n",
    "Le temperature per le quali abbiamo fatto la calibrazione del geormometro sono conservate nella lista dt.t_list:"
   ]
  },
  {
   "cell_type": "code",
   "execution_count": 22,
   "metadata": {},
   "outputs": [
    {
     "data": {
      "text/plain": [
       "array([ 498.305,  513.559,  528.814,  544.068,  559.322,  574.576,\n",
       "        589.831,  605.085,  620.339,  635.593,  650.847,  666.102,\n",
       "        681.356,  696.61 ,  711.864,  727.119,  742.373,  757.627,\n",
       "        772.881,  788.136,  803.39 ,  818.644,  833.898,  849.153,\n",
       "        864.407,  879.661,  894.915,  910.169,  925.424,  940.678,\n",
       "        955.932,  971.186,  986.441, 1001.69 , 1016.95 , 1032.2  ,\n",
       "       1047.46 , 1062.71 , 1077.97 , 1093.22 , 1108.47 , 1123.73 ,\n",
       "       1138.98 , 1154.24 , 1169.49 , 1184.75 , 1200.   ])"
      ]
     },
     "execution_count": 22,
     "metadata": {},
     "output_type": "execute_result"
    }
   ],
   "source": [
    "dt.t_list"
   ]
  },
  {
   "cell_type": "markdown",
   "metadata": {},
   "source": [
    "Selezioniamo le ultime 10, e inseriamole nella lista *new_t* (la sintassi è un po' strana... ma sorvoliamo qui sugli aspetti informatici), supponendo di aver fatto misure per la calibrazione del geotermometro a partire da circa 1060K fino a 1200K e non da 500K come era per i dati originali."
   ]
  },
  {
   "cell_type": "code",
   "execution_count": 23,
   "metadata": {},
   "outputs": [
    {
     "name": "stdout",
     "output_type": "stream",
     "text": [
      "[1062.71 1077.97 1093.22 1108.47 1123.73 1138.98 1154.24 1169.49 1184.75\n",
      " 1200.  ]\n"
     ]
    }
   ],
   "source": [
    "new_t=dt.t_list[-10::1]\n",
    "print(new_t)"
   ]
  },
  {
   "cell_type": "markdown",
   "metadata": {},
   "source": [
    "Facciamo lo stesso con i dati di frazione molare, con i quali ci calcoliamo la costante *K*"
   ]
  },
  {
   "cell_type": "code",
   "execution_count": 24,
   "metadata": {},
   "outputs": [
    {
     "name": "stdout",
     "output_type": "stream",
     "text": [
      "[0.41  0.418 0.429 0.441 0.452 0.46  0.468 0.478 0.491 0.504]\n"
     ]
    }
   ],
   "source": [
    "new_c=dt.c_list[-10::1]  # frazioni molari del ferro nel clinopirosseno\n",
    "new_o=dt.o_list[-10::1]  # frazioni molari del ferro nell'ortopirosseno\n",
    "new_mg_c=1-new_c         # Mg nel clinopirosseno \n",
    "new_mg_o=1-new_o         # Mg nell'ortopirosseno\n",
    "\n",
    "K=(new_c/new_o)/(new_mg_c/new_mg_o) # costante di equilibrio\n",
    "\n",
    "print(K.round(3))   "
   ]
  },
  {
   "cell_type": "markdown",
   "metadata": {},
   "source": [
    "Facciamo un plot di della costante di equilibrio in funzione della temperatura:"
   ]
  },
  {
   "cell_type": "code",
   "execution_count": 25,
   "metadata": {},
   "outputs": [
    {
     "data": {
      "image/png": "[encoded data removed]",
      "text/plain": [
       "<Figure size 432x288 with 1 Axes>"
      ]
     },
     "metadata": {
      "needs_background": "light"
     },
     "output_type": "display_data"
    }
   ],
   "source": [
    "plt.figure()\n",
    "plt.plot(K,new_t,\"k*\")\n",
    "plt.ylabel(\"T (K)\")\n",
    "plt.xlabel(\"K\")\n",
    "plt.show()"
   ]
  },
  {
   "cell_type": "markdown",
   "metadata": {},
   "source": [
    "I punti ottenuti appaiono abbastanza ben allineati su una retta... Quindi, non conoscendo nulla di termodinamica, perchè non farci una bella regressione lineare?\n",
    "\n",
    "Pronti!"
   ]
  },
  {
   "cell_type": "code",
   "execution_count": 26,
   "metadata": {},
   "outputs": [
    {
     "data": {
      "image/png": "[encoded data removed]",
      "text/plain": [
       "<Figure size 432x288 with 1 Axes>"
      ]
     },
     "metadata": {
      "needs_background": "light"
     },
     "output_type": "display_data"
    }
   ],
   "source": [
    "lin=np.polyfit(K,new_t,1)   # regressione lineare sui dati T(K)\n",
    "\n",
    "k2=np.array([0.40,0.52])    # valori di K e T dal fit, da usarsi nella grafica\n",
    "t2=np.polyval(lin,k2)\n",
    "\n",
    "# grafica per il controllo del fit\n",
    "plt.figure()\n",
    "plt.plot(K,new_t,\"k*\",label=\"dati attuali\")\n",
    "plt.plot(k2,t2,label=\"fit lineare\")\n",
    "plt.ylabel(\"T (K)\")\n",
    "plt.xlabel(\"K\")\n",
    "plt.legend(frameon=False)\n",
    "plt.show()"
   ]
  },
  {
   "cell_type": "markdown",
   "metadata": {},
   "source": [
    "Bene... adesso siamo *pronti* per l'estrapolazione alle temperature più basse, usando il fit lineare che ci siamo costruiti. Dal laboratorio accanto, il nostro collega ci passa i risultati delle sue misure su un campione *incognito*: le frazioni molari del ferro nel clinopirosseno e nell'ortopirosseno sono rispettivamente 0.010 e 0.162, e ci chiede una stima della temperatura di equilibrio:"
   ]
  },
  {
   "cell_type": "code",
   "execution_count": 30,
   "metadata": {},
   "outputs": [
    {
     "name": "stdout",
     "output_type": "stream",
     "text": [
      "Stima della temperatura: 532.29 (K)\n",
      "\n"
     ]
    },
    {
     "data": {
      "image/png": "[encoded data removed]",
      "text/plain": [
       "<Figure size 432x288 with 1 Axes>"
      ]
     },
     "metadata": {
      "needs_background": "light"
     },
     "output_type": "display_data"
    }
   ],
   "source": [
    "cfe=0.010   # dati iniziali\n",
    "ofe=0.162\n",
    "\n",
    "cmg=1-cfe\n",
    "omg=1-ofe\n",
    "\n",
    "rmg=cmg/omg\n",
    "rfe=cfe/ofe\n",
    "\n",
    "k_sample=rfe/rmg\n",
    "\n",
    "T_est=np.polyval(lin,k_sample)   # stima della temperatura sulla base del K misurato \n",
    "                                 # (k_sample) e dei parametri della retta di regressione \n",
    "                                 # ottimizzati precedentemente (lin)\n",
    "                                 \n",
    "print(\"Stima della temperatura: %5.2f (K)\\n\" % T_est)\n",
    "\n",
    "k2=np.array([0.0, 0.55])      # calcolo T per due i estremi (min e max di K) \n",
    "t2=np.polyval(lin,k2)         #   sulla base del fit lineare\n",
    "plt.figure()\n",
    "plt.plot(K,new_t,\"k*\",markersize=4,label=\"dati calibrazione\")\n",
    "plt.plot(k2,t2,label=\"fit lineare\")\n",
    "plt.scatter(k_sample,T_est,c='red', label=\"dato incognito\")\n",
    "plt.ylabel(\"T (K)\")\n",
    "plt.xlabel(\"K\")\n",
    "plt.legend(frameon=False)\n",
    "plt.show()"
   ]
  },
  {
   "cell_type": "markdown",
   "metadata": {},
   "source": [
    "Con il nostro fit lineare, del tipo:\n",
    "\n",
    "$$T=a+bK$$\n",
    "\n",
    "dove $a$ e $b$ sono le due variabili di regressione ottimizzate sulla base del nostro (limitato) set di dati, abbiamo stimato una temperatura di equilibrio di circa 532K. Adesso però, qualcuno che conosce la termodinamica meglio di noi, ci dice che quel fit lineare che secondo noi, sulla base del grafico, legherebbe $T$ e $K$, non ha alcun fondamento nonostante le *apparenze*. Quello che dovremmo invece fare, volendo ancora usare un fit lineare, è legare il logaritmo di $K$ al reciproco della temperatura:\n",
    "\n",
    "$$\\frac{1}{T} = a + b\\log K$$\n",
    "\n",
    "con $a$ e $b$ da ottimizzarsi sulla base dei nostri dati... Un po' scettici circa questo avvertimento, andiamo a fare questo fit e poi utilizziamolo per rifare la nostra stima della temperatura:"
   ]
  },
  {
   "cell_type": "code",
   "execution_count": 31,
   "metadata": {},
   "outputs": [
    {
     "name": "stdout",
     "output_type": "stream",
     "text": [
      "Temperatura stimata: 492.38\n",
      "\n"
     ]
    }
   ],
   "source": [
    "log_new_k=np.log(K)    # logaritmo di K\n",
    "rt_new=1./new_t        # reciproco della temperatura\n",
    "\n",
    "termo_fit=np.polyfit(log_new_k,rt_new,1)   # fit di 1/T in funzione di log(K)\n",
    "\n",
    "log_k_sample=np.log(k_sample)                       \n",
    "rT_est_termo=np.polyval(termo_fit, log_k_sample)   # stima del reciproco della T dato il log (K_sample)\n",
    "                                                   # sulla base del fit appena fatto (i parametri a e b \n",
    "                                                   # del fit sono nella variabile termo_fit)\n",
    "        \n",
    "T_est_termo=1/rT_est_termo                         # passiamo dal \"reciproco della T\" a T\n",
    "\n",
    "print(\"Temperatura stimata: %5.2f\\n\" % T_est_termo)"
   ]
  },
  {
   "cell_type": "markdown",
   "metadata": {},
   "source": [
    "La differenza tra le due stime di temperatura è circa 40K. Non è una grandissima differenza, ma è pur sempre ben maggiore dell'errore che ci aspettiamo sulla base di questo tipo di misura, come abbiamo visto nella prima parte del notebook. \n",
    "\n",
    "Se avessimo avuto tutti i dati (anche quelli di più bassa temperatura), avremmo ottenuto una stima molto vicina a quella che abbiamo dato usando il fit corretto:"
   ]
  },
  {
   "cell_type": "code",
   "execution_count": 29,
   "metadata": {},
   "outputs": [
    {
     "name": "stdout",
     "output_type": "stream",
     "text": [
      "Temperatura stimata: 494.95 K\n"
     ]
    },
    {
     "data": {
      "image/png": "[encoded data removed]",
      "text/plain": [
       "<Figure size 432x288 with 1 Axes>"
      ]
     },
     "metadata": {
      "needs_background": "light"
     },
     "output_type": "display_data"
    }
   ],
   "source": [
    "temperatura(0.010,0.162)"
   ]
  },
  {
   "cell_type": "markdown",
   "metadata": {},
   "source": [
    "Morale: <b>studiare termodinamica!</b>"
   ]
  }
 ],
 "metadata": {
  "kernelspec": {
   "display_name": "Python 3",
   "language": "python",
   "name": "python3"
  },
  "language_info": {
   "codemirror_mode": {
    "name": "ipython",
    "version": 3
   },
   "file_extension": ".py",
   "mimetype": "text/x-python",
   "name": "python",
   "nbconvert_exporter": "python",
   "pygments_lexer": "ipython3",
   "version": "3.7.6"
  }
 },
 "nbformat": 4,
 "nbformat_minor": 4
}
