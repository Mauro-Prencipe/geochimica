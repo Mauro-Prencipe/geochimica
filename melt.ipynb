{
 "cells": [
  {
   "cell_type": "markdown",
   "metadata": {},
   "source": [
    "## Fusione dell'olivina: equilibri solido/liquido per le soluzioni (ideali)\n",
    "\n",
    "In questo notebook usiamo il programma *melt.py* per studiare il comportamento delle soluzioni solide (in questo caso, si tratta del comportamento alla fusione, ma i principi sono del tutto generali ed applicabili anche al caso transizioni solido/solido).\n",
    "\n",
    "Volendo trattare soluzioni solide ideali, si è scelto il sistema dell'olivina che presenta solo piccole deviazioni dall'idealità. \n",
    "\n",
    "Il programma legge un piccolo database (melt_db.dat; file che deve essere presente nello stesso folder del programma e di questo stesso notebook) che contiene i parametri termodinamici delle fasi pure *forsterite* e *fayalite*, nonché i parametri dei liquidi di composizione corrispondente alle fasi pure. Il programma legge il database con le stesse routine già viste per il programma *gibbs_tp* e relativa esercitazione.\n",
    "\n",
    "Lanciamo il programma."
   ]
  },
  {
   "cell_type": "code",
   "execution_count": 1,
   "metadata": {},
   "outputs": [],
   "source": [
    "%run melt.py\n",
    "%matplotlib inline"
   ]
  },
  {
   "cell_type": "markdown",
   "metadata": {},
   "source": [
    "Possiamo esaminare i parametri nel database, per le varie fasi, usando il metodo info() per ciascuna fase. Ad esempio, per la forsterite:"
   ]
  },
  {
   "cell_type": "code",
   "execution_count": 2,
   "metadata": {},
   "outputs": [
    {
     "name": "stdout",
     "output_type": "stream",
     "text": [
      "Mineral: forsterite\n",
      "\n",
      "K0: 125.00 GPa, Kp: 4.00, dK0/dT: -0.0187 GPa/K, V0: 4.3660 J/bar\n",
      "G0: -2053138.00 J/mol, S0:  95.10 J/mol K\n",
      "\n",
      "Cp coefficients and powers:\n",
      "+2.3330e+02  +0.0\n",
      "+1.4940e-03  +1.0\n",
      "-6.0380e+05  -2.0\n",
      "-1.8697e+03  -0.5\n",
      "\n",
      "Alpha coefficients and powers:\n",
      "+6.1300e-05  +0.0\n",
      "-6.1300e-04  -0.5\n"
     ]
    }
   ],
   "source": [
    "fo.info()"
   ]
  },
  {
   "cell_type": "markdown",
   "metadata": {},
   "source": [
    "Se facciamo lo stesso per il liquido di composizione Mg2SiO4 (*foL*), vediamo qualcosa di strano..."
   ]
  },
  {
   "cell_type": "code",
   "execution_count": 3,
   "metadata": {},
   "outputs": [
    {
     "name": "stdout",
     "output_type": "stream",
     "text": [
      "Mineral: fo_liquid\n",
      "\n",
      "K0: 73.00 GPa, Kp: 4.00, dK0/dT: -0.0109 GPa/K, V0: 4.2430 J/bar\n",
      "G0: -2061346.00 J/mol, S0: -55.00 J/mol K\n",
      "\n",
      "Cp coefficients and powers:\n",
      "+2.6790e+02  +0.0\n",
      "\n",
      "Alpha coefficients and powers:\n",
      "+1.4500e-04  +0.0\n",
      "-1.4500e-03  -0.5\n"
     ]
    }
   ],
   "source": [
    "foL.info()"
   ]
  },
  {
   "cell_type": "markdown",
   "metadata": {},
   "source": [
    "In particolare vediamo un valore di entropia *negativo* (cosa assurda dal punto di vista termodinamico) e, anche, il valore di *G0* (l'energia libera alle condizioni standard) è *minore* (in valore relativo: va considerato il segno e non solo il valore assoluto) del *G0* della forsterite. Questo vorrebbe dire che a T=298.15 K sarebbe stabile il liquido e non il solido! \n",
    "\n",
    "Questo perchè, come accade in molti casi, i parametri termodinamici della fase *foL* non sono <i>termodinamicamente consistenti</i>, anche se sono *internamente consistenti* (nello specifico database) con quelli della forsterite e descrivono correttamente la relazione tra le due fasi <b>a patto di utilizzarli nell'intervallo di temperatura e pressione per cui sono stati calibrati</b> (e questo intevallo non contiene evidentemente le condizioni standard P/T). Si parla in questi casi di *assessment*: i parametri *termodinamici* vengono ottimizzati per riprodurre gli equilibri di fase osservati sperimentalmente, senza porre attenzione al loro significato termodinamico intrinseco. Questa è una faccenda a cui porre sempre particolare attenzione: è in generale *pericoloso* spingersi col modeling termodinamico al di là dei limiti P/T, e anche  X, per i quali i parametri del database sono stati calibrati.\n",
    "\n",
    "Diamo un'occhiata al comportamento dell'energia libera delle due fasi al variare della temperatura (tra 300 e 2500 K):"
   ]
  },
  {
   "cell_type": "code",
   "execution_count": 4,
   "metadata": {},
   "outputs": [
    {
     "data": {
      "image/png": "[encoded data removed]",
      "text/plain": [
       "<Figure size 432x288 with 1 Axes>"
      ]
     },
     "metadata": {
      "needs_background": "light"
     },
     "output_type": "display_data"
    }
   ],
   "source": [
    "t_list=np.linspace(300,2500,20)\n",
    "g_foL_list=np.array([])\n",
    "g_fo_list=np.array([])\n",
    "\n",
    "for it in t_list:\n",
    "    igL=foL.g_tp(it,0.)\n",
    "    ig=fo.g_tp(it,0.)\n",
    "    g_foL_list=np.append(g_foL_list,igL)\n",
    "    g_fo_list=np.append(g_fo_list,ig)\n",
    "\n",
    "plt.figure()\n",
    "plt.plot(t_list,g_foL_list,label=\"liquido\")\n",
    "plt.plot(t_list,g_fo_list,label=\"solido\")\n",
    "plt.legend(frameon=False)\n",
    "plt.xlabel(\"T (K)\")\n",
    "plt.ylabel(\"G (J/mole)\")\n",
    "plt.show()"
   ]
  },
  {
   "cell_type": "markdown",
   "metadata": {},
   "source": [
    "In effetti vediamo che l'anomalia per cui  $G_{0}^{liq} < G_{0}^{sol}$  si ha solo per temperature vicino all'ambiente. per T più alte, l'energia libera del liquido è maggiore di quella del solido fino a circa 2200 K, dove si ha il *crossover* e il sistema fonde.\n",
    "\n",
    "Usiamo la funzione *fusion* per determinare la temperatura di fusione della forsterite. La funzione richiede i nomi delle due fasi solida e liquida e la pressione (in questo caso, P=0 GPa); il parametro opzionale *prt* produce la stampa del risultato."
   ]
  },
  {
   "cell_type": "code",
   "execution_count": 5,
   "metadata": {},
   "outputs": [
    {
     "name": "stdout",
     "output_type": "stream",
     "text": [
      "Temperatura di fusione: 2161.01 K\n"
     ]
    }
   ],
   "source": [
    "fusion(\"fo\",\"foL\",0,prt=True)"
   ]
  },
  {
   "cell_type": "markdown",
   "metadata": {},
   "source": [
    "Facciamo lo stesso per la fayalite."
   ]
  },
  {
   "cell_type": "code",
   "execution_count": 6,
   "metadata": {},
   "outputs": [
    {
     "name": "stdout",
     "output_type": "stream",
     "text": [
      "Temperatura di fusione: 1480.31 K\n"
     ]
    }
   ],
   "source": [
    "fusion(\"fa\",\"faL\",0,prt=True)"
   ]
  },
  {
   "cell_type": "markdown",
   "metadata": {},
   "source": [
    "La funzione *fusion* lavora insieme alla funzione *deltaG*:\n",
    "\n",
    "```\n",
    "\n",
    "def deltaG(phase,phaseL,it,ip):\n",
    "        gs=eval(phase+'.g_tp(it,ip)')\n",
    "        gl=eval(phaseL+'.g_tp(it,ip)')\n",
    "        dg=gl-gs\n",
    "        return dg**2\n",
    "    \n",
    "def fusion(phase,phaseL,ip,prt=False):\n",
    "    t_ini=1800.\n",
    "    tf=lambda it: deltaG(phase,phaseL,it,ip)\n",
    "    t_fusion=scipy.optimize.minimize(tf,t_ini,tol=0.001)\n",
    "    if prt:\n",
    "        print(\"Temperatura di fusione: %5.2f K\" % t_fusion.x[0])\n",
    "    else:\n",
    "        return t_fusion\n",
    "        \n",
    "```\n",
    "\n",
    "la funzione *deltaG* calcola il quadrato della differenza tra i valori di energia libera del solido e del liquido a una data temperatura (e pressione): restituisce dunque un valore sempre positivo che è pari a zero quando le due energie libere sono uguali (il che si verifica alla temperatura di fusione). La funzione *fusion* cerca la temperatura alla quale *deltaG* è minima (cioè zero) che è appunto la temperatura di fusione. La ricerca del minimo viene fatta usando la funzione *minimize* della libreria *scipy.optimize*, partendo da un guess iniziale di 1800K (*t_ini*).\n",
    "\n",
    "La funzione principale del programma del programma *melt.py* si chiama proprio *melt*. Questa determina il diagramma di stato *TX* che descrive l'equilibrio solido/liquido nel sistema dell'olivina. Il risultato di *melt* alla pressione ambiente è mostrato nella cella seguente:"
   ]
  },
  {
   "cell_type": "code",
   "execution_count": 7,
   "metadata": {},
   "outputs": [
    {
     "name": "stdout",
     "output_type": "stream",
     "text": [
      "Temperatura di fusione della forsterite: 2161.01 K\n",
      "Temperatura di fusione della fayalite: 1480.31 K\n"
     ]
    },
    {
     "data": {
      "image/png": "[encoded data removed]",
      "text/plain": [
       "<Figure size 432x288 with 1 Axes>"
      ]
     },
     "metadata": {
      "needs_background": "light"
     },
     "output_type": "display_data"
    },
    {
     "name": "stdout",
     "output_type": "stream",
     "text": [
      "\n",
      "  T (K)   X(Mg)sol  X(Fe)sol  X(Mg)liq  X(Fe)liq\n",
      " 1480.31    0.00      1.00      0.00      1.00  \n",
      " 1516.14    0.17      0.83      0.02      0.98  \n",
      " 1551.97    0.32      0.68      0.04      0.96  \n",
      " 1587.79    0.44      0.56      0.06      0.94  \n",
      " 1623.62    0.53      0.47      0.09      0.91  \n",
      " 1659.45    0.61      0.39      0.12      0.88  \n",
      " 1695.27    0.68      0.32      0.15      0.85  \n",
      " 1731.10    0.73      0.27      0.18      0.82  \n",
      " 1766.92    0.78      0.22      0.21      0.79  \n",
      " 1802.75    0.81      0.19      0.25      0.75  \n",
      " 1838.58    0.85      0.15      0.30      0.70  \n",
      " 1874.40    0.87      0.13      0.35      0.65  \n",
      " 1910.23    0.90      0.10      0.40      0.60  \n",
      " 1946.05    0.92      0.08      0.46      0.54  \n",
      " 1981.88    0.94      0.06      0.53      0.47  \n",
      " 2017.71    0.95      0.05      0.61      0.39  \n",
      " 2053.53    0.97      0.03      0.69      0.31  \n",
      " 2089.36    0.98      0.02      0.78      0.22  \n",
      " 2125.19    0.99      0.01      0.89      0.11  \n",
      " 2161.01    1.00      0.00      1.00      0.00  \n"
     ]
    }
   ],
   "source": [
    "melt(nt=20)"
   ]
  },
  {
   "cell_type": "markdown",
   "metadata": {},
   "source": [
    "La funzione *melt*, chiamando la funzione *composition*) ricerca inizialmente le temperature di fusione dei termini puri *fo* e *fa*. Imposta poi il calcolo tra queste due temperature, tra le quali le due fasi solida e liquida coesistono certamente. Quindi, per ogni valore di temperatura, ricerca preliminarmente il punto di intersezione ($x_{int}$) tra le curve $\\mu$ del solido e del liquido\n",
    "\n",
    "$$\\mu_s=x_{fo}\\mu_{fo}^{0}+x_{fa}\\mu_{fa}^{0}+RT\\left[x_{fo}log(x_{fo})+x_{fa}log(x_{fa})\\right]$$\n",
    "\n",
    "$$\\mu_L=x_{foL}\\mu_{foL}^{0}+x_{faL}\\mu_{faL}^{0}+RT\\left[x_{foL}log(x_{foL})+x_{faL}log(x_{faL})\\right]$$\n",
    "\n",
    "con $x_{fa}=1-x_{fo}$ e $x_{faL}=1-x_{foL}$. A partire dalla composizione trovata, viene minimizzata l'energia libera della miscela eterogenea delle due fasi solida e liquida, ciascuna con la propria composizione ($x_s$ e $x_L$).\n",
    "\n",
    "$$G(q_s,q_L,x_s,x_L)=q_s\\mu_s(x_s)+q_L\\mu_L(x_L)$$\n",
    "\n",
    "dove $q_s$ e $q_L$ sono le quantità (in moli) delle fasi solida e liquida. In questa ricerca del minimo si impone che\n",
    "\n",
    "- il numero di moli totali $q_s+q_L$ sia fisso (e pari ad 1);\n",
    "- il numero di moli totali del componente *fo* sia fisso al valore $x_{int}$: $\\ \\ q_sx_{fo}+q_Lx_{foL}=x_{int}$\n",
    "\n",
    "A una pressione diversa (per esempio 5 GPa), chiamiamo la funzione *melt* passandogli il valore di pressione (il default è 0.):"
   ]
  },
  {
   "cell_type": "code",
   "execution_count": 8,
   "metadata": {},
   "outputs": [
    {
     "name": "stdout",
     "output_type": "stream",
     "text": [
      "Temperatura di fusione della forsterite: 2497.40 K\n",
      "Temperatura di fusione della fayalite: 1836.95 K\n"
     ]
    },
    {
     "data": {
      "image/png": "[encoded data removed]",
      "text/plain": [
       "<Figure size 432x288 with 1 Axes>"
      ]
     },
     "metadata": {
      "needs_background": "light"
     },
     "output_type": "display_data"
    },
    {
     "name": "stdout",
     "output_type": "stream",
     "text": [
      "\n",
      "  T (K)   X(Mg)sol  X(Fe)sol  X(Mg)liq  X(Fe)liq\n",
      " 1836.95    0.00      1.00      0.00      1.00  \n",
      " 1910.33    0.23      0.77      0.05      0.95  \n",
      " 1983.72    0.41      0.59      0.11      0.89  \n",
      " 2057.10    0.55      0.45      0.19      0.81  \n",
      " 2130.48    0.66      0.34      0.27      0.73  \n",
      " 2203.87    0.75      0.25      0.37      0.63  \n",
      " 2277.25    0.83      0.17      0.49      0.51  \n",
      " 2350.64    0.89      0.11      0.63      0.37  \n",
      " 2424.02    0.95      0.05      0.80      0.20  \n",
      " 2497.40    1.00      0.00      1.00      0.00  \n"
     ]
    }
   ],
   "source": [
    "melt(5)"
   ]
  },
  {
   "cell_type": "markdown",
   "metadata": {},
   "source": [
    "La funzione *composition* può essere utilizzata da sola, per calcolare ad una certa temperatura, pressione e composizione *globale* di un componente (*fo*), le composizioni delle fasi solida e liquida all'equilibrio e la loro abbondanza relativa (in moli). A T=2500 K e P=5 GPa, per una $x_{fo}$=0.50 (*globale*: portiamo in fusione una fase 50\\%*fo* - 50\\%*fa*), abbiamo "
   ]
  },
  {
   "cell_type": "code",
   "execution_count": 9,
   "metadata": {},
   "outputs": [
    {
     "name": "stdout",
     "output_type": "stream",
     "text": [
      "Pressione 5.0 GPa,  Temperatura 2100.0 K\n",
      "\n",
      "Per una composizione X(Mg) globale pari a 0.50: \n",
      "X(Mg) fase solida 0.62, quantità fase solida 0.69\n",
      "X(Mg) fase liquida 0.23, quantità fase liquida 0.31\n"
     ]
    }
   ],
   "source": [
    "composition(2100,5,xval=0.5)"
   ]
  },
  {
   "cell_type": "markdown",
   "metadata": {},
   "source": [
    "Vogliamo ora sfruttare la funzione *g_phase* per visualizzare le curve di energia libera delle fasi liquida e solida, data una certa temperatura e pressione. Nel caso la temperatura ricada nell'intervallo di coesistenza del solido e del liquido, viene tracciato anche il segmento che rappresenta l'energia libera della miscela eterogenea solido + liquido.\n",
    "\n",
    "Il primo argomento di *g_phase* è la temperatura; il secondo è la pressione:"
   ]
  },
  {
   "cell_type": "code",
   "execution_count": 10,
   "metadata": {},
   "outputs": [
    {
     "data": {
      "image/png": "[encoded data removed]",
      "text/plain": [
       "<Figure size 432x288 with 1 Axes>"
      ]
     },
     "metadata": {
      "needs_background": "light"
     },
     "output_type": "display_data"
    },
    {
     "name": "stdout",
     "output_type": "stream",
     "text": [
      "Composizione delle fasi: frazione molare X(Mg):\n",
      "Fase liquida:  0.23\n",
      "Fase solida:   0.62\n"
     ]
    }
   ],
   "source": [
    "g_phase(2100,5)"
   ]
  },
  {
   "cell_type": "markdown",
   "metadata": {},
   "source": [
    "A una temperatura più bassa di quella di fusione del componente *basso-fondente* (fayalite):"
   ]
  },
  {
   "cell_type": "code",
   "execution_count": 11,
   "metadata": {},
   "outputs": [
    {
     "data": {
      "image/png": "[encoded data removed]",
      "text/plain": [
       "<Figure size 432x288 with 1 Axes>"
      ]
     },
     "metadata": {
      "needs_background": "light"
     },
     "output_type": "display_data"
    }
   ],
   "source": [
    "g_phase(1600,5)"
   ]
  },
  {
   "cell_type": "markdown",
   "metadata": {},
   "source": [
    "Vediamo che la curva del solido è sempre sotto quella del liquido per qualunque composizione.\n",
    "\n",
    "A una temperatura maggiore di quella di fusione del componente *alto-fondente* (forsterite):"
   ]
  },
  {
   "cell_type": "code",
   "execution_count": 12,
   "metadata": {},
   "outputs": [
    {
     "data": {
      "image/png": "[encoded data removed]",
      "text/plain": [
       "<Figure size 432x288 with 1 Axes>"
      ]
     },
     "metadata": {
      "needs_background": "light"
     },
     "output_type": "display_data"
    }
   ],
   "source": [
    "g_phase(2800,5)"
   ]
  },
  {
   "cell_type": "markdown",
   "metadata": {},
   "source": [
    "l'energia libera del liquido è più bassa di quella del solido per ogni composizione."
   ]
  }
 ],
 "metadata": {
  "kernelspec": {
   "display_name": "Python 3",
   "language": "python",
   "name": "python3"
  },
  "language_info": {
   "codemirror_mode": {
    "name": "ipython",
    "version": 3
   },
   "file_extension": ".py",
   "mimetype": "text/x-python",
   "name": "python",
   "nbconvert_exporter": "python",
   "pygments_lexer": "ipython3",
   "version": "3.7.6"
  },
  "widgets": {
   "application/vnd.jupyter.widget-state+json": {
    "state": {
     "004e03e8f14a4641a835b1613f4286d2": {
      "model_module": "@jupyter-widgets/controls",
      "model_module_version": "1.5.0",
      "model_name": "ButtonModel",
      "state": {
       "description": "Run Interact",
       "layout": "IPY_MODEL_d6bc55c26d124e52bdfb750732e5e951",
       "style": "IPY_MODEL_132fdbd19f4f47a99a5b759210b7731b"
      }
     },
     "0101cb2fe90b46b2ae46fd7d1797a838": {
      "model_module": "@jupyter-widgets/base",
      "model_module_version": "1.2.0",
      "model_name": "LayoutModel",
      "state": {}
     },
     "018008b5dfb243a7bbbea6ea34bac9f3": {
      "model_module": "@jupyter-widgets/base",
      "model_module_version": "1.2.0",
      "model_name": "LayoutModel",
      "state": {}
     },
     "0214a5ee849f448babb3c6b97e0e1793": {
      "model_module": "@jupyter-widgets/controls",
      "model_module_version": "1.5.0",
      "model_name": "IntSliderModel",
      "state": {
       "description": "nt",
       "layout": "IPY_MODEL_2dd6495c7800424ba61fbc384a47468b",
       "max": 30,
       "min": 10,
       "step": 5,
       "style": "IPY_MODEL_d263b049e8ae4d18b576fe8b80d3f22b",
       "value": 10
      }
     },
     "0275ef8061f94f30b24228ba00414af5": {
      "model_module": "@jupyter-widgets/controls",
      "model_module_version": "1.5.0",
      "model_name": "SliderStyleModel",
      "state": {
       "description_width": ""
      }
     },
     "0430b3d9604c4de2955934d706cb5d36": {
      "model_module": "@jupyter-widgets/base",
      "model_module_version": "1.2.0",
      "model_name": "LayoutModel",
      "state": {}
     },
     "04724f1de7344d638d13e351fce42b51": {
      "model_module": "@jupyter-widgets/controls",
      "model_module_version": "1.5.0",
      "model_name": "SliderStyleModel",
      "state": {
       "description_width": ""
      }
     },
     "0547f924f2e84fd5b41028a368dfeb61": {
      "model_module": "@jupyter-widgets/controls",
      "model_module_version": "1.5.0",
      "model_name": "FloatSliderModel",
      "state": {
       "description": "ip",
       "layout": "IPY_MODEL_9912d832b84e4392900938170ae83eca",
       "max": 5,
       "step": 0.1,
       "style": "IPY_MODEL_9e7a2113197f4626aae93e785ed3fc8d"
      }
     },
     "05efcc06727245e1bd1cf6aad27045f2": {
      "model_module": "@jupyter-widgets/controls",
      "model_module_version": "1.5.0",
      "model_name": "SliderStyleModel",
      "state": {
       "description_width": ""
      }
     },
     "061211fd4a5349aeb245aa8bcf955dd6": {
      "model_module": "@jupyter-widgets/controls",
      "model_module_version": "1.5.0",
      "model_name": "VBoxModel",
      "state": {
       "_dom_classes": [
        "widget-interact"
       ],
       "children": [
        "IPY_MODEL_4ac035d8bfe54f3fa91404a4d44c0efd",
        "IPY_MODEL_92b2af0bcecf430380e05aab647ef4fa",
        "IPY_MODEL_004e03e8f14a4641a835b1613f4286d2",
        "IPY_MODEL_15a178370aba49c680b85b20e8632acc"
       ],
       "layout": "IPY_MODEL_28b30ed2b80b4c0e86b6101a4c5918be"
      }
     },
     "08da9c31cf944f1692c2f8678981709a": {
      "model_module": "@jupyter-widgets/base",
      "model_module_version": "1.2.0",
      "model_name": "LayoutModel",
      "state": {}
     },
     "08e1b5b821334c18bf379bbccf701e0d": {
      "model_module": "@jupyter-widgets/controls",
      "model_module_version": "1.5.0",
      "model_name": "SliderStyleModel",
      "state": {
       "description_width": ""
      }
     },
     "0909ef8237124ebfb96d242b220e3b3e": {
      "model_module": "@jupyter-widgets/controls",
      "model_module_version": "1.5.0",
      "model_name": "FloatSliderModel",
      "state": {
       "description": "ip",
       "layout": "IPY_MODEL_615db239fcb74cd4989836de73e9af5a",
       "max": 5,
       "step": 0.1,
       "style": "IPY_MODEL_5427a2e88f084a71a10b27e24ae3d265"
      }
     },
     "09323d73bcfe4b8aa7ee2c858ff18e40": {
      "model_module": "@jupyter-widgets/output",
      "model_module_version": "1.0.0",
      "model_name": "OutputModel",
      "state": {
       "layout": "IPY_MODEL_9d2442c60ef240d8a255d5644feeb000"
      }
     },
     "0bdc6fe830ee4a5189023e3e09cf225d": {
      "model_module": "@jupyter-widgets/output",
      "model_module_version": "1.0.0",
      "model_name": "OutputModel",
      "state": {
       "layout": "IPY_MODEL_4c32be338f3949dea041639526cc079f"
      }
     },
     "0c2160345389473fbad18f19576dea04": {
      "model_module": "@jupyter-widgets/controls",
      "model_module_version": "1.5.0",
      "model_name": "ButtonModel",
      "state": {
       "description": "Run Interact",
       "layout": "IPY_MODEL_bb9e73ec131d49119b4664405c416411",
       "style": "IPY_MODEL_a976d3fcf0804cc0b9d55ddfdfb3662c"
      }
     },
     "0cb065c27e44412c9e8c6251eb4f1034": {
      "model_module": "@jupyter-widgets/controls",
      "model_module_version": "1.5.0",
      "model_name": "SliderStyleModel",
      "state": {
       "description_width": ""
      }
     },
     "0d4d8e75c2a04a7bbb83089c158932af": {
      "model_module": "@jupyter-widgets/base",
      "model_module_version": "1.2.0",
      "model_name": "LayoutModel",
      "state": {}
     },
     "0e35013fb84245a4b857e1e1aee45da7": {
      "model_module": "@jupyter-widgets/controls",
      "model_module_version": "1.5.0",
      "model_name": "ButtonStyleModel",
      "state": {}
     },
     "0f2595392064400ea86f05a354c018d8": {
      "model_module": "@jupyter-widgets/controls",
      "model_module_version": "1.5.0",
      "model_name": "ButtonStyleModel",
      "state": {}
     },
     "0f6d350295d84af898a6f57006b649da": {
      "model_module": "@jupyter-widgets/controls",
      "model_module_version": "1.5.0",
      "model_name": "SliderStyleModel",
      "state": {
       "description_width": ""
      }
     },
     "108ccdfaabcc413b9eef90d650b31463": {
      "model_module": "@jupyter-widgets/controls",
      "model_module_version": "1.5.0",
      "model_name": "ButtonStyleModel",
      "state": {}
     },
     "11780215d5f94f3cbc22aa84d34e49fa": {
      "model_module": "@jupyter-widgets/base",
      "model_module_version": "1.2.0",
      "model_name": "LayoutModel",
      "state": {}
     },
     "11e3715fedb74dc8915900437aea0dd8": {
      "model_module": "@jupyter-widgets/controls",
      "model_module_version": "1.5.0",
      "model_name": "FloatSliderModel",
      "state": {
       "description": "tfmin",
       "layout": "IPY_MODEL_37ca1394b1ee411e9ed5aca902313112",
       "max": 2000,
       "step": 10,
       "style": "IPY_MODEL_99683d06c89844edb4234de729d9988b",
       "value": 620
      }
     },
     "120701a502ca4fa5928fd52edd4fda81": {
      "model_module": "@jupyter-widgets/base",
      "model_module_version": "1.2.0",
      "model_name": "LayoutModel",
      "state": {}
     },
     "129cd8bd5e444723bb0b9370acb6bf99": {
      "model_module": "@jupyter-widgets/controls",
      "model_module_version": "1.5.0",
      "model_name": "SliderStyleModel",
      "state": {
       "description_width": ""
      }
     },
     "132fdbd19f4f47a99a5b759210b7731b": {
      "model_module": "@jupyter-widgets/controls",
      "model_module_version": "1.5.0",
      "model_name": "ButtonStyleModel",
      "state": {}
     },
     "139aef72294646ea851906988c134e7b": {
      "model_module": "@jupyter-widgets/base",
      "model_module_version": "1.2.0",
      "model_name": "LayoutModel",
      "state": {}
     },
     "1422171be53e4dd3bd45e7870b414c7c": {
      "model_module": "@jupyter-widgets/base",
      "model_module_version": "1.2.0",
      "model_name": "LayoutModel",
      "state": {}
     },
     "149bb7bebf2c48cea414162e25c75368": {
      "model_module": "@jupyter-widgets/controls",
      "model_module_version": "1.5.0",
      "model_name": "ButtonModel",
      "state": {
       "description": "Run Interact",
       "layout": "IPY_MODEL_bdc82666063d486ca509ebc9e609763b",
       "style": "IPY_MODEL_422e936455f943b293e021a2f143ce7e"
      }
     },
     "15a178370aba49c680b85b20e8632acc": {
      "model_module": "@jupyter-widgets/output",
      "model_module_version": "1.0.0",
      "model_name": "OutputModel",
      "state": {
       "layout": "IPY_MODEL_c12b5dac8c534a8e88c8844f7e635bae"
      }
     },
     "15b4d7c0ea7f45dbaacb0f6ca891065c": {
      "model_module": "@jupyter-widgets/base",
      "model_module_version": "1.2.0",
      "model_name": "LayoutModel",
      "state": {}
     },
     "16f6ef5a5f514261a9e152f56b1bd606": {
      "model_module": "@jupyter-widgets/base",
      "model_module_version": "1.2.0",
      "model_name": "LayoutModel",
      "state": {}
     },
     "17255148043145ce8ee57b35068dbdba": {
      "model_module": "@jupyter-widgets/controls",
      "model_module_version": "1.5.0",
      "model_name": "VBoxModel",
      "state": {
       "_dom_classes": [
        "widget-interact"
       ],
       "children": [
        "IPY_MODEL_bf8590edc8a64335a7a1d863e2bcf1e7",
        "IPY_MODEL_1a733f76d15242e8bd3791d85da5e1e5",
        "IPY_MODEL_8229c7ec9a734c158de10d629c829da0",
        "IPY_MODEL_8b2591b8fa3e4546a192e5b3871f46c7"
       ],
       "layout": "IPY_MODEL_08da9c31cf944f1692c2f8678981709a"
      }
     },
     "17865b5129664c5089528a4c626cef8f": {
      "model_module": "@jupyter-widgets/output",
      "model_module_version": "1.0.0",
      "model_name": "OutputModel",
      "state": {
       "layout": "IPY_MODEL_982d9d40c91e4ffa97fe0b396bfd8390"
      }
     },
     "1871c002aff64cda8b88ff362eaa69ba": {
      "model_module": "@jupyter-widgets/controls",
      "model_module_version": "1.5.0",
      "model_name": "SliderStyleModel",
      "state": {
       "description_width": ""
      }
     },
     "1a025e02deb6447a8ecc243dc8e8e86c": {
      "model_module": "@jupyter-widgets/controls",
      "model_module_version": "1.5.0",
      "model_name": "VBoxModel",
      "state": {
       "_dom_classes": [
        "widget-interact"
       ],
       "children": [
        "IPY_MODEL_de3b6d41148248ababd9d839b687335c",
        "IPY_MODEL_5d628907242947e5b7527ce96b8014c7",
        "IPY_MODEL_32fc501502c048d1bce52879cc54d60e",
        "IPY_MODEL_4746c2024b7842c78dd11bb47d855fb1"
       ],
       "layout": "IPY_MODEL_a7fd0cd56a1341cb8848fd304f9288a5"
      }
     },
     "1a733f76d15242e8bd3791d85da5e1e5": {
      "model_module": "@jupyter-widgets/controls",
      "model_module_version": "1.5.0",
      "model_name": "IntSliderModel",
      "state": {
       "description": "nt",
       "layout": "IPY_MODEL_362a63fb41b747cf8451faa4a81fc55f",
       "max": 30,
       "min": 10,
       "step": 5,
       "style": "IPY_MODEL_2426214a04364760972cf3c1773db6e6",
       "value": 15
      }
     },
     "1a84e44f307d4ed9a9f3223a7c8e4a0e": {
      "model_module": "@jupyter-widgets/base",
      "model_module_version": "1.2.0",
      "model_name": "LayoutModel",
      "state": {}
     },
     "1a873a14fd2044209e8a97f9aa2b929e": {
      "model_module": "@jupyter-widgets/controls",
      "model_module_version": "1.5.0",
      "model_name": "FloatSliderModel",
      "state": {
       "description": "ip",
       "layout": "IPY_MODEL_8019e79a21744741876ef809c3d876dc",
       "max": 10,
       "step": 0.2,
       "style": "IPY_MODEL_687d90a44fca49a9b05206de77748f91"
      }
     },
     "1c2f5567b130458f9b849560aec425a0": {
      "model_module": "@jupyter-widgets/base",
      "model_module_version": "1.2.0",
      "model_name": "LayoutModel",
      "state": {}
     },
     "1cdfbdde84114361ae454925dd0059ba": {
      "model_module": "@jupyter-widgets/base",
      "model_module_version": "1.2.0",
      "model_name": "LayoutModel",
      "state": {}
     },
     "1eda3109f52147c8a26e7dbdb464ce75": {
      "model_module": "@jupyter-widgets/controls",
      "model_module_version": "1.5.0",
      "model_name": "FloatSliderModel",
      "state": {
       "description": "ip",
       "layout": "IPY_MODEL_1a84e44f307d4ed9a9f3223a7c8e4a0e",
       "max": 10,
       "step": 0.2,
       "style": "IPY_MODEL_83e1876f124b4b16acef91d6d193f26a"
      }
     },
     "1f53f0e6de904f609e118b011832dc26": {
      "model_module": "@jupyter-widgets/controls",
      "model_module_version": "1.5.0",
      "model_name": "FloatSliderModel",
      "state": {
       "description": "ip",
       "layout": "IPY_MODEL_a17d1d7941c840aeb65cb6548983197a",
       "max": 5,
       "step": 0.1,
       "style": "IPY_MODEL_e0f48a232df7403286a98d681a4a5574"
      }
     },
     "1f5e50498fcb4417a60e92bf11df1ae8": {
      "model_module": "@jupyter-widgets/output",
      "model_module_version": "1.0.0",
      "model_name": "OutputModel",
      "state": {
       "layout": "IPY_MODEL_5b06176872f4410a8e43ab3e28f83ac0",
       "outputs": [
        {
         "name": "stdout",
         "output_type": "stream",
         "text": "Temperatura di fusione della forsterite: 2161.01 K\nTemperatura di fusione della fayalite: 1480.31 K\n"
        },
        {
         "data": {
          "application/javascript": "/* Put everything inside the global mpl namespace */\nwindow.mpl = {};\n\n\nmpl.get_websocket_type = function() {\n    if (typeof(WebSocket) !== 'undefined') {\n        return WebSocket;\n    } else if (typeof(MozWebSocket) !== 'undefined') {\n        return MozWebSocket;\n    } else {\n        alert('Your browser does not have WebSocket support. ' +\n              'Please try Chrome, Safari or Firefox ≥ 6. ' +\n              'Firefox 4 and 5 are also supported but you ' +\n              'have to enable WebSockets in about:config.');\n    };\n}\n\nmpl.figure = function(figure_id, websocket, ondownload, parent_element) {\n    this.id = figure_id;\n\n    this.ws = websocket;\n\n    this.supports_binary = (this.ws.binaryType != undefined);\n\n    if (!this.supports_binary) {\n        var warnings = document.getElementById(\"mpl-warnings\");\n        if (warnings) {\n            warnings.style.display = 'block';\n            warnings.textContent = (\n                \"This browser does not support binary websocket messages. \" +\n                    \"Performance may be slow.\");\n        }\n    }\n\n    this.imageObj = new Image();\n\n    this.context = undefined;\n    this.message = undefined;\n    this.canvas = undefined;\n    this.rubberband_canvas = undefined;\n    this.rubberband_context = undefined;\n    this.format_dropdown = undefined;\n\n    this.image_mode = 'full';\n\n    this.root = $('<div/>');\n    this._root_extra_style(this.root)\n    this.root.attr('style', 'display: inline-block');\n\n    $(parent_element).append(this.root);\n\n    this._init_header(this);\n    this._init_canvas(this);\n    this._init_toolbar(this);\n\n    var fig = this;\n\n    this.waiting = false;\n\n    this.ws.onopen =  function () {\n            fig.send_message(\"supports_binary\", {value: fig.supports_binary});\n            fig.send_message(\"send_image_mode\", {});\n            if (mpl.ratio != 1) {\n                fig.send_message(\"set_dpi_ratio\", {'dpi_ratio': mpl.ratio});\n            }\n            fig.send_message(\"refresh\", {});\n        }\n\n    this.imageObj.onload = function() {\n            if (fig.image_mode == 'full') {\n                // Full images could contain transparency (where diff images\n                // almost always do), so we need to clear the canvas so that\n                // there is no ghosting.\n                fig.context.clearRect(0, 0, fig.canvas.width, fig.canvas.height);\n            }\n            fig.context.drawImage(fig.imageObj, 0, 0);\n        };\n\n    this.imageObj.onunload = function() {\n        fig.ws.close();\n    }\n\n    this.ws.onmessage = this._make_on_message_function(this);\n\n    this.ondownload = ondownload;\n}\n\nmpl.figure.prototype._init_header = function() {\n    var titlebar = $(\n        '<div class=\"ui-dialog-titlebar ui-widget-header ui-corner-all ' +\n        'ui-helper-clearfix\"/>');\n    var titletext = $(\n        '<div class=\"ui-dialog-title\" style=\"width: 100%; ' +\n        'text-align: center; padding: 3px;\"/>');\n    titlebar.append(titletext)\n    this.root.append(titlebar);\n    this.header = titletext[0];\n}\n\n\n\nmpl.figure.prototype._canvas_extra_style = function(canvas_div) {\n\n}\n\n\nmpl.figure.prototype._root_extra_style = function(canvas_div) {\n\n}\n\nmpl.figure.prototype._init_canvas = function() {\n    var fig = this;\n\n    var canvas_div = $('<div/>');\n\n    canvas_div.attr('style', 'position: relative; clear: both; outline: 0');\n\n    function canvas_keyboard_event(event) {\n        return fig.key_event(event, event['data']);\n    }\n\n    canvas_div.keydown('key_press', canvas_keyboard_event);\n    canvas_div.keyup('key_release', canvas_keyboard_event);\n    this.canvas_div = canvas_div\n    this._canvas_extra_style(canvas_div)\n    this.root.append(canvas_div);\n\n    var canvas = $('<canvas/>');\n    canvas.addClass('mpl-canvas');\n    canvas.attr('style', \"left: 0; top: 0; z-index: 0; outline: 0\")\n\n    this.canvas = canvas[0];\n    this.context = canvas[0].getContext(\"2d\");\n\n    var backingStore = this.context.backingStorePixelRatio ||\n\tthis.context.webkitBackingStorePixelRatio ||\n\tthis.context.mozBackingStorePixelRatio ||\n\tthis.context.msBackingStorePixelRatio ||\n\tthis.context.oBackingStorePixelRatio ||\n\tthis.context.backingStorePixelRatio || 1;\n\n    mpl.ratio = (window.devicePixelRatio || 1) / backingStore;\n\n    var rubberband = $('<canvas/>');\n    rubberband.attr('style', \"position: absolute; left: 0; top: 0; z-index: 1;\")\n\n    var pass_mouse_events = true;\n\n    canvas_div.resizable({\n        start: function(event, ui) {\n            pass_mouse_events = false;\n        },\n        resize: function(event, ui) {\n            fig.request_resize(ui.size.width, ui.size.height);\n        },\n        stop: function(event, ui) {\n            pass_mouse_events = true;\n            fig.request_resize(ui.size.width, ui.size.height);\n        },\n    });\n\n    function mouse_event_fn(event) {\n        if (pass_mouse_events)\n            return fig.mouse_event(event, event['data']);\n    }\n\n    rubberband.mousedown('button_press', mouse_event_fn);\n    rubberband.mouseup('button_release', mouse_event_fn);\n    // Throttle sequential mouse events to 1 every 20ms.\n    rubberband.mousemove('motion_notify', mouse_event_fn);\n\n    rubberband.mouseenter('figure_enter', mouse_event_fn);\n    rubberband.mouseleave('figure_leave', mouse_event_fn);\n\n    canvas_div.on(\"wheel\", function (event) {\n        event = event.originalEvent;\n        event['data'] = 'scroll'\n        if (event.deltaY < 0) {\n            event.step = 1;\n        } else {\n            event.step = -1;\n        }\n        mouse_event_fn(event);\n    });\n\n    canvas_div.append(canvas);\n    canvas_div.append(rubberband);\n\n    this.rubberband = rubberband;\n    this.rubberband_canvas = rubberband[0];\n    this.rubberband_context = rubberband[0].getContext(\"2d\");\n    this.rubberband_context.strokeStyle = \"#000000\";\n\n    this._resize_canvas = function(width, height) {\n        // Keep the size of the canvas, canvas container, and rubber band\n        // canvas in synch.\n        canvas_div.css('width', width)\n        canvas_div.css('height', height)\n\n        canvas.attr('width', width * mpl.ratio);\n        canvas.attr('height', height * mpl.ratio);\n        canvas.attr('style', 'width: ' + width + 'px; height: ' + height + 'px;');\n\n        rubberband.attr('width', width);\n        rubberband.attr('height', height);\n    }\n\n    // Set the figure to an initial 600x600px, this will subsequently be updated\n    // upon first draw.\n    this._resize_canvas(600, 600);\n\n    // Disable right mouse context menu.\n    $(this.rubberband_canvas).bind(\"contextmenu\",function(e){\n        return false;\n    });\n\n    function set_focus () {\n        canvas.focus();\n        canvas_div.focus();\n    }\n\n    window.setTimeout(set_focus, 100);\n}\n\nmpl.figure.prototype._init_toolbar = function() {\n    var fig = this;\n\n    var nav_element = $('<div/>');\n    nav_element.attr('style', 'width: 100%');\n    this.root.append(nav_element);\n\n    // Define a callback function for later on.\n    function toolbar_event(event) {\n        return fig.toolbar_button_onclick(event['data']);\n    }\n    function toolbar_mouse_event(event) {\n        return fig.toolbar_button_onmouseover(event['data']);\n    }\n\n    for(var toolbar_ind in mpl.toolbar_items) {\n        var name = mpl.toolbar_items[toolbar_ind][0];\n        var tooltip = mpl.toolbar_items[toolbar_ind][1];\n        var image = mpl.toolbar_items[toolbar_ind][2];\n        var method_name = mpl.toolbar_items[toolbar_ind][3];\n\n        if (!name) {\n            // put a spacer in here.\n            continue;\n        }\n        var button = $('<button/>');\n        button.addClass('ui-button ui-widget ui-state-default ui-corner-all ' +\n                        'ui-button-icon-only');\n        button.attr('role', 'button');\n        button.attr('aria-disabled', 'false');\n        button.click(method_name, toolbar_event);\n        button.mouseover(tooltip, toolbar_mouse_event);\n\n        var icon_img = $('<span/>');\n        icon_img.addClass('ui-button-icon-primary ui-icon');\n        icon_img.addClass(image);\n        icon_img.addClass('ui-corner-all');\n\n        var tooltip_span = $('<span/>');\n        tooltip_span.addClass('ui-button-text');\n        tooltip_span.html(tooltip);\n\n        button.append(icon_img);\n        button.append(tooltip_span);\n\n        nav_element.append(button);\n    }\n\n    var fmt_picker_span = $('<span/>');\n\n    var fmt_picker = $('<select/>');\n    fmt_picker.addClass('mpl-toolbar-option ui-widget ui-widget-content');\n    fmt_picker_span.append(fmt_picker);\n    nav_element.append(fmt_picker_span);\n    this.format_dropdown = fmt_picker[0];\n\n    for (var ind in mpl.extensions) {\n        var fmt = mpl.extensions[ind];\n        var option = $(\n            '<option/>', {selected: fmt === mpl.default_extension}).html(fmt);\n        fmt_picker.append(option);\n    }\n\n    // Add hover states to the ui-buttons\n    $( \".ui-button\" ).hover(\n        function() { $(this).addClass(\"ui-state-hover\");},\n        function() { $(this).removeClass(\"ui-state-hover\");}\n    );\n\n    var status_bar = $('<span class=\"mpl-message\"/>');\n    nav_element.append(status_bar);\n    this.message = status_bar[0];\n}\n\nmpl.figure.prototype.request_resize = function(x_pixels, y_pixels) {\n    // Request matplotlib to resize the figure. Matplotlib will then trigger a resize in the client,\n    // which will in turn request a refresh of the image.\n    this.send_message('resize', {'width': x_pixels, 'height': y_pixels});\n}\n\nmpl.figure.prototype.send_message = function(type, properties) {\n    properties['type'] = type;\n    properties['figure_id'] = this.id;\n    this.ws.send(JSON.stringify(properties));\n}\n\nmpl.figure.prototype.send_draw_message = function() {\n    if (!this.waiting) {\n        this.waiting = true;\n        this.ws.send(JSON.stringify({type: \"draw\", figure_id: this.id}));\n    }\n}\n\n\nmpl.figure.prototype.handle_save = function(fig, msg) {\n    var format_dropdown = fig.format_dropdown;\n    var format = format_dropdown.options[format_dropdown.selectedIndex].value;\n    fig.ondownload(fig, format);\n}\n\n\nmpl.figure.prototype.handle_resize = function(fig, msg) {\n    var size = msg['size'];\n    if (size[0] != fig.canvas.width || size[1] != fig.canvas.height) {\n        fig._resize_canvas(size[0], size[1]);\n        fig.send_message(\"refresh\", {});\n    };\n}\n\nmpl.figure.prototype.handle_rubberband = function(fig, msg) {\n    var x0 = msg['x0'] / mpl.ratio;\n    var y0 = (fig.canvas.height - msg['y0']) / mpl.ratio;\n    var x1 = msg['x1'] / mpl.ratio;\n    var y1 = (fig.canvas.height - msg['y1']) / mpl.ratio;\n    x0 = Math.floor(x0) + 0.5;\n    y0 = Math.floor(y0) + 0.5;\n    x1 = Math.floor(x1) + 0.5;\n    y1 = Math.floor(y1) + 0.5;\n    var min_x = Math.min(x0, x1);\n    var min_y = Math.min(y0, y1);\n    var width = Math.abs(x1 - x0);\n    var height = Math.abs(y1 - y0);\n\n    fig.rubberband_context.clearRect(\n        0, 0, fig.canvas.width / mpl.ratio, fig.canvas.height / mpl.ratio);\n\n    fig.rubberband_context.strokeRect(min_x, min_y, width, height);\n}\n\nmpl.figure.prototype.handle_figure_label = function(fig, msg) {\n    // Updates the figure title.\n    fig.header.textContent = msg['label'];\n}\n\nmpl.figure.prototype.handle_cursor = function(fig, msg) {\n    var cursor = msg['cursor'];\n    switch(cursor)\n    {\n    case 0:\n        cursor = 'pointer';\n        break;\n    case 1:\n        cursor = 'default';\n        break;\n    case 2:\n        cursor = 'crosshair';\n        break;\n    case 3:\n        cursor = 'move';\n        break;\n    }\n    fig.rubberband_canvas.style.cursor = cursor;\n}\n\nmpl.figure.prototype.handle_message = function(fig, msg) {\n    fig.message.textContent = msg['message'];\n}\n\nmpl.figure.prototype.handle_draw = function(fig, msg) {\n    // Request the server to send over a new figure.\n    fig.send_draw_message();\n}\n\nmpl.figure.prototype.handle_image_mode = function(fig, msg) {\n    fig.image_mode = msg['mode'];\n}\n\nmpl.figure.prototype.updated_canvas_event = function() {\n    // Called whenever the canvas gets updated.\n    this.send_message(\"ack\", {});\n}\n\n// A function to construct a web socket function for onmessage handling.\n// Called in the figure constructor.\nmpl.figure.prototype._make_on_message_function = function(fig) {\n    return function socket_on_message(evt) {\n        if (evt.data instanceof Blob) {\n            /* FIXME: We get \"Resource interpreted as Image but\n             * transferred with MIME type text/plain:\" errors on\n             * Chrome.  But how to set the MIME type?  It doesn't seem\n             * to be part of the websocket stream */\n            evt.data.type = \"image/png\";\n\n            /* Free the memory for the previous frames */\n            if (fig.imageObj.src) {\n                (window.URL || window.webkitURL).revokeObjectURL(\n                    fig.imageObj.src);\n            }\n\n            fig.imageObj.src = (window.URL || window.webkitURL).createObjectURL(\n                evt.data);\n            fig.updated_canvas_event();\n            fig.waiting = false;\n            return;\n        }\n        else if (typeof evt.data === 'string' && evt.data.slice(0, 21) == \"data:image/png;base64\") {\n            fig.imageObj.src = evt.data;\n            fig.updated_canvas_event();\n            fig.waiting = false;\n            return;\n        }\n\n        var msg = JSON.parse(evt.data);\n        var msg_type = msg['type'];\n\n        // Call the  \"handle_{type}\" callback, which takes\n        // the figure and JSON message as its only arguments.\n        try {\n            var callback = fig[\"handle_\" + msg_type];\n        } catch (e) {\n            console.log(\"No handler for the '\" + msg_type + \"' message type: \", msg);\n            return;\n        }\n\n        if (callback) {\n            try {\n                // console.log(\"Handling '\" + msg_type + \"' message: \", msg);\n                callback(fig, msg);\n            } catch (e) {\n                console.log(\"Exception inside the 'handler_\" + msg_type + \"' callback:\", e, e.stack, msg);\n            }\n        }\n    };\n}\n\n// from http://stackoverflow.com/questions/1114465/getting-mouse-location-in-canvas\nmpl.findpos = function(e) {\n    //this section is from http://www.quirksmode.org/js/events_properties.html\n    var targ;\n    if (!e)\n        e = window.event;\n    if (e.target)\n        targ = e.target;\n    else if (e.srcElement)\n        targ = e.srcElement;\n    if (targ.nodeType == 3) // defeat Safari bug\n        targ = targ.parentNode;\n\n    // jQuery normalizes the pageX and pageY\n    // pageX,Y are the mouse positions relative to the document\n    // offset() returns the position of the element relative to the document\n    var x = e.pageX - $(targ).offset().left;\n    var y = e.pageY - $(targ).offset().top;\n\n    return {\"x\": x, \"y\": y};\n};\n\n/*\n * return a copy of an object with only non-object keys\n * we need this to avoid circular references\n * http://stackoverflow.com/a/24161582/3208463\n */\nfunction simpleKeys (original) {\n  return Object.keys(original).reduce(function (obj, key) {\n    if (typeof original[key] !== 'object')\n        obj[key] = original[key]\n    return obj;\n  }, {});\n}\n\nmpl.figure.prototype.mouse_event = function(event, name) {\n    var canvas_pos = mpl.findpos(event)\n\n    if (name === 'button_press')\n    {\n        this.canvas.focus();\n        this.canvas_div.focus();\n    }\n\n    var x = canvas_pos.x * mpl.ratio;\n    var y = canvas_pos.y * mpl.ratio;\n\n    this.send_message(name, {x: x, y: y, button: event.button,\n                             step: event.step,\n                             guiEvent: simpleKeys(event)});\n\n    /* This prevents the web browser from automatically changing to\n     * the text insertion cursor when the button is pressed.  We want\n     * to control all of the cursor setting manually through the\n     * 'cursor' event from matplotlib */\n    event.preventDefault();\n    return false;\n}\n\nmpl.figure.prototype._key_event_extra = function(event, name) {\n    // Handle any extra behaviour associated with a key event\n}\n\nmpl.figure.prototype.key_event = function(event, name) {\n\n    // Prevent repeat events\n    if (name == 'key_press')\n    {\n        if (event.which === this._key)\n            return;\n        else\n            this._key = event.which;\n    }\n    if (name == 'key_release')\n        this._key = null;\n\n    var value = '';\n    if (event.ctrlKey && event.which != 17)\n        value += \"ctrl+\";\n    if (event.altKey && event.which != 18)\n        value += \"alt+\";\n    if (event.shiftKey && event.which != 16)\n        value += \"shift+\";\n\n    value += 'k';\n    value += event.which.toString();\n\n    this._key_event_extra(event, name);\n\n    this.send_message(name, {key: value,\n                             guiEvent: simpleKeys(event)});\n    return false;\n}\n\nmpl.figure.prototype.toolbar_button_onclick = function(name) {\n    if (name == 'download') {\n        this.handle_save(this, null);\n    } else {\n        this.send_message(\"toolbar_button\", {name: name});\n    }\n};\n\nmpl.figure.prototype.toolbar_button_onmouseover = function(tooltip) {\n    this.message.textContent = tooltip;\n};\nmpl.toolbar_items = [[\"Home\", \"Reset original view\", \"fa fa-home icon-home\", \"home\"], [\"Back\", \"Back to previous view\", \"fa fa-arrow-left icon-arrow-left\", \"back\"], [\"Forward\", \"Forward to next view\", \"fa fa-arrow-right icon-arrow-right\", \"forward\"], [\"\", \"\", \"\", \"\"], [\"Pan\", \"Pan axes with left mouse, zoom with right\", \"fa fa-arrows icon-move\", \"pan\"], [\"Zoom\", \"Zoom to rectangle\", \"fa fa-square-o icon-check-empty\", \"zoom\"], [\"\", \"\", \"\", \"\"], [\"Download\", \"Download plot\", \"fa fa-floppy-o icon-save\", \"download\"]];\n\nmpl.extensions = [\"eps\", \"jpeg\", \"pdf\", \"png\", \"ps\", \"raw\", \"svg\", \"tif\"];\n\nmpl.default_extension = \"png\";var comm_websocket_adapter = function(comm) {\n    // Create a \"websocket\"-like object which calls the given IPython comm\n    // object with the appropriate methods. Currently this is a non binary\n    // socket, so there is still some room for performance tuning.\n    var ws = {};\n\n    ws.close = function() {\n        comm.close()\n    };\n    ws.send = function(m) {\n        //console.log('sending', m);\n        comm.send(m);\n    };\n    // Register the callback with on_msg.\n    comm.on_msg(function(msg) {\n        //console.log('receiving', msg['content']['data'], msg);\n        // Pass the mpl event to the overridden (by mpl) onmessage function.\n        ws.onmessage(msg['content']['data'])\n    });\n    return ws;\n}\n\nmpl.mpl_figure_comm = function(comm, msg) {\n    // This is the function which gets called when the mpl process\n    // starts-up an IPython Comm through the \"matplotlib\" channel.\n\n    var id = msg.content.data.id;\n    // Get hold of the div created by the display call when the Comm\n    // socket was opened in Python.\n    var element = $(\"#\" + id);\n    var ws_proxy = comm_websocket_adapter(comm)\n\n    function ondownload(figure, format) {\n        window.open(figure.imageObj.src);\n    }\n\n    var fig = new mpl.figure(id, ws_proxy,\n                           ondownload,\n                           element.get(0));\n\n    // Call onopen now - mpl needs it, as it is assuming we've passed it a real\n    // web socket which is closed, not our websocket->open comm proxy.\n    ws_proxy.onopen();\n\n    fig.parent_element = element.get(0);\n    fig.cell_info = mpl.find_output_cell(\"<div id='\" + id + \"'></div>\");\n    if (!fig.cell_info) {\n        console.error(\"Failed to find cell for figure\", id, fig);\n        return;\n    }\n\n    var output_index = fig.cell_info[2]\n    var cell = fig.cell_info[0];\n\n};\n\nmpl.figure.prototype.handle_close = function(fig, msg) {\n    var width = fig.canvas.width/mpl.ratio\n    fig.root.unbind('remove')\n\n    // Update the output cell to use the data from the current canvas.\n    fig.push_to_output();\n    var dataURL = fig.canvas.toDataURL();\n    // Re-enable the keyboard manager in IPython - without this line, in FF,\n    // the notebook keyboard shortcuts fail.\n    IPython.keyboard_manager.enable()\n    $(fig.parent_element).html('<img src=\"' + dataURL + '\" width=\"' + width + '\">');\n    fig.close_ws(fig, msg);\n}\n\nmpl.figure.prototype.close_ws = function(fig, msg){\n    fig.send_message('closing', msg);\n    // fig.ws.close()\n}\n\nmpl.figure.prototype.push_to_output = function(remove_interactive) {\n    // Turn the data on the canvas into data in the output cell.\n    var width = this.canvas.width/mpl.ratio\n    var dataURL = this.canvas.toDataURL();\n    this.cell_info[1]['text/html'] = '<img src=\"' + dataURL + '\" width=\"' + width + '\">';\n}\n\nmpl.figure.prototype.updated_canvas_event = function() {\n    // Tell IPython that the notebook contents must change.\n    IPython.notebook.set_dirty(true);\n    this.send_message(\"ack\", {});\n    var fig = this;\n    // Wait a second, then push the new image to the DOM so\n    // that it is saved nicely (might be nice to debounce this).\n    setTimeout(function () { fig.push_to_output() }, 1000);\n}\n\nmpl.figure.prototype._init_toolbar = function() {\n    var fig = this;\n\n    var nav_element = $('<div/>');\n    nav_element.attr('style', 'width: 100%');\n    this.root.append(nav_element);\n\n    // Define a callback function for later on.\n    function toolbar_event(event) {\n        return fig.toolbar_button_onclick(event['data']);\n    }\n    function toolbar_mouse_event(event) {\n        return fig.toolbar_button_onmouseover(event['data']);\n    }\n\n    for(var toolbar_ind in mpl.toolbar_items){\n        var name = mpl.toolbar_items[toolbar_ind][0];\n        var tooltip = mpl.toolbar_items[toolbar_ind][1];\n        var image = mpl.toolbar_items[toolbar_ind][2];\n        var method_name = mpl.toolbar_items[toolbar_ind][3];\n\n        if (!name) { continue; };\n\n        var button = $('<button class=\"btn btn-default\" href=\"#\" title=\"' + name + '\"><i class=\"fa ' + image + ' fa-lg\"></i></button>');\n        button.click(method_name, toolbar_event);\n        button.mouseover(tooltip, toolbar_mouse_event);\n        nav_element.append(button);\n    }\n\n    // Add the status bar.\n    var status_bar = $('<span class=\"mpl-message\" style=\"text-align:right; float: right;\"/>');\n    nav_element.append(status_bar);\n    this.message = status_bar[0];\n\n    // Add the close button to the window.\n    var buttongrp = $('<div class=\"btn-group inline pull-right\"></div>');\n    var button = $('<button class=\"btn btn-mini btn-primary\" href=\"#\" title=\"Stop Interaction\"><i class=\"fa fa-power-off icon-remove icon-large\"></i></button>');\n    button.click(function (evt) { fig.handle_close(fig, {}); } );\n    button.mouseover('Stop Interaction', toolbar_mouse_event);\n    buttongrp.append(button);\n    var titlebar = this.root.find($('.ui-dialog-titlebar'));\n    titlebar.prepend(buttongrp);\n}\n\nmpl.figure.prototype._root_extra_style = function(el){\n    var fig = this\n    el.on(\"remove\", function(){\n\tfig.close_ws(fig, {});\n    });\n}\n\nmpl.figure.prototype._canvas_extra_style = function(el){\n    // this is important to make the div 'focusable\n    el.attr('tabindex', 0)\n    // reach out to IPython and tell the keyboard manager to turn it's self\n    // off when our div gets focus\n\n    // location in version 3\n    if (IPython.notebook.keyboard_manager) {\n        IPython.notebook.keyboard_manager.register_events(el);\n    }\n    else {\n        // location in version 2\n        IPython.keyboard_manager.register_events(el);\n    }\n\n}\n\nmpl.figure.prototype._key_event_extra = function(event, name) {\n    var manager = IPython.notebook.keyboard_manager;\n    if (!manager)\n        manager = IPython.keyboard_manager;\n\n    // Check for shift+enter\n    if (event.shiftKey && event.which == 13) {\n        this.canvas_div.blur();\n        // select the cell after this one\n        var index = IPython.notebook.find_cell_index(this.cell_info[0]);\n        IPython.notebook.select(index + 1);\n    }\n}\n\nmpl.figure.prototype.handle_save = function(fig, msg) {\n    fig.ondownload(fig, null);\n}\n\n\nmpl.find_output_cell = function(html_output) {\n    // Return the cell and output element which can be found *uniquely* in the notebook.\n    // Note - this is a bit hacky, but it is done because the \"notebook_saving.Notebook\"\n    // IPython event is triggered only after the cells have been serialised, which for\n    // our purposes (turning an active figure into a static one), is too late.\n    var cells = IPython.notebook.get_cells();\n    var ncells = cells.length;\n    for (var i=0; i<ncells; i++) {\n        var cell = cells[i];\n        if (cell.cell_type === 'code'){\n            for (var j=0; j<cell.output_area.outputs.length; j++) {\n                var data = cell.output_area.outputs[j];\n                if (data.data) {\n                    // IPython >= 3 moved mimebundle to data attribute of output\n                    data = data.data;\n                }\n                if (data['text/html'] == html_output) {\n                    return [cell, data, j];\n                }\n            }\n        }\n    }\n}\n\n// Register the function which deals with the matplotlib target/channel.\n// The kernel may be null if the page has been refreshed.\nif (IPython.notebook.kernel != null) {\n    IPython.notebook.kernel.comm_manager.register_target('matplotlib', mpl.mpl_figure_comm);\n}\n",
          "text/plain": "<IPython.core.display.Javascript object>"
         },
         "metadata": {},
         "output_type": "display_data"
        },
        {
         "data": {
          "text/html": "<div id='c9333c53-5ae8-4613-b8e0-d43d28068d57'></div>",
          "text/plain": "<IPython.core.display.HTML object>"
         },
         "metadata": {},
         "output_type": "display_data"
        },
        {
         "name": "stdout",
         "output_type": "stream",
         "text": "\n  T (K)   X(Mg)sol  X(Fe)sol  X(Mg)liq  X(Fe)liq\n 1480.31    0.00      1.00      0.00      1.00  \n 1555.95    0.33      0.67      0.04      0.96  \n 1631.58    0.55      0.45      0.09      0.91  \n 1707.21    0.69      0.31      0.16      0.84  \n 1782.85    0.79      0.21      0.23      0.77  \n 1858.48    0.86      0.14      0.33      0.67  \n 1934.11    0.91      0.09      0.44      0.56  \n 2009.75    0.95      0.05      0.59      0.41  \n 2085.38    0.98      0.02      0.77      0.23  \n 2161.01    1.00      0.00      1.00      0.00  \n"
        }
       ]
      }
     },
     "1fc8bae0de034d8ab0ac36e482c0a47f": {
      "model_module": "@jupyter-widgets/controls",
      "model_module_version": "1.5.0",
      "model_name": "VBoxModel",
      "state": {
       "_dom_classes": [
        "widget-interact"
       ],
       "children": [
        "IPY_MODEL_aac858fdc6e240bba058d4abab741e96",
        "IPY_MODEL_eb65820549bf4d98a13bc05e4a4848a1",
        "IPY_MODEL_753f4ca516f645208ab026ac22e3a437"
       ],
       "layout": "IPY_MODEL_bf9926951af14ec1aadb81b7f88a7a84"
      }
     },
     "23c7bbd77a1b423fa74e3a0b1b17df75": {
      "model_module": "@jupyter-widgets/base",
      "model_module_version": "1.2.0",
      "model_name": "LayoutModel",
      "state": {}
     },
     "23f1d2411b8c46229c784520c8032ab8": {
      "model_module": "@jupyter-widgets/controls",
      "model_module_version": "1.5.0",
      "model_name": "SliderStyleModel",
      "state": {
       "description_width": ""
      }
     },
     "241e36d66abe4f3c98f1549049bd4f47": {
      "model_module": "@jupyter-widgets/controls",
      "model_module_version": "1.5.0",
      "model_name": "ButtonModel",
      "state": {
       "description": "Run Interact",
       "layout": "IPY_MODEL_711f1141263846bbafb731932733726c",
       "style": "IPY_MODEL_73ce1f6932aa4ee4856a4bed7396aae8"
      }
     },
     "2426214a04364760972cf3c1773db6e6": {
      "model_module": "@jupyter-widgets/controls",
      "model_module_version": "1.5.0",
      "model_name": "SliderStyleModel",
      "state": {
       "description_width": ""
      }
     },
     "24bfcdf205dc43589784c82ce143ca0c": {
      "model_module": "@jupyter-widgets/controls",
      "model_module_version": "1.5.0",
      "model_name": "SliderStyleModel",
      "state": {
       "description_width": ""
      }
     },
     "25520d696ad94056a570462d99343739": {
      "model_module": "@jupyter-widgets/base",
      "model_module_version": "1.2.0",
      "model_name": "LayoutModel",
      "state": {}
     },
     "255d8b2dba3e4c19a483ae7ea5c0eed5": {
      "model_module": "@jupyter-widgets/controls",
      "model_module_version": "1.5.0",
      "model_name": "VBoxModel",
      "state": {
       "_dom_classes": [
        "widget-interact"
       ],
       "children": [
        "IPY_MODEL_b2d96106da2b43c2beead0323de9e8fc",
        "IPY_MODEL_f857002df0d949db8832f8c02c18e62a",
        "IPY_MODEL_eb322c063fb34184acb8764ba206aa67",
        "IPY_MODEL_e1eeed5438ed4b0487ff29b7df932a35",
        "IPY_MODEL_3a833810c0f04083bfd0708e4420bdd7"
       ],
       "layout": "IPY_MODEL_74f6f483b39c458380c618f217a18dcf"
      }
     },
     "25b2a48387f842f3b439f53f522a6647": {
      "model_module": "@jupyter-widgets/output",
      "model_module_version": "1.0.0",
      "model_name": "OutputModel",
      "state": {
       "layout": "IPY_MODEL_0101cb2fe90b46b2ae46fd7d1797a838",
       "outputs": [
        {
         "name": "stdout",
         "output_type": "stream",
         "text": "Temperatura di fusione della forsterite: 2161.01 K\nTemperatura di fusione della fayalite: 1480.31 K\n"
        },
        {
         "data": {
          "application/javascript": "/* Put everything inside the global mpl namespace */\nwindow.mpl = {};\n\n\nmpl.get_websocket_type = function() {\n    if (typeof(WebSocket) !== 'undefined') {\n        return WebSocket;\n    } else if (typeof(MozWebSocket) !== 'undefined') {\n        return MozWebSocket;\n    } else {\n        alert('Your browser does not have WebSocket support. ' +\n              'Please try Chrome, Safari or Firefox ≥ 6. ' +\n              'Firefox 4 and 5 are also supported but you ' +\n              'have to enable WebSockets in about:config.');\n    };\n}\n\nmpl.figure = function(figure_id, websocket, ondownload, parent_element) {\n    this.id = figure_id;\n\n    this.ws = websocket;\n\n    this.supports_binary = (this.ws.binaryType != undefined);\n\n    if (!this.supports_binary) {\n        var warnings = document.getElementById(\"mpl-warnings\");\n        if (warnings) {\n            warnings.style.display = 'block';\n            warnings.textContent = (\n                \"This browser does not support binary websocket messages. \" +\n                    \"Performance may be slow.\");\n        }\n    }\n\n    this.imageObj = new Image();\n\n    this.context = undefined;\n    this.message = undefined;\n    this.canvas = undefined;\n    this.rubberband_canvas = undefined;\n    this.rubberband_context = undefined;\n    this.format_dropdown = undefined;\n\n    this.image_mode = 'full';\n\n    this.root = $('<div/>');\n    this._root_extra_style(this.root)\n    this.root.attr('style', 'display: inline-block');\n\n    $(parent_element).append(this.root);\n\n    this._init_header(this);\n    this._init_canvas(this);\n    this._init_toolbar(this);\n\n    var fig = this;\n\n    this.waiting = false;\n\n    this.ws.onopen =  function () {\n            fig.send_message(\"supports_binary\", {value: fig.supports_binary});\n            fig.send_message(\"send_image_mode\", {});\n            if (mpl.ratio != 1) {\n                fig.send_message(\"set_dpi_ratio\", {'dpi_ratio': mpl.ratio});\n            }\n            fig.send_message(\"refresh\", {});\n        }\n\n    this.imageObj.onload = function() {\n            if (fig.image_mode == 'full') {\n                // Full images could contain transparency (where diff images\n                // almost always do), so we need to clear the canvas so that\n                // there is no ghosting.\n                fig.context.clearRect(0, 0, fig.canvas.width, fig.canvas.height);\n            }\n            fig.context.drawImage(fig.imageObj, 0, 0);\n        };\n\n    this.imageObj.onunload = function() {\n        fig.ws.close();\n    }\n\n    this.ws.onmessage = this._make_on_message_function(this);\n\n    this.ondownload = ondownload;\n}\n\nmpl.figure.prototype._init_header = function() {\n    var titlebar = $(\n        '<div class=\"ui-dialog-titlebar ui-widget-header ui-corner-all ' +\n        'ui-helper-clearfix\"/>');\n    var titletext = $(\n        '<div class=\"ui-dialog-title\" style=\"width: 100%; ' +\n        'text-align: center; padding: 3px;\"/>');\n    titlebar.append(titletext)\n    this.root.append(titlebar);\n    this.header = titletext[0];\n}\n\n\n\nmpl.figure.prototype._canvas_extra_style = function(canvas_div) {\n\n}\n\n\nmpl.figure.prototype._root_extra_style = function(canvas_div) {\n\n}\n\nmpl.figure.prototype._init_canvas = function() {\n    var fig = this;\n\n    var canvas_div = $('<div/>');\n\n    canvas_div.attr('style', 'position: relative; clear: both; outline: 0');\n\n    function canvas_keyboard_event(event) {\n        return fig.key_event(event, event['data']);\n    }\n\n    canvas_div.keydown('key_press', canvas_keyboard_event);\n    canvas_div.keyup('key_release', canvas_keyboard_event);\n    this.canvas_div = canvas_div\n    this._canvas_extra_style(canvas_div)\n    this.root.append(canvas_div);\n\n    var canvas = $('<canvas/>');\n    canvas.addClass('mpl-canvas');\n    canvas.attr('style', \"left: 0; top: 0; z-index: 0; outline: 0\")\n\n    this.canvas = canvas[0];\n    this.context = canvas[0].getContext(\"2d\");\n\n    var backingStore = this.context.backingStorePixelRatio ||\n\tthis.context.webkitBackingStorePixelRatio ||\n\tthis.context.mozBackingStorePixelRatio ||\n\tthis.context.msBackingStorePixelRatio ||\n\tthis.context.oBackingStorePixelRatio ||\n\tthis.context.backingStorePixelRatio || 1;\n\n    mpl.ratio = (window.devicePixelRatio || 1) / backingStore;\n\n    var rubberband = $('<canvas/>');\n    rubberband.attr('style', \"position: absolute; left: 0; top: 0; z-index: 1;\")\n\n    var pass_mouse_events = true;\n\n    canvas_div.resizable({\n        start: function(event, ui) {\n            pass_mouse_events = false;\n        },\n        resize: function(event, ui) {\n            fig.request_resize(ui.size.width, ui.size.height);\n        },\n        stop: function(event, ui) {\n            pass_mouse_events = true;\n            fig.request_resize(ui.size.width, ui.size.height);\n        },\n    });\n\n    function mouse_event_fn(event) {\n        if (pass_mouse_events)\n            return fig.mouse_event(event, event['data']);\n    }\n\n    rubberband.mousedown('button_press', mouse_event_fn);\n    rubberband.mouseup('button_release', mouse_event_fn);\n    // Throttle sequential mouse events to 1 every 20ms.\n    rubberband.mousemove('motion_notify', mouse_event_fn);\n\n    rubberband.mouseenter('figure_enter', mouse_event_fn);\n    rubberband.mouseleave('figure_leave', mouse_event_fn);\n\n    canvas_div.on(\"wheel\", function (event) {\n        event = event.originalEvent;\n        event['data'] = 'scroll'\n        if (event.deltaY < 0) {\n            event.step = 1;\n        } else {\n            event.step = -1;\n        }\n        mouse_event_fn(event);\n    });\n\n    canvas_div.append(canvas);\n    canvas_div.append(rubberband);\n\n    this.rubberband = rubberband;\n    this.rubberband_canvas = rubberband[0];\n    this.rubberband_context = rubberband[0].getContext(\"2d\");\n    this.rubberband_context.strokeStyle = \"#000000\";\n\n    this._resize_canvas = function(width, height) {\n        // Keep the size of the canvas, canvas container, and rubber band\n        // canvas in synch.\n        canvas_div.css('width', width)\n        canvas_div.css('height', height)\n\n        canvas.attr('width', width * mpl.ratio);\n        canvas.attr('height', height * mpl.ratio);\n        canvas.attr('style', 'width: ' + width + 'px; height: ' + height + 'px;');\n\n        rubberband.attr('width', width);\n        rubberband.attr('height', height);\n    }\n\n    // Set the figure to an initial 600x600px, this will subsequently be updated\n    // upon first draw.\n    this._resize_canvas(600, 600);\n\n    // Disable right mouse context menu.\n    $(this.rubberband_canvas).bind(\"contextmenu\",function(e){\n        return false;\n    });\n\n    function set_focus () {\n        canvas.focus();\n        canvas_div.focus();\n    }\n\n    window.setTimeout(set_focus, 100);\n}\n\nmpl.figure.prototype._init_toolbar = function() {\n    var fig = this;\n\n    var nav_element = $('<div/>');\n    nav_element.attr('style', 'width: 100%');\n    this.root.append(nav_element);\n\n    // Define a callback function for later on.\n    function toolbar_event(event) {\n        return fig.toolbar_button_onclick(event['data']);\n    }\n    function toolbar_mouse_event(event) {\n        return fig.toolbar_button_onmouseover(event['data']);\n    }\n\n    for(var toolbar_ind in mpl.toolbar_items) {\n        var name = mpl.toolbar_items[toolbar_ind][0];\n        var tooltip = mpl.toolbar_items[toolbar_ind][1];\n        var image = mpl.toolbar_items[toolbar_ind][2];\n        var method_name = mpl.toolbar_items[toolbar_ind][3];\n\n        if (!name) {\n            // put a spacer in here.\n            continue;\n        }\n        var button = $('<button/>');\n        button.addClass('ui-button ui-widget ui-state-default ui-corner-all ' +\n                        'ui-button-icon-only');\n        button.attr('role', 'button');\n        button.attr('aria-disabled', 'false');\n        button.click(method_name, toolbar_event);\n        button.mouseover(tooltip, toolbar_mouse_event);\n\n        var icon_img = $('<span/>');\n        icon_img.addClass('ui-button-icon-primary ui-icon');\n        icon_img.addClass(image);\n        icon_img.addClass('ui-corner-all');\n\n        var tooltip_span = $('<span/>');\n        tooltip_span.addClass('ui-button-text');\n        tooltip_span.html(tooltip);\n\n        button.append(icon_img);\n        button.append(tooltip_span);\n\n        nav_element.append(button);\n    }\n\n    var fmt_picker_span = $('<span/>');\n\n    var fmt_picker = $('<select/>');\n    fmt_picker.addClass('mpl-toolbar-option ui-widget ui-widget-content');\n    fmt_picker_span.append(fmt_picker);\n    nav_element.append(fmt_picker_span);\n    this.format_dropdown = fmt_picker[0];\n\n    for (var ind in mpl.extensions) {\n        var fmt = mpl.extensions[ind];\n        var option = $(\n            '<option/>', {selected: fmt === mpl.default_extension}).html(fmt);\n        fmt_picker.append(option);\n    }\n\n    // Add hover states to the ui-buttons\n    $( \".ui-button\" ).hover(\n        function() { $(this).addClass(\"ui-state-hover\");},\n        function() { $(this).removeClass(\"ui-state-hover\");}\n    );\n\n    var status_bar = $('<span class=\"mpl-message\"/>');\n    nav_element.append(status_bar);\n    this.message = status_bar[0];\n}\n\nmpl.figure.prototype.request_resize = function(x_pixels, y_pixels) {\n    // Request matplotlib to resize the figure. Matplotlib will then trigger a resize in the client,\n    // which will in turn request a refresh of the image.\n    this.send_message('resize', {'width': x_pixels, 'height': y_pixels});\n}\n\nmpl.figure.prototype.send_message = function(type, properties) {\n    properties['type'] = type;\n    properties['figure_id'] = this.id;\n    this.ws.send(JSON.stringify(properties));\n}\n\nmpl.figure.prototype.send_draw_message = function() {\n    if (!this.waiting) {\n        this.waiting = true;\n        this.ws.send(JSON.stringify({type: \"draw\", figure_id: this.id}));\n    }\n}\n\n\nmpl.figure.prototype.handle_save = function(fig, msg) {\n    var format_dropdown = fig.format_dropdown;\n    var format = format_dropdown.options[format_dropdown.selectedIndex].value;\n    fig.ondownload(fig, format);\n}\n\n\nmpl.figure.prototype.handle_resize = function(fig, msg) {\n    var size = msg['size'];\n    if (size[0] != fig.canvas.width || size[1] != fig.canvas.height) {\n        fig._resize_canvas(size[0], size[1]);\n        fig.send_message(\"refresh\", {});\n    };\n}\n\nmpl.figure.prototype.handle_rubberband = function(fig, msg) {\n    var x0 = msg['x0'] / mpl.ratio;\n    var y0 = (fig.canvas.height - msg['y0']) / mpl.ratio;\n    var x1 = msg['x1'] / mpl.ratio;\n    var y1 = (fig.canvas.height - msg['y1']) / mpl.ratio;\n    x0 = Math.floor(x0) + 0.5;\n    y0 = Math.floor(y0) + 0.5;\n    x1 = Math.floor(x1) + 0.5;\n    y1 = Math.floor(y1) + 0.5;\n    var min_x = Math.min(x0, x1);\n    var min_y = Math.min(y0, y1);\n    var width = Math.abs(x1 - x0);\n    var height = Math.abs(y1 - y0);\n\n    fig.rubberband_context.clearRect(\n        0, 0, fig.canvas.width / mpl.ratio, fig.canvas.height / mpl.ratio);\n\n    fig.rubberband_context.strokeRect(min_x, min_y, width, height);\n}\n\nmpl.figure.prototype.handle_figure_label = function(fig, msg) {\n    // Updates the figure title.\n    fig.header.textContent = msg['label'];\n}\n\nmpl.figure.prototype.handle_cursor = function(fig, msg) {\n    var cursor = msg['cursor'];\n    switch(cursor)\n    {\n    case 0:\n        cursor = 'pointer';\n        break;\n    case 1:\n        cursor = 'default';\n        break;\n    case 2:\n        cursor = 'crosshair';\n        break;\n    case 3:\n        cursor = 'move';\n        break;\n    }\n    fig.rubberband_canvas.style.cursor = cursor;\n}\n\nmpl.figure.prototype.handle_message = function(fig, msg) {\n    fig.message.textContent = msg['message'];\n}\n\nmpl.figure.prototype.handle_draw = function(fig, msg) {\n    // Request the server to send over a new figure.\n    fig.send_draw_message();\n}\n\nmpl.figure.prototype.handle_image_mode = function(fig, msg) {\n    fig.image_mode = msg['mode'];\n}\n\nmpl.figure.prototype.updated_canvas_event = function() {\n    // Called whenever the canvas gets updated.\n    this.send_message(\"ack\", {});\n}\n\n// A function to construct a web socket function for onmessage handling.\n// Called in the figure constructor.\nmpl.figure.prototype._make_on_message_function = function(fig) {\n    return function socket_on_message(evt) {\n        if (evt.data instanceof Blob) {\n            /* FIXME: We get \"Resource interpreted as Image but\n             * transferred with MIME type text/plain:\" errors on\n             * Chrome.  But how to set the MIME type?  It doesn't seem\n             * to be part of the websocket stream */\n            evt.data.type = \"image/png\";\n\n            /* Free the memory for the previous frames */\n            if (fig.imageObj.src) {\n                (window.URL || window.webkitURL).revokeObjectURL(\n                    fig.imageObj.src);\n            }\n\n            fig.imageObj.src = (window.URL || window.webkitURL).createObjectURL(\n                evt.data);\n            fig.updated_canvas_event();\n            fig.waiting = false;\n            return;\n        }\n        else if (typeof evt.data === 'string' && evt.data.slice(0, 21) == \"data:image/png;base64\") {\n            fig.imageObj.src = evt.data;\n            fig.updated_canvas_event();\n            fig.waiting = false;\n            return;\n        }\n\n        var msg = JSON.parse(evt.data);\n        var msg_type = msg['type'];\n\n        // Call the  \"handle_{type}\" callback, which takes\n        // the figure and JSON message as its only arguments.\n        try {\n            var callback = fig[\"handle_\" + msg_type];\n        } catch (e) {\n            console.log(\"No handler for the '\" + msg_type + \"' message type: \", msg);\n            return;\n        }\n\n        if (callback) {\n            try {\n                // console.log(\"Handling '\" + msg_type + \"' message: \", msg);\n                callback(fig, msg);\n            } catch (e) {\n                console.log(\"Exception inside the 'handler_\" + msg_type + \"' callback:\", e, e.stack, msg);\n            }\n        }\n    };\n}\n\n// from http://stackoverflow.com/questions/1114465/getting-mouse-location-in-canvas\nmpl.findpos = function(e) {\n    //this section is from http://www.quirksmode.org/js/events_properties.html\n    var targ;\n    if (!e)\n        e = window.event;\n    if (e.target)\n        targ = e.target;\n    else if (e.srcElement)\n        targ = e.srcElement;\n    if (targ.nodeType == 3) // defeat Safari bug\n        targ = targ.parentNode;\n\n    // jQuery normalizes the pageX and pageY\n    // pageX,Y are the mouse positions relative to the document\n    // offset() returns the position of the element relative to the document\n    var x = e.pageX - $(targ).offset().left;\n    var y = e.pageY - $(targ).offset().top;\n\n    return {\"x\": x, \"y\": y};\n};\n\n/*\n * return a copy of an object with only non-object keys\n * we need this to avoid circular references\n * http://stackoverflow.com/a/24161582/3208463\n */\nfunction simpleKeys (original) {\n  return Object.keys(original).reduce(function (obj, key) {\n    if (typeof original[key] !== 'object')\n        obj[key] = original[key]\n    return obj;\n  }, {});\n}\n\nmpl.figure.prototype.mouse_event = function(event, name) {\n    var canvas_pos = mpl.findpos(event)\n\n    if (name === 'button_press')\n    {\n        this.canvas.focus();\n        this.canvas_div.focus();\n    }\n\n    var x = canvas_pos.x * mpl.ratio;\n    var y = canvas_pos.y * mpl.ratio;\n\n    this.send_message(name, {x: x, y: y, button: event.button,\n                             step: event.step,\n                             guiEvent: simpleKeys(event)});\n\n    /* This prevents the web browser from automatically changing to\n     * the text insertion cursor when the button is pressed.  We want\n     * to control all of the cursor setting manually through the\n     * 'cursor' event from matplotlib */\n    event.preventDefault();\n    return false;\n}\n\nmpl.figure.prototype._key_event_extra = function(event, name) {\n    // Handle any extra behaviour associated with a key event\n}\n\nmpl.figure.prototype.key_event = function(event, name) {\n\n    // Prevent repeat events\n    if (name == 'key_press')\n    {\n        if (event.which === this._key)\n            return;\n        else\n            this._key = event.which;\n    }\n    if (name == 'key_release')\n        this._key = null;\n\n    var value = '';\n    if (event.ctrlKey && event.which != 17)\n        value += \"ctrl+\";\n    if (event.altKey && event.which != 18)\n        value += \"alt+\";\n    if (event.shiftKey && event.which != 16)\n        value += \"shift+\";\n\n    value += 'k';\n    value += event.which.toString();\n\n    this._key_event_extra(event, name);\n\n    this.send_message(name, {key: value,\n                             guiEvent: simpleKeys(event)});\n    return false;\n}\n\nmpl.figure.prototype.toolbar_button_onclick = function(name) {\n    if (name == 'download') {\n        this.handle_save(this, null);\n    } else {\n        this.send_message(\"toolbar_button\", {name: name});\n    }\n};\n\nmpl.figure.prototype.toolbar_button_onmouseover = function(tooltip) {\n    this.message.textContent = tooltip;\n};\nmpl.toolbar_items = [[\"Home\", \"Reset original view\", \"fa fa-home icon-home\", \"home\"], [\"Back\", \"Back to previous view\", \"fa fa-arrow-left icon-arrow-left\", \"back\"], [\"Forward\", \"Forward to next view\", \"fa fa-arrow-right icon-arrow-right\", \"forward\"], [\"\", \"\", \"\", \"\"], [\"Pan\", \"Pan axes with left mouse, zoom with right\", \"fa fa-arrows icon-move\", \"pan\"], [\"Zoom\", \"Zoom to rectangle\", \"fa fa-square-o icon-check-empty\", \"zoom\"], [\"\", \"\", \"\", \"\"], [\"Download\", \"Download plot\", \"fa fa-floppy-o icon-save\", \"download\"]];\n\nmpl.extensions = [\"eps\", \"jpeg\", \"pdf\", \"png\", \"ps\", \"raw\", \"svg\", \"tif\"];\n\nmpl.default_extension = \"png\";var comm_websocket_adapter = function(comm) {\n    // Create a \"websocket\"-like object which calls the given IPython comm\n    // object with the appropriate methods. Currently this is a non binary\n    // socket, so there is still some room for performance tuning.\n    var ws = {};\n\n    ws.close = function() {\n        comm.close()\n    };\n    ws.send = function(m) {\n        //console.log('sending', m);\n        comm.send(m);\n    };\n    // Register the callback with on_msg.\n    comm.on_msg(function(msg) {\n        //console.log('receiving', msg['content']['data'], msg);\n        // Pass the mpl event to the overridden (by mpl) onmessage function.\n        ws.onmessage(msg['content']['data'])\n    });\n    return ws;\n}\n\nmpl.mpl_figure_comm = function(comm, msg) {\n    // This is the function which gets called when the mpl process\n    // starts-up an IPython Comm through the \"matplotlib\" channel.\n\n    var id = msg.content.data.id;\n    // Get hold of the div created by the display call when the Comm\n    // socket was opened in Python.\n    var element = $(\"#\" + id);\n    var ws_proxy = comm_websocket_adapter(comm)\n\n    function ondownload(figure, format) {\n        window.open(figure.imageObj.src);\n    }\n\n    var fig = new mpl.figure(id, ws_proxy,\n                           ondownload,\n                           element.get(0));\n\n    // Call onopen now - mpl needs it, as it is assuming we've passed it a real\n    // web socket which is closed, not our websocket->open comm proxy.\n    ws_proxy.onopen();\n\n    fig.parent_element = element.get(0);\n    fig.cell_info = mpl.find_output_cell(\"<div id='\" + id + \"'></div>\");\n    if (!fig.cell_info) {\n        console.error(\"Failed to find cell for figure\", id, fig);\n        return;\n    }\n\n    var output_index = fig.cell_info[2]\n    var cell = fig.cell_info[0];\n\n};\n\nmpl.figure.prototype.handle_close = function(fig, msg) {\n    var width = fig.canvas.width/mpl.ratio\n    fig.root.unbind('remove')\n\n    // Update the output cell to use the data from the current canvas.\n    fig.push_to_output();\n    var dataURL = fig.canvas.toDataURL();\n    // Re-enable the keyboard manager in IPython - without this line, in FF,\n    // the notebook keyboard shortcuts fail.\n    IPython.keyboard_manager.enable()\n    $(fig.parent_element).html('<img src=\"' + dataURL + '\" width=\"' + width + '\">');\n    fig.close_ws(fig, msg);\n}\n\nmpl.figure.prototype.close_ws = function(fig, msg){\n    fig.send_message('closing', msg);\n    // fig.ws.close()\n}\n\nmpl.figure.prototype.push_to_output = function(remove_interactive) {\n    // Turn the data on the canvas into data in the output cell.\n    var width = this.canvas.width/mpl.ratio\n    var dataURL = this.canvas.toDataURL();\n    this.cell_info[1]['text/html'] = '<img src=\"' + dataURL + '\" width=\"' + width + '\">';\n}\n\nmpl.figure.prototype.updated_canvas_event = function() {\n    // Tell IPython that the notebook contents must change.\n    IPython.notebook.set_dirty(true);\n    this.send_message(\"ack\", {});\n    var fig = this;\n    // Wait a second, then push the new image to the DOM so\n    // that it is saved nicely (might be nice to debounce this).\n    setTimeout(function () { fig.push_to_output() }, 1000);\n}\n\nmpl.figure.prototype._init_toolbar = function() {\n    var fig = this;\n\n    var nav_element = $('<div/>');\n    nav_element.attr('style', 'width: 100%');\n    this.root.append(nav_element);\n\n    // Define a callback function for later on.\n    function toolbar_event(event) {\n        return fig.toolbar_button_onclick(event['data']);\n    }\n    function toolbar_mouse_event(event) {\n        return fig.toolbar_button_onmouseover(event['data']);\n    }\n\n    for(var toolbar_ind in mpl.toolbar_items){\n        var name = mpl.toolbar_items[toolbar_ind][0];\n        var tooltip = mpl.toolbar_items[toolbar_ind][1];\n        var image = mpl.toolbar_items[toolbar_ind][2];\n        var method_name = mpl.toolbar_items[toolbar_ind][3];\n\n        if (!name) { continue; };\n\n        var button = $('<button class=\"btn btn-default\" href=\"#\" title=\"' + name + '\"><i class=\"fa ' + image + ' fa-lg\"></i></button>');\n        button.click(method_name, toolbar_event);\n        button.mouseover(tooltip, toolbar_mouse_event);\n        nav_element.append(button);\n    }\n\n    // Add the status bar.\n    var status_bar = $('<span class=\"mpl-message\" style=\"text-align:right; float: right;\"/>');\n    nav_element.append(status_bar);\n    this.message = status_bar[0];\n\n    // Add the close button to the window.\n    var buttongrp = $('<div class=\"btn-group inline pull-right\"></div>');\n    var button = $('<button class=\"btn btn-mini btn-primary\" href=\"#\" title=\"Stop Interaction\"><i class=\"fa fa-power-off icon-remove icon-large\"></i></button>');\n    button.click(function (evt) { fig.handle_close(fig, {}); } );\n    button.mouseover('Stop Interaction', toolbar_mouse_event);\n    buttongrp.append(button);\n    var titlebar = this.root.find($('.ui-dialog-titlebar'));\n    titlebar.prepend(buttongrp);\n}\n\nmpl.figure.prototype._root_extra_style = function(el){\n    var fig = this\n    el.on(\"remove\", function(){\n\tfig.close_ws(fig, {});\n    });\n}\n\nmpl.figure.prototype._canvas_extra_style = function(el){\n    // this is important to make the div 'focusable\n    el.attr('tabindex', 0)\n    // reach out to IPython and tell the keyboard manager to turn it's self\n    // off when our div gets focus\n\n    // location in version 3\n    if (IPython.notebook.keyboard_manager) {\n        IPython.notebook.keyboard_manager.register_events(el);\n    }\n    else {\n        // location in version 2\n        IPython.keyboard_manager.register_events(el);\n    }\n\n}\n\nmpl.figure.prototype._key_event_extra = function(event, name) {\n    var manager = IPython.notebook.keyboard_manager;\n    if (!manager)\n        manager = IPython.keyboard_manager;\n\n    // Check for shift+enter\n    if (event.shiftKey && event.which == 13) {\n        this.canvas_div.blur();\n        // select the cell after this one\n        var index = IPython.notebook.find_cell_index(this.cell_info[0]);\n        IPython.notebook.select(index + 1);\n    }\n}\n\nmpl.figure.prototype.handle_save = function(fig, msg) {\n    fig.ondownload(fig, null);\n}\n\n\nmpl.find_output_cell = function(html_output) {\n    // Return the cell and output element which can be found *uniquely* in the notebook.\n    // Note - this is a bit hacky, but it is done because the \"notebook_saving.Notebook\"\n    // IPython event is triggered only after the cells have been serialised, which for\n    // our purposes (turning an active figure into a static one), is too late.\n    var cells = IPython.notebook.get_cells();\n    var ncells = cells.length;\n    for (var i=0; i<ncells; i++) {\n        var cell = cells[i];\n        if (cell.cell_type === 'code'){\n            for (var j=0; j<cell.output_area.outputs.length; j++) {\n                var data = cell.output_area.outputs[j];\n                if (data.data) {\n                    // IPython >= 3 moved mimebundle to data attribute of output\n                    data = data.data;\n                }\n                if (data['text/html'] == html_output) {\n                    return [cell, data, j];\n                }\n            }\n        }\n    }\n}\n\n// Register the function which deals with the matplotlib target/channel.\n// The kernel may be null if the page has been refreshed.\nif (IPython.notebook.kernel != null) {\n    IPython.notebook.kernel.comm_manager.register_target('matplotlib', mpl.mpl_figure_comm);\n}\n",
          "text/plain": "<IPython.core.display.Javascript object>"
         },
         "metadata": {},
         "output_type": "display_data"
        },
        {
         "data": {
          "text/html": "<div id='63161d2f-2a03-40c1-a3a2-043e60fab8d9'></div>",
          "text/plain": "<IPython.core.display.HTML object>"
         },
         "metadata": {},
         "output_type": "display_data"
        },
        {
         "name": "stdout",
         "output_type": "stream",
         "text": "\n  T (K)   X(Mg)sol  X(Fe)sol  X(Mg)liq  X(Fe)liq\n 1480.31    0.00      1.00      0.00      1.00  \n 1555.95    0.33      0.67      0.04      0.96  \n 1631.58    0.55      0.45      0.09      0.91  \n 1707.21    0.69      0.31      0.16      0.84  \n 1782.85    0.79      0.21      0.23      0.77  \n 1858.48    0.86      0.14      0.33      0.67  \n 1934.11    0.91      0.09      0.44      0.56  \n 2009.75    0.95      0.05      0.59      0.41  \n 2085.38    0.98      0.02      0.77      0.23  \n 2161.01    1.00      0.00      1.00      0.00  \n"
        }
       ]
      }
     },
     "2702f68bea4f4b0c8c07b46ed3d7f4e3": {
      "model_module": "@jupyter-widgets/controls",
      "model_module_version": "1.5.0",
      "model_name": "SliderStyleModel",
      "state": {
       "description_width": ""
      }
     },
     "27f2f460e50e42ef91407e9955e57e09": {
      "model_module": "@jupyter-widgets/base",
      "model_module_version": "1.2.0",
      "model_name": "LayoutModel",
      "state": {}
     },
     "28870191aa974e24b979f232efd9ab54": {
      "model_module": "@jupyter-widgets/output",
      "model_module_version": "1.0.0",
      "model_name": "OutputModel",
      "state": {
       "layout": "IPY_MODEL_8508b37191b34adbaa3fbc3025058c31",
       "outputs": [
        {
         "name": "stdout",
         "output_type": "stream",
         "text": "Temperatura di fusione della forsterite: 2202.61 K\nTemperatura di fusione della fayalite: 1530.59 K\n"
        },
        {
         "data": {
          "application/javascript": "/* Put everything inside the global mpl namespace */\nwindow.mpl = {};\n\n\nmpl.get_websocket_type = function() {\n    if (typeof(WebSocket) !== 'undefined') {\n        return WebSocket;\n    } else if (typeof(MozWebSocket) !== 'undefined') {\n        return MozWebSocket;\n    } else {\n        alert('Your browser does not have WebSocket support. ' +\n              'Please try Chrome, Safari or Firefox ≥ 6. ' +\n              'Firefox 4 and 5 are also supported but you ' +\n              'have to enable WebSockets in about:config.');\n    };\n}\n\nmpl.figure = function(figure_id, websocket, ondownload, parent_element) {\n    this.id = figure_id;\n\n    this.ws = websocket;\n\n    this.supports_binary = (this.ws.binaryType != undefined);\n\n    if (!this.supports_binary) {\n        var warnings = document.getElementById(\"mpl-warnings\");\n        if (warnings) {\n            warnings.style.display = 'block';\n            warnings.textContent = (\n                \"This browser does not support binary websocket messages. \" +\n                    \"Performance may be slow.\");\n        }\n    }\n\n    this.imageObj = new Image();\n\n    this.context = undefined;\n    this.message = undefined;\n    this.canvas = undefined;\n    this.rubberband_canvas = undefined;\n    this.rubberband_context = undefined;\n    this.format_dropdown = undefined;\n\n    this.image_mode = 'full';\n\n    this.root = $('<div/>');\n    this._root_extra_style(this.root)\n    this.root.attr('style', 'display: inline-block');\n\n    $(parent_element).append(this.root);\n\n    this._init_header(this);\n    this._init_canvas(this);\n    this._init_toolbar(this);\n\n    var fig = this;\n\n    this.waiting = false;\n\n    this.ws.onopen =  function () {\n            fig.send_message(\"supports_binary\", {value: fig.supports_binary});\n            fig.send_message(\"send_image_mode\", {});\n            if (mpl.ratio != 1) {\n                fig.send_message(\"set_dpi_ratio\", {'dpi_ratio': mpl.ratio});\n            }\n            fig.send_message(\"refresh\", {});\n        }\n\n    this.imageObj.onload = function() {\n            if (fig.image_mode == 'full') {\n                // Full images could contain transparency (where diff images\n                // almost always do), so we need to clear the canvas so that\n                // there is no ghosting.\n                fig.context.clearRect(0, 0, fig.canvas.width, fig.canvas.height);\n            }\n            fig.context.drawImage(fig.imageObj, 0, 0);\n        };\n\n    this.imageObj.onunload = function() {\n        fig.ws.close();\n    }\n\n    this.ws.onmessage = this._make_on_message_function(this);\n\n    this.ondownload = ondownload;\n}\n\nmpl.figure.prototype._init_header = function() {\n    var titlebar = $(\n        '<div class=\"ui-dialog-titlebar ui-widget-header ui-corner-all ' +\n        'ui-helper-clearfix\"/>');\n    var titletext = $(\n        '<div class=\"ui-dialog-title\" style=\"width: 100%; ' +\n        'text-align: center; padding: 3px;\"/>');\n    titlebar.append(titletext)\n    this.root.append(titlebar);\n    this.header = titletext[0];\n}\n\n\n\nmpl.figure.prototype._canvas_extra_style = function(canvas_div) {\n\n}\n\n\nmpl.figure.prototype._root_extra_style = function(canvas_div) {\n\n}\n\nmpl.figure.prototype._init_canvas = function() {\n    var fig = this;\n\n    var canvas_div = $('<div/>');\n\n    canvas_div.attr('style', 'position: relative; clear: both; outline: 0');\n\n    function canvas_keyboard_event(event) {\n        return fig.key_event(event, event['data']);\n    }\n\n    canvas_div.keydown('key_press', canvas_keyboard_event);\n    canvas_div.keyup('key_release', canvas_keyboard_event);\n    this.canvas_div = canvas_div\n    this._canvas_extra_style(canvas_div)\n    this.root.append(canvas_div);\n\n    var canvas = $('<canvas/>');\n    canvas.addClass('mpl-canvas');\n    canvas.attr('style', \"left: 0; top: 0; z-index: 0; outline: 0\")\n\n    this.canvas = canvas[0];\n    this.context = canvas[0].getContext(\"2d\");\n\n    var backingStore = this.context.backingStorePixelRatio ||\n\tthis.context.webkitBackingStorePixelRatio ||\n\tthis.context.mozBackingStorePixelRatio ||\n\tthis.context.msBackingStorePixelRatio ||\n\tthis.context.oBackingStorePixelRatio ||\n\tthis.context.backingStorePixelRatio || 1;\n\n    mpl.ratio = (window.devicePixelRatio || 1) / backingStore;\n\n    var rubberband = $('<canvas/>');\n    rubberband.attr('style', \"position: absolute; left: 0; top: 0; z-index: 1;\")\n\n    var pass_mouse_events = true;\n\n    canvas_div.resizable({\n        start: function(event, ui) {\n            pass_mouse_events = false;\n        },\n        resize: function(event, ui) {\n            fig.request_resize(ui.size.width, ui.size.height);\n        },\n        stop: function(event, ui) {\n            pass_mouse_events = true;\n            fig.request_resize(ui.size.width, ui.size.height);\n        },\n    });\n\n    function mouse_event_fn(event) {\n        if (pass_mouse_events)\n            return fig.mouse_event(event, event['data']);\n    }\n\n    rubberband.mousedown('button_press', mouse_event_fn);\n    rubberband.mouseup('button_release', mouse_event_fn);\n    // Throttle sequential mouse events to 1 every 20ms.\n    rubberband.mousemove('motion_notify', mouse_event_fn);\n\n    rubberband.mouseenter('figure_enter', mouse_event_fn);\n    rubberband.mouseleave('figure_leave', mouse_event_fn);\n\n    canvas_div.on(\"wheel\", function (event) {\n        event = event.originalEvent;\n        event['data'] = 'scroll'\n        if (event.deltaY < 0) {\n            event.step = 1;\n        } else {\n            event.step = -1;\n        }\n        mouse_event_fn(event);\n    });\n\n    canvas_div.append(canvas);\n    canvas_div.append(rubberband);\n\n    this.rubberband = rubberband;\n    this.rubberband_canvas = rubberband[0];\n    this.rubberband_context = rubberband[0].getContext(\"2d\");\n    this.rubberband_context.strokeStyle = \"#000000\";\n\n    this._resize_canvas = function(width, height) {\n        // Keep the size of the canvas, canvas container, and rubber band\n        // canvas in synch.\n        canvas_div.css('width', width)\n        canvas_div.css('height', height)\n\n        canvas.attr('width', width * mpl.ratio);\n        canvas.attr('height', height * mpl.ratio);\n        canvas.attr('style', 'width: ' + width + 'px; height: ' + height + 'px;');\n\n        rubberband.attr('width', width);\n        rubberband.attr('height', height);\n    }\n\n    // Set the figure to an initial 600x600px, this will subsequently be updated\n    // upon first draw.\n    this._resize_canvas(600, 600);\n\n    // Disable right mouse context menu.\n    $(this.rubberband_canvas).bind(\"contextmenu\",function(e){\n        return false;\n    });\n\n    function set_focus () {\n        canvas.focus();\n        canvas_div.focus();\n    }\n\n    window.setTimeout(set_focus, 100);\n}\n\nmpl.figure.prototype._init_toolbar = function() {\n    var fig = this;\n\n    var nav_element = $('<div/>');\n    nav_element.attr('style', 'width: 100%');\n    this.root.append(nav_element);\n\n    // Define a callback function for later on.\n    function toolbar_event(event) {\n        return fig.toolbar_button_onclick(event['data']);\n    }\n    function toolbar_mouse_event(event) {\n        return fig.toolbar_button_onmouseover(event['data']);\n    }\n\n    for(var toolbar_ind in mpl.toolbar_items) {\n        var name = mpl.toolbar_items[toolbar_ind][0];\n        var tooltip = mpl.toolbar_items[toolbar_ind][1];\n        var image = mpl.toolbar_items[toolbar_ind][2];\n        var method_name = mpl.toolbar_items[toolbar_ind][3];\n\n        if (!name) {\n            // put a spacer in here.\n            continue;\n        }\n        var button = $('<button/>');\n        button.addClass('ui-button ui-widget ui-state-default ui-corner-all ' +\n                        'ui-button-icon-only');\n        button.attr('role', 'button');\n        button.attr('aria-disabled', 'false');\n        button.click(method_name, toolbar_event);\n        button.mouseover(tooltip, toolbar_mouse_event);\n\n        var icon_img = $('<span/>');\n        icon_img.addClass('ui-button-icon-primary ui-icon');\n        icon_img.addClass(image);\n        icon_img.addClass('ui-corner-all');\n\n        var tooltip_span = $('<span/>');\n        tooltip_span.addClass('ui-button-text');\n        tooltip_span.html(tooltip);\n\n        button.append(icon_img);\n        button.append(tooltip_span);\n\n        nav_element.append(button);\n    }\n\n    var fmt_picker_span = $('<span/>');\n\n    var fmt_picker = $('<select/>');\n    fmt_picker.addClass('mpl-toolbar-option ui-widget ui-widget-content');\n    fmt_picker_span.append(fmt_picker);\n    nav_element.append(fmt_picker_span);\n    this.format_dropdown = fmt_picker[0];\n\n    for (var ind in mpl.extensions) {\n        var fmt = mpl.extensions[ind];\n        var option = $(\n            '<option/>', {selected: fmt === mpl.default_extension}).html(fmt);\n        fmt_picker.append(option);\n    }\n\n    // Add hover states to the ui-buttons\n    $( \".ui-button\" ).hover(\n        function() { $(this).addClass(\"ui-state-hover\");},\n        function() { $(this).removeClass(\"ui-state-hover\");}\n    );\n\n    var status_bar = $('<span class=\"mpl-message\"/>');\n    nav_element.append(status_bar);\n    this.message = status_bar[0];\n}\n\nmpl.figure.prototype.request_resize = function(x_pixels, y_pixels) {\n    // Request matplotlib to resize the figure. Matplotlib will then trigger a resize in the client,\n    // which will in turn request a refresh of the image.\n    this.send_message('resize', {'width': x_pixels, 'height': y_pixels});\n}\n\nmpl.figure.prototype.send_message = function(type, properties) {\n    properties['type'] = type;\n    properties['figure_id'] = this.id;\n    this.ws.send(JSON.stringify(properties));\n}\n\nmpl.figure.prototype.send_draw_message = function() {\n    if (!this.waiting) {\n        this.waiting = true;\n        this.ws.send(JSON.stringify({type: \"draw\", figure_id: this.id}));\n    }\n}\n\n\nmpl.figure.prototype.handle_save = function(fig, msg) {\n    var format_dropdown = fig.format_dropdown;\n    var format = format_dropdown.options[format_dropdown.selectedIndex].value;\n    fig.ondownload(fig, format);\n}\n\n\nmpl.figure.prototype.handle_resize = function(fig, msg) {\n    var size = msg['size'];\n    if (size[0] != fig.canvas.width || size[1] != fig.canvas.height) {\n        fig._resize_canvas(size[0], size[1]);\n        fig.send_message(\"refresh\", {});\n    };\n}\n\nmpl.figure.prototype.handle_rubberband = function(fig, msg) {\n    var x0 = msg['x0'] / mpl.ratio;\n    var y0 = (fig.canvas.height - msg['y0']) / mpl.ratio;\n    var x1 = msg['x1'] / mpl.ratio;\n    var y1 = (fig.canvas.height - msg['y1']) / mpl.ratio;\n    x0 = Math.floor(x0) + 0.5;\n    y0 = Math.floor(y0) + 0.5;\n    x1 = Math.floor(x1) + 0.5;\n    y1 = Math.floor(y1) + 0.5;\n    var min_x = Math.min(x0, x1);\n    var min_y = Math.min(y0, y1);\n    var width = Math.abs(x1 - x0);\n    var height = Math.abs(y1 - y0);\n\n    fig.rubberband_context.clearRect(\n        0, 0, fig.canvas.width / mpl.ratio, fig.canvas.height / mpl.ratio);\n\n    fig.rubberband_context.strokeRect(min_x, min_y, width, height);\n}\n\nmpl.figure.prototype.handle_figure_label = function(fig, msg) {\n    // Updates the figure title.\n    fig.header.textContent = msg['label'];\n}\n\nmpl.figure.prototype.handle_cursor = function(fig, msg) {\n    var cursor = msg['cursor'];\n    switch(cursor)\n    {\n    case 0:\n        cursor = 'pointer';\n        break;\n    case 1:\n        cursor = 'default';\n        break;\n    case 2:\n        cursor = 'crosshair';\n        break;\n    case 3:\n        cursor = 'move';\n        break;\n    }\n    fig.rubberband_canvas.style.cursor = cursor;\n}\n\nmpl.figure.prototype.handle_message = function(fig, msg) {\n    fig.message.textContent = msg['message'];\n}\n\nmpl.figure.prototype.handle_draw = function(fig, msg) {\n    // Request the server to send over a new figure.\n    fig.send_draw_message();\n}\n\nmpl.figure.prototype.handle_image_mode = function(fig, msg) {\n    fig.image_mode = msg['mode'];\n}\n\nmpl.figure.prototype.updated_canvas_event = function() {\n    // Called whenever the canvas gets updated.\n    this.send_message(\"ack\", {});\n}\n\n// A function to construct a web socket function for onmessage handling.\n// Called in the figure constructor.\nmpl.figure.prototype._make_on_message_function = function(fig) {\n    return function socket_on_message(evt) {\n        if (evt.data instanceof Blob) {\n            /* FIXME: We get \"Resource interpreted as Image but\n             * transferred with MIME type text/plain:\" errors on\n             * Chrome.  But how to set the MIME type?  It doesn't seem\n             * to be part of the websocket stream */\n            evt.data.type = \"image/png\";\n\n            /* Free the memory for the previous frames */\n            if (fig.imageObj.src) {\n                (window.URL || window.webkitURL).revokeObjectURL(\n                    fig.imageObj.src);\n            }\n\n            fig.imageObj.src = (window.URL || window.webkitURL).createObjectURL(\n                evt.data);\n            fig.updated_canvas_event();\n            fig.waiting = false;\n            return;\n        }\n        else if (typeof evt.data === 'string' && evt.data.slice(0, 21) == \"data:image/png;base64\") {\n            fig.imageObj.src = evt.data;\n            fig.updated_canvas_event();\n            fig.waiting = false;\n            return;\n        }\n\n        var msg = JSON.parse(evt.data);\n        var msg_type = msg['type'];\n\n        // Call the  \"handle_{type}\" callback, which takes\n        // the figure and JSON message as its only arguments.\n        try {\n            var callback = fig[\"handle_\" + msg_type];\n        } catch (e) {\n            console.log(\"No handler for the '\" + msg_type + \"' message type: \", msg);\n            return;\n        }\n\n        if (callback) {\n            try {\n                // console.log(\"Handling '\" + msg_type + \"' message: \", msg);\n                callback(fig, msg);\n            } catch (e) {\n                console.log(\"Exception inside the 'handler_\" + msg_type + \"' callback:\", e, e.stack, msg);\n            }\n        }\n    };\n}\n\n// from http://stackoverflow.com/questions/1114465/getting-mouse-location-in-canvas\nmpl.findpos = function(e) {\n    //this section is from http://www.quirksmode.org/js/events_properties.html\n    var targ;\n    if (!e)\n        e = window.event;\n    if (e.target)\n        targ = e.target;\n    else if (e.srcElement)\n        targ = e.srcElement;\n    if (targ.nodeType == 3) // defeat Safari bug\n        targ = targ.parentNode;\n\n    // jQuery normalizes the pageX and pageY\n    // pageX,Y are the mouse positions relative to the document\n    // offset() returns the position of the element relative to the document\n    var x = e.pageX - $(targ).offset().left;\n    var y = e.pageY - $(targ).offset().top;\n\n    return {\"x\": x, \"y\": y};\n};\n\n/*\n * return a copy of an object with only non-object keys\n * we need this to avoid circular references\n * http://stackoverflow.com/a/24161582/3208463\n */\nfunction simpleKeys (original) {\n  return Object.keys(original).reduce(function (obj, key) {\n    if (typeof original[key] !== 'object')\n        obj[key] = original[key]\n    return obj;\n  }, {});\n}\n\nmpl.figure.prototype.mouse_event = function(event, name) {\n    var canvas_pos = mpl.findpos(event)\n\n    if (name === 'button_press')\n    {\n        this.canvas.focus();\n        this.canvas_div.focus();\n    }\n\n    var x = canvas_pos.x * mpl.ratio;\n    var y = canvas_pos.y * mpl.ratio;\n\n    this.send_message(name, {x: x, y: y, button: event.button,\n                             step: event.step,\n                             guiEvent: simpleKeys(event)});\n\n    /* This prevents the web browser from automatically changing to\n     * the text insertion cursor when the button is pressed.  We want\n     * to control all of the cursor setting manually through the\n     * 'cursor' event from matplotlib */\n    event.preventDefault();\n    return false;\n}\n\nmpl.figure.prototype._key_event_extra = function(event, name) {\n    // Handle any extra behaviour associated with a key event\n}\n\nmpl.figure.prototype.key_event = function(event, name) {\n\n    // Prevent repeat events\n    if (name == 'key_press')\n    {\n        if (event.which === this._key)\n            return;\n        else\n            this._key = event.which;\n    }\n    if (name == 'key_release')\n        this._key = null;\n\n    var value = '';\n    if (event.ctrlKey && event.which != 17)\n        value += \"ctrl+\";\n    if (event.altKey && event.which != 18)\n        value += \"alt+\";\n    if (event.shiftKey && event.which != 16)\n        value += \"shift+\";\n\n    value += 'k';\n    value += event.which.toString();\n\n    this._key_event_extra(event, name);\n\n    this.send_message(name, {key: value,\n                             guiEvent: simpleKeys(event)});\n    return false;\n}\n\nmpl.figure.prototype.toolbar_button_onclick = function(name) {\n    if (name == 'download') {\n        this.handle_save(this, null);\n    } else {\n        this.send_message(\"toolbar_button\", {name: name});\n    }\n};\n\nmpl.figure.prototype.toolbar_button_onmouseover = function(tooltip) {\n    this.message.textContent = tooltip;\n};\nmpl.toolbar_items = [[\"Home\", \"Reset original view\", \"fa fa-home icon-home\", \"home\"], [\"Back\", \"Back to previous view\", \"fa fa-arrow-left icon-arrow-left\", \"back\"], [\"Forward\", \"Forward to next view\", \"fa fa-arrow-right icon-arrow-right\", \"forward\"], [\"\", \"\", \"\", \"\"], [\"Pan\", \"Pan axes with left mouse, zoom with right\", \"fa fa-arrows icon-move\", \"pan\"], [\"Zoom\", \"Zoom to rectangle\", \"fa fa-square-o icon-check-empty\", \"zoom\"], [\"\", \"\", \"\", \"\"], [\"Download\", \"Download plot\", \"fa fa-floppy-o icon-save\", \"download\"]];\n\nmpl.extensions = [\"eps\", \"jpeg\", \"pdf\", \"png\", \"ps\", \"raw\", \"svg\", \"tif\"];\n\nmpl.default_extension = \"png\";var comm_websocket_adapter = function(comm) {\n    // Create a \"websocket\"-like object which calls the given IPython comm\n    // object with the appropriate methods. Currently this is a non binary\n    // socket, so there is still some room for performance tuning.\n    var ws = {};\n\n    ws.close = function() {\n        comm.close()\n    };\n    ws.send = function(m) {\n        //console.log('sending', m);\n        comm.send(m);\n    };\n    // Register the callback with on_msg.\n    comm.on_msg(function(msg) {\n        //console.log('receiving', msg['content']['data'], msg);\n        // Pass the mpl event to the overridden (by mpl) onmessage function.\n        ws.onmessage(msg['content']['data'])\n    });\n    return ws;\n}\n\nmpl.mpl_figure_comm = function(comm, msg) {\n    // This is the function which gets called when the mpl process\n    // starts-up an IPython Comm through the \"matplotlib\" channel.\n\n    var id = msg.content.data.id;\n    // Get hold of the div created by the display call when the Comm\n    // socket was opened in Python.\n    var element = $(\"#\" + id);\n    var ws_proxy = comm_websocket_adapter(comm)\n\n    function ondownload(figure, format) {\n        window.open(figure.imageObj.src);\n    }\n\n    var fig = new mpl.figure(id, ws_proxy,\n                           ondownload,\n                           element.get(0));\n\n    // Call onopen now - mpl needs it, as it is assuming we've passed it a real\n    // web socket which is closed, not our websocket->open comm proxy.\n    ws_proxy.onopen();\n\n    fig.parent_element = element.get(0);\n    fig.cell_info = mpl.find_output_cell(\"<div id='\" + id + \"'></div>\");\n    if (!fig.cell_info) {\n        console.error(\"Failed to find cell for figure\", id, fig);\n        return;\n    }\n\n    var output_index = fig.cell_info[2]\n    var cell = fig.cell_info[0];\n\n};\n\nmpl.figure.prototype.handle_close = function(fig, msg) {\n    var width = fig.canvas.width/mpl.ratio\n    fig.root.unbind('remove')\n\n    // Update the output cell to use the data from the current canvas.\n    fig.push_to_output();\n    var dataURL = fig.canvas.toDataURL();\n    // Re-enable the keyboard manager in IPython - without this line, in FF,\n    // the notebook keyboard shortcuts fail.\n    IPython.keyboard_manager.enable()\n    $(fig.parent_element).html('<img src=\"' + dataURL + '\" width=\"' + width + '\">');\n    fig.close_ws(fig, msg);\n}\n\nmpl.figure.prototype.close_ws = function(fig, msg){\n    fig.send_message('closing', msg);\n    // fig.ws.close()\n}\n\nmpl.figure.prototype.push_to_output = function(remove_interactive) {\n    // Turn the data on the canvas into data in the output cell.\n    var width = this.canvas.width/mpl.ratio\n    var dataURL = this.canvas.toDataURL();\n    this.cell_info[1]['text/html'] = '<img src=\"' + dataURL + '\" width=\"' + width + '\">';\n}\n\nmpl.figure.prototype.updated_canvas_event = function() {\n    // Tell IPython that the notebook contents must change.\n    IPython.notebook.set_dirty(true);\n    this.send_message(\"ack\", {});\n    var fig = this;\n    // Wait a second, then push the new image to the DOM so\n    // that it is saved nicely (might be nice to debounce this).\n    setTimeout(function () { fig.push_to_output() }, 1000);\n}\n\nmpl.figure.prototype._init_toolbar = function() {\n    var fig = this;\n\n    var nav_element = $('<div/>');\n    nav_element.attr('style', 'width: 100%');\n    this.root.append(nav_element);\n\n    // Define a callback function for later on.\n    function toolbar_event(event) {\n        return fig.toolbar_button_onclick(event['data']);\n    }\n    function toolbar_mouse_event(event) {\n        return fig.toolbar_button_onmouseover(event['data']);\n    }\n\n    for(var toolbar_ind in mpl.toolbar_items){\n        var name = mpl.toolbar_items[toolbar_ind][0];\n        var tooltip = mpl.toolbar_items[toolbar_ind][1];\n        var image = mpl.toolbar_items[toolbar_ind][2];\n        var method_name = mpl.toolbar_items[toolbar_ind][3];\n\n        if (!name) { continue; };\n\n        var button = $('<button class=\"btn btn-default\" href=\"#\" title=\"' + name + '\"><i class=\"fa ' + image + ' fa-lg\"></i></button>');\n        button.click(method_name, toolbar_event);\n        button.mouseover(tooltip, toolbar_mouse_event);\n        nav_element.append(button);\n    }\n\n    // Add the status bar.\n    var status_bar = $('<span class=\"mpl-message\" style=\"text-align:right; float: right;\"/>');\n    nav_element.append(status_bar);\n    this.message = status_bar[0];\n\n    // Add the close button to the window.\n    var buttongrp = $('<div class=\"btn-group inline pull-right\"></div>');\n    var button = $('<button class=\"btn btn-mini btn-primary\" href=\"#\" title=\"Stop Interaction\"><i class=\"fa fa-power-off icon-remove icon-large\"></i></button>');\n    button.click(function (evt) { fig.handle_close(fig, {}); } );\n    button.mouseover('Stop Interaction', toolbar_mouse_event);\n    buttongrp.append(button);\n    var titlebar = this.root.find($('.ui-dialog-titlebar'));\n    titlebar.prepend(buttongrp);\n}\n\nmpl.figure.prototype._root_extra_style = function(el){\n    var fig = this\n    el.on(\"remove\", function(){\n\tfig.close_ws(fig, {});\n    });\n}\n\nmpl.figure.prototype._canvas_extra_style = function(el){\n    // this is important to make the div 'focusable\n    el.attr('tabindex', 0)\n    // reach out to IPython and tell the keyboard manager to turn it's self\n    // off when our div gets focus\n\n    // location in version 3\n    if (IPython.notebook.keyboard_manager) {\n        IPython.notebook.keyboard_manager.register_events(el);\n    }\n    else {\n        // location in version 2\n        IPython.keyboard_manager.register_events(el);\n    }\n\n}\n\nmpl.figure.prototype._key_event_extra = function(event, name) {\n    var manager = IPython.notebook.keyboard_manager;\n    if (!manager)\n        manager = IPython.keyboard_manager;\n\n    // Check for shift+enter\n    if (event.shiftKey && event.which == 13) {\n        this.canvas_div.blur();\n        // select the cell after this one\n        var index = IPython.notebook.find_cell_index(this.cell_info[0]);\n        IPython.notebook.select(index + 1);\n    }\n}\n\nmpl.figure.prototype.handle_save = function(fig, msg) {\n    fig.ondownload(fig, null);\n}\n\n\nmpl.find_output_cell = function(html_output) {\n    // Return the cell and output element which can be found *uniquely* in the notebook.\n    // Note - this is a bit hacky, but it is done because the \"notebook_saving.Notebook\"\n    // IPython event is triggered only after the cells have been serialised, which for\n    // our purposes (turning an active figure into a static one), is too late.\n    var cells = IPython.notebook.get_cells();\n    var ncells = cells.length;\n    for (var i=0; i<ncells; i++) {\n        var cell = cells[i];\n        if (cell.cell_type === 'code'){\n            for (var j=0; j<cell.output_area.outputs.length; j++) {\n                var data = cell.output_area.outputs[j];\n                if (data.data) {\n                    // IPython >= 3 moved mimebundle to data attribute of output\n                    data = data.data;\n                }\n                if (data['text/html'] == html_output) {\n                    return [cell, data, j];\n                }\n            }\n        }\n    }\n}\n\n// Register the function which deals with the matplotlib target/channel.\n// The kernel may be null if the page has been refreshed.\nif (IPython.notebook.kernel != null) {\n    IPython.notebook.kernel.comm_manager.register_target('matplotlib', mpl.mpl_figure_comm);\n}\n",
          "text/plain": "<IPython.core.display.Javascript object>"
         },
         "metadata": {},
         "output_type": "display_data"
        },
        {
         "data": {
          "text/html": "<div id='0c5d5243-e08c-4c49-a928-d33025ca9b0c'></div>",
          "text/plain": "<IPython.core.display.HTML object>"
         },
         "metadata": {},
         "output_type": "display_data"
        },
        {
         "name": "stdout",
         "output_type": "stream",
         "text": "\n  T (K)   X(Mg)sol  X(Fe)sol  X(Mg)liq  X(Fe)liq\n 1530.59    0.00      1.00      0.00      1.00  \n 1578.59    0.22      0.78      0.03      0.97  \n 1626.59    0.39      0.61      0.06      0.94  \n 1674.60    0.52      0.48      0.09      0.91  \n 1722.60    0.62      0.38      0.13      0.87  \n 1770.60    0.70      0.30      0.18      0.82  \n 1818.60    0.76      0.24      0.23      0.77  \n 1866.60    0.82      0.18      0.28      0.72  \n 1914.60    0.86      0.14      0.35      0.65  \n 1962.60    0.89      0.11      0.43      0.57  \n 2010.61    0.92      0.08      0.51      0.49  \n 2058.61    0.95      0.05      0.61      0.39  \n 2106.61    0.97      0.03      0.72      0.28  \n 2154.61    0.98      0.02      0.85      0.15  \n 2202.61    1.00      0.00      1.00      0.00  \n"
        }
       ]
      }
     },
     "28b30ed2b80b4c0e86b6101a4c5918be": {
      "model_module": "@jupyter-widgets/base",
      "model_module_version": "1.2.0",
      "model_name": "LayoutModel",
      "state": {}
     },
     "292bab0a665b4423b97160973b5d3b00": {
      "model_module": "@jupyter-widgets/controls",
      "model_module_version": "1.5.0",
      "model_name": "SliderStyleModel",
      "state": {
       "description_width": ""
      }
     },
     "295170905327481aae949868baeaeab4": {
      "model_module": "@jupyter-widgets/controls",
      "model_module_version": "1.5.0",
      "model_name": "IntSliderModel",
      "state": {
       "description": "nt",
       "layout": "IPY_MODEL_ed3d3c9e9c7544bd9602752c3f63776f",
       "max": 30,
       "min": 10,
       "step": 5,
       "style": "IPY_MODEL_129cd8bd5e444723bb0b9370acb6bf99",
       "value": 10
      }
     },
     "297c49b16ba945e2be05909759f8330f": {
      "model_module": "@jupyter-widgets/base",
      "model_module_version": "1.2.0",
      "model_name": "LayoutModel",
      "state": {}
     },
     "2b4e20602f3c48bfa12f303b9735e29a": {
      "model_module": "@jupyter-widgets/base",
      "model_module_version": "1.2.0",
      "model_name": "LayoutModel",
      "state": {}
     },
     "2b591bbae93841e59e2615b739d27665": {
      "model_module": "@jupyter-widgets/controls",
      "model_module_version": "1.5.0",
      "model_name": "ButtonModel",
      "state": {
       "description": "Run Interact",
       "layout": "IPY_MODEL_018008b5dfb243a7bbbea6ea34bac9f3",
       "style": "IPY_MODEL_75c0c52b4ca0417ca52d5d2d935de60d"
      }
     },
     "2ce92d56300941439dd2567515df4788": {
      "model_module": "@jupyter-widgets/controls",
      "model_module_version": "1.5.0",
      "model_name": "SliderStyleModel",
      "state": {
       "description_width": ""
      }
     },
     "2d8953a342d84ba9afb0bc34f3caa56f": {
      "model_module": "@jupyter-widgets/controls",
      "model_module_version": "1.5.0",
      "model_name": "ButtonModel",
      "state": {
       "description": "Run Interact",
       "layout": "IPY_MODEL_a276cf902658420aba2b2711903d60d9",
       "style": "IPY_MODEL_ee4f26e6bed8402cace277eea362147f"
      }
     },
     "2dd6495c7800424ba61fbc384a47468b": {
      "model_module": "@jupyter-widgets/base",
      "model_module_version": "1.2.0",
      "model_name": "LayoutModel",
      "state": {}
     },
     "30620d1985b2494fa3b5987cb489dbe1": {
      "model_module": "@jupyter-widgets/base",
      "model_module_version": "1.2.0",
      "model_name": "LayoutModel",
      "state": {}
     },
     "30aa811c59b64a88a3f889f4d1d359b7": {
      "model_module": "@jupyter-widgets/base",
      "model_module_version": "1.2.0",
      "model_name": "LayoutModel",
      "state": {}
     },
     "32794bd7e48f4d9780d1a6a19b1c3a9e": {
      "model_module": "@jupyter-widgets/controls",
      "model_module_version": "1.5.0",
      "model_name": "SliderStyleModel",
      "state": {
       "description_width": ""
      }
     },
     "32ccfc6990e440c6ba9941572d5005b3": {
      "model_module": "@jupyter-widgets/base",
      "model_module_version": "1.2.0",
      "model_name": "LayoutModel",
      "state": {}
     },
     "32fc501502c048d1bce52879cc54d60e": {
      "model_module": "@jupyter-widgets/controls",
      "model_module_version": "1.5.0",
      "model_name": "ButtonModel",
      "state": {
       "description": "Run Interact",
       "layout": "IPY_MODEL_37642e9e2a6a4707a5cf29c207b1dc51",
       "style": "IPY_MODEL_ac0f5ff65ea241a48a48a5dc97391ca1"
      }
     },
     "34e16eb4d4194893b5d30291e96049d6": {
      "model_module": "@jupyter-widgets/controls",
      "model_module_version": "1.5.0",
      "model_name": "FloatSliderModel",
      "state": {
       "description": "ip",
       "layout": "IPY_MODEL_57eabbf5f5cd449d81fa3be6c22d8708",
       "max": 10,
       "step": 0.2,
       "style": "IPY_MODEL_04724f1de7344d638d13e351fce42b51"
      }
     },
     "362a63fb41b747cf8451faa4a81fc55f": {
      "model_module": "@jupyter-widgets/base",
      "model_module_version": "1.2.0",
      "model_name": "LayoutModel",
      "state": {}
     },
     "36f850887ecb43a2bbec7d5fccc29251": {
      "model_module": "@jupyter-widgets/controls",
      "model_module_version": "1.5.0",
      "model_name": "ButtonModel",
      "state": {
       "description": "Run Interact",
       "layout": "IPY_MODEL_1c2f5567b130458f9b849560aec425a0",
       "style": "IPY_MODEL_0f2595392064400ea86f05a354c018d8"
      }
     },
     "37642e9e2a6a4707a5cf29c207b1dc51": {
      "model_module": "@jupyter-widgets/base",
      "model_module_version": "1.2.0",
      "model_name": "LayoutModel",
      "state": {}
     },
     "37ca1394b1ee411e9ed5aca902313112": {
      "model_module": "@jupyter-widgets/base",
      "model_module_version": "1.2.0",
      "model_name": "LayoutModel",
      "state": {}
     },
     "37f039f0623c46b7a420a4625a02c1d7": {
      "model_module": "@jupyter-widgets/controls",
      "model_module_version": "1.5.0",
      "model_name": "SliderStyleModel",
      "state": {
       "description_width": ""
      }
     },
     "3855fa75770742a1a31f8344e887eb23": {
      "model_module": "@jupyter-widgets/base",
      "model_module_version": "1.2.0",
      "model_name": "LayoutModel",
      "state": {}
     },
     "39583a7f0532433eb4076bc63a389c97": {
      "model_module": "@jupyter-widgets/base",
      "model_module_version": "1.2.0",
      "model_name": "LayoutModel",
      "state": {}
     },
     "3a833810c0f04083bfd0708e4420bdd7": {
      "model_module": "@jupyter-widgets/output",
      "model_module_version": "1.0.0",
      "model_name": "OutputModel",
      "state": {
       "layout": "IPY_MODEL_32ccfc6990e440c6ba9941572d5005b3",
       "outputs": [
        {
         "name": "stdout",
         "output_type": "stream",
         "text": "Temperatura di fusione della forsterite: 2161.01 K\nTemperatura di fusione della fayalite: 1480.31 K\n"
        },
        {
         "data": {
          "application/javascript": "/* Put everything inside the global mpl namespace */\nwindow.mpl = {};\n\n\nmpl.get_websocket_type = function() {\n    if (typeof(WebSocket) !== 'undefined') {\n        return WebSocket;\n    } else if (typeof(MozWebSocket) !== 'undefined') {\n        return MozWebSocket;\n    } else {\n        alert('Your browser does not have WebSocket support. ' +\n              'Please try Chrome, Safari or Firefox ≥ 6. ' +\n              'Firefox 4 and 5 are also supported but you ' +\n              'have to enable WebSockets in about:config.');\n    };\n}\n\nmpl.figure = function(figure_id, websocket, ondownload, parent_element) {\n    this.id = figure_id;\n\n    this.ws = websocket;\n\n    this.supports_binary = (this.ws.binaryType != undefined);\n\n    if (!this.supports_binary) {\n        var warnings = document.getElementById(\"mpl-warnings\");\n        if (warnings) {\n            warnings.style.display = 'block';\n            warnings.textContent = (\n                \"This browser does not support binary websocket messages. \" +\n                    \"Performance may be slow.\");\n        }\n    }\n\n    this.imageObj = new Image();\n\n    this.context = undefined;\n    this.message = undefined;\n    this.canvas = undefined;\n    this.rubberband_canvas = undefined;\n    this.rubberband_context = undefined;\n    this.format_dropdown = undefined;\n\n    this.image_mode = 'full';\n\n    this.root = $('<div/>');\n    this._root_extra_style(this.root)\n    this.root.attr('style', 'display: inline-block');\n\n    $(parent_element).append(this.root);\n\n    this._init_header(this);\n    this._init_canvas(this);\n    this._init_toolbar(this);\n\n    var fig = this;\n\n    this.waiting = false;\n\n    this.ws.onopen =  function () {\n            fig.send_message(\"supports_binary\", {value: fig.supports_binary});\n            fig.send_message(\"send_image_mode\", {});\n            if (mpl.ratio != 1) {\n                fig.send_message(\"set_dpi_ratio\", {'dpi_ratio': mpl.ratio});\n            }\n            fig.send_message(\"refresh\", {});\n        }\n\n    this.imageObj.onload = function() {\n            if (fig.image_mode == 'full') {\n                // Full images could contain transparency (where diff images\n                // almost always do), so we need to clear the canvas so that\n                // there is no ghosting.\n                fig.context.clearRect(0, 0, fig.canvas.width, fig.canvas.height);\n            }\n            fig.context.drawImage(fig.imageObj, 0, 0);\n        };\n\n    this.imageObj.onunload = function() {\n        fig.ws.close();\n    }\n\n    this.ws.onmessage = this._make_on_message_function(this);\n\n    this.ondownload = ondownload;\n}\n\nmpl.figure.prototype._init_header = function() {\n    var titlebar = $(\n        '<div class=\"ui-dialog-titlebar ui-widget-header ui-corner-all ' +\n        'ui-helper-clearfix\"/>');\n    var titletext = $(\n        '<div class=\"ui-dialog-title\" style=\"width: 100%; ' +\n        'text-align: center; padding: 3px;\"/>');\n    titlebar.append(titletext)\n    this.root.append(titlebar);\n    this.header = titletext[0];\n}\n\n\n\nmpl.figure.prototype._canvas_extra_style = function(canvas_div) {\n\n}\n\n\nmpl.figure.prototype._root_extra_style = function(canvas_div) {\n\n}\n\nmpl.figure.prototype._init_canvas = function() {\n    var fig = this;\n\n    var canvas_div = $('<div/>');\n\n    canvas_div.attr('style', 'position: relative; clear: both; outline: 0');\n\n    function canvas_keyboard_event(event) {\n        return fig.key_event(event, event['data']);\n    }\n\n    canvas_div.keydown('key_press', canvas_keyboard_event);\n    canvas_div.keyup('key_release', canvas_keyboard_event);\n    this.canvas_div = canvas_div\n    this._canvas_extra_style(canvas_div)\n    this.root.append(canvas_div);\n\n    var canvas = $('<canvas/>');\n    canvas.addClass('mpl-canvas');\n    canvas.attr('style', \"left: 0; top: 0; z-index: 0; outline: 0\")\n\n    this.canvas = canvas[0];\n    this.context = canvas[0].getContext(\"2d\");\n\n    var backingStore = this.context.backingStorePixelRatio ||\n\tthis.context.webkitBackingStorePixelRatio ||\n\tthis.context.mozBackingStorePixelRatio ||\n\tthis.context.msBackingStorePixelRatio ||\n\tthis.context.oBackingStorePixelRatio ||\n\tthis.context.backingStorePixelRatio || 1;\n\n    mpl.ratio = (window.devicePixelRatio || 1) / backingStore;\n\n    var rubberband = $('<canvas/>');\n    rubberband.attr('style', \"position: absolute; left: 0; top: 0; z-index: 1;\")\n\n    var pass_mouse_events = true;\n\n    canvas_div.resizable({\n        start: function(event, ui) {\n            pass_mouse_events = false;\n        },\n        resize: function(event, ui) {\n            fig.request_resize(ui.size.width, ui.size.height);\n        },\n        stop: function(event, ui) {\n            pass_mouse_events = true;\n            fig.request_resize(ui.size.width, ui.size.height);\n        },\n    });\n\n    function mouse_event_fn(event) {\n        if (pass_mouse_events)\n            return fig.mouse_event(event, event['data']);\n    }\n\n    rubberband.mousedown('button_press', mouse_event_fn);\n    rubberband.mouseup('button_release', mouse_event_fn);\n    // Throttle sequential mouse events to 1 every 20ms.\n    rubberband.mousemove('motion_notify', mouse_event_fn);\n\n    rubberband.mouseenter('figure_enter', mouse_event_fn);\n    rubberband.mouseleave('figure_leave', mouse_event_fn);\n\n    canvas_div.on(\"wheel\", function (event) {\n        event = event.originalEvent;\n        event['data'] = 'scroll'\n        if (event.deltaY < 0) {\n            event.step = 1;\n        } else {\n            event.step = -1;\n        }\n        mouse_event_fn(event);\n    });\n\n    canvas_div.append(canvas);\n    canvas_div.append(rubberband);\n\n    this.rubberband = rubberband;\n    this.rubberband_canvas = rubberband[0];\n    this.rubberband_context = rubberband[0].getContext(\"2d\");\n    this.rubberband_context.strokeStyle = \"#000000\";\n\n    this._resize_canvas = function(width, height) {\n        // Keep the size of the canvas, canvas container, and rubber band\n        // canvas in synch.\n        canvas_div.css('width', width)\n        canvas_div.css('height', height)\n\n        canvas.attr('width', width * mpl.ratio);\n        canvas.attr('height', height * mpl.ratio);\n        canvas.attr('style', 'width: ' + width + 'px; height: ' + height + 'px;');\n\n        rubberband.attr('width', width);\n        rubberband.attr('height', height);\n    }\n\n    // Set the figure to an initial 600x600px, this will subsequently be updated\n    // upon first draw.\n    this._resize_canvas(600, 600);\n\n    // Disable right mouse context menu.\n    $(this.rubberband_canvas).bind(\"contextmenu\",function(e){\n        return false;\n    });\n\n    function set_focus () {\n        canvas.focus();\n        canvas_div.focus();\n    }\n\n    window.setTimeout(set_focus, 100);\n}\n\nmpl.figure.prototype._init_toolbar = function() {\n    var fig = this;\n\n    var nav_element = $('<div/>');\n    nav_element.attr('style', 'width: 100%');\n    this.root.append(nav_element);\n\n    // Define a callback function for later on.\n    function toolbar_event(event) {\n        return fig.toolbar_button_onclick(event['data']);\n    }\n    function toolbar_mouse_event(event) {\n        return fig.toolbar_button_onmouseover(event['data']);\n    }\n\n    for(var toolbar_ind in mpl.toolbar_items) {\n        var name = mpl.toolbar_items[toolbar_ind][0];\n        var tooltip = mpl.toolbar_items[toolbar_ind][1];\n        var image = mpl.toolbar_items[toolbar_ind][2];\n        var method_name = mpl.toolbar_items[toolbar_ind][3];\n\n        if (!name) {\n            // put a spacer in here.\n            continue;\n        }\n        var button = $('<button/>');\n        button.addClass('ui-button ui-widget ui-state-default ui-corner-all ' +\n                        'ui-button-icon-only');\n        button.attr('role', 'button');\n        button.attr('aria-disabled', 'false');\n        button.click(method_name, toolbar_event);\n        button.mouseover(tooltip, toolbar_mouse_event);\n\n        var icon_img = $('<span/>');\n        icon_img.addClass('ui-button-icon-primary ui-icon');\n        icon_img.addClass(image);\n        icon_img.addClass('ui-corner-all');\n\n        var tooltip_span = $('<span/>');\n        tooltip_span.addClass('ui-button-text');\n        tooltip_span.html(tooltip);\n\n        button.append(icon_img);\n        button.append(tooltip_span);\n\n        nav_element.append(button);\n    }\n\n    var fmt_picker_span = $('<span/>');\n\n    var fmt_picker = $('<select/>');\n    fmt_picker.addClass('mpl-toolbar-option ui-widget ui-widget-content');\n    fmt_picker_span.append(fmt_picker);\n    nav_element.append(fmt_picker_span);\n    this.format_dropdown = fmt_picker[0];\n\n    for (var ind in mpl.extensions) {\n        var fmt = mpl.extensions[ind];\n        var option = $(\n            '<option/>', {selected: fmt === mpl.default_extension}).html(fmt);\n        fmt_picker.append(option);\n    }\n\n    // Add hover states to the ui-buttons\n    $( \".ui-button\" ).hover(\n        function() { $(this).addClass(\"ui-state-hover\");},\n        function() { $(this).removeClass(\"ui-state-hover\");}\n    );\n\n    var status_bar = $('<span class=\"mpl-message\"/>');\n    nav_element.append(status_bar);\n    this.message = status_bar[0];\n}\n\nmpl.figure.prototype.request_resize = function(x_pixels, y_pixels) {\n    // Request matplotlib to resize the figure. Matplotlib will then trigger a resize in the client,\n    // which will in turn request a refresh of the image.\n    this.send_message('resize', {'width': x_pixels, 'height': y_pixels});\n}\n\nmpl.figure.prototype.send_message = function(type, properties) {\n    properties['type'] = type;\n    properties['figure_id'] = this.id;\n    this.ws.send(JSON.stringify(properties));\n}\n\nmpl.figure.prototype.send_draw_message = function() {\n    if (!this.waiting) {\n        this.waiting = true;\n        this.ws.send(JSON.stringify({type: \"draw\", figure_id: this.id}));\n    }\n}\n\n\nmpl.figure.prototype.handle_save = function(fig, msg) {\n    var format_dropdown = fig.format_dropdown;\n    var format = format_dropdown.options[format_dropdown.selectedIndex].value;\n    fig.ondownload(fig, format);\n}\n\n\nmpl.figure.prototype.handle_resize = function(fig, msg) {\n    var size = msg['size'];\n    if (size[0] != fig.canvas.width || size[1] != fig.canvas.height) {\n        fig._resize_canvas(size[0], size[1]);\n        fig.send_message(\"refresh\", {});\n    };\n}\n\nmpl.figure.prototype.handle_rubberband = function(fig, msg) {\n    var x0 = msg['x0'] / mpl.ratio;\n    var y0 = (fig.canvas.height - msg['y0']) / mpl.ratio;\n    var x1 = msg['x1'] / mpl.ratio;\n    var y1 = (fig.canvas.height - msg['y1']) / mpl.ratio;\n    x0 = Math.floor(x0) + 0.5;\n    y0 = Math.floor(y0) + 0.5;\n    x1 = Math.floor(x1) + 0.5;\n    y1 = Math.floor(y1) + 0.5;\n    var min_x = Math.min(x0, x1);\n    var min_y = Math.min(y0, y1);\n    var width = Math.abs(x1 - x0);\n    var height = Math.abs(y1 - y0);\n\n    fig.rubberband_context.clearRect(\n        0, 0, fig.canvas.width / mpl.ratio, fig.canvas.height / mpl.ratio);\n\n    fig.rubberband_context.strokeRect(min_x, min_y, width, height);\n}\n\nmpl.figure.prototype.handle_figure_label = function(fig, msg) {\n    // Updates the figure title.\n    fig.header.textContent = msg['label'];\n}\n\nmpl.figure.prototype.handle_cursor = function(fig, msg) {\n    var cursor = msg['cursor'];\n    switch(cursor)\n    {\n    case 0:\n        cursor = 'pointer';\n        break;\n    case 1:\n        cursor = 'default';\n        break;\n    case 2:\n        cursor = 'crosshair';\n        break;\n    case 3:\n        cursor = 'move';\n        break;\n    }\n    fig.rubberband_canvas.style.cursor = cursor;\n}\n\nmpl.figure.prototype.handle_message = function(fig, msg) {\n    fig.message.textContent = msg['message'];\n}\n\nmpl.figure.prototype.handle_draw = function(fig, msg) {\n    // Request the server to send over a new figure.\n    fig.send_draw_message();\n}\n\nmpl.figure.prototype.handle_image_mode = function(fig, msg) {\n    fig.image_mode = msg['mode'];\n}\n\nmpl.figure.prototype.updated_canvas_event = function() {\n    // Called whenever the canvas gets updated.\n    this.send_message(\"ack\", {});\n}\n\n// A function to construct a web socket function for onmessage handling.\n// Called in the figure constructor.\nmpl.figure.prototype._make_on_message_function = function(fig) {\n    return function socket_on_message(evt) {\n        if (evt.data instanceof Blob) {\n            /* FIXME: We get \"Resource interpreted as Image but\n             * transferred with MIME type text/plain:\" errors on\n             * Chrome.  But how to set the MIME type?  It doesn't seem\n             * to be part of the websocket stream */\n            evt.data.type = \"image/png\";\n\n            /* Free the memory for the previous frames */\n            if (fig.imageObj.src) {\n                (window.URL || window.webkitURL).revokeObjectURL(\n                    fig.imageObj.src);\n            }\n\n            fig.imageObj.src = (window.URL || window.webkitURL).createObjectURL(\n                evt.data);\n            fig.updated_canvas_event();\n            fig.waiting = false;\n            return;\n        }\n        else if (typeof evt.data === 'string' && evt.data.slice(0, 21) == \"data:image/png;base64\") {\n            fig.imageObj.src = evt.data;\n            fig.updated_canvas_event();\n            fig.waiting = false;\n            return;\n        }\n\n        var msg = JSON.parse(evt.data);\n        var msg_type = msg['type'];\n\n        // Call the  \"handle_{type}\" callback, which takes\n        // the figure and JSON message as its only arguments.\n        try {\n            var callback = fig[\"handle_\" + msg_type];\n        } catch (e) {\n            console.log(\"No handler for the '\" + msg_type + \"' message type: \", msg);\n            return;\n        }\n\n        if (callback) {\n            try {\n                // console.log(\"Handling '\" + msg_type + \"' message: \", msg);\n                callback(fig, msg);\n            } catch (e) {\n                console.log(\"Exception inside the 'handler_\" + msg_type + \"' callback:\", e, e.stack, msg);\n            }\n        }\n    };\n}\n\n// from http://stackoverflow.com/questions/1114465/getting-mouse-location-in-canvas\nmpl.findpos = function(e) {\n    //this section is from http://www.quirksmode.org/js/events_properties.html\n    var targ;\n    if (!e)\n        e = window.event;\n    if (e.target)\n        targ = e.target;\n    else if (e.srcElement)\n        targ = e.srcElement;\n    if (targ.nodeType == 3) // defeat Safari bug\n        targ = targ.parentNode;\n\n    // jQuery normalizes the pageX and pageY\n    // pageX,Y are the mouse positions relative to the document\n    // offset() returns the position of the element relative to the document\n    var x = e.pageX - $(targ).offset().left;\n    var y = e.pageY - $(targ).offset().top;\n\n    return {\"x\": x, \"y\": y};\n};\n\n/*\n * return a copy of an object with only non-object keys\n * we need this to avoid circular references\n * http://stackoverflow.com/a/24161582/3208463\n */\nfunction simpleKeys (original) {\n  return Object.keys(original).reduce(function (obj, key) {\n    if (typeof original[key] !== 'object')\n        obj[key] = original[key]\n    return obj;\n  }, {});\n}\n\nmpl.figure.prototype.mouse_event = function(event, name) {\n    var canvas_pos = mpl.findpos(event)\n\n    if (name === 'button_press')\n    {\n        this.canvas.focus();\n        this.canvas_div.focus();\n    }\n\n    var x = canvas_pos.x * mpl.ratio;\n    var y = canvas_pos.y * mpl.ratio;\n\n    this.send_message(name, {x: x, y: y, button: event.button,\n                             step: event.step,\n                             guiEvent: simpleKeys(event)});\n\n    /* This prevents the web browser from automatically changing to\n     * the text insertion cursor when the button is pressed.  We want\n     * to control all of the cursor setting manually through the\n     * 'cursor' event from matplotlib */\n    event.preventDefault();\n    return false;\n}\n\nmpl.figure.prototype._key_event_extra = function(event, name) {\n    // Handle any extra behaviour associated with a key event\n}\n\nmpl.figure.prototype.key_event = function(event, name) {\n\n    // Prevent repeat events\n    if (name == 'key_press')\n    {\n        if (event.which === this._key)\n            return;\n        else\n            this._key = event.which;\n    }\n    if (name == 'key_release')\n        this._key = null;\n\n    var value = '';\n    if (event.ctrlKey && event.which != 17)\n        value += \"ctrl+\";\n    if (event.altKey && event.which != 18)\n        value += \"alt+\";\n    if (event.shiftKey && event.which != 16)\n        value += \"shift+\";\n\n    value += 'k';\n    value += event.which.toString();\n\n    this._key_event_extra(event, name);\n\n    this.send_message(name, {key: value,\n                             guiEvent: simpleKeys(event)});\n    return false;\n}\n\nmpl.figure.prototype.toolbar_button_onclick = function(name) {\n    if (name == 'download') {\n        this.handle_save(this, null);\n    } else {\n        this.send_message(\"toolbar_button\", {name: name});\n    }\n};\n\nmpl.figure.prototype.toolbar_button_onmouseover = function(tooltip) {\n    this.message.textContent = tooltip;\n};\nmpl.toolbar_items = [[\"Home\", \"Reset original view\", \"fa fa-home icon-home\", \"home\"], [\"Back\", \"Back to previous view\", \"fa fa-arrow-left icon-arrow-left\", \"back\"], [\"Forward\", \"Forward to next view\", \"fa fa-arrow-right icon-arrow-right\", \"forward\"], [\"\", \"\", \"\", \"\"], [\"Pan\", \"Pan axes with left mouse, zoom with right\", \"fa fa-arrows icon-move\", \"pan\"], [\"Zoom\", \"Zoom to rectangle\", \"fa fa-square-o icon-check-empty\", \"zoom\"], [\"\", \"\", \"\", \"\"], [\"Download\", \"Download plot\", \"fa fa-floppy-o icon-save\", \"download\"]];\n\nmpl.extensions = [\"eps\", \"jpeg\", \"pdf\", \"png\", \"ps\", \"raw\", \"svg\", \"tif\"];\n\nmpl.default_extension = \"png\";var comm_websocket_adapter = function(comm) {\n    // Create a \"websocket\"-like object which calls the given IPython comm\n    // object with the appropriate methods. Currently this is a non binary\n    // socket, so there is still some room for performance tuning.\n    var ws = {};\n\n    ws.close = function() {\n        comm.close()\n    };\n    ws.send = function(m) {\n        //console.log('sending', m);\n        comm.send(m);\n    };\n    // Register the callback with on_msg.\n    comm.on_msg(function(msg) {\n        //console.log('receiving', msg['content']['data'], msg);\n        // Pass the mpl event to the overridden (by mpl) onmessage function.\n        ws.onmessage(msg['content']['data'])\n    });\n    return ws;\n}\n\nmpl.mpl_figure_comm = function(comm, msg) {\n    // This is the function which gets called when the mpl process\n    // starts-up an IPython Comm through the \"matplotlib\" channel.\n\n    var id = msg.content.data.id;\n    // Get hold of the div created by the display call when the Comm\n    // socket was opened in Python.\n    var element = $(\"#\" + id);\n    var ws_proxy = comm_websocket_adapter(comm)\n\n    function ondownload(figure, format) {\n        window.open(figure.imageObj.src);\n    }\n\n    var fig = new mpl.figure(id, ws_proxy,\n                           ondownload,\n                           element.get(0));\n\n    // Call onopen now - mpl needs it, as it is assuming we've passed it a real\n    // web socket which is closed, not our websocket->open comm proxy.\n    ws_proxy.onopen();\n\n    fig.parent_element = element.get(0);\n    fig.cell_info = mpl.find_output_cell(\"<div id='\" + id + \"'></div>\");\n    if (!fig.cell_info) {\n        console.error(\"Failed to find cell for figure\", id, fig);\n        return;\n    }\n\n    var output_index = fig.cell_info[2]\n    var cell = fig.cell_info[0];\n\n};\n\nmpl.figure.prototype.handle_close = function(fig, msg) {\n    var width = fig.canvas.width/mpl.ratio\n    fig.root.unbind('remove')\n\n    // Update the output cell to use the data from the current canvas.\n    fig.push_to_output();\n    var dataURL = fig.canvas.toDataURL();\n    // Re-enable the keyboard manager in IPython - without this line, in FF,\n    // the notebook keyboard shortcuts fail.\n    IPython.keyboard_manager.enable()\n    $(fig.parent_element).html('<img src=\"' + dataURL + '\" width=\"' + width + '\">');\n    fig.close_ws(fig, msg);\n}\n\nmpl.figure.prototype.close_ws = function(fig, msg){\n    fig.send_message('closing', msg);\n    // fig.ws.close()\n}\n\nmpl.figure.prototype.push_to_output = function(remove_interactive) {\n    // Turn the data on the canvas into data in the output cell.\n    var width = this.canvas.width/mpl.ratio\n    var dataURL = this.canvas.toDataURL();\n    this.cell_info[1]['text/html'] = '<img src=\"' + dataURL + '\" width=\"' + width + '\">';\n}\n\nmpl.figure.prototype.updated_canvas_event = function() {\n    // Tell IPython that the notebook contents must change.\n    IPython.notebook.set_dirty(true);\n    this.send_message(\"ack\", {});\n    var fig = this;\n    // Wait a second, then push the new image to the DOM so\n    // that it is saved nicely (might be nice to debounce this).\n    setTimeout(function () { fig.push_to_output() }, 1000);\n}\n\nmpl.figure.prototype._init_toolbar = function() {\n    var fig = this;\n\n    var nav_element = $('<div/>');\n    nav_element.attr('style', 'width: 100%');\n    this.root.append(nav_element);\n\n    // Define a callback function for later on.\n    function toolbar_event(event) {\n        return fig.toolbar_button_onclick(event['data']);\n    }\n    function toolbar_mouse_event(event) {\n        return fig.toolbar_button_onmouseover(event['data']);\n    }\n\n    for(var toolbar_ind in mpl.toolbar_items){\n        var name = mpl.toolbar_items[toolbar_ind][0];\n        var tooltip = mpl.toolbar_items[toolbar_ind][1];\n        var image = mpl.toolbar_items[toolbar_ind][2];\n        var method_name = mpl.toolbar_items[toolbar_ind][3];\n\n        if (!name) { continue; };\n\n        var button = $('<button class=\"btn btn-default\" href=\"#\" title=\"' + name + '\"><i class=\"fa ' + image + ' fa-lg\"></i></button>');\n        button.click(method_name, toolbar_event);\n        button.mouseover(tooltip, toolbar_mouse_event);\n        nav_element.append(button);\n    }\n\n    // Add the status bar.\n    var status_bar = $('<span class=\"mpl-message\" style=\"text-align:right; float: right;\"/>');\n    nav_element.append(status_bar);\n    this.message = status_bar[0];\n\n    // Add the close button to the window.\n    var buttongrp = $('<div class=\"btn-group inline pull-right\"></div>');\n    var button = $('<button class=\"btn btn-mini btn-primary\" href=\"#\" title=\"Stop Interaction\"><i class=\"fa fa-power-off icon-remove icon-large\"></i></button>');\n    button.click(function (evt) { fig.handle_close(fig, {}); } );\n    button.mouseover('Stop Interaction', toolbar_mouse_event);\n    buttongrp.append(button);\n    var titlebar = this.root.find($('.ui-dialog-titlebar'));\n    titlebar.prepend(buttongrp);\n}\n\nmpl.figure.prototype._root_extra_style = function(el){\n    var fig = this\n    el.on(\"remove\", function(){\n\tfig.close_ws(fig, {});\n    });\n}\n\nmpl.figure.prototype._canvas_extra_style = function(el){\n    // this is important to make the div 'focusable\n    el.attr('tabindex', 0)\n    // reach out to IPython and tell the keyboard manager to turn it's self\n    // off when our div gets focus\n\n    // location in version 3\n    if (IPython.notebook.keyboard_manager) {\n        IPython.notebook.keyboard_manager.register_events(el);\n    }\n    else {\n        // location in version 2\n        IPython.keyboard_manager.register_events(el);\n    }\n\n}\n\nmpl.figure.prototype._key_event_extra = function(event, name) {\n    var manager = IPython.notebook.keyboard_manager;\n    if (!manager)\n        manager = IPython.keyboard_manager;\n\n    // Check for shift+enter\n    if (event.shiftKey && event.which == 13) {\n        this.canvas_div.blur();\n        // select the cell after this one\n        var index = IPython.notebook.find_cell_index(this.cell_info[0]);\n        IPython.notebook.select(index + 1);\n    }\n}\n\nmpl.figure.prototype.handle_save = function(fig, msg) {\n    fig.ondownload(fig, null);\n}\n\n\nmpl.find_output_cell = function(html_output) {\n    // Return the cell and output element which can be found *uniquely* in the notebook.\n    // Note - this is a bit hacky, but it is done because the \"notebook_saving.Notebook\"\n    // IPython event is triggered only after the cells have been serialised, which for\n    // our purposes (turning an active figure into a static one), is too late.\n    var cells = IPython.notebook.get_cells();\n    var ncells = cells.length;\n    for (var i=0; i<ncells; i++) {\n        var cell = cells[i];\n        if (cell.cell_type === 'code'){\n            for (var j=0; j<cell.output_area.outputs.length; j++) {\n                var data = cell.output_area.outputs[j];\n                if (data.data) {\n                    // IPython >= 3 moved mimebundle to data attribute of output\n                    data = data.data;\n                }\n                if (data['text/html'] == html_output) {\n                    return [cell, data, j];\n                }\n            }\n        }\n    }\n}\n\n// Register the function which deals with the matplotlib target/channel.\n// The kernel may be null if the page has been refreshed.\nif (IPython.notebook.kernel != null) {\n    IPython.notebook.kernel.comm_manager.register_target('matplotlib', mpl.mpl_figure_comm);\n}\n",
          "text/plain": "<IPython.core.display.Javascript object>"
         },
         "metadata": {},
         "output_type": "display_data"
        },
        {
         "data": {
          "text/html": "<div id='c480ea04-c784-4f41-aa3a-a0b24391cfd7'></div>",
          "text/plain": "<IPython.core.display.HTML object>"
         },
         "metadata": {},
         "output_type": "display_data"
        },
        {
         "name": "stdout",
         "output_type": "stream",
         "text": "\n  T (K)   X(Mg)sol  X(Fe)sol  X(Mg)liq  X(Fe)liq\n 1480.31    0.00      1.00      0.00      1.00  \n 1555.95    0.33      0.67      0.04      0.96  \n 1631.58    0.55      0.45      0.09      0.91  \n 1707.21    0.69      0.31      0.16      0.84  \n 1782.85    0.79      0.21      0.23      0.77  \n 1858.48    0.86      0.14      0.33      0.67  \n 1934.11    0.91      0.09      0.44      0.56  \n 2009.75    0.95      0.05      0.59      0.41  \n 2085.38    0.98      0.02      0.77      0.23  \n 2161.01    1.00      0.00      1.00      0.00  \n"
        }
       ]
      }
     },
     "3a864b29faac4d54ba444c6736a26c40": {
      "model_module": "@jupyter-widgets/controls",
      "model_module_version": "1.5.0",
      "model_name": "IntSliderModel",
      "state": {
       "description": "nt",
       "layout": "IPY_MODEL_9b9b13f8e1174d09b62e992a61537afb",
       "max": 30,
       "min": 10,
       "step": 5,
       "style": "IPY_MODEL_4788b454b88741f099219b4c72c46eeb",
       "value": 10
      }
     },
     "3b3ae776fd754a7ca2af527bda994504": {
      "model_module": "@jupyter-widgets/base",
      "model_module_version": "1.2.0",
      "model_name": "LayoutModel",
      "state": {}
     },
     "3c89830801aa43998e72f9223b1d3ad1": {
      "model_module": "@jupyter-widgets/base",
      "model_module_version": "1.2.0",
      "model_name": "LayoutModel",
      "state": {}
     },
     "3d9eb2761a764ee88e0eb187912f3ed9": {
      "model_module": "@jupyter-widgets/controls",
      "model_module_version": "1.5.0",
      "model_name": "IntSliderModel",
      "state": {
       "description": "nt",
       "layout": "IPY_MODEL_7260d7fbdb0d41bfbe8ebfff7bf40b34",
       "max": 30,
       "min": 10,
       "step": 5,
       "style": "IPY_MODEL_b27df5dbec5540bf85660bc4aee7004c",
       "value": 10
      }
     },
     "3e19478904c7418daafed09183c5f189": {
      "model_module": "@jupyter-widgets/controls",
      "model_module_version": "1.5.0",
      "model_name": "ButtonStyleModel",
      "state": {}
     },
     "3e6b3c2c50f34604aef679303543a7bd": {
      "model_module": "@jupyter-widgets/controls",
      "model_module_version": "1.5.0",
      "model_name": "FloatSliderModel",
      "state": {
       "description": "ip",
       "layout": "IPY_MODEL_faaa154f0ba9464fa6942e56d499863d",
       "max": 5,
       "step": 0.1,
       "style": "IPY_MODEL_4e1f11bd326b4e26b868dbc591bf8de4",
       "value": 0.6
      }
     },
     "3e95b37e1507416c8926e2c0109300e3": {
      "model_module": "@jupyter-widgets/controls",
      "model_module_version": "1.5.0",
      "model_name": "ButtonStyleModel",
      "state": {}
     },
     "3e96c7c0d24643b4bf44758c9df0c196": {
      "model_module": "@jupyter-widgets/controls",
      "model_module_version": "1.5.0",
      "model_name": "VBoxModel",
      "state": {
       "_dom_classes": [
        "widget-interact"
       ],
       "children": [
        "IPY_MODEL_a3a912073a3f4a94a917404fb754c65b",
        "IPY_MODEL_989e91faada342fabedba527c1de5a85",
        "IPY_MODEL_2d8953a342d84ba9afb0bc34f3caa56f",
        "IPY_MODEL_25b2a48387f842f3b439f53f522a6647"
       ],
       "layout": "IPY_MODEL_416d4edc61504c27aab04c64d0bda3f3"
      }
     },
     "3fbbc9efb13343fe8e569c54d55fc307": {
      "model_module": "@jupyter-widgets/controls",
      "model_module_version": "1.5.0",
      "model_name": "SliderStyleModel",
      "state": {
       "description_width": ""
      }
     },
     "404ba688b85347ba81a258c419112cbd": {
      "model_module": "@jupyter-widgets/controls",
      "model_module_version": "1.5.0",
      "model_name": "SliderStyleModel",
      "state": {
       "description_width": ""
      }
     },
     "4060e4b0451943fb94d511433ff21637": {
      "model_module": "@jupyter-widgets/controls",
      "model_module_version": "1.5.0",
      "model_name": "VBoxModel",
      "state": {
       "_dom_classes": [
        "widget-interact"
       ],
       "children": [
        "IPY_MODEL_ac2c8a5a298d4f849db255f8b893c8c5",
        "IPY_MODEL_0214a5ee849f448babb3c6b97e0e1793",
        "IPY_MODEL_e057686dc80b4d6484c18383594642c3"
       ],
       "layout": "IPY_MODEL_8a82116d7e194223b2b43a663c55664f"
      }
     },
     "413bdcc48f5e4dc4b2fe6373e4fa3559": {
      "model_module": "@jupyter-widgets/controls",
      "model_module_version": "1.5.0",
      "model_name": "SliderStyleModel",
      "state": {
       "description_width": ""
      }
     },
     "416d4edc61504c27aab04c64d0bda3f3": {
      "model_module": "@jupyter-widgets/base",
      "model_module_version": "1.2.0",
      "model_name": "LayoutModel",
      "state": {}
     },
     "422e936455f943b293e021a2f143ce7e": {
      "model_module": "@jupyter-widgets/controls",
      "model_module_version": "1.5.0",
      "model_name": "ButtonStyleModel",
      "state": {}
     },
     "426eae3289e8438a90cd31e572a783a6": {
      "model_module": "@jupyter-widgets/controls",
      "model_module_version": "1.5.0",
      "model_name": "SliderStyleModel",
      "state": {
       "description_width": ""
      }
     },
     "43bd628c0c2446f88c8d7f8677ee0744": {
      "model_module": "@jupyter-widgets/base",
      "model_module_version": "1.2.0",
      "model_name": "LayoutModel",
      "state": {}
     },
     "45dc992d9aba47ca9de8e2bfbbab55c3": {
      "model_module": "@jupyter-widgets/controls",
      "model_module_version": "1.5.0",
      "model_name": "SliderStyleModel",
      "state": {
       "description_width": ""
      }
     },
     "4649a0308b924fc0a8492891c5004b38": {
      "model_module": "@jupyter-widgets/base",
      "model_module_version": "1.2.0",
      "model_name": "LayoutModel",
      "state": {}
     },
     "47348d7e1a7247779caf6ebec5df5430": {
      "model_module": "@jupyter-widgets/controls",
      "model_module_version": "1.5.0",
      "model_name": "VBoxModel",
      "state": {
       "_dom_classes": [
        "widget-interact"
       ],
       "children": [
        "IPY_MODEL_9a2f4aeab8dc402687df5fc51e1237a2",
        "IPY_MODEL_91de418fb64d4d368f541c5402b829b5",
        "IPY_MODEL_149bb7bebf2c48cea414162e25c75368",
        "IPY_MODEL_b589e609001443dfa3118bffcb6cf5cc"
       ],
       "layout": "IPY_MODEL_ffc823fdfa9a4d05adf4b45dce9173f5"
      }
     },
     "4746c2024b7842c78dd11bb47d855fb1": {
      "model_module": "@jupyter-widgets/output",
      "model_module_version": "1.0.0",
      "model_name": "OutputModel",
      "state": {
       "layout": "IPY_MODEL_9ee5d987cd054f27b87bf2ccce45361f",
       "outputs": [
        {
         "name": "stdout",
         "output_type": "stream",
         "text": "Temperatura di fusione della forsterite: 2497.40 K\nTemperatura di fusione della fayalite: 1836.95 K\n"
        },
        {
         "data": {
          "application/javascript": "/* Put everything inside the global mpl namespace */\nwindow.mpl = {};\n\n\nmpl.get_websocket_type = function() {\n    if (typeof(WebSocket) !== 'undefined') {\n        return WebSocket;\n    } else if (typeof(MozWebSocket) !== 'undefined') {\n        return MozWebSocket;\n    } else {\n        alert('Your browser does not have WebSocket support. ' +\n              'Please try Chrome, Safari or Firefox ≥ 6. ' +\n              'Firefox 4 and 5 are also supported but you ' +\n              'have to enable WebSockets in about:config.');\n    };\n}\n\nmpl.figure = function(figure_id, websocket, ondownload, parent_element) {\n    this.id = figure_id;\n\n    this.ws = websocket;\n\n    this.supports_binary = (this.ws.binaryType != undefined);\n\n    if (!this.supports_binary) {\n        var warnings = document.getElementById(\"mpl-warnings\");\n        if (warnings) {\n            warnings.style.display = 'block';\n            warnings.textContent = (\n                \"This browser does not support binary websocket messages. \" +\n                    \"Performance may be slow.\");\n        }\n    }\n\n    this.imageObj = new Image();\n\n    this.context = undefined;\n    this.message = undefined;\n    this.canvas = undefined;\n    this.rubberband_canvas = undefined;\n    this.rubberband_context = undefined;\n    this.format_dropdown = undefined;\n\n    this.image_mode = 'full';\n\n    this.root = $('<div/>');\n    this._root_extra_style(this.root)\n    this.root.attr('style', 'display: inline-block');\n\n    $(parent_element).append(this.root);\n\n    this._init_header(this);\n    this._init_canvas(this);\n    this._init_toolbar(this);\n\n    var fig = this;\n\n    this.waiting = false;\n\n    this.ws.onopen =  function () {\n            fig.send_message(\"supports_binary\", {value: fig.supports_binary});\n            fig.send_message(\"send_image_mode\", {});\n            if (mpl.ratio != 1) {\n                fig.send_message(\"set_dpi_ratio\", {'dpi_ratio': mpl.ratio});\n            }\n            fig.send_message(\"refresh\", {});\n        }\n\n    this.imageObj.onload = function() {\n            if (fig.image_mode == 'full') {\n                // Full images could contain transparency (where diff images\n                // almost always do), so we need to clear the canvas so that\n                // there is no ghosting.\n                fig.context.clearRect(0, 0, fig.canvas.width, fig.canvas.height);\n            }\n            fig.context.drawImage(fig.imageObj, 0, 0);\n        };\n\n    this.imageObj.onunload = function() {\n        fig.ws.close();\n    }\n\n    this.ws.onmessage = this._make_on_message_function(this);\n\n    this.ondownload = ondownload;\n}\n\nmpl.figure.prototype._init_header = function() {\n    var titlebar = $(\n        '<div class=\"ui-dialog-titlebar ui-widget-header ui-corner-all ' +\n        'ui-helper-clearfix\"/>');\n    var titletext = $(\n        '<div class=\"ui-dialog-title\" style=\"width: 100%; ' +\n        'text-align: center; padding: 3px;\"/>');\n    titlebar.append(titletext)\n    this.root.append(titlebar);\n    this.header = titletext[0];\n}\n\n\n\nmpl.figure.prototype._canvas_extra_style = function(canvas_div) {\n\n}\n\n\nmpl.figure.prototype._root_extra_style = function(canvas_div) {\n\n}\n\nmpl.figure.prototype._init_canvas = function() {\n    var fig = this;\n\n    var canvas_div = $('<div/>');\n\n    canvas_div.attr('style', 'position: relative; clear: both; outline: 0');\n\n    function canvas_keyboard_event(event) {\n        return fig.key_event(event, event['data']);\n    }\n\n    canvas_div.keydown('key_press', canvas_keyboard_event);\n    canvas_div.keyup('key_release', canvas_keyboard_event);\n    this.canvas_div = canvas_div\n    this._canvas_extra_style(canvas_div)\n    this.root.append(canvas_div);\n\n    var canvas = $('<canvas/>');\n    canvas.addClass('mpl-canvas');\n    canvas.attr('style', \"left: 0; top: 0; z-index: 0; outline: 0\")\n\n    this.canvas = canvas[0];\n    this.context = canvas[0].getContext(\"2d\");\n\n    var backingStore = this.context.backingStorePixelRatio ||\n\tthis.context.webkitBackingStorePixelRatio ||\n\tthis.context.mozBackingStorePixelRatio ||\n\tthis.context.msBackingStorePixelRatio ||\n\tthis.context.oBackingStorePixelRatio ||\n\tthis.context.backingStorePixelRatio || 1;\n\n    mpl.ratio = (window.devicePixelRatio || 1) / backingStore;\n\n    var rubberband = $('<canvas/>');\n    rubberband.attr('style', \"position: absolute; left: 0; top: 0; z-index: 1;\")\n\n    var pass_mouse_events = true;\n\n    canvas_div.resizable({\n        start: function(event, ui) {\n            pass_mouse_events = false;\n        },\n        resize: function(event, ui) {\n            fig.request_resize(ui.size.width, ui.size.height);\n        },\n        stop: function(event, ui) {\n            pass_mouse_events = true;\n            fig.request_resize(ui.size.width, ui.size.height);\n        },\n    });\n\n    function mouse_event_fn(event) {\n        if (pass_mouse_events)\n            return fig.mouse_event(event, event['data']);\n    }\n\n    rubberband.mousedown('button_press', mouse_event_fn);\n    rubberband.mouseup('button_release', mouse_event_fn);\n    // Throttle sequential mouse events to 1 every 20ms.\n    rubberband.mousemove('motion_notify', mouse_event_fn);\n\n    rubberband.mouseenter('figure_enter', mouse_event_fn);\n    rubberband.mouseleave('figure_leave', mouse_event_fn);\n\n    canvas_div.on(\"wheel\", function (event) {\n        event = event.originalEvent;\n        event['data'] = 'scroll'\n        if (event.deltaY < 0) {\n            event.step = 1;\n        } else {\n            event.step = -1;\n        }\n        mouse_event_fn(event);\n    });\n\n    canvas_div.append(canvas);\n    canvas_div.append(rubberband);\n\n    this.rubberband = rubberband;\n    this.rubberband_canvas = rubberband[0];\n    this.rubberband_context = rubberband[0].getContext(\"2d\");\n    this.rubberband_context.strokeStyle = \"#000000\";\n\n    this._resize_canvas = function(width, height) {\n        // Keep the size of the canvas, canvas container, and rubber band\n        // canvas in synch.\n        canvas_div.css('width', width)\n        canvas_div.css('height', height)\n\n        canvas.attr('width', width * mpl.ratio);\n        canvas.attr('height', height * mpl.ratio);\n        canvas.attr('style', 'width: ' + width + 'px; height: ' + height + 'px;');\n\n        rubberband.attr('width', width);\n        rubberband.attr('height', height);\n    }\n\n    // Set the figure to an initial 600x600px, this will subsequently be updated\n    // upon first draw.\n    this._resize_canvas(600, 600);\n\n    // Disable right mouse context menu.\n    $(this.rubberband_canvas).bind(\"contextmenu\",function(e){\n        return false;\n    });\n\n    function set_focus () {\n        canvas.focus();\n        canvas_div.focus();\n    }\n\n    window.setTimeout(set_focus, 100);\n}\n\nmpl.figure.prototype._init_toolbar = function() {\n    var fig = this;\n\n    var nav_element = $('<div/>');\n    nav_element.attr('style', 'width: 100%');\n    this.root.append(nav_element);\n\n    // Define a callback function for later on.\n    function toolbar_event(event) {\n        return fig.toolbar_button_onclick(event['data']);\n    }\n    function toolbar_mouse_event(event) {\n        return fig.toolbar_button_onmouseover(event['data']);\n    }\n\n    for(var toolbar_ind in mpl.toolbar_items) {\n        var name = mpl.toolbar_items[toolbar_ind][0];\n        var tooltip = mpl.toolbar_items[toolbar_ind][1];\n        var image = mpl.toolbar_items[toolbar_ind][2];\n        var method_name = mpl.toolbar_items[toolbar_ind][3];\n\n        if (!name) {\n            // put a spacer in here.\n            continue;\n        }\n        var button = $('<button/>');\n        button.addClass('ui-button ui-widget ui-state-default ui-corner-all ' +\n                        'ui-button-icon-only');\n        button.attr('role', 'button');\n        button.attr('aria-disabled', 'false');\n        button.click(method_name, toolbar_event);\n        button.mouseover(tooltip, toolbar_mouse_event);\n\n        var icon_img = $('<span/>');\n        icon_img.addClass('ui-button-icon-primary ui-icon');\n        icon_img.addClass(image);\n        icon_img.addClass('ui-corner-all');\n\n        var tooltip_span = $('<span/>');\n        tooltip_span.addClass('ui-button-text');\n        tooltip_span.html(tooltip);\n\n        button.append(icon_img);\n        button.append(tooltip_span);\n\n        nav_element.append(button);\n    }\n\n    var fmt_picker_span = $('<span/>');\n\n    var fmt_picker = $('<select/>');\n    fmt_picker.addClass('mpl-toolbar-option ui-widget ui-widget-content');\n    fmt_picker_span.append(fmt_picker);\n    nav_element.append(fmt_picker_span);\n    this.format_dropdown = fmt_picker[0];\n\n    for (var ind in mpl.extensions) {\n        var fmt = mpl.extensions[ind];\n        var option = $(\n            '<option/>', {selected: fmt === mpl.default_extension}).html(fmt);\n        fmt_picker.append(option);\n    }\n\n    // Add hover states to the ui-buttons\n    $( \".ui-button\" ).hover(\n        function() { $(this).addClass(\"ui-state-hover\");},\n        function() { $(this).removeClass(\"ui-state-hover\");}\n    );\n\n    var status_bar = $('<span class=\"mpl-message\"/>');\n    nav_element.append(status_bar);\n    this.message = status_bar[0];\n}\n\nmpl.figure.prototype.request_resize = function(x_pixels, y_pixels) {\n    // Request matplotlib to resize the figure. Matplotlib will then trigger a resize in the client,\n    // which will in turn request a refresh of the image.\n    this.send_message('resize', {'width': x_pixels, 'height': y_pixels});\n}\n\nmpl.figure.prototype.send_message = function(type, properties) {\n    properties['type'] = type;\n    properties['figure_id'] = this.id;\n    this.ws.send(JSON.stringify(properties));\n}\n\nmpl.figure.prototype.send_draw_message = function() {\n    if (!this.waiting) {\n        this.waiting = true;\n        this.ws.send(JSON.stringify({type: \"draw\", figure_id: this.id}));\n    }\n}\n\n\nmpl.figure.prototype.handle_save = function(fig, msg) {\n    var format_dropdown = fig.format_dropdown;\n    var format = format_dropdown.options[format_dropdown.selectedIndex].value;\n    fig.ondownload(fig, format);\n}\n\n\nmpl.figure.prototype.handle_resize = function(fig, msg) {\n    var size = msg['size'];\n    if (size[0] != fig.canvas.width || size[1] != fig.canvas.height) {\n        fig._resize_canvas(size[0], size[1]);\n        fig.send_message(\"refresh\", {});\n    };\n}\n\nmpl.figure.prototype.handle_rubberband = function(fig, msg) {\n    var x0 = msg['x0'] / mpl.ratio;\n    var y0 = (fig.canvas.height - msg['y0']) / mpl.ratio;\n    var x1 = msg['x1'] / mpl.ratio;\n    var y1 = (fig.canvas.height - msg['y1']) / mpl.ratio;\n    x0 = Math.floor(x0) + 0.5;\n    y0 = Math.floor(y0) + 0.5;\n    x1 = Math.floor(x1) + 0.5;\n    y1 = Math.floor(y1) + 0.5;\n    var min_x = Math.min(x0, x1);\n    var min_y = Math.min(y0, y1);\n    var width = Math.abs(x1 - x0);\n    var height = Math.abs(y1 - y0);\n\n    fig.rubberband_context.clearRect(\n        0, 0, fig.canvas.width / mpl.ratio, fig.canvas.height / mpl.ratio);\n\n    fig.rubberband_context.strokeRect(min_x, min_y, width, height);\n}\n\nmpl.figure.prototype.handle_figure_label = function(fig, msg) {\n    // Updates the figure title.\n    fig.header.textContent = msg['label'];\n}\n\nmpl.figure.prototype.handle_cursor = function(fig, msg) {\n    var cursor = msg['cursor'];\n    switch(cursor)\n    {\n    case 0:\n        cursor = 'pointer';\n        break;\n    case 1:\n        cursor = 'default';\n        break;\n    case 2:\n        cursor = 'crosshair';\n        break;\n    case 3:\n        cursor = 'move';\n        break;\n    }\n    fig.rubberband_canvas.style.cursor = cursor;\n}\n\nmpl.figure.prototype.handle_message = function(fig, msg) {\n    fig.message.textContent = msg['message'];\n}\n\nmpl.figure.prototype.handle_draw = function(fig, msg) {\n    // Request the server to send over a new figure.\n    fig.send_draw_message();\n}\n\nmpl.figure.prototype.handle_image_mode = function(fig, msg) {\n    fig.image_mode = msg['mode'];\n}\n\nmpl.figure.prototype.updated_canvas_event = function() {\n    // Called whenever the canvas gets updated.\n    this.send_message(\"ack\", {});\n}\n\n// A function to construct a web socket function for onmessage handling.\n// Called in the figure constructor.\nmpl.figure.prototype._make_on_message_function = function(fig) {\n    return function socket_on_message(evt) {\n        if (evt.data instanceof Blob) {\n            /* FIXME: We get \"Resource interpreted as Image but\n             * transferred with MIME type text/plain:\" errors on\n             * Chrome.  But how to set the MIME type?  It doesn't seem\n             * to be part of the websocket stream */\n            evt.data.type = \"image/png\";\n\n            /* Free the memory for the previous frames */\n            if (fig.imageObj.src) {\n                (window.URL || window.webkitURL).revokeObjectURL(\n                    fig.imageObj.src);\n            }\n\n            fig.imageObj.src = (window.URL || window.webkitURL).createObjectURL(\n                evt.data);\n            fig.updated_canvas_event();\n            fig.waiting = false;\n            return;\n        }\n        else if (typeof evt.data === 'string' && evt.data.slice(0, 21) == \"data:image/png;base64\") {\n            fig.imageObj.src = evt.data;\n            fig.updated_canvas_event();\n            fig.waiting = false;\n            return;\n        }\n\n        var msg = JSON.parse(evt.data);\n        var msg_type = msg['type'];\n\n        // Call the  \"handle_{type}\" callback, which takes\n        // the figure and JSON message as its only arguments.\n        try {\n            var callback = fig[\"handle_\" + msg_type];\n        } catch (e) {\n            console.log(\"No handler for the '\" + msg_type + \"' message type: \", msg);\n            return;\n        }\n\n        if (callback) {\n            try {\n                // console.log(\"Handling '\" + msg_type + \"' message: \", msg);\n                callback(fig, msg);\n            } catch (e) {\n                console.log(\"Exception inside the 'handler_\" + msg_type + \"' callback:\", e, e.stack, msg);\n            }\n        }\n    };\n}\n\n// from http://stackoverflow.com/questions/1114465/getting-mouse-location-in-canvas\nmpl.findpos = function(e) {\n    //this section is from http://www.quirksmode.org/js/events_properties.html\n    var targ;\n    if (!e)\n        e = window.event;\n    if (e.target)\n        targ = e.target;\n    else if (e.srcElement)\n        targ = e.srcElement;\n    if (targ.nodeType == 3) // defeat Safari bug\n        targ = targ.parentNode;\n\n    // jQuery normalizes the pageX and pageY\n    // pageX,Y are the mouse positions relative to the document\n    // offset() returns the position of the element relative to the document\n    var x = e.pageX - $(targ).offset().left;\n    var y = e.pageY - $(targ).offset().top;\n\n    return {\"x\": x, \"y\": y};\n};\n\n/*\n * return a copy of an object with only non-object keys\n * we need this to avoid circular references\n * http://stackoverflow.com/a/24161582/3208463\n */\nfunction simpleKeys (original) {\n  return Object.keys(original).reduce(function (obj, key) {\n    if (typeof original[key] !== 'object')\n        obj[key] = original[key]\n    return obj;\n  }, {});\n}\n\nmpl.figure.prototype.mouse_event = function(event, name) {\n    var canvas_pos = mpl.findpos(event)\n\n    if (name === 'button_press')\n    {\n        this.canvas.focus();\n        this.canvas_div.focus();\n    }\n\n    var x = canvas_pos.x * mpl.ratio;\n    var y = canvas_pos.y * mpl.ratio;\n\n    this.send_message(name, {x: x, y: y, button: event.button,\n                             step: event.step,\n                             guiEvent: simpleKeys(event)});\n\n    /* This prevents the web browser from automatically changing to\n     * the text insertion cursor when the button is pressed.  We want\n     * to control all of the cursor setting manually through the\n     * 'cursor' event from matplotlib */\n    event.preventDefault();\n    return false;\n}\n\nmpl.figure.prototype._key_event_extra = function(event, name) {\n    // Handle any extra behaviour associated with a key event\n}\n\nmpl.figure.prototype.key_event = function(event, name) {\n\n    // Prevent repeat events\n    if (name == 'key_press')\n    {\n        if (event.which === this._key)\n            return;\n        else\n            this._key = event.which;\n    }\n    if (name == 'key_release')\n        this._key = null;\n\n    var value = '';\n    if (event.ctrlKey && event.which != 17)\n        value += \"ctrl+\";\n    if (event.altKey && event.which != 18)\n        value += \"alt+\";\n    if (event.shiftKey && event.which != 16)\n        value += \"shift+\";\n\n    value += 'k';\n    value += event.which.toString();\n\n    this._key_event_extra(event, name);\n\n    this.send_message(name, {key: value,\n                             guiEvent: simpleKeys(event)});\n    return false;\n}\n\nmpl.figure.prototype.toolbar_button_onclick = function(name) {\n    if (name == 'download') {\n        this.handle_save(this, null);\n    } else {\n        this.send_message(\"toolbar_button\", {name: name});\n    }\n};\n\nmpl.figure.prototype.toolbar_button_onmouseover = function(tooltip) {\n    this.message.textContent = tooltip;\n};\nmpl.toolbar_items = [[\"Home\", \"Reset original view\", \"fa fa-home icon-home\", \"home\"], [\"Back\", \"Back to previous view\", \"fa fa-arrow-left icon-arrow-left\", \"back\"], [\"Forward\", \"Forward to next view\", \"fa fa-arrow-right icon-arrow-right\", \"forward\"], [\"\", \"\", \"\", \"\"], [\"Pan\", \"Pan axes with left mouse, zoom with right\", \"fa fa-arrows icon-move\", \"pan\"], [\"Zoom\", \"Zoom to rectangle\", \"fa fa-square-o icon-check-empty\", \"zoom\"], [\"\", \"\", \"\", \"\"], [\"Download\", \"Download plot\", \"fa fa-floppy-o icon-save\", \"download\"]];\n\nmpl.extensions = [\"eps\", \"jpeg\", \"pdf\", \"png\", \"ps\", \"raw\", \"svg\", \"tif\"];\n\nmpl.default_extension = \"png\";var comm_websocket_adapter = function(comm) {\n    // Create a \"websocket\"-like object which calls the given IPython comm\n    // object with the appropriate methods. Currently this is a non binary\n    // socket, so there is still some room for performance tuning.\n    var ws = {};\n\n    ws.close = function() {\n        comm.close()\n    };\n    ws.send = function(m) {\n        //console.log('sending', m);\n        comm.send(m);\n    };\n    // Register the callback with on_msg.\n    comm.on_msg(function(msg) {\n        //console.log('receiving', msg['content']['data'], msg);\n        // Pass the mpl event to the overridden (by mpl) onmessage function.\n        ws.onmessage(msg['content']['data'])\n    });\n    return ws;\n}\n\nmpl.mpl_figure_comm = function(comm, msg) {\n    // This is the function which gets called when the mpl process\n    // starts-up an IPython Comm through the \"matplotlib\" channel.\n\n    var id = msg.content.data.id;\n    // Get hold of the div created by the display call when the Comm\n    // socket was opened in Python.\n    var element = $(\"#\" + id);\n    var ws_proxy = comm_websocket_adapter(comm)\n\n    function ondownload(figure, format) {\n        window.open(figure.imageObj.src);\n    }\n\n    var fig = new mpl.figure(id, ws_proxy,\n                           ondownload,\n                           element.get(0));\n\n    // Call onopen now - mpl needs it, as it is assuming we've passed it a real\n    // web socket which is closed, not our websocket->open comm proxy.\n    ws_proxy.onopen();\n\n    fig.parent_element = element.get(0);\n    fig.cell_info = mpl.find_output_cell(\"<div id='\" + id + \"'></div>\");\n    if (!fig.cell_info) {\n        console.error(\"Failed to find cell for figure\", id, fig);\n        return;\n    }\n\n    var output_index = fig.cell_info[2]\n    var cell = fig.cell_info[0];\n\n};\n\nmpl.figure.prototype.handle_close = function(fig, msg) {\n    var width = fig.canvas.width/mpl.ratio\n    fig.root.unbind('remove')\n\n    // Update the output cell to use the data from the current canvas.\n    fig.push_to_output();\n    var dataURL = fig.canvas.toDataURL();\n    // Re-enable the keyboard manager in IPython - without this line, in FF,\n    // the notebook keyboard shortcuts fail.\n    IPython.keyboard_manager.enable()\n    $(fig.parent_element).html('<img src=\"' + dataURL + '\" width=\"' + width + '\">');\n    fig.close_ws(fig, msg);\n}\n\nmpl.figure.prototype.close_ws = function(fig, msg){\n    fig.send_message('closing', msg);\n    // fig.ws.close()\n}\n\nmpl.figure.prototype.push_to_output = function(remove_interactive) {\n    // Turn the data on the canvas into data in the output cell.\n    var width = this.canvas.width/mpl.ratio\n    var dataURL = this.canvas.toDataURL();\n    this.cell_info[1]['text/html'] = '<img src=\"' + dataURL + '\" width=\"' + width + '\">';\n}\n\nmpl.figure.prototype.updated_canvas_event = function() {\n    // Tell IPython that the notebook contents must change.\n    IPython.notebook.set_dirty(true);\n    this.send_message(\"ack\", {});\n    var fig = this;\n    // Wait a second, then push the new image to the DOM so\n    // that it is saved nicely (might be nice to debounce this).\n    setTimeout(function () { fig.push_to_output() }, 1000);\n}\n\nmpl.figure.prototype._init_toolbar = function() {\n    var fig = this;\n\n    var nav_element = $('<div/>');\n    nav_element.attr('style', 'width: 100%');\n    this.root.append(nav_element);\n\n    // Define a callback function for later on.\n    function toolbar_event(event) {\n        return fig.toolbar_button_onclick(event['data']);\n    }\n    function toolbar_mouse_event(event) {\n        return fig.toolbar_button_onmouseover(event['data']);\n    }\n\n    for(var toolbar_ind in mpl.toolbar_items){\n        var name = mpl.toolbar_items[toolbar_ind][0];\n        var tooltip = mpl.toolbar_items[toolbar_ind][1];\n        var image = mpl.toolbar_items[toolbar_ind][2];\n        var method_name = mpl.toolbar_items[toolbar_ind][3];\n\n        if (!name) { continue; };\n\n        var button = $('<button class=\"btn btn-default\" href=\"#\" title=\"' + name + '\"><i class=\"fa ' + image + ' fa-lg\"></i></button>');\n        button.click(method_name, toolbar_event);\n        button.mouseover(tooltip, toolbar_mouse_event);\n        nav_element.append(button);\n    }\n\n    // Add the status bar.\n    var status_bar = $('<span class=\"mpl-message\" style=\"text-align:right; float: right;\"/>');\n    nav_element.append(status_bar);\n    this.message = status_bar[0];\n\n    // Add the close button to the window.\n    var buttongrp = $('<div class=\"btn-group inline pull-right\"></div>');\n    var button = $('<button class=\"btn btn-mini btn-primary\" href=\"#\" title=\"Stop Interaction\"><i class=\"fa fa-power-off icon-remove icon-large\"></i></button>');\n    button.click(function (evt) { fig.handle_close(fig, {}); } );\n    button.mouseover('Stop Interaction', toolbar_mouse_event);\n    buttongrp.append(button);\n    var titlebar = this.root.find($('.ui-dialog-titlebar'));\n    titlebar.prepend(buttongrp);\n}\n\nmpl.figure.prototype._root_extra_style = function(el){\n    var fig = this\n    el.on(\"remove\", function(){\n\tfig.close_ws(fig, {});\n    });\n}\n\nmpl.figure.prototype._canvas_extra_style = function(el){\n    // this is important to make the div 'focusable\n    el.attr('tabindex', 0)\n    // reach out to IPython and tell the keyboard manager to turn it's self\n    // off when our div gets focus\n\n    // location in version 3\n    if (IPython.notebook.keyboard_manager) {\n        IPython.notebook.keyboard_manager.register_events(el);\n    }\n    else {\n        // location in version 2\n        IPython.keyboard_manager.register_events(el);\n    }\n\n}\n\nmpl.figure.prototype._key_event_extra = function(event, name) {\n    var manager = IPython.notebook.keyboard_manager;\n    if (!manager)\n        manager = IPython.keyboard_manager;\n\n    // Check for shift+enter\n    if (event.shiftKey && event.which == 13) {\n        this.canvas_div.blur();\n        // select the cell after this one\n        var index = IPython.notebook.find_cell_index(this.cell_info[0]);\n        IPython.notebook.select(index + 1);\n    }\n}\n\nmpl.figure.prototype.handle_save = function(fig, msg) {\n    fig.ondownload(fig, null);\n}\n\n\nmpl.find_output_cell = function(html_output) {\n    // Return the cell and output element which can be found *uniquely* in the notebook.\n    // Note - this is a bit hacky, but it is done because the \"notebook_saving.Notebook\"\n    // IPython event is triggered only after the cells have been serialised, which for\n    // our purposes (turning an active figure into a static one), is too late.\n    var cells = IPython.notebook.get_cells();\n    var ncells = cells.length;\n    for (var i=0; i<ncells; i++) {\n        var cell = cells[i];\n        if (cell.cell_type === 'code'){\n            for (var j=0; j<cell.output_area.outputs.length; j++) {\n                var data = cell.output_area.outputs[j];\n                if (data.data) {\n                    // IPython >= 3 moved mimebundle to data attribute of output\n                    data = data.data;\n                }\n                if (data['text/html'] == html_output) {\n                    return [cell, data, j];\n                }\n            }\n        }\n    }\n}\n\n// Register the function which deals with the matplotlib target/channel.\n// The kernel may be null if the page has been refreshed.\nif (IPython.notebook.kernel != null) {\n    IPython.notebook.kernel.comm_manager.register_target('matplotlib', mpl.mpl_figure_comm);\n}\n",
          "text/plain": "<IPython.core.display.Javascript object>"
         },
         "metadata": {},
         "output_type": "display_data"
        },
        {
         "data": {
          "text/html": "<div id='94efdd90-5884-49d8-ac46-bb214f75670c'></div>",
          "text/plain": "<IPython.core.display.HTML object>"
         },
         "metadata": {},
         "output_type": "display_data"
        },
        {
         "name": "stdout",
         "output_type": "stream",
         "text": "\n  T (K)   X(Mg)sol  X(Fe)sol  X(Mg)liq  X(Fe)liq\n 1836.95    0.00      1.00      0.00      1.00  \n 1910.33    0.23      0.77      0.05      0.95  \n 1983.72    0.41      0.59      0.11      0.89  \n 2057.10    0.55      0.45      0.19      0.81  \n 2130.48    0.66      0.34      0.27      0.73  \n 2203.87    0.75      0.25      0.37      0.63  \n 2277.25    0.83      0.17      0.49      0.51  \n 2350.64    0.89      0.11      0.63      0.37  \n 2424.02    0.95      0.05      0.80      0.20  \n 2497.40    1.00      0.00      1.00      0.00  \n"
        }
       ]
      }
     },
     "4788b454b88741f099219b4c72c46eeb": {
      "model_module": "@jupyter-widgets/controls",
      "model_module_version": "1.5.0",
      "model_name": "SliderStyleModel",
      "state": {
       "description_width": ""
      }
     },
     "4840b1dbb2f8407ea0aeb1c002b03e6f": {
      "model_module": "@jupyter-widgets/base",
      "model_module_version": "1.2.0",
      "model_name": "LayoutModel",
      "state": {}
     },
     "4ac035d8bfe54f3fa91404a4d44c0efd": {
      "model_module": "@jupyter-widgets/controls",
      "model_module_version": "1.5.0",
      "model_name": "FloatSliderModel",
      "state": {
       "description": "ip",
       "layout": "IPY_MODEL_11780215d5f94f3cbc22aa84d34e49fa",
       "max": 5,
       "step": 0.1,
       "style": "IPY_MODEL_a7ed9d21276a436c8298e2157e44eae0"
      }
     },
     "4ae121b07a604949b7e2a96abac8ded7": {
      "model_module": "@jupyter-widgets/base",
      "model_module_version": "1.2.0",
      "model_name": "LayoutModel",
      "state": {}
     },
     "4c32be338f3949dea041639526cc079f": {
      "model_module": "@jupyter-widgets/base",
      "model_module_version": "1.2.0",
      "model_name": "LayoutModel",
      "state": {}
     },
     "4dc3ac704e554d0780b72291b324ea7e": {
      "model_module": "@jupyter-widgets/controls",
      "model_module_version": "1.5.0",
      "model_name": "IntSliderModel",
      "state": {
       "description": "nt",
       "layout": "IPY_MODEL_8ea3289c29ad4579a06de80d4cc5523c",
       "max": 30,
       "min": 10,
       "step": 5,
       "style": "IPY_MODEL_fe1d625355b1400dbf40d2d397e374eb",
       "value": 10
      }
     },
     "4e124d1a77bb4866acb94471cdddabb7": {
      "model_module": "@jupyter-widgets/controls",
      "model_module_version": "1.5.0",
      "model_name": "SliderStyleModel",
      "state": {
       "description_width": ""
      }
     },
     "4e1f11bd326b4e26b868dbc591bf8de4": {
      "model_module": "@jupyter-widgets/controls",
      "model_module_version": "1.5.0",
      "model_name": "SliderStyleModel",
      "state": {
       "description_width": ""
      }
     },
     "4ee2b07e6cc94c1f945a5e2c87a35ae7": {
      "model_module": "@jupyter-widgets/controls",
      "model_module_version": "1.5.0",
      "model_name": "IntSliderModel",
      "state": {
       "description": "nt",
       "layout": "IPY_MODEL_73db503de9a141ee86c75eb48de2304e",
       "max": 30,
       "min": 10,
       "step": 5,
       "style": "IPY_MODEL_676cc5ba0f4145b2885a77a30a2ed4d0",
       "value": 10
      }
     },
     "4f14d7d1053445218dd0037372eb8066": {
      "model_module": "@jupyter-widgets/controls",
      "model_module_version": "1.5.0",
      "model_name": "ButtonModel",
      "state": {
       "description": "Run Interact",
       "layout": "IPY_MODEL_4649a0308b924fc0a8492891c5004b38",
       "style": "IPY_MODEL_d54e867338a548c6b657f1c1860fb277"
      }
     },
     "516cb3594fa1465d8b42f11220f79ffa": {
      "model_module": "@jupyter-widgets/base",
      "model_module_version": "1.2.0",
      "model_name": "LayoutModel",
      "state": {}
     },
     "51c1361a95064e909d0291e89b5e802d": {
      "model_module": "@jupyter-widgets/controls",
      "model_module_version": "1.5.0",
      "model_name": "ButtonStyleModel",
      "state": {}
     },
     "52ed6629fbb646a6841fef85e110310f": {
      "model_module": "@jupyter-widgets/controls",
      "model_module_version": "1.5.0",
      "model_name": "FloatSliderModel",
      "state": {
       "description": "tfmin",
       "layout": "IPY_MODEL_c5b1b074eb4f4e39b367278065f6bd8e",
       "max": 1,
       "step": 0.1,
       "style": "IPY_MODEL_4e124d1a77bb4866acb94471cdddabb7"
      }
     },
     "5427a2e88f084a71a10b27e24ae3d265": {
      "model_module": "@jupyter-widgets/controls",
      "model_module_version": "1.5.0",
      "model_name": "SliderStyleModel",
      "state": {
       "description_width": ""
      }
     },
     "54a632ce99554da39ebd5aa2ccb20cef": {
      "model_module": "@jupyter-widgets/base",
      "model_module_version": "1.2.0",
      "model_name": "LayoutModel",
      "state": {}
     },
     "55eaf903349c4a09920271287b439eca": {
      "model_module": "@jupyter-widgets/controls",
      "model_module_version": "1.5.0",
      "model_name": "SliderStyleModel",
      "state": {
       "description_width": ""
      }
     },
     "560f92bdfb8d4a7f8346586effc23bf9": {
      "model_module": "@jupyter-widgets/base",
      "model_module_version": "1.2.0",
      "model_name": "LayoutModel",
      "state": {}
     },
     "564113d0cd47458d8ddbfc0dee499fce": {
      "model_module": "@jupyter-widgets/output",
      "model_module_version": "1.0.0",
      "model_name": "OutputModel",
      "state": {
       "layout": "IPY_MODEL_f47a9c41d12c4171a0f7117896355926",
       "outputs": [
        {
         "name": "stdout",
         "output_type": "stream",
         "text": "Temperatura di fusione della forsterite: 2161.01 K\nTemperatura di fusione della fayalite: 1480.31 K\n"
        },
        {
         "data": {
          "application/javascript": "/* Put everything inside the global mpl namespace */\nwindow.mpl = {};\n\n\nmpl.get_websocket_type = function() {\n    if (typeof(WebSocket) !== 'undefined') {\n        return WebSocket;\n    } else if (typeof(MozWebSocket) !== 'undefined') {\n        return MozWebSocket;\n    } else {\n        alert('Your browser does not have WebSocket support. ' +\n              'Please try Chrome, Safari or Firefox ≥ 6. ' +\n              'Firefox 4 and 5 are also supported but you ' +\n              'have to enable WebSockets in about:config.');\n    };\n}\n\nmpl.figure = function(figure_id, websocket, ondownload, parent_element) {\n    this.id = figure_id;\n\n    this.ws = websocket;\n\n    this.supports_binary = (this.ws.binaryType != undefined);\n\n    if (!this.supports_binary) {\n        var warnings = document.getElementById(\"mpl-warnings\");\n        if (warnings) {\n            warnings.style.display = 'block';\n            warnings.textContent = (\n                \"This browser does not support binary websocket messages. \" +\n                    \"Performance may be slow.\");\n        }\n    }\n\n    this.imageObj = new Image();\n\n    this.context = undefined;\n    this.message = undefined;\n    this.canvas = undefined;\n    this.rubberband_canvas = undefined;\n    this.rubberband_context = undefined;\n    this.format_dropdown = undefined;\n\n    this.image_mode = 'full';\n\n    this.root = $('<div/>');\n    this._root_extra_style(this.root)\n    this.root.attr('style', 'display: inline-block');\n\n    $(parent_element).append(this.root);\n\n    this._init_header(this);\n    this._init_canvas(this);\n    this._init_toolbar(this);\n\n    var fig = this;\n\n    this.waiting = false;\n\n    this.ws.onopen =  function () {\n            fig.send_message(\"supports_binary\", {value: fig.supports_binary});\n            fig.send_message(\"send_image_mode\", {});\n            if (mpl.ratio != 1) {\n                fig.send_message(\"set_dpi_ratio\", {'dpi_ratio': mpl.ratio});\n            }\n            fig.send_message(\"refresh\", {});\n        }\n\n    this.imageObj.onload = function() {\n            if (fig.image_mode == 'full') {\n                // Full images could contain transparency (where diff images\n                // almost always do), so we need to clear the canvas so that\n                // there is no ghosting.\n                fig.context.clearRect(0, 0, fig.canvas.width, fig.canvas.height);\n            }\n            fig.context.drawImage(fig.imageObj, 0, 0);\n        };\n\n    this.imageObj.onunload = function() {\n        fig.ws.close();\n    }\n\n    this.ws.onmessage = this._make_on_message_function(this);\n\n    this.ondownload = ondownload;\n}\n\nmpl.figure.prototype._init_header = function() {\n    var titlebar = $(\n        '<div class=\"ui-dialog-titlebar ui-widget-header ui-corner-all ' +\n        'ui-helper-clearfix\"/>');\n    var titletext = $(\n        '<div class=\"ui-dialog-title\" style=\"width: 100%; ' +\n        'text-align: center; padding: 3px;\"/>');\n    titlebar.append(titletext)\n    this.root.append(titlebar);\n    this.header = titletext[0];\n}\n\n\n\nmpl.figure.prototype._canvas_extra_style = function(canvas_div) {\n\n}\n\n\nmpl.figure.prototype._root_extra_style = function(canvas_div) {\n\n}\n\nmpl.figure.prototype._init_canvas = function() {\n    var fig = this;\n\n    var canvas_div = $('<div/>');\n\n    canvas_div.attr('style', 'position: relative; clear: both; outline: 0');\n\n    function canvas_keyboard_event(event) {\n        return fig.key_event(event, event['data']);\n    }\n\n    canvas_div.keydown('key_press', canvas_keyboard_event);\n    canvas_div.keyup('key_release', canvas_keyboard_event);\n    this.canvas_div = canvas_div\n    this._canvas_extra_style(canvas_div)\n    this.root.append(canvas_div);\n\n    var canvas = $('<canvas/>');\n    canvas.addClass('mpl-canvas');\n    canvas.attr('style', \"left: 0; top: 0; z-index: 0; outline: 0\")\n\n    this.canvas = canvas[0];\n    this.context = canvas[0].getContext(\"2d\");\n\n    var backingStore = this.context.backingStorePixelRatio ||\n\tthis.context.webkitBackingStorePixelRatio ||\n\tthis.context.mozBackingStorePixelRatio ||\n\tthis.context.msBackingStorePixelRatio ||\n\tthis.context.oBackingStorePixelRatio ||\n\tthis.context.backingStorePixelRatio || 1;\n\n    mpl.ratio = (window.devicePixelRatio || 1) / backingStore;\n\n    var rubberband = $('<canvas/>');\n    rubberband.attr('style', \"position: absolute; left: 0; top: 0; z-index: 1;\")\n\n    var pass_mouse_events = true;\n\n    canvas_div.resizable({\n        start: function(event, ui) {\n            pass_mouse_events = false;\n        },\n        resize: function(event, ui) {\n            fig.request_resize(ui.size.width, ui.size.height);\n        },\n        stop: function(event, ui) {\n            pass_mouse_events = true;\n            fig.request_resize(ui.size.width, ui.size.height);\n        },\n    });\n\n    function mouse_event_fn(event) {\n        if (pass_mouse_events)\n            return fig.mouse_event(event, event['data']);\n    }\n\n    rubberband.mousedown('button_press', mouse_event_fn);\n    rubberband.mouseup('button_release', mouse_event_fn);\n    // Throttle sequential mouse events to 1 every 20ms.\n    rubberband.mousemove('motion_notify', mouse_event_fn);\n\n    rubberband.mouseenter('figure_enter', mouse_event_fn);\n    rubberband.mouseleave('figure_leave', mouse_event_fn);\n\n    canvas_div.on(\"wheel\", function (event) {\n        event = event.originalEvent;\n        event['data'] = 'scroll'\n        if (event.deltaY < 0) {\n            event.step = 1;\n        } else {\n            event.step = -1;\n        }\n        mouse_event_fn(event);\n    });\n\n    canvas_div.append(canvas);\n    canvas_div.append(rubberband);\n\n    this.rubberband = rubberband;\n    this.rubberband_canvas = rubberband[0];\n    this.rubberband_context = rubberband[0].getContext(\"2d\");\n    this.rubberband_context.strokeStyle = \"#000000\";\n\n    this._resize_canvas = function(width, height) {\n        // Keep the size of the canvas, canvas container, and rubber band\n        // canvas in synch.\n        canvas_div.css('width', width)\n        canvas_div.css('height', height)\n\n        canvas.attr('width', width * mpl.ratio);\n        canvas.attr('height', height * mpl.ratio);\n        canvas.attr('style', 'width: ' + width + 'px; height: ' + height + 'px;');\n\n        rubberband.attr('width', width);\n        rubberband.attr('height', height);\n    }\n\n    // Set the figure to an initial 600x600px, this will subsequently be updated\n    // upon first draw.\n    this._resize_canvas(600, 600);\n\n    // Disable right mouse context menu.\n    $(this.rubberband_canvas).bind(\"contextmenu\",function(e){\n        return false;\n    });\n\n    function set_focus () {\n        canvas.focus();\n        canvas_div.focus();\n    }\n\n    window.setTimeout(set_focus, 100);\n}\n\nmpl.figure.prototype._init_toolbar = function() {\n    var fig = this;\n\n    var nav_element = $('<div/>');\n    nav_element.attr('style', 'width: 100%');\n    this.root.append(nav_element);\n\n    // Define a callback function for later on.\n    function toolbar_event(event) {\n        return fig.toolbar_button_onclick(event['data']);\n    }\n    function toolbar_mouse_event(event) {\n        return fig.toolbar_button_onmouseover(event['data']);\n    }\n\n    for(var toolbar_ind in mpl.toolbar_items) {\n        var name = mpl.toolbar_items[toolbar_ind][0];\n        var tooltip = mpl.toolbar_items[toolbar_ind][1];\n        var image = mpl.toolbar_items[toolbar_ind][2];\n        var method_name = mpl.toolbar_items[toolbar_ind][3];\n\n        if (!name) {\n            // put a spacer in here.\n            continue;\n        }\n        var button = $('<button/>');\n        button.addClass('ui-button ui-widget ui-state-default ui-corner-all ' +\n                        'ui-button-icon-only');\n        button.attr('role', 'button');\n        button.attr('aria-disabled', 'false');\n        button.click(method_name, toolbar_event);\n        button.mouseover(tooltip, toolbar_mouse_event);\n\n        var icon_img = $('<span/>');\n        icon_img.addClass('ui-button-icon-primary ui-icon');\n        icon_img.addClass(image);\n        icon_img.addClass('ui-corner-all');\n\n        var tooltip_span = $('<span/>');\n        tooltip_span.addClass('ui-button-text');\n        tooltip_span.html(tooltip);\n\n        button.append(icon_img);\n        button.append(tooltip_span);\n\n        nav_element.append(button);\n    }\n\n    var fmt_picker_span = $('<span/>');\n\n    var fmt_picker = $('<select/>');\n    fmt_picker.addClass('mpl-toolbar-option ui-widget ui-widget-content');\n    fmt_picker_span.append(fmt_picker);\n    nav_element.append(fmt_picker_span);\n    this.format_dropdown = fmt_picker[0];\n\n    for (var ind in mpl.extensions) {\n        var fmt = mpl.extensions[ind];\n        var option = $(\n            '<option/>', {selected: fmt === mpl.default_extension}).html(fmt);\n        fmt_picker.append(option);\n    }\n\n    // Add hover states to the ui-buttons\n    $( \".ui-button\" ).hover(\n        function() { $(this).addClass(\"ui-state-hover\");},\n        function() { $(this).removeClass(\"ui-state-hover\");}\n    );\n\n    var status_bar = $('<span class=\"mpl-message\"/>');\n    nav_element.append(status_bar);\n    this.message = status_bar[0];\n}\n\nmpl.figure.prototype.request_resize = function(x_pixels, y_pixels) {\n    // Request matplotlib to resize the figure. Matplotlib will then trigger a resize in the client,\n    // which will in turn request a refresh of the image.\n    this.send_message('resize', {'width': x_pixels, 'height': y_pixels});\n}\n\nmpl.figure.prototype.send_message = function(type, properties) {\n    properties['type'] = type;\n    properties['figure_id'] = this.id;\n    this.ws.send(JSON.stringify(properties));\n}\n\nmpl.figure.prototype.send_draw_message = function() {\n    if (!this.waiting) {\n        this.waiting = true;\n        this.ws.send(JSON.stringify({type: \"draw\", figure_id: this.id}));\n    }\n}\n\n\nmpl.figure.prototype.handle_save = function(fig, msg) {\n    var format_dropdown = fig.format_dropdown;\n    var format = format_dropdown.options[format_dropdown.selectedIndex].value;\n    fig.ondownload(fig, format);\n}\n\n\nmpl.figure.prototype.handle_resize = function(fig, msg) {\n    var size = msg['size'];\n    if (size[0] != fig.canvas.width || size[1] != fig.canvas.height) {\n        fig._resize_canvas(size[0], size[1]);\n        fig.send_message(\"refresh\", {});\n    };\n}\n\nmpl.figure.prototype.handle_rubberband = function(fig, msg) {\n    var x0 = msg['x0'] / mpl.ratio;\n    var y0 = (fig.canvas.height - msg['y0']) / mpl.ratio;\n    var x1 = msg['x1'] / mpl.ratio;\n    var y1 = (fig.canvas.height - msg['y1']) / mpl.ratio;\n    x0 = Math.floor(x0) + 0.5;\n    y0 = Math.floor(y0) + 0.5;\n    x1 = Math.floor(x1) + 0.5;\n    y1 = Math.floor(y1) + 0.5;\n    var min_x = Math.min(x0, x1);\n    var min_y = Math.min(y0, y1);\n    var width = Math.abs(x1 - x0);\n    var height = Math.abs(y1 - y0);\n\n    fig.rubberband_context.clearRect(\n        0, 0, fig.canvas.width / mpl.ratio, fig.canvas.height / mpl.ratio);\n\n    fig.rubberband_context.strokeRect(min_x, min_y, width, height);\n}\n\nmpl.figure.prototype.handle_figure_label = function(fig, msg) {\n    // Updates the figure title.\n    fig.header.textContent = msg['label'];\n}\n\nmpl.figure.prototype.handle_cursor = function(fig, msg) {\n    var cursor = msg['cursor'];\n    switch(cursor)\n    {\n    case 0:\n        cursor = 'pointer';\n        break;\n    case 1:\n        cursor = 'default';\n        break;\n    case 2:\n        cursor = 'crosshair';\n        break;\n    case 3:\n        cursor = 'move';\n        break;\n    }\n    fig.rubberband_canvas.style.cursor = cursor;\n}\n\nmpl.figure.prototype.handle_message = function(fig, msg) {\n    fig.message.textContent = msg['message'];\n}\n\nmpl.figure.prototype.handle_draw = function(fig, msg) {\n    // Request the server to send over a new figure.\n    fig.send_draw_message();\n}\n\nmpl.figure.prototype.handle_image_mode = function(fig, msg) {\n    fig.image_mode = msg['mode'];\n}\n\nmpl.figure.prototype.updated_canvas_event = function() {\n    // Called whenever the canvas gets updated.\n    this.send_message(\"ack\", {});\n}\n\n// A function to construct a web socket function for onmessage handling.\n// Called in the figure constructor.\nmpl.figure.prototype._make_on_message_function = function(fig) {\n    return function socket_on_message(evt) {\n        if (evt.data instanceof Blob) {\n            /* FIXME: We get \"Resource interpreted as Image but\n             * transferred with MIME type text/plain:\" errors on\n             * Chrome.  But how to set the MIME type?  It doesn't seem\n             * to be part of the websocket stream */\n            evt.data.type = \"image/png\";\n\n            /* Free the memory for the previous frames */\n            if (fig.imageObj.src) {\n                (window.URL || window.webkitURL).revokeObjectURL(\n                    fig.imageObj.src);\n            }\n\n            fig.imageObj.src = (window.URL || window.webkitURL).createObjectURL(\n                evt.data);\n            fig.updated_canvas_event();\n            fig.waiting = false;\n            return;\n        }\n        else if (typeof evt.data === 'string' && evt.data.slice(0, 21) == \"data:image/png;base64\") {\n            fig.imageObj.src = evt.data;\n            fig.updated_canvas_event();\n            fig.waiting = false;\n            return;\n        }\n\n        var msg = JSON.parse(evt.data);\n        var msg_type = msg['type'];\n\n        // Call the  \"handle_{type}\" callback, which takes\n        // the figure and JSON message as its only arguments.\n        try {\n            var callback = fig[\"handle_\" + msg_type];\n        } catch (e) {\n            console.log(\"No handler for the '\" + msg_type + \"' message type: \", msg);\n            return;\n        }\n\n        if (callback) {\n            try {\n                // console.log(\"Handling '\" + msg_type + \"' message: \", msg);\n                callback(fig, msg);\n            } catch (e) {\n                console.log(\"Exception inside the 'handler_\" + msg_type + \"' callback:\", e, e.stack, msg);\n            }\n        }\n    };\n}\n\n// from http://stackoverflow.com/questions/1114465/getting-mouse-location-in-canvas\nmpl.findpos = function(e) {\n    //this section is from http://www.quirksmode.org/js/events_properties.html\n    var targ;\n    if (!e)\n        e = window.event;\n    if (e.target)\n        targ = e.target;\n    else if (e.srcElement)\n        targ = e.srcElement;\n    if (targ.nodeType == 3) // defeat Safari bug\n        targ = targ.parentNode;\n\n    // jQuery normalizes the pageX and pageY\n    // pageX,Y are the mouse positions relative to the document\n    // offset() returns the position of the element relative to the document\n    var x = e.pageX - $(targ).offset().left;\n    var y = e.pageY - $(targ).offset().top;\n\n    return {\"x\": x, \"y\": y};\n};\n\n/*\n * return a copy of an object with only non-object keys\n * we need this to avoid circular references\n * http://stackoverflow.com/a/24161582/3208463\n */\nfunction simpleKeys (original) {\n  return Object.keys(original).reduce(function (obj, key) {\n    if (typeof original[key] !== 'object')\n        obj[key] = original[key]\n    return obj;\n  }, {});\n}\n\nmpl.figure.prototype.mouse_event = function(event, name) {\n    var canvas_pos = mpl.findpos(event)\n\n    if (name === 'button_press')\n    {\n        this.canvas.focus();\n        this.canvas_div.focus();\n    }\n\n    var x = canvas_pos.x * mpl.ratio;\n    var y = canvas_pos.y * mpl.ratio;\n\n    this.send_message(name, {x: x, y: y, button: event.button,\n                             step: event.step,\n                             guiEvent: simpleKeys(event)});\n\n    /* This prevents the web browser from automatically changing to\n     * the text insertion cursor when the button is pressed.  We want\n     * to control all of the cursor setting manually through the\n     * 'cursor' event from matplotlib */\n    event.preventDefault();\n    return false;\n}\n\nmpl.figure.prototype._key_event_extra = function(event, name) {\n    // Handle any extra behaviour associated with a key event\n}\n\nmpl.figure.prototype.key_event = function(event, name) {\n\n    // Prevent repeat events\n    if (name == 'key_press')\n    {\n        if (event.which === this._key)\n            return;\n        else\n            this._key = event.which;\n    }\n    if (name == 'key_release')\n        this._key = null;\n\n    var value = '';\n    if (event.ctrlKey && event.which != 17)\n        value += \"ctrl+\";\n    if (event.altKey && event.which != 18)\n        value += \"alt+\";\n    if (event.shiftKey && event.which != 16)\n        value += \"shift+\";\n\n    value += 'k';\n    value += event.which.toString();\n\n    this._key_event_extra(event, name);\n\n    this.send_message(name, {key: value,\n                             guiEvent: simpleKeys(event)});\n    return false;\n}\n\nmpl.figure.prototype.toolbar_button_onclick = function(name) {\n    if (name == 'download') {\n        this.handle_save(this, null);\n    } else {\n        this.send_message(\"toolbar_button\", {name: name});\n    }\n};\n\nmpl.figure.prototype.toolbar_button_onmouseover = function(tooltip) {\n    this.message.textContent = tooltip;\n};\nmpl.toolbar_items = [[\"Home\", \"Reset original view\", \"fa fa-home icon-home\", \"home\"], [\"Back\", \"Back to previous view\", \"fa fa-arrow-left icon-arrow-left\", \"back\"], [\"Forward\", \"Forward to next view\", \"fa fa-arrow-right icon-arrow-right\", \"forward\"], [\"\", \"\", \"\", \"\"], [\"Pan\", \"Pan axes with left mouse, zoom with right\", \"fa fa-arrows icon-move\", \"pan\"], [\"Zoom\", \"Zoom to rectangle\", \"fa fa-square-o icon-check-empty\", \"zoom\"], [\"\", \"\", \"\", \"\"], [\"Download\", \"Download plot\", \"fa fa-floppy-o icon-save\", \"download\"]];\n\nmpl.extensions = [\"eps\", \"jpeg\", \"pdf\", \"png\", \"ps\", \"raw\", \"svg\", \"tif\"];\n\nmpl.default_extension = \"png\";var comm_websocket_adapter = function(comm) {\n    // Create a \"websocket\"-like object which calls the given IPython comm\n    // object with the appropriate methods. Currently this is a non binary\n    // socket, so there is still some room for performance tuning.\n    var ws = {};\n\n    ws.close = function() {\n        comm.close()\n    };\n    ws.send = function(m) {\n        //console.log('sending', m);\n        comm.send(m);\n    };\n    // Register the callback with on_msg.\n    comm.on_msg(function(msg) {\n        //console.log('receiving', msg['content']['data'], msg);\n        // Pass the mpl event to the overridden (by mpl) onmessage function.\n        ws.onmessage(msg['content']['data'])\n    });\n    return ws;\n}\n\nmpl.mpl_figure_comm = function(comm, msg) {\n    // This is the function which gets called when the mpl process\n    // starts-up an IPython Comm through the \"matplotlib\" channel.\n\n    var id = msg.content.data.id;\n    // Get hold of the div created by the display call when the Comm\n    // socket was opened in Python.\n    var element = $(\"#\" + id);\n    var ws_proxy = comm_websocket_adapter(comm)\n\n    function ondownload(figure, format) {\n        window.open(figure.imageObj.src);\n    }\n\n    var fig = new mpl.figure(id, ws_proxy,\n                           ondownload,\n                           element.get(0));\n\n    // Call onopen now - mpl needs it, as it is assuming we've passed it a real\n    // web socket which is closed, not our websocket->open comm proxy.\n    ws_proxy.onopen();\n\n    fig.parent_element = element.get(0);\n    fig.cell_info = mpl.find_output_cell(\"<div id='\" + id + \"'></div>\");\n    if (!fig.cell_info) {\n        console.error(\"Failed to find cell for figure\", id, fig);\n        return;\n    }\n\n    var output_index = fig.cell_info[2]\n    var cell = fig.cell_info[0];\n\n};\n\nmpl.figure.prototype.handle_close = function(fig, msg) {\n    var width = fig.canvas.width/mpl.ratio\n    fig.root.unbind('remove')\n\n    // Update the output cell to use the data from the current canvas.\n    fig.push_to_output();\n    var dataURL = fig.canvas.toDataURL();\n    // Re-enable the keyboard manager in IPython - without this line, in FF,\n    // the notebook keyboard shortcuts fail.\n    IPython.keyboard_manager.enable()\n    $(fig.parent_element).html('<img src=\"' + dataURL + '\" width=\"' + width + '\">');\n    fig.close_ws(fig, msg);\n}\n\nmpl.figure.prototype.close_ws = function(fig, msg){\n    fig.send_message('closing', msg);\n    // fig.ws.close()\n}\n\nmpl.figure.prototype.push_to_output = function(remove_interactive) {\n    // Turn the data on the canvas into data in the output cell.\n    var width = this.canvas.width/mpl.ratio\n    var dataURL = this.canvas.toDataURL();\n    this.cell_info[1]['text/html'] = '<img src=\"' + dataURL + '\" width=\"' + width + '\">';\n}\n\nmpl.figure.prototype.updated_canvas_event = function() {\n    // Tell IPython that the notebook contents must change.\n    IPython.notebook.set_dirty(true);\n    this.send_message(\"ack\", {});\n    var fig = this;\n    // Wait a second, then push the new image to the DOM so\n    // that it is saved nicely (might be nice to debounce this).\n    setTimeout(function () { fig.push_to_output() }, 1000);\n}\n\nmpl.figure.prototype._init_toolbar = function() {\n    var fig = this;\n\n    var nav_element = $('<div/>');\n    nav_element.attr('style', 'width: 100%');\n    this.root.append(nav_element);\n\n    // Define a callback function for later on.\n    function toolbar_event(event) {\n        return fig.toolbar_button_onclick(event['data']);\n    }\n    function toolbar_mouse_event(event) {\n        return fig.toolbar_button_onmouseover(event['data']);\n    }\n\n    for(var toolbar_ind in mpl.toolbar_items){\n        var name = mpl.toolbar_items[toolbar_ind][0];\n        var tooltip = mpl.toolbar_items[toolbar_ind][1];\n        var image = mpl.toolbar_items[toolbar_ind][2];\n        var method_name = mpl.toolbar_items[toolbar_ind][3];\n\n        if (!name) { continue; };\n\n        var button = $('<button class=\"btn btn-default\" href=\"#\" title=\"' + name + '\"><i class=\"fa ' + image + ' fa-lg\"></i></button>');\n        button.click(method_name, toolbar_event);\n        button.mouseover(tooltip, toolbar_mouse_event);\n        nav_element.append(button);\n    }\n\n    // Add the status bar.\n    var status_bar = $('<span class=\"mpl-message\" style=\"text-align:right; float: right;\"/>');\n    nav_element.append(status_bar);\n    this.message = status_bar[0];\n\n    // Add the close button to the window.\n    var buttongrp = $('<div class=\"btn-group inline pull-right\"></div>');\n    var button = $('<button class=\"btn btn-mini btn-primary\" href=\"#\" title=\"Stop Interaction\"><i class=\"fa fa-power-off icon-remove icon-large\"></i></button>');\n    button.click(function (evt) { fig.handle_close(fig, {}); } );\n    button.mouseover('Stop Interaction', toolbar_mouse_event);\n    buttongrp.append(button);\n    var titlebar = this.root.find($('.ui-dialog-titlebar'));\n    titlebar.prepend(buttongrp);\n}\n\nmpl.figure.prototype._root_extra_style = function(el){\n    var fig = this\n    el.on(\"remove\", function(){\n\tfig.close_ws(fig, {});\n    });\n}\n\nmpl.figure.prototype._canvas_extra_style = function(el){\n    // this is important to make the div 'focusable\n    el.attr('tabindex', 0)\n    // reach out to IPython and tell the keyboard manager to turn it's self\n    // off when our div gets focus\n\n    // location in version 3\n    if (IPython.notebook.keyboard_manager) {\n        IPython.notebook.keyboard_manager.register_events(el);\n    }\n    else {\n        // location in version 2\n        IPython.keyboard_manager.register_events(el);\n    }\n\n}\n\nmpl.figure.prototype._key_event_extra = function(event, name) {\n    var manager = IPython.notebook.keyboard_manager;\n    if (!manager)\n        manager = IPython.keyboard_manager;\n\n    // Check for shift+enter\n    if (event.shiftKey && event.which == 13) {\n        this.canvas_div.blur();\n        // select the cell after this one\n        var index = IPython.notebook.find_cell_index(this.cell_info[0]);\n        IPython.notebook.select(index + 1);\n    }\n}\n\nmpl.figure.prototype.handle_save = function(fig, msg) {\n    fig.ondownload(fig, null);\n}\n\n\nmpl.find_output_cell = function(html_output) {\n    // Return the cell and output element which can be found *uniquely* in the notebook.\n    // Note - this is a bit hacky, but it is done because the \"notebook_saving.Notebook\"\n    // IPython event is triggered only after the cells have been serialised, which for\n    // our purposes (turning an active figure into a static one), is too late.\n    var cells = IPython.notebook.get_cells();\n    var ncells = cells.length;\n    for (var i=0; i<ncells; i++) {\n        var cell = cells[i];\n        if (cell.cell_type === 'code'){\n            for (var j=0; j<cell.output_area.outputs.length; j++) {\n                var data = cell.output_area.outputs[j];\n                if (data.data) {\n                    // IPython >= 3 moved mimebundle to data attribute of output\n                    data = data.data;\n                }\n                if (data['text/html'] == html_output) {\n                    return [cell, data, j];\n                }\n            }\n        }\n    }\n}\n\n// Register the function which deals with the matplotlib target/channel.\n// The kernel may be null if the page has been refreshed.\nif (IPython.notebook.kernel != null) {\n    IPython.notebook.kernel.comm_manager.register_target('matplotlib', mpl.mpl_figure_comm);\n}\n",
          "text/plain": "<IPython.core.display.Javascript object>"
         },
         "metadata": {},
         "output_type": "display_data"
        },
        {
         "data": {
          "text/html": "<div id='25f92f9d-56f5-4625-814b-761325e7bdfa'></div>",
          "text/plain": "<IPython.core.display.HTML object>"
         },
         "metadata": {},
         "output_type": "display_data"
        },
        {
         "name": "stdout",
         "output_type": "stream",
         "text": "\n  T (K)   X(Mg)sol  X(Fe)sol  X(Mg)liq  X(Fe)liq\n 1480.31    0.00      1.00      0.00      1.00  \n 1555.95    0.33      0.67      0.04      0.96  \n 1631.58    0.55      0.45      0.09      0.91  \n 1707.21    0.69      0.31      0.16      0.84  \n 1782.85    0.79      0.21      0.23      0.77  \n 1858.48    0.86      0.14      0.33      0.67  \n 1934.11    0.91      0.09      0.44      0.56  \n 2009.75    0.95      0.05      0.59      0.41  \n 2085.38    0.98      0.02      0.77      0.23  \n 2161.01    1.00      0.00      1.00      0.00  \n"
        }
       ]
      }
     },
     "57421368e75a4f12a24bb1db73dba404": {
      "model_module": "@jupyter-widgets/base",
      "model_module_version": "1.2.0",
      "model_name": "LayoutModel",
      "state": {}
     },
     "57eabbf5f5cd449d81fa3be6c22d8708": {
      "model_module": "@jupyter-widgets/base",
      "model_module_version": "1.2.0",
      "model_name": "LayoutModel",
      "state": {}
     },
     "589f56a4afb44ebf961d8e8f95eef805": {
      "model_module": "@jupyter-widgets/output",
      "model_module_version": "1.0.0",
      "model_name": "OutputModel",
      "state": {
       "layout": "IPY_MODEL_f0dd75a9479d48fb9e64acac09d02359",
       "outputs": [
        {
         "name": "stdout",
         "output_type": "stream",
         "text": "Temperatura di fusione della forsterite: 2497.40 K\nTemperatura di fusione della fayalite: 1836.95 K\n"
        },
        {
         "data": {
          "application/javascript": "/* Put everything inside the global mpl namespace */\nwindow.mpl = {};\n\n\nmpl.get_websocket_type = function() {\n    if (typeof(WebSocket) !== 'undefined') {\n        return WebSocket;\n    } else if (typeof(MozWebSocket) !== 'undefined') {\n        return MozWebSocket;\n    } else {\n        alert('Your browser does not have WebSocket support. ' +\n              'Please try Chrome, Safari or Firefox ≥ 6. ' +\n              'Firefox 4 and 5 are also supported but you ' +\n              'have to enable WebSockets in about:config.');\n    };\n}\n\nmpl.figure = function(figure_id, websocket, ondownload, parent_element) {\n    this.id = figure_id;\n\n    this.ws = websocket;\n\n    this.supports_binary = (this.ws.binaryType != undefined);\n\n    if (!this.supports_binary) {\n        var warnings = document.getElementById(\"mpl-warnings\");\n        if (warnings) {\n            warnings.style.display = 'block';\n            warnings.textContent = (\n                \"This browser does not support binary websocket messages. \" +\n                    \"Performance may be slow.\");\n        }\n    }\n\n    this.imageObj = new Image();\n\n    this.context = undefined;\n    this.message = undefined;\n    this.canvas = undefined;\n    this.rubberband_canvas = undefined;\n    this.rubberband_context = undefined;\n    this.format_dropdown = undefined;\n\n    this.image_mode = 'full';\n\n    this.root = $('<div/>');\n    this._root_extra_style(this.root)\n    this.root.attr('style', 'display: inline-block');\n\n    $(parent_element).append(this.root);\n\n    this._init_header(this);\n    this._init_canvas(this);\n    this._init_toolbar(this);\n\n    var fig = this;\n\n    this.waiting = false;\n\n    this.ws.onopen =  function () {\n            fig.send_message(\"supports_binary\", {value: fig.supports_binary});\n            fig.send_message(\"send_image_mode\", {});\n            if (mpl.ratio != 1) {\n                fig.send_message(\"set_dpi_ratio\", {'dpi_ratio': mpl.ratio});\n            }\n            fig.send_message(\"refresh\", {});\n        }\n\n    this.imageObj.onload = function() {\n            if (fig.image_mode == 'full') {\n                // Full images could contain transparency (where diff images\n                // almost always do), so we need to clear the canvas so that\n                // there is no ghosting.\n                fig.context.clearRect(0, 0, fig.canvas.width, fig.canvas.height);\n            }\n            fig.context.drawImage(fig.imageObj, 0, 0);\n        };\n\n    this.imageObj.onunload = function() {\n        fig.ws.close();\n    }\n\n    this.ws.onmessage = this._make_on_message_function(this);\n\n    this.ondownload = ondownload;\n}\n\nmpl.figure.prototype._init_header = function() {\n    var titlebar = $(\n        '<div class=\"ui-dialog-titlebar ui-widget-header ui-corner-all ' +\n        'ui-helper-clearfix\"/>');\n    var titletext = $(\n        '<div class=\"ui-dialog-title\" style=\"width: 100%; ' +\n        'text-align: center; padding: 3px;\"/>');\n    titlebar.append(titletext)\n    this.root.append(titlebar);\n    this.header = titletext[0];\n}\n\n\n\nmpl.figure.prototype._canvas_extra_style = function(canvas_div) {\n\n}\n\n\nmpl.figure.prototype._root_extra_style = function(canvas_div) {\n\n}\n\nmpl.figure.prototype._init_canvas = function() {\n    var fig = this;\n\n    var canvas_div = $('<div/>');\n\n    canvas_div.attr('style', 'position: relative; clear: both; outline: 0');\n\n    function canvas_keyboard_event(event) {\n        return fig.key_event(event, event['data']);\n    }\n\n    canvas_div.keydown('key_press', canvas_keyboard_event);\n    canvas_div.keyup('key_release', canvas_keyboard_event);\n    this.canvas_div = canvas_div\n    this._canvas_extra_style(canvas_div)\n    this.root.append(canvas_div);\n\n    var canvas = $('<canvas/>');\n    canvas.addClass('mpl-canvas');\n    canvas.attr('style', \"left: 0; top: 0; z-index: 0; outline: 0\")\n\n    this.canvas = canvas[0];\n    this.context = canvas[0].getContext(\"2d\");\n\n    var backingStore = this.context.backingStorePixelRatio ||\n\tthis.context.webkitBackingStorePixelRatio ||\n\tthis.context.mozBackingStorePixelRatio ||\n\tthis.context.msBackingStorePixelRatio ||\n\tthis.context.oBackingStorePixelRatio ||\n\tthis.context.backingStorePixelRatio || 1;\n\n    mpl.ratio = (window.devicePixelRatio || 1) / backingStore;\n\n    var rubberband = $('<canvas/>');\n    rubberband.attr('style', \"position: absolute; left: 0; top: 0; z-index: 1;\")\n\n    var pass_mouse_events = true;\n\n    canvas_div.resizable({\n        start: function(event, ui) {\n            pass_mouse_events = false;\n        },\n        resize: function(event, ui) {\n            fig.request_resize(ui.size.width, ui.size.height);\n        },\n        stop: function(event, ui) {\n            pass_mouse_events = true;\n            fig.request_resize(ui.size.width, ui.size.height);\n        },\n    });\n\n    function mouse_event_fn(event) {\n        if (pass_mouse_events)\n            return fig.mouse_event(event, event['data']);\n    }\n\n    rubberband.mousedown('button_press', mouse_event_fn);\n    rubberband.mouseup('button_release', mouse_event_fn);\n    // Throttle sequential mouse events to 1 every 20ms.\n    rubberband.mousemove('motion_notify', mouse_event_fn);\n\n    rubberband.mouseenter('figure_enter', mouse_event_fn);\n    rubberband.mouseleave('figure_leave', mouse_event_fn);\n\n    canvas_div.on(\"wheel\", function (event) {\n        event = event.originalEvent;\n        event['data'] = 'scroll'\n        if (event.deltaY < 0) {\n            event.step = 1;\n        } else {\n            event.step = -1;\n        }\n        mouse_event_fn(event);\n    });\n\n    canvas_div.append(canvas);\n    canvas_div.append(rubberband);\n\n    this.rubberband = rubberband;\n    this.rubberband_canvas = rubberband[0];\n    this.rubberband_context = rubberband[0].getContext(\"2d\");\n    this.rubberband_context.strokeStyle = \"#000000\";\n\n    this._resize_canvas = function(width, height) {\n        // Keep the size of the canvas, canvas container, and rubber band\n        // canvas in synch.\n        canvas_div.css('width', width)\n        canvas_div.css('height', height)\n\n        canvas.attr('width', width * mpl.ratio);\n        canvas.attr('height', height * mpl.ratio);\n        canvas.attr('style', 'width: ' + width + 'px; height: ' + height + 'px;');\n\n        rubberband.attr('width', width);\n        rubberband.attr('height', height);\n    }\n\n    // Set the figure to an initial 600x600px, this will subsequently be updated\n    // upon first draw.\n    this._resize_canvas(600, 600);\n\n    // Disable right mouse context menu.\n    $(this.rubberband_canvas).bind(\"contextmenu\",function(e){\n        return false;\n    });\n\n    function set_focus () {\n        canvas.focus();\n        canvas_div.focus();\n    }\n\n    window.setTimeout(set_focus, 100);\n}\n\nmpl.figure.prototype._init_toolbar = function() {\n    var fig = this;\n\n    var nav_element = $('<div/>');\n    nav_element.attr('style', 'width: 100%');\n    this.root.append(nav_element);\n\n    // Define a callback function for later on.\n    function toolbar_event(event) {\n        return fig.toolbar_button_onclick(event['data']);\n    }\n    function toolbar_mouse_event(event) {\n        return fig.toolbar_button_onmouseover(event['data']);\n    }\n\n    for(var toolbar_ind in mpl.toolbar_items) {\n        var name = mpl.toolbar_items[toolbar_ind][0];\n        var tooltip = mpl.toolbar_items[toolbar_ind][1];\n        var image = mpl.toolbar_items[toolbar_ind][2];\n        var method_name = mpl.toolbar_items[toolbar_ind][3];\n\n        if (!name) {\n            // put a spacer in here.\n            continue;\n        }\n        var button = $('<button/>');\n        button.addClass('ui-button ui-widget ui-state-default ui-corner-all ' +\n                        'ui-button-icon-only');\n        button.attr('role', 'button');\n        button.attr('aria-disabled', 'false');\n        button.click(method_name, toolbar_event);\n        button.mouseover(tooltip, toolbar_mouse_event);\n\n        var icon_img = $('<span/>');\n        icon_img.addClass('ui-button-icon-primary ui-icon');\n        icon_img.addClass(image);\n        icon_img.addClass('ui-corner-all');\n\n        var tooltip_span = $('<span/>');\n        tooltip_span.addClass('ui-button-text');\n        tooltip_span.html(tooltip);\n\n        button.append(icon_img);\n        button.append(tooltip_span);\n\n        nav_element.append(button);\n    }\n\n    var fmt_picker_span = $('<span/>');\n\n    var fmt_picker = $('<select/>');\n    fmt_picker.addClass('mpl-toolbar-option ui-widget ui-widget-content');\n    fmt_picker_span.append(fmt_picker);\n    nav_element.append(fmt_picker_span);\n    this.format_dropdown = fmt_picker[0];\n\n    for (var ind in mpl.extensions) {\n        var fmt = mpl.extensions[ind];\n        var option = $(\n            '<option/>', {selected: fmt === mpl.default_extension}).html(fmt);\n        fmt_picker.append(option);\n    }\n\n    // Add hover states to the ui-buttons\n    $( \".ui-button\" ).hover(\n        function() { $(this).addClass(\"ui-state-hover\");},\n        function() { $(this).removeClass(\"ui-state-hover\");}\n    );\n\n    var status_bar = $('<span class=\"mpl-message\"/>');\n    nav_element.append(status_bar);\n    this.message = status_bar[0];\n}\n\nmpl.figure.prototype.request_resize = function(x_pixels, y_pixels) {\n    // Request matplotlib to resize the figure. Matplotlib will then trigger a resize in the client,\n    // which will in turn request a refresh of the image.\n    this.send_message('resize', {'width': x_pixels, 'height': y_pixels});\n}\n\nmpl.figure.prototype.send_message = function(type, properties) {\n    properties['type'] = type;\n    properties['figure_id'] = this.id;\n    this.ws.send(JSON.stringify(properties));\n}\n\nmpl.figure.prototype.send_draw_message = function() {\n    if (!this.waiting) {\n        this.waiting = true;\n        this.ws.send(JSON.stringify({type: \"draw\", figure_id: this.id}));\n    }\n}\n\n\nmpl.figure.prototype.handle_save = function(fig, msg) {\n    var format_dropdown = fig.format_dropdown;\n    var format = format_dropdown.options[format_dropdown.selectedIndex].value;\n    fig.ondownload(fig, format);\n}\n\n\nmpl.figure.prototype.handle_resize = function(fig, msg) {\n    var size = msg['size'];\n    if (size[0] != fig.canvas.width || size[1] != fig.canvas.height) {\n        fig._resize_canvas(size[0], size[1]);\n        fig.send_message(\"refresh\", {});\n    };\n}\n\nmpl.figure.prototype.handle_rubberband = function(fig, msg) {\n    var x0 = msg['x0'] / mpl.ratio;\n    var y0 = (fig.canvas.height - msg['y0']) / mpl.ratio;\n    var x1 = msg['x1'] / mpl.ratio;\n    var y1 = (fig.canvas.height - msg['y1']) / mpl.ratio;\n    x0 = Math.floor(x0) + 0.5;\n    y0 = Math.floor(y0) + 0.5;\n    x1 = Math.floor(x1) + 0.5;\n    y1 = Math.floor(y1) + 0.5;\n    var min_x = Math.min(x0, x1);\n    var min_y = Math.min(y0, y1);\n    var width = Math.abs(x1 - x0);\n    var height = Math.abs(y1 - y0);\n\n    fig.rubberband_context.clearRect(\n        0, 0, fig.canvas.width / mpl.ratio, fig.canvas.height / mpl.ratio);\n\n    fig.rubberband_context.strokeRect(min_x, min_y, width, height);\n}\n\nmpl.figure.prototype.handle_figure_label = function(fig, msg) {\n    // Updates the figure title.\n    fig.header.textContent = msg['label'];\n}\n\nmpl.figure.prototype.handle_cursor = function(fig, msg) {\n    var cursor = msg['cursor'];\n    switch(cursor)\n    {\n    case 0:\n        cursor = 'pointer';\n        break;\n    case 1:\n        cursor = 'default';\n        break;\n    case 2:\n        cursor = 'crosshair';\n        break;\n    case 3:\n        cursor = 'move';\n        break;\n    }\n    fig.rubberband_canvas.style.cursor = cursor;\n}\n\nmpl.figure.prototype.handle_message = function(fig, msg) {\n    fig.message.textContent = msg['message'];\n}\n\nmpl.figure.prototype.handle_draw = function(fig, msg) {\n    // Request the server to send over a new figure.\n    fig.send_draw_message();\n}\n\nmpl.figure.prototype.handle_image_mode = function(fig, msg) {\n    fig.image_mode = msg['mode'];\n}\n\nmpl.figure.prototype.updated_canvas_event = function() {\n    // Called whenever the canvas gets updated.\n    this.send_message(\"ack\", {});\n}\n\n// A function to construct a web socket function for onmessage handling.\n// Called in the figure constructor.\nmpl.figure.prototype._make_on_message_function = function(fig) {\n    return function socket_on_message(evt) {\n        if (evt.data instanceof Blob) {\n            /* FIXME: We get \"Resource interpreted as Image but\n             * transferred with MIME type text/plain:\" errors on\n             * Chrome.  But how to set the MIME type?  It doesn't seem\n             * to be part of the websocket stream */\n            evt.data.type = \"image/png\";\n\n            /* Free the memory for the previous frames */\n            if (fig.imageObj.src) {\n                (window.URL || window.webkitURL).revokeObjectURL(\n                    fig.imageObj.src);\n            }\n\n            fig.imageObj.src = (window.URL || window.webkitURL).createObjectURL(\n                evt.data);\n            fig.updated_canvas_event();\n            fig.waiting = false;\n            return;\n        }\n        else if (typeof evt.data === 'string' && evt.data.slice(0, 21) == \"data:image/png;base64\") {\n            fig.imageObj.src = evt.data;\n            fig.updated_canvas_event();\n            fig.waiting = false;\n            return;\n        }\n\n        var msg = JSON.parse(evt.data);\n        var msg_type = msg['type'];\n\n        // Call the  \"handle_{type}\" callback, which takes\n        // the figure and JSON message as its only arguments.\n        try {\n            var callback = fig[\"handle_\" + msg_type];\n        } catch (e) {\n            console.log(\"No handler for the '\" + msg_type + \"' message type: \", msg);\n            return;\n        }\n\n        if (callback) {\n            try {\n                // console.log(\"Handling '\" + msg_type + \"' message: \", msg);\n                callback(fig, msg);\n            } catch (e) {\n                console.log(\"Exception inside the 'handler_\" + msg_type + \"' callback:\", e, e.stack, msg);\n            }\n        }\n    };\n}\n\n// from http://stackoverflow.com/questions/1114465/getting-mouse-location-in-canvas\nmpl.findpos = function(e) {\n    //this section is from http://www.quirksmode.org/js/events_properties.html\n    var targ;\n    if (!e)\n        e = window.event;\n    if (e.target)\n        targ = e.target;\n    else if (e.srcElement)\n        targ = e.srcElement;\n    if (targ.nodeType == 3) // defeat Safari bug\n        targ = targ.parentNode;\n\n    // jQuery normalizes the pageX and pageY\n    // pageX,Y are the mouse positions relative to the document\n    // offset() returns the position of the element relative to the document\n    var x = e.pageX - $(targ).offset().left;\n    var y = e.pageY - $(targ).offset().top;\n\n    return {\"x\": x, \"y\": y};\n};\n\n/*\n * return a copy of an object with only non-object keys\n * we need this to avoid circular references\n * http://stackoverflow.com/a/24161582/3208463\n */\nfunction simpleKeys (original) {\n  return Object.keys(original).reduce(function (obj, key) {\n    if (typeof original[key] !== 'object')\n        obj[key] = original[key]\n    return obj;\n  }, {});\n}\n\nmpl.figure.prototype.mouse_event = function(event, name) {\n    var canvas_pos = mpl.findpos(event)\n\n    if (name === 'button_press')\n    {\n        this.canvas.focus();\n        this.canvas_div.focus();\n    }\n\n    var x = canvas_pos.x * mpl.ratio;\n    var y = canvas_pos.y * mpl.ratio;\n\n    this.send_message(name, {x: x, y: y, button: event.button,\n                             step: event.step,\n                             guiEvent: simpleKeys(event)});\n\n    /* This prevents the web browser from automatically changing to\n     * the text insertion cursor when the button is pressed.  We want\n     * to control all of the cursor setting manually through the\n     * 'cursor' event from matplotlib */\n    event.preventDefault();\n    return false;\n}\n\nmpl.figure.prototype._key_event_extra = function(event, name) {\n    // Handle any extra behaviour associated with a key event\n}\n\nmpl.figure.prototype.key_event = function(event, name) {\n\n    // Prevent repeat events\n    if (name == 'key_press')\n    {\n        if (event.which === this._key)\n            return;\n        else\n            this._key = event.which;\n    }\n    if (name == 'key_release')\n        this._key = null;\n\n    var value = '';\n    if (event.ctrlKey && event.which != 17)\n        value += \"ctrl+\";\n    if (event.altKey && event.which != 18)\n        value += \"alt+\";\n    if (event.shiftKey && event.which != 16)\n        value += \"shift+\";\n\n    value += 'k';\n    value += event.which.toString();\n\n    this._key_event_extra(event, name);\n\n    this.send_message(name, {key: value,\n                             guiEvent: simpleKeys(event)});\n    return false;\n}\n\nmpl.figure.prototype.toolbar_button_onclick = function(name) {\n    if (name == 'download') {\n        this.handle_save(this, null);\n    } else {\n        this.send_message(\"toolbar_button\", {name: name});\n    }\n};\n\nmpl.figure.prototype.toolbar_button_onmouseover = function(tooltip) {\n    this.message.textContent = tooltip;\n};\nmpl.toolbar_items = [[\"Home\", \"Reset original view\", \"fa fa-home icon-home\", \"home\"], [\"Back\", \"Back to previous view\", \"fa fa-arrow-left icon-arrow-left\", \"back\"], [\"Forward\", \"Forward to next view\", \"fa fa-arrow-right icon-arrow-right\", \"forward\"], [\"\", \"\", \"\", \"\"], [\"Pan\", \"Pan axes with left mouse, zoom with right\", \"fa fa-arrows icon-move\", \"pan\"], [\"Zoom\", \"Zoom to rectangle\", \"fa fa-square-o icon-check-empty\", \"zoom\"], [\"\", \"\", \"\", \"\"], [\"Download\", \"Download plot\", \"fa fa-floppy-o icon-save\", \"download\"]];\n\nmpl.extensions = [\"eps\", \"jpeg\", \"pdf\", \"png\", \"ps\", \"raw\", \"svg\", \"tif\"];\n\nmpl.default_extension = \"png\";var comm_websocket_adapter = function(comm) {\n    // Create a \"websocket\"-like object which calls the given IPython comm\n    // object with the appropriate methods. Currently this is a non binary\n    // socket, so there is still some room for performance tuning.\n    var ws = {};\n\n    ws.close = function() {\n        comm.close()\n    };\n    ws.send = function(m) {\n        //console.log('sending', m);\n        comm.send(m);\n    };\n    // Register the callback with on_msg.\n    comm.on_msg(function(msg) {\n        //console.log('receiving', msg['content']['data'], msg);\n        // Pass the mpl event to the overridden (by mpl) onmessage function.\n        ws.onmessage(msg['content']['data'])\n    });\n    return ws;\n}\n\nmpl.mpl_figure_comm = function(comm, msg) {\n    // This is the function which gets called when the mpl process\n    // starts-up an IPython Comm through the \"matplotlib\" channel.\n\n    var id = msg.content.data.id;\n    // Get hold of the div created by the display call when the Comm\n    // socket was opened in Python.\n    var element = $(\"#\" + id);\n    var ws_proxy = comm_websocket_adapter(comm)\n\n    function ondownload(figure, format) {\n        window.open(figure.imageObj.src);\n    }\n\n    var fig = new mpl.figure(id, ws_proxy,\n                           ondownload,\n                           element.get(0));\n\n    // Call onopen now - mpl needs it, as it is assuming we've passed it a real\n    // web socket which is closed, not our websocket->open comm proxy.\n    ws_proxy.onopen();\n\n    fig.parent_element = element.get(0);\n    fig.cell_info = mpl.find_output_cell(\"<div id='\" + id + \"'></div>\");\n    if (!fig.cell_info) {\n        console.error(\"Failed to find cell for figure\", id, fig);\n        return;\n    }\n\n    var output_index = fig.cell_info[2]\n    var cell = fig.cell_info[0];\n\n};\n\nmpl.figure.prototype.handle_close = function(fig, msg) {\n    var width = fig.canvas.width/mpl.ratio\n    fig.root.unbind('remove')\n\n    // Update the output cell to use the data from the current canvas.\n    fig.push_to_output();\n    var dataURL = fig.canvas.toDataURL();\n    // Re-enable the keyboard manager in IPython - without this line, in FF,\n    // the notebook keyboard shortcuts fail.\n    IPython.keyboard_manager.enable()\n    $(fig.parent_element).html('<img src=\"' + dataURL + '\" width=\"' + width + '\">');\n    fig.close_ws(fig, msg);\n}\n\nmpl.figure.prototype.close_ws = function(fig, msg){\n    fig.send_message('closing', msg);\n    // fig.ws.close()\n}\n\nmpl.figure.prototype.push_to_output = function(remove_interactive) {\n    // Turn the data on the canvas into data in the output cell.\n    var width = this.canvas.width/mpl.ratio\n    var dataURL = this.canvas.toDataURL();\n    this.cell_info[1]['text/html'] = '<img src=\"' + dataURL + '\" width=\"' + width + '\">';\n}\n\nmpl.figure.prototype.updated_canvas_event = function() {\n    // Tell IPython that the notebook contents must change.\n    IPython.notebook.set_dirty(true);\n    this.send_message(\"ack\", {});\n    var fig = this;\n    // Wait a second, then push the new image to the DOM so\n    // that it is saved nicely (might be nice to debounce this).\n    setTimeout(function () { fig.push_to_output() }, 1000);\n}\n\nmpl.figure.prototype._init_toolbar = function() {\n    var fig = this;\n\n    var nav_element = $('<div/>');\n    nav_element.attr('style', 'width: 100%');\n    this.root.append(nav_element);\n\n    // Define a callback function for later on.\n    function toolbar_event(event) {\n        return fig.toolbar_button_onclick(event['data']);\n    }\n    function toolbar_mouse_event(event) {\n        return fig.toolbar_button_onmouseover(event['data']);\n    }\n\n    for(var toolbar_ind in mpl.toolbar_items){\n        var name = mpl.toolbar_items[toolbar_ind][0];\n        var tooltip = mpl.toolbar_items[toolbar_ind][1];\n        var image = mpl.toolbar_items[toolbar_ind][2];\n        var method_name = mpl.toolbar_items[toolbar_ind][3];\n\n        if (!name) { continue; };\n\n        var button = $('<button class=\"btn btn-default\" href=\"#\" title=\"' + name + '\"><i class=\"fa ' + image + ' fa-lg\"></i></button>');\n        button.click(method_name, toolbar_event);\n        button.mouseover(tooltip, toolbar_mouse_event);\n        nav_element.append(button);\n    }\n\n    // Add the status bar.\n    var status_bar = $('<span class=\"mpl-message\" style=\"text-align:right; float: right;\"/>');\n    nav_element.append(status_bar);\n    this.message = status_bar[0];\n\n    // Add the close button to the window.\n    var buttongrp = $('<div class=\"btn-group inline pull-right\"></div>');\n    var button = $('<button class=\"btn btn-mini btn-primary\" href=\"#\" title=\"Stop Interaction\"><i class=\"fa fa-power-off icon-remove icon-large\"></i></button>');\n    button.click(function (evt) { fig.handle_close(fig, {}); } );\n    button.mouseover('Stop Interaction', toolbar_mouse_event);\n    buttongrp.append(button);\n    var titlebar = this.root.find($('.ui-dialog-titlebar'));\n    titlebar.prepend(buttongrp);\n}\n\nmpl.figure.prototype._root_extra_style = function(el){\n    var fig = this\n    el.on(\"remove\", function(){\n\tfig.close_ws(fig, {});\n    });\n}\n\nmpl.figure.prototype._canvas_extra_style = function(el){\n    // this is important to make the div 'focusable\n    el.attr('tabindex', 0)\n    // reach out to IPython and tell the keyboard manager to turn it's self\n    // off when our div gets focus\n\n    // location in version 3\n    if (IPython.notebook.keyboard_manager) {\n        IPython.notebook.keyboard_manager.register_events(el);\n    }\n    else {\n        // location in version 2\n        IPython.keyboard_manager.register_events(el);\n    }\n\n}\n\nmpl.figure.prototype._key_event_extra = function(event, name) {\n    var manager = IPython.notebook.keyboard_manager;\n    if (!manager)\n        manager = IPython.keyboard_manager;\n\n    // Check for shift+enter\n    if (event.shiftKey && event.which == 13) {\n        this.canvas_div.blur();\n        // select the cell after this one\n        var index = IPython.notebook.find_cell_index(this.cell_info[0]);\n        IPython.notebook.select(index + 1);\n    }\n}\n\nmpl.figure.prototype.handle_save = function(fig, msg) {\n    fig.ondownload(fig, null);\n}\n\n\nmpl.find_output_cell = function(html_output) {\n    // Return the cell and output element which can be found *uniquely* in the notebook.\n    // Note - this is a bit hacky, but it is done because the \"notebook_saving.Notebook\"\n    // IPython event is triggered only after the cells have been serialised, which for\n    // our purposes (turning an active figure into a static one), is too late.\n    var cells = IPython.notebook.get_cells();\n    var ncells = cells.length;\n    for (var i=0; i<ncells; i++) {\n        var cell = cells[i];\n        if (cell.cell_type === 'code'){\n            for (var j=0; j<cell.output_area.outputs.length; j++) {\n                var data = cell.output_area.outputs[j];\n                if (data.data) {\n                    // IPython >= 3 moved mimebundle to data attribute of output\n                    data = data.data;\n                }\n                if (data['text/html'] == html_output) {\n                    return [cell, data, j];\n                }\n            }\n        }\n    }\n}\n\n// Register the function which deals with the matplotlib target/channel.\n// The kernel may be null if the page has been refreshed.\nif (IPython.notebook.kernel != null) {\n    IPython.notebook.kernel.comm_manager.register_target('matplotlib', mpl.mpl_figure_comm);\n}\n",
          "text/plain": "<IPython.core.display.Javascript object>"
         },
         "metadata": {},
         "output_type": "display_data"
        },
        {
         "data": {
          "text/html": "<div id='df1b3b11-b97b-4aa5-bb94-d0fd91a3ed87'></div>",
          "text/plain": "<IPython.core.display.HTML object>"
         },
         "metadata": {},
         "output_type": "display_data"
        },
        {
         "name": "stdout",
         "output_type": "stream",
         "text": "\n  T (K)   X(Mg)sol  X(Fe)sol  X(Mg)liq  X(Fe)liq\n 1836.95    0.00      1.00      0.00      1.00  \n 1884.12    0.16      0.84      0.03      0.97  \n 1931.30    0.29      0.71      0.07      0.93  \n 1978.48    0.40      0.60      0.11      0.89  \n 2025.65    0.50      0.50      0.15      0.85  \n 2072.83    0.58      0.42      0.20      0.80  \n 2120.00    0.65      0.35      0.26      0.74  \n 2167.18    0.71      0.29      0.32      0.68  \n 2214.35    0.76      0.24      0.39      0.61  \n 2261.53    0.81      0.19      0.46      0.54  \n 2308.70    0.86      0.14      0.55      0.45  \n 2355.88    0.90      0.10      0.64      0.36  \n 2403.05    0.93      0.07      0.75      0.25  \n 2450.23    0.97      0.03      0.87      0.13  \n 2497.40    1.00      0.00      1.00      0.00  \n"
        }
       ]
      }
     },
     "5985a96d7b8f41a78ab098985827c732": {
      "model_module": "@jupyter-widgets/controls",
      "model_module_version": "1.5.0",
      "model_name": "ButtonModel",
      "state": {
       "description": "Run Interact",
       "layout": "IPY_MODEL_c61777911e054994b01d3d2c566905ad",
       "style": "IPY_MODEL_8b4e2b4114f24a7fb95b07ef9f0349a9"
      }
     },
     "59a47bbf8fae4b43977da78c415ab4a3": {
      "model_module": "@jupyter-widgets/controls",
      "model_module_version": "1.5.0",
      "model_name": "FloatSliderModel",
      "state": {
       "description": "ip",
       "layout": "IPY_MODEL_4840b1dbb2f8407ea0aeb1c002b03e6f",
       "max": 5,
       "step": 0.1,
       "style": "IPY_MODEL_cf47fc66fba24d06b5cd4519befb4bab",
       "value": 0.9
      }
     },
     "59c40e65e4134577a2805084464d5431": {
      "model_module": "@jupyter-widgets/base",
      "model_module_version": "1.2.0",
      "model_name": "LayoutModel",
      "state": {}
     },
     "5b06176872f4410a8e43ab3e28f83ac0": {
      "model_module": "@jupyter-widgets/base",
      "model_module_version": "1.2.0",
      "model_name": "LayoutModel",
      "state": {}
     },
     "5b0a88cc26134c609c410bd1be10ef4f": {
      "model_module": "@jupyter-widgets/controls",
      "model_module_version": "1.5.0",
      "model_name": "ButtonModel",
      "state": {
       "description": "Run Interact",
       "layout": "IPY_MODEL_d026742a41e941249b0f001ff7720985",
       "style": "IPY_MODEL_ad52ddddaea040f380605e6e302e21c4"
      }
     },
     "5d160ce6b69a4dc0917774d5e512d84c": {
      "model_module": "@jupyter-widgets/controls",
      "model_module_version": "1.5.0",
      "model_name": "SliderStyleModel",
      "state": {
       "description_width": ""
      }
     },
     "5d628907242947e5b7527ce96b8014c7": {
      "model_module": "@jupyter-widgets/controls",
      "model_module_version": "1.5.0",
      "model_name": "IntSliderModel",
      "state": {
       "description": "nt",
       "layout": "IPY_MODEL_9d342579f6324f7db25ab9d7fde6e5af",
       "max": 30,
       "min": 10,
       "step": 5,
       "style": "IPY_MODEL_b102433eb07a46c78ba4f56004c80fd8",
       "value": 10
      }
     },
     "5e8617c3ab764dae94c723b4ef0c1b12": {
      "model_module": "@jupyter-widgets/controls",
      "model_module_version": "1.5.0",
      "model_name": "FloatSliderModel",
      "state": {
       "description": "ip",
       "layout": "IPY_MODEL_0430b3d9604c4de2955934d706cb5d36",
       "max": 10,
       "step": 0.2,
       "style": "IPY_MODEL_45dc992d9aba47ca9de8e2bfbbab55c3",
       "value": 10
      }
     },
     "5f41e23927f9476e901d6625ee91f64a": {
      "model_module": "@jupyter-widgets/controls",
      "model_module_version": "1.5.0",
      "model_name": "SliderStyleModel",
      "state": {
       "description_width": ""
      }
     },
     "6072a8a168ea40879a7cf9b15d670432": {
      "model_module": "@jupyter-widgets/controls",
      "model_module_version": "1.5.0",
      "model_name": "IntSliderModel",
      "state": {
       "description": "nt",
       "layout": "IPY_MODEL_297c49b16ba945e2be05909759f8330f",
       "max": 30,
       "min": 10,
       "step": 5,
       "style": "IPY_MODEL_9553e918be15460c856f7557cba51465",
       "value": 10
      }
     },
     "60853f8b923d4f7d8287a2eead2c08ad": {
      "model_module": "@jupyter-widgets/controls",
      "model_module_version": "1.5.0",
      "model_name": "ButtonModel",
      "state": {
       "description": "Run Interact",
       "layout": "IPY_MODEL_a3582a6b0b9b497cb7dbee9021c2e03a",
       "style": "IPY_MODEL_c7b438b399754203b5b0787e1e692f0e"
      }
     },
     "615db239fcb74cd4989836de73e9af5a": {
      "model_module": "@jupyter-widgets/base",
      "model_module_version": "1.2.0",
      "model_name": "LayoutModel",
      "state": {}
     },
     "623b269dec034247a0670ae003bc56f4": {
      "model_module": "@jupyter-widgets/base",
      "model_module_version": "1.2.0",
      "model_name": "LayoutModel",
      "state": {}
     },
     "6251437c70264684be64e12ce3eba6c6": {
      "model_module": "@jupyter-widgets/base",
      "model_module_version": "1.2.0",
      "model_name": "LayoutModel",
      "state": {}
     },
     "640d2633d4db4d3e83e08d48b76f7868": {
      "model_module": "@jupyter-widgets/controls",
      "model_module_version": "1.5.0",
      "model_name": "VBoxModel",
      "state": {
       "_dom_classes": [
        "widget-interact"
       ],
       "children": [
        "IPY_MODEL_ea36477e8d1b4b91b3d1caec950ea37d",
        "IPY_MODEL_b700a533d86d42b786554da78200c328",
        "IPY_MODEL_2b591bbae93841e59e2615b739d27665",
        "IPY_MODEL_17865b5129664c5089528a4c626cef8f"
       ],
       "layout": "IPY_MODEL_7a4da1ae85554afe9a2c9cf3d3ce66ed"
      }
     },
     "642a37208a944d6e8f7a55099a2b9002": {
      "model_module": "@jupyter-widgets/controls",
      "model_module_version": "1.5.0",
      "model_name": "FloatSliderModel",
      "state": {
       "description": "ip",
       "layout": "IPY_MODEL_f86d1c126a1b47b18cfcd14fade66338",
       "max": 5,
       "step": 0.1,
       "style": "IPY_MODEL_2702f68bea4f4b0c8c07b46ed3d7f4e3"
      }
     },
     "644f226d35124c5bb31cadfc990d9e6a": {
      "model_module": "@jupyter-widgets/output",
      "model_module_version": "1.0.0",
      "model_name": "OutputModel",
      "state": {
       "layout": "IPY_MODEL_80887143925c4f3384e1b6c1c2bf051c",
       "outputs": [
        {
         "name": "stdout",
         "output_type": "stream",
         "text": "Temperatura di fusione della forsterite: 2230.00 K\nTemperatura di fusione della fayalite: 1562.67 K\n"
        },
        {
         "data": {
          "image/png": "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\n",
          "text/plain": "<Figure size 432x288 with 1 Axes>"
         },
         "metadata": {
          "needs_background": "light"
         },
         "output_type": "display_data"
        },
        {
         "name": "stdout",
         "output_type": "stream",
         "text": "\n  T (K)   X(Mg)sol  X(Fe)sol  X(Mg)liq  X(Fe)liq\n 1562.67    0.00      1.00      0.00      1.00  \n 1636.82    0.31      0.69      0.05      0.95  \n 1710.96    0.52      0.48      0.10      0.90  \n 1785.11    0.66      0.34      0.17      0.83  \n 1859.26    0.76      0.24      0.24      0.76  \n 1933.41    0.84      0.16      0.34      0.66  \n 2007.56    0.90      0.10      0.46      0.54  \n 2081.70    0.94      0.06      0.60      0.40  \n 2155.85    0.97      0.03      0.78      0.22  \n 2230.00    1.00      0.00      1.00      0.00  \n"
        }
       ]
      }
     },
     "64587af2db62492a97e64783095890a1": {
      "model_module": "@jupyter-widgets/controls",
      "model_module_version": "1.5.0",
      "model_name": "FloatSliderModel",
      "state": {
       "description": "ip",
       "layout": "IPY_MODEL_bc28a83274e34916a32cfe52d8e34eca",
       "max": 5,
       "step": 0.1,
       "style": "IPY_MODEL_8ea681875cf049da9656fd89da65b804"
      }
     },
     "65058f96c9bb46199db045b2b06b6a52": {
      "model_module": "@jupyter-widgets/controls",
      "model_module_version": "1.5.0",
      "model_name": "IntSliderModel",
      "state": {
       "description": "nt",
       "layout": "IPY_MODEL_fa51c89284b6470bafcf1719883880ea",
       "max": 30,
       "min": 10,
       "step": 5,
       "style": "IPY_MODEL_404ba688b85347ba81a258c419112cbd",
       "value": 10
      }
     },
     "65589cabb3684bdbafa01f36a8ba4f37": {
      "model_module": "@jupyter-widgets/controls",
      "model_module_version": "1.5.0",
      "model_name": "VBoxModel",
      "state": {
       "_dom_classes": [
        "widget-interact"
       ],
       "children": [
        "IPY_MODEL_59a47bbf8fae4b43977da78c415ab4a3",
        "IPY_MODEL_9d0473d545194c48928d7dd222a3837d",
        "IPY_MODEL_bed17974cbf44224b96874f5948f39be"
       ],
       "layout": "IPY_MODEL_6251437c70264684be64e12ce3eba6c6"
      }
     },
     "65e4958be792451b8906919e5068c459": {
      "model_module": "@jupyter-widgets/controls",
      "model_module_version": "1.5.0",
      "model_name": "IntSliderModel",
      "state": {
       "description": "nt",
       "layout": "IPY_MODEL_66677e5db8b14e938cfb83f841044914",
       "max": 30,
       "min": 10,
       "step": 5,
       "style": "IPY_MODEL_1871c002aff64cda8b88ff362eaa69ba",
       "value": 10
      }
     },
     "65e6477f2c3244609d2a33794ddf3f22": {
      "model_module": "@jupyter-widgets/output",
      "model_module_version": "1.0.0",
      "model_name": "OutputModel",
      "state": {
       "layout": "IPY_MODEL_27f2f460e50e42ef91407e9955e57e09"
      }
     },
     "66677e5db8b14e938cfb83f841044914": {
      "model_module": "@jupyter-widgets/base",
      "model_module_version": "1.2.0",
      "model_name": "LayoutModel",
      "state": {}
     },
     "67691575650f4e8cb1417273743a3185": {
      "model_module": "@jupyter-widgets/controls",
      "model_module_version": "1.5.0",
      "model_name": "SliderStyleModel",
      "state": {
       "description_width": ""
      }
     },
     "676cc5ba0f4145b2885a77a30a2ed4d0": {
      "model_module": "@jupyter-widgets/controls",
      "model_module_version": "1.5.0",
      "model_name": "SliderStyleModel",
      "state": {
       "description_width": ""
      }
     },
     "67961303040d4e4e8881783eb764000b": {
      "model_module": "@jupyter-widgets/base",
      "model_module_version": "1.2.0",
      "model_name": "LayoutModel",
      "state": {}
     },
     "687d90a44fca49a9b05206de77748f91": {
      "model_module": "@jupyter-widgets/controls",
      "model_module_version": "1.5.0",
      "model_name": "SliderStyleModel",
      "state": {
       "description_width": ""
      }
     },
     "68f56e52e22d401ab8dc7d2fc8f9c30e": {
      "model_module": "@jupyter-widgets/controls",
      "model_module_version": "1.5.0",
      "model_name": "SliderStyleModel",
      "state": {
       "description_width": ""
      }
     },
     "6919d07975824eb799f3df2701d8da7a": {
      "model_module": "@jupyter-widgets/base",
      "model_module_version": "1.2.0",
      "model_name": "LayoutModel",
      "state": {}
     },
     "69307d9db6cb48539333a13404eee3b5": {
      "model_module": "@jupyter-widgets/controls",
      "model_module_version": "1.5.0",
      "model_name": "SliderStyleModel",
      "state": {
       "description_width": ""
      }
     },
     "693a68dbed0342689475d19a01982786": {
      "model_module": "@jupyter-widgets/controls",
      "model_module_version": "1.5.0",
      "model_name": "VBoxModel",
      "state": {
       "_dom_classes": [
        "widget-interact"
       ],
       "children": [
        "IPY_MODEL_3e6b3c2c50f34604aef679303543a7bd",
        "IPY_MODEL_cf60f36a2ee740ce83e4f82a4b6b1b18",
        "IPY_MODEL_0c2160345389473fbad18f19576dea04",
        "IPY_MODEL_28870191aa974e24b979f232efd9ab54"
       ],
       "layout": "IPY_MODEL_b521298282fc48a9962bee2814071436"
      }
     },
     "69840a5ae6e0419fba00b291ad712963": {
      "model_module": "@jupyter-widgets/controls",
      "model_module_version": "1.5.0",
      "model_name": "SliderStyleModel",
      "state": {
       "description_width": ""
      }
     },
     "69f0fb8495204a1cb0d01e06dcb39c20": {
      "model_module": "@jupyter-widgets/output",
      "model_module_version": "1.0.0",
      "model_name": "OutputModel",
      "state": {
       "layout": "IPY_MODEL_769a5270a38e43ab884767d118a4da59"
      }
     },
     "6aced1c8ff064c288894bb9360044bf4": {
      "model_module": "@jupyter-widgets/base",
      "model_module_version": "1.2.0",
      "model_name": "LayoutModel",
      "state": {}
     },
     "6bc6169c704c452890148659b4282e14": {
      "model_module": "@jupyter-widgets/base",
      "model_module_version": "1.2.0",
      "model_name": "LayoutModel",
      "state": {}
     },
     "6c8a166484184030932618571e0950da": {
      "model_module": "@jupyter-widgets/controls",
      "model_module_version": "1.5.0",
      "model_name": "ButtonModel",
      "state": {
       "description": "Run Interact",
       "layout": "IPY_MODEL_1422171be53e4dd3bd45e7870b414c7c",
       "style": "IPY_MODEL_ab5a8527f9864f9eabee7aa393852458"
      }
     },
     "6cfcd0730bb8402885310fedb0666c08": {
      "model_module": "@jupyter-widgets/base",
      "model_module_version": "1.2.0",
      "model_name": "LayoutModel",
      "state": {}
     },
     "6d169c61060a4278bf19ec200a376ad1": {
      "model_module": "@jupyter-widgets/base",
      "model_module_version": "1.2.0",
      "model_name": "LayoutModel",
      "state": {}
     },
     "6e22ce8ddce5462a90d6321ab8b5f850": {
      "model_module": "@jupyter-widgets/controls",
      "model_module_version": "1.5.0",
      "model_name": "IntSliderModel",
      "state": {
       "description": "nt",
       "layout": "IPY_MODEL_fba5d43c4e8048fa9c9fdcb89cc42d8a",
       "max": 30,
       "min": 10,
       "step": 5,
       "style": "IPY_MODEL_b97bd8745dcd4451b90b192dc4a8514c",
       "value": 10
      }
     },
     "6e44c65af63b4803827813af95ecc1cf": {
      "model_module": "@jupyter-widgets/controls",
      "model_module_version": "1.5.0",
      "model_name": "FloatSliderModel",
      "state": {
       "description": "ip",
       "layout": "IPY_MODEL_120701a502ca4fa5928fd52edd4fda81",
       "max": 5,
       "step": 0.1,
       "style": "IPY_MODEL_ddaaca7ad4644ee089a98fd120bee3b9"
      }
     },
     "6eab74a735644faab8d5c19a37d4ff8a": {
      "model_module": "@jupyter-widgets/base",
      "model_module_version": "1.2.0",
      "model_name": "LayoutModel",
      "state": {}
     },
     "6fb51c4d3d624eaba5dfca2fe44cd66f": {
      "model_module": "@jupyter-widgets/base",
      "model_module_version": "1.2.0",
      "model_name": "LayoutModel",
      "state": {}
     },
     "70ccccb2e7b04780960587009226c43f": {
      "model_module": "@jupyter-widgets/controls",
      "model_module_version": "1.5.0",
      "model_name": "ButtonModel",
      "state": {
       "description": "Run Interact",
       "layout": "IPY_MODEL_cd695e4de7934c30bf248ce6dccebecd",
       "style": "IPY_MODEL_ac92b64518774b09a9f1189067e27679"
      }
     },
     "711f1141263846bbafb731932733726c": {
      "model_module": "@jupyter-widgets/base",
      "model_module_version": "1.2.0",
      "model_name": "LayoutModel",
      "state": {}
     },
     "71ad91a1cea54e1198f17a2a49069ab2": {
      "model_module": "@jupyter-widgets/controls",
      "model_module_version": "1.5.0",
      "model_name": "FloatSliderModel",
      "state": {
       "description": "tfmax",
       "layout": "IPY_MODEL_d0a94550cbc74a668c20bfc3be245829",
       "max": 3000,
       "step": 10,
       "style": "IPY_MODEL_e03232ad1a1447549b02303e647bb1b4",
       "value": 3000
      }
     },
     "71c902b4bd9b46b293c1855e15e9ce46": {
      "model_module": "@jupyter-widgets/base",
      "model_module_version": "1.2.0",
      "model_name": "LayoutModel",
      "state": {}
     },
     "7260d7fbdb0d41bfbe8ebfff7bf40b34": {
      "model_module": "@jupyter-widgets/base",
      "model_module_version": "1.2.0",
      "model_name": "LayoutModel",
      "state": {}
     },
     "73ce1f6932aa4ee4856a4bed7396aae8": {
      "model_module": "@jupyter-widgets/controls",
      "model_module_version": "1.5.0",
      "model_name": "ButtonStyleModel",
      "state": {}
     },
     "73db503de9a141ee86c75eb48de2304e": {
      "model_module": "@jupyter-widgets/base",
      "model_module_version": "1.2.0",
      "model_name": "LayoutModel",
      "state": {}
     },
     "7423ec2f8ed5493ead08908348e65049": {
      "model_module": "@jupyter-widgets/controls",
      "model_module_version": "1.5.0",
      "model_name": "ButtonStyleModel",
      "state": {}
     },
     "74a287caba2e4fe9bbceb719cc7ab68b": {
      "model_module": "@jupyter-widgets/controls",
      "model_module_version": "1.5.0",
      "model_name": "SliderStyleModel",
      "state": {
       "description_width": ""
      }
     },
     "74f6f483b39c458380c618f217a18dcf": {
      "model_module": "@jupyter-widgets/base",
      "model_module_version": "1.2.0",
      "model_name": "LayoutModel",
      "state": {}
     },
     "753f4ca516f645208ab026ac22e3a437": {
      "model_module": "@jupyter-widgets/output",
      "model_module_version": "1.0.0",
      "model_name": "OutputModel",
      "state": {
       "layout": "IPY_MODEL_560f92bdfb8d4a7f8346586effc23bf9"
      }
     },
     "7541fa3c04e34c85b24f72bd31a44314": {
      "model_module": "@jupyter-widgets/controls",
      "model_module_version": "1.5.0",
      "model_name": "IntSliderModel",
      "state": {
       "description": "nt",
       "layout": "IPY_MODEL_930e2e882a8447ec977a011ee2989192",
       "max": 30,
       "min": 10,
       "step": 5,
       "style": "IPY_MODEL_faa24ebad27c445bbd37167dbe5c5984",
       "value": 10
      }
     },
     "75c0c52b4ca0417ca52d5d2d935de60d": {
      "model_module": "@jupyter-widgets/controls",
      "model_module_version": "1.5.0",
      "model_name": "ButtonStyleModel",
      "state": {}
     },
     "769a5270a38e43ab884767d118a4da59": {
      "model_module": "@jupyter-widgets/base",
      "model_module_version": "1.2.0",
      "model_name": "LayoutModel",
      "state": {}
     },
     "76d3efeed54f4e28b125e5c7bf881d8a": {
      "model_module": "@jupyter-widgets/base",
      "model_module_version": "1.2.0",
      "model_name": "LayoutModel",
      "state": {}
     },
     "782406e125944a8ca3d0bdb58caf6f0d": {
      "model_module": "@jupyter-widgets/output",
      "model_module_version": "1.0.0",
      "model_name": "OutputModel",
      "state": {
       "layout": "IPY_MODEL_3c89830801aa43998e72f9223b1d3ad1",
       "outputs": [
        {
         "name": "stdout",
         "output_type": "stream",
         "text": "Temperatura di fusione della forsterite: 2161.01 K\nTemperatura di fusione della fayalite: 1480.31 K\n"
        },
        {
         "data": {
          "application/javascript": "/* Put everything inside the global mpl namespace */\nwindow.mpl = {};\n\n\nmpl.get_websocket_type = function() {\n    if (typeof(WebSocket) !== 'undefined') {\n        return WebSocket;\n    } else if (typeof(MozWebSocket) !== 'undefined') {\n        return MozWebSocket;\n    } else {\n        alert('Your browser does not have WebSocket support. ' +\n              'Please try Chrome, Safari or Firefox ≥ 6. ' +\n              'Firefox 4 and 5 are also supported but you ' +\n              'have to enable WebSockets in about:config.');\n    };\n}\n\nmpl.figure = function(figure_id, websocket, ondownload, parent_element) {\n    this.id = figure_id;\n\n    this.ws = websocket;\n\n    this.supports_binary = (this.ws.binaryType != undefined);\n\n    if (!this.supports_binary) {\n        var warnings = document.getElementById(\"mpl-warnings\");\n        if (warnings) {\n            warnings.style.display = 'block';\n            warnings.textContent = (\n                \"This browser does not support binary websocket messages. \" +\n                    \"Performance may be slow.\");\n        }\n    }\n\n    this.imageObj = new Image();\n\n    this.context = undefined;\n    this.message = undefined;\n    this.canvas = undefined;\n    this.rubberband_canvas = undefined;\n    this.rubberband_context = undefined;\n    this.format_dropdown = undefined;\n\n    this.image_mode = 'full';\n\n    this.root = $('<div/>');\n    this._root_extra_style(this.root)\n    this.root.attr('style', 'display: inline-block');\n\n    $(parent_element).append(this.root);\n\n    this._init_header(this);\n    this._init_canvas(this);\n    this._init_toolbar(this);\n\n    var fig = this;\n\n    this.waiting = false;\n\n    this.ws.onopen =  function () {\n            fig.send_message(\"supports_binary\", {value: fig.supports_binary});\n            fig.send_message(\"send_image_mode\", {});\n            if (mpl.ratio != 1) {\n                fig.send_message(\"set_dpi_ratio\", {'dpi_ratio': mpl.ratio});\n            }\n            fig.send_message(\"refresh\", {});\n        }\n\n    this.imageObj.onload = function() {\n            if (fig.image_mode == 'full') {\n                // Full images could contain transparency (where diff images\n                // almost always do), so we need to clear the canvas so that\n                // there is no ghosting.\n                fig.context.clearRect(0, 0, fig.canvas.width, fig.canvas.height);\n            }\n            fig.context.drawImage(fig.imageObj, 0, 0);\n        };\n\n    this.imageObj.onunload = function() {\n        fig.ws.close();\n    }\n\n    this.ws.onmessage = this._make_on_message_function(this);\n\n    this.ondownload = ondownload;\n}\n\nmpl.figure.prototype._init_header = function() {\n    var titlebar = $(\n        '<div class=\"ui-dialog-titlebar ui-widget-header ui-corner-all ' +\n        'ui-helper-clearfix\"/>');\n    var titletext = $(\n        '<div class=\"ui-dialog-title\" style=\"width: 100%; ' +\n        'text-align: center; padding: 3px;\"/>');\n    titlebar.append(titletext)\n    this.root.append(titlebar);\n    this.header = titletext[0];\n}\n\n\n\nmpl.figure.prototype._canvas_extra_style = function(canvas_div) {\n\n}\n\n\nmpl.figure.prototype._root_extra_style = function(canvas_div) {\n\n}\n\nmpl.figure.prototype._init_canvas = function() {\n    var fig = this;\n\n    var canvas_div = $('<div/>');\n\n    canvas_div.attr('style', 'position: relative; clear: both; outline: 0');\n\n    function canvas_keyboard_event(event) {\n        return fig.key_event(event, event['data']);\n    }\n\n    canvas_div.keydown('key_press', canvas_keyboard_event);\n    canvas_div.keyup('key_release', canvas_keyboard_event);\n    this.canvas_div = canvas_div\n    this._canvas_extra_style(canvas_div)\n    this.root.append(canvas_div);\n\n    var canvas = $('<canvas/>');\n    canvas.addClass('mpl-canvas');\n    canvas.attr('style', \"left: 0; top: 0; z-index: 0; outline: 0\")\n\n    this.canvas = canvas[0];\n    this.context = canvas[0].getContext(\"2d\");\n\n    var backingStore = this.context.backingStorePixelRatio ||\n\tthis.context.webkitBackingStorePixelRatio ||\n\tthis.context.mozBackingStorePixelRatio ||\n\tthis.context.msBackingStorePixelRatio ||\n\tthis.context.oBackingStorePixelRatio ||\n\tthis.context.backingStorePixelRatio || 1;\n\n    mpl.ratio = (window.devicePixelRatio || 1) / backingStore;\n\n    var rubberband = $('<canvas/>');\n    rubberband.attr('style', \"position: absolute; left: 0; top: 0; z-index: 1;\")\n\n    var pass_mouse_events = true;\n\n    canvas_div.resizable({\n        start: function(event, ui) {\n            pass_mouse_events = false;\n        },\n        resize: function(event, ui) {\n            fig.request_resize(ui.size.width, ui.size.height);\n        },\n        stop: function(event, ui) {\n            pass_mouse_events = true;\n            fig.request_resize(ui.size.width, ui.size.height);\n        },\n    });\n\n    function mouse_event_fn(event) {\n        if (pass_mouse_events)\n            return fig.mouse_event(event, event['data']);\n    }\n\n    rubberband.mousedown('button_press', mouse_event_fn);\n    rubberband.mouseup('button_release', mouse_event_fn);\n    // Throttle sequential mouse events to 1 every 20ms.\n    rubberband.mousemove('motion_notify', mouse_event_fn);\n\n    rubberband.mouseenter('figure_enter', mouse_event_fn);\n    rubberband.mouseleave('figure_leave', mouse_event_fn);\n\n    canvas_div.on(\"wheel\", function (event) {\n        event = event.originalEvent;\n        event['data'] = 'scroll'\n        if (event.deltaY < 0) {\n            event.step = 1;\n        } else {\n            event.step = -1;\n        }\n        mouse_event_fn(event);\n    });\n\n    canvas_div.append(canvas);\n    canvas_div.append(rubberband);\n\n    this.rubberband = rubberband;\n    this.rubberband_canvas = rubberband[0];\n    this.rubberband_context = rubberband[0].getContext(\"2d\");\n    this.rubberband_context.strokeStyle = \"#000000\";\n\n    this._resize_canvas = function(width, height) {\n        // Keep the size of the canvas, canvas container, and rubber band\n        // canvas in synch.\n        canvas_div.css('width', width)\n        canvas_div.css('height', height)\n\n        canvas.attr('width', width * mpl.ratio);\n        canvas.attr('height', height * mpl.ratio);\n        canvas.attr('style', 'width: ' + width + 'px; height: ' + height + 'px;');\n\n        rubberband.attr('width', width);\n        rubberband.attr('height', height);\n    }\n\n    // Set the figure to an initial 600x600px, this will subsequently be updated\n    // upon first draw.\n    this._resize_canvas(600, 600);\n\n    // Disable right mouse context menu.\n    $(this.rubberband_canvas).bind(\"contextmenu\",function(e){\n        return false;\n    });\n\n    function set_focus () {\n        canvas.focus();\n        canvas_div.focus();\n    }\n\n    window.setTimeout(set_focus, 100);\n}\n\nmpl.figure.prototype._init_toolbar = function() {\n    var fig = this;\n\n    var nav_element = $('<div/>');\n    nav_element.attr('style', 'width: 100%');\n    this.root.append(nav_element);\n\n    // Define a callback function for later on.\n    function toolbar_event(event) {\n        return fig.toolbar_button_onclick(event['data']);\n    }\n    function toolbar_mouse_event(event) {\n        return fig.toolbar_button_onmouseover(event['data']);\n    }\n\n    for(var toolbar_ind in mpl.toolbar_items) {\n        var name = mpl.toolbar_items[toolbar_ind][0];\n        var tooltip = mpl.toolbar_items[toolbar_ind][1];\n        var image = mpl.toolbar_items[toolbar_ind][2];\n        var method_name = mpl.toolbar_items[toolbar_ind][3];\n\n        if (!name) {\n            // put a spacer in here.\n            continue;\n        }\n        var button = $('<button/>');\n        button.addClass('ui-button ui-widget ui-state-default ui-corner-all ' +\n                        'ui-button-icon-only');\n        button.attr('role', 'button');\n        button.attr('aria-disabled', 'false');\n        button.click(method_name, toolbar_event);\n        button.mouseover(tooltip, toolbar_mouse_event);\n\n        var icon_img = $('<span/>');\n        icon_img.addClass('ui-button-icon-primary ui-icon');\n        icon_img.addClass(image);\n        icon_img.addClass('ui-corner-all');\n\n        var tooltip_span = $('<span/>');\n        tooltip_span.addClass('ui-button-text');\n        tooltip_span.html(tooltip);\n\n        button.append(icon_img);\n        button.append(tooltip_span);\n\n        nav_element.append(button);\n    }\n\n    var fmt_picker_span = $('<span/>');\n\n    var fmt_picker = $('<select/>');\n    fmt_picker.addClass('mpl-toolbar-option ui-widget ui-widget-content');\n    fmt_picker_span.append(fmt_picker);\n    nav_element.append(fmt_picker_span);\n    this.format_dropdown = fmt_picker[0];\n\n    for (var ind in mpl.extensions) {\n        var fmt = mpl.extensions[ind];\n        var option = $(\n            '<option/>', {selected: fmt === mpl.default_extension}).html(fmt);\n        fmt_picker.append(option);\n    }\n\n    // Add hover states to the ui-buttons\n    $( \".ui-button\" ).hover(\n        function() { $(this).addClass(\"ui-state-hover\");},\n        function() { $(this).removeClass(\"ui-state-hover\");}\n    );\n\n    var status_bar = $('<span class=\"mpl-message\"/>');\n    nav_element.append(status_bar);\n    this.message = status_bar[0];\n}\n\nmpl.figure.prototype.request_resize = function(x_pixels, y_pixels) {\n    // Request matplotlib to resize the figure. Matplotlib will then trigger a resize in the client,\n    // which will in turn request a refresh of the image.\n    this.send_message('resize', {'width': x_pixels, 'height': y_pixels});\n}\n\nmpl.figure.prototype.send_message = function(type, properties) {\n    properties['type'] = type;\n    properties['figure_id'] = this.id;\n    this.ws.send(JSON.stringify(properties));\n}\n\nmpl.figure.prototype.send_draw_message = function() {\n    if (!this.waiting) {\n        this.waiting = true;\n        this.ws.send(JSON.stringify({type: \"draw\", figure_id: this.id}));\n    }\n}\n\n\nmpl.figure.prototype.handle_save = function(fig, msg) {\n    var format_dropdown = fig.format_dropdown;\n    var format = format_dropdown.options[format_dropdown.selectedIndex].value;\n    fig.ondownload(fig, format);\n}\n\n\nmpl.figure.prototype.handle_resize = function(fig, msg) {\n    var size = msg['size'];\n    if (size[0] != fig.canvas.width || size[1] != fig.canvas.height) {\n        fig._resize_canvas(size[0], size[1]);\n        fig.send_message(\"refresh\", {});\n    };\n}\n\nmpl.figure.prototype.handle_rubberband = function(fig, msg) {\n    var x0 = msg['x0'] / mpl.ratio;\n    var y0 = (fig.canvas.height - msg['y0']) / mpl.ratio;\n    var x1 = msg['x1'] / mpl.ratio;\n    var y1 = (fig.canvas.height - msg['y1']) / mpl.ratio;\n    x0 = Math.floor(x0) + 0.5;\n    y0 = Math.floor(y0) + 0.5;\n    x1 = Math.floor(x1) + 0.5;\n    y1 = Math.floor(y1) + 0.5;\n    var min_x = Math.min(x0, x1);\n    var min_y = Math.min(y0, y1);\n    var width = Math.abs(x1 - x0);\n    var height = Math.abs(y1 - y0);\n\n    fig.rubberband_context.clearRect(\n        0, 0, fig.canvas.width / mpl.ratio, fig.canvas.height / mpl.ratio);\n\n    fig.rubberband_context.strokeRect(min_x, min_y, width, height);\n}\n\nmpl.figure.prototype.handle_figure_label = function(fig, msg) {\n    // Updates the figure title.\n    fig.header.textContent = msg['label'];\n}\n\nmpl.figure.prototype.handle_cursor = function(fig, msg) {\n    var cursor = msg['cursor'];\n    switch(cursor)\n    {\n    case 0:\n        cursor = 'pointer';\n        break;\n    case 1:\n        cursor = 'default';\n        break;\n    case 2:\n        cursor = 'crosshair';\n        break;\n    case 3:\n        cursor = 'move';\n        break;\n    }\n    fig.rubberband_canvas.style.cursor = cursor;\n}\n\nmpl.figure.prototype.handle_message = function(fig, msg) {\n    fig.message.textContent = msg['message'];\n}\n\nmpl.figure.prototype.handle_draw = function(fig, msg) {\n    // Request the server to send over a new figure.\n    fig.send_draw_message();\n}\n\nmpl.figure.prototype.handle_image_mode = function(fig, msg) {\n    fig.image_mode = msg['mode'];\n}\n\nmpl.figure.prototype.updated_canvas_event = function() {\n    // Called whenever the canvas gets updated.\n    this.send_message(\"ack\", {});\n}\n\n// A function to construct a web socket function for onmessage handling.\n// Called in the figure constructor.\nmpl.figure.prototype._make_on_message_function = function(fig) {\n    return function socket_on_message(evt) {\n        if (evt.data instanceof Blob) {\n            /* FIXME: We get \"Resource interpreted as Image but\n             * transferred with MIME type text/plain:\" errors on\n             * Chrome.  But how to set the MIME type?  It doesn't seem\n             * to be part of the websocket stream */\n            evt.data.type = \"image/png\";\n\n            /* Free the memory for the previous frames */\n            if (fig.imageObj.src) {\n                (window.URL || window.webkitURL).revokeObjectURL(\n                    fig.imageObj.src);\n            }\n\n            fig.imageObj.src = (window.URL || window.webkitURL).createObjectURL(\n                evt.data);\n            fig.updated_canvas_event();\n            fig.waiting = false;\n            return;\n        }\n        else if (typeof evt.data === 'string' && evt.data.slice(0, 21) == \"data:image/png;base64\") {\n            fig.imageObj.src = evt.data;\n            fig.updated_canvas_event();\n            fig.waiting = false;\n            return;\n        }\n\n        var msg = JSON.parse(evt.data);\n        var msg_type = msg['type'];\n\n        // Call the  \"handle_{type}\" callback, which takes\n        // the figure and JSON message as its only arguments.\n        try {\n            var callback = fig[\"handle_\" + msg_type];\n        } catch (e) {\n            console.log(\"No handler for the '\" + msg_type + \"' message type: \", msg);\n            return;\n        }\n\n        if (callback) {\n            try {\n                // console.log(\"Handling '\" + msg_type + \"' message: \", msg);\n                callback(fig, msg);\n            } catch (e) {\n                console.log(\"Exception inside the 'handler_\" + msg_type + \"' callback:\", e, e.stack, msg);\n            }\n        }\n    };\n}\n\n// from http://stackoverflow.com/questions/1114465/getting-mouse-location-in-canvas\nmpl.findpos = function(e) {\n    //this section is from http://www.quirksmode.org/js/events_properties.html\n    var targ;\n    if (!e)\n        e = window.event;\n    if (e.target)\n        targ = e.target;\n    else if (e.srcElement)\n        targ = e.srcElement;\n    if (targ.nodeType == 3) // defeat Safari bug\n        targ = targ.parentNode;\n\n    // jQuery normalizes the pageX and pageY\n    // pageX,Y are the mouse positions relative to the document\n    // offset() returns the position of the element relative to the document\n    var x = e.pageX - $(targ).offset().left;\n    var y = e.pageY - $(targ).offset().top;\n\n    return {\"x\": x, \"y\": y};\n};\n\n/*\n * return a copy of an object with only non-object keys\n * we need this to avoid circular references\n * http://stackoverflow.com/a/24161582/3208463\n */\nfunction simpleKeys (original) {\n  return Object.keys(original).reduce(function (obj, key) {\n    if (typeof original[key] !== 'object')\n        obj[key] = original[key]\n    return obj;\n  }, {});\n}\n\nmpl.figure.prototype.mouse_event = function(event, name) {\n    var canvas_pos = mpl.findpos(event)\n\n    if (name === 'button_press')\n    {\n        this.canvas.focus();\n        this.canvas_div.focus();\n    }\n\n    var x = canvas_pos.x * mpl.ratio;\n    var y = canvas_pos.y * mpl.ratio;\n\n    this.send_message(name, {x: x, y: y, button: event.button,\n                             step: event.step,\n                             guiEvent: simpleKeys(event)});\n\n    /* This prevents the web browser from automatically changing to\n     * the text insertion cursor when the button is pressed.  We want\n     * to control all of the cursor setting manually through the\n     * 'cursor' event from matplotlib */\n    event.preventDefault();\n    return false;\n}\n\nmpl.figure.prototype._key_event_extra = function(event, name) {\n    // Handle any extra behaviour associated with a key event\n}\n\nmpl.figure.prototype.key_event = function(event, name) {\n\n    // Prevent repeat events\n    if (name == 'key_press')\n    {\n        if (event.which === this._key)\n            return;\n        else\n            this._key = event.which;\n    }\n    if (name == 'key_release')\n        this._key = null;\n\n    var value = '';\n    if (event.ctrlKey && event.which != 17)\n        value += \"ctrl+\";\n    if (event.altKey && event.which != 18)\n        value += \"alt+\";\n    if (event.shiftKey && event.which != 16)\n        value += \"shift+\";\n\n    value += 'k';\n    value += event.which.toString();\n\n    this._key_event_extra(event, name);\n\n    this.send_message(name, {key: value,\n                             guiEvent: simpleKeys(event)});\n    return false;\n}\n\nmpl.figure.prototype.toolbar_button_onclick = function(name) {\n    if (name == 'download') {\n        this.handle_save(this, null);\n    } else {\n        this.send_message(\"toolbar_button\", {name: name});\n    }\n};\n\nmpl.figure.prototype.toolbar_button_onmouseover = function(tooltip) {\n    this.message.textContent = tooltip;\n};\nmpl.toolbar_items = [[\"Home\", \"Reset original view\", \"fa fa-home icon-home\", \"home\"], [\"Back\", \"Back to previous view\", \"fa fa-arrow-left icon-arrow-left\", \"back\"], [\"Forward\", \"Forward to next view\", \"fa fa-arrow-right icon-arrow-right\", \"forward\"], [\"\", \"\", \"\", \"\"], [\"Pan\", \"Pan axes with left mouse, zoom with right\", \"fa fa-arrows icon-move\", \"pan\"], [\"Zoom\", \"Zoom to rectangle\", \"fa fa-square-o icon-check-empty\", \"zoom\"], [\"\", \"\", \"\", \"\"], [\"Download\", \"Download plot\", \"fa fa-floppy-o icon-save\", \"download\"]];\n\nmpl.extensions = [\"eps\", \"jpeg\", \"pdf\", \"png\", \"ps\", \"raw\", \"svg\", \"tif\"];\n\nmpl.default_extension = \"png\";var comm_websocket_adapter = function(comm) {\n    // Create a \"websocket\"-like object which calls the given IPython comm\n    // object with the appropriate methods. Currently this is a non binary\n    // socket, so there is still some room for performance tuning.\n    var ws = {};\n\n    ws.close = function() {\n        comm.close()\n    };\n    ws.send = function(m) {\n        //console.log('sending', m);\n        comm.send(m);\n    };\n    // Register the callback with on_msg.\n    comm.on_msg(function(msg) {\n        //console.log('receiving', msg['content']['data'], msg);\n        // Pass the mpl event to the overridden (by mpl) onmessage function.\n        ws.onmessage(msg['content']['data'])\n    });\n    return ws;\n}\n\nmpl.mpl_figure_comm = function(comm, msg) {\n    // This is the function which gets called when the mpl process\n    // starts-up an IPython Comm through the \"matplotlib\" channel.\n\n    var id = msg.content.data.id;\n    // Get hold of the div created by the display call when the Comm\n    // socket was opened in Python.\n    var element = $(\"#\" + id);\n    var ws_proxy = comm_websocket_adapter(comm)\n\n    function ondownload(figure, format) {\n        window.open(figure.imageObj.src);\n    }\n\n    var fig = new mpl.figure(id, ws_proxy,\n                           ondownload,\n                           element.get(0));\n\n    // Call onopen now - mpl needs it, as it is assuming we've passed it a real\n    // web socket which is closed, not our websocket->open comm proxy.\n    ws_proxy.onopen();\n\n    fig.parent_element = element.get(0);\n    fig.cell_info = mpl.find_output_cell(\"<div id='\" + id + \"'></div>\");\n    if (!fig.cell_info) {\n        console.error(\"Failed to find cell for figure\", id, fig);\n        return;\n    }\n\n    var output_index = fig.cell_info[2]\n    var cell = fig.cell_info[0];\n\n};\n\nmpl.figure.prototype.handle_close = function(fig, msg) {\n    var width = fig.canvas.width/mpl.ratio\n    fig.root.unbind('remove')\n\n    // Update the output cell to use the data from the current canvas.\n    fig.push_to_output();\n    var dataURL = fig.canvas.toDataURL();\n    // Re-enable the keyboard manager in IPython - without this line, in FF,\n    // the notebook keyboard shortcuts fail.\n    IPython.keyboard_manager.enable()\n    $(fig.parent_element).html('<img src=\"' + dataURL + '\" width=\"' + width + '\">');\n    fig.close_ws(fig, msg);\n}\n\nmpl.figure.prototype.close_ws = function(fig, msg){\n    fig.send_message('closing', msg);\n    // fig.ws.close()\n}\n\nmpl.figure.prototype.push_to_output = function(remove_interactive) {\n    // Turn the data on the canvas into data in the output cell.\n    var width = this.canvas.width/mpl.ratio\n    var dataURL = this.canvas.toDataURL();\n    this.cell_info[1]['text/html'] = '<img src=\"' + dataURL + '\" width=\"' + width + '\">';\n}\n\nmpl.figure.prototype.updated_canvas_event = function() {\n    // Tell IPython that the notebook contents must change.\n    IPython.notebook.set_dirty(true);\n    this.send_message(\"ack\", {});\n    var fig = this;\n    // Wait a second, then push the new image to the DOM so\n    // that it is saved nicely (might be nice to debounce this).\n    setTimeout(function () { fig.push_to_output() }, 1000);\n}\n\nmpl.figure.prototype._init_toolbar = function() {\n    var fig = this;\n\n    var nav_element = $('<div/>');\n    nav_element.attr('style', 'width: 100%');\n    this.root.append(nav_element);\n\n    // Define a callback function for later on.\n    function toolbar_event(event) {\n        return fig.toolbar_button_onclick(event['data']);\n    }\n    function toolbar_mouse_event(event) {\n        return fig.toolbar_button_onmouseover(event['data']);\n    }\n\n    for(var toolbar_ind in mpl.toolbar_items){\n        var name = mpl.toolbar_items[toolbar_ind][0];\n        var tooltip = mpl.toolbar_items[toolbar_ind][1];\n        var image = mpl.toolbar_items[toolbar_ind][2];\n        var method_name = mpl.toolbar_items[toolbar_ind][3];\n\n        if (!name) { continue; };\n\n        var button = $('<button class=\"btn btn-default\" href=\"#\" title=\"' + name + '\"><i class=\"fa ' + image + ' fa-lg\"></i></button>');\n        button.click(method_name, toolbar_event);\n        button.mouseover(tooltip, toolbar_mouse_event);\n        nav_element.append(button);\n    }\n\n    // Add the status bar.\n    var status_bar = $('<span class=\"mpl-message\" style=\"text-align:right; float: right;\"/>');\n    nav_element.append(status_bar);\n    this.message = status_bar[0];\n\n    // Add the close button to the window.\n    var buttongrp = $('<div class=\"btn-group inline pull-right\"></div>');\n    var button = $('<button class=\"btn btn-mini btn-primary\" href=\"#\" title=\"Stop Interaction\"><i class=\"fa fa-power-off icon-remove icon-large\"></i></button>');\n    button.click(function (evt) { fig.handle_close(fig, {}); } );\n    button.mouseover('Stop Interaction', toolbar_mouse_event);\n    buttongrp.append(button);\n    var titlebar = this.root.find($('.ui-dialog-titlebar'));\n    titlebar.prepend(buttongrp);\n}\n\nmpl.figure.prototype._root_extra_style = function(el){\n    var fig = this\n    el.on(\"remove\", function(){\n\tfig.close_ws(fig, {});\n    });\n}\n\nmpl.figure.prototype._canvas_extra_style = function(el){\n    // this is important to make the div 'focusable\n    el.attr('tabindex', 0)\n    // reach out to IPython and tell the keyboard manager to turn it's self\n    // off when our div gets focus\n\n    // location in version 3\n    if (IPython.notebook.keyboard_manager) {\n        IPython.notebook.keyboard_manager.register_events(el);\n    }\n    else {\n        // location in version 2\n        IPython.keyboard_manager.register_events(el);\n    }\n\n}\n\nmpl.figure.prototype._key_event_extra = function(event, name) {\n    var manager = IPython.notebook.keyboard_manager;\n    if (!manager)\n        manager = IPython.keyboard_manager;\n\n    // Check for shift+enter\n    if (event.shiftKey && event.which == 13) {\n        this.canvas_div.blur();\n        // select the cell after this one\n        var index = IPython.notebook.find_cell_index(this.cell_info[0]);\n        IPython.notebook.select(index + 1);\n    }\n}\n\nmpl.figure.prototype.handle_save = function(fig, msg) {\n    fig.ondownload(fig, null);\n}\n\n\nmpl.find_output_cell = function(html_output) {\n    // Return the cell and output element which can be found *uniquely* in the notebook.\n    // Note - this is a bit hacky, but it is done because the \"notebook_saving.Notebook\"\n    // IPython event is triggered only after the cells have been serialised, which for\n    // our purposes (turning an active figure into a static one), is too late.\n    var cells = IPython.notebook.get_cells();\n    var ncells = cells.length;\n    for (var i=0; i<ncells; i++) {\n        var cell = cells[i];\n        if (cell.cell_type === 'code'){\n            for (var j=0; j<cell.output_area.outputs.length; j++) {\n                var data = cell.output_area.outputs[j];\n                if (data.data) {\n                    // IPython >= 3 moved mimebundle to data attribute of output\n                    data = data.data;\n                }\n                if (data['text/html'] == html_output) {\n                    return [cell, data, j];\n                }\n            }\n        }\n    }\n}\n\n// Register the function which deals with the matplotlib target/channel.\n// The kernel may be null if the page has been refreshed.\nif (IPython.notebook.kernel != null) {\n    IPython.notebook.kernel.comm_manager.register_target('matplotlib', mpl.mpl_figure_comm);\n}\n",
          "text/plain": "<IPython.core.display.Javascript object>"
         },
         "metadata": {},
         "output_type": "display_data"
        },
        {
         "data": {
          "text/html": "<div id='68db0b3e-1dd4-4599-963f-1e3950f481aa'></div>",
          "text/plain": "<IPython.core.display.HTML object>"
         },
         "metadata": {},
         "output_type": "display_data"
        },
        {
         "name": "stdout",
         "output_type": "stream",
         "text": "\n  T (K)   X(Mg)sol  X(Fe)sol  X(Mg)liq  X(Fe)liq\n 1480.31    0.00      1.00      0.00      1.00  \n 1555.95    0.33      0.67      0.04      0.96  \n 1631.58    0.55      0.45      0.09      0.91  \n 1707.21    0.69      0.31      0.16      0.84  \n 1782.85    0.79      0.21      0.23      0.77  \n 1858.48    0.86      0.14      0.33      0.67  \n 1934.11    0.91      0.09      0.44      0.56  \n 2009.75    0.95      0.05      0.59      0.41  \n 2085.38    0.98      0.02      0.77      0.23  \n 2161.01    1.00      0.00      1.00      0.00  \n"
        }
       ]
      }
     },
     "78d6d8c403174d3bb97e3873a768fb70": {
      "model_module": "@jupyter-widgets/controls",
      "model_module_version": "1.5.0",
      "model_name": "VBoxModel",
      "state": {
       "_dom_classes": [
        "widget-interact"
       ],
       "children": [
        "IPY_MODEL_9801ec6457f9468d845e047d9f1c5a2d",
        "IPY_MODEL_c92f054f6a9f4e0e80a62ddbf1ca78b9",
        "IPY_MODEL_874d675a6e214f8094456bdd0f3b268c",
        "IPY_MODEL_90bd050454564d95bfc59e33d3ca8400",
        "IPY_MODEL_da0875f8696f4202b6d7e93c6e597d70"
       ],
       "layout": "IPY_MODEL_babb2d854fa44e8c8f9fd849b3ce3bed"
      }
     },
     "790d2e8550a6406ca0f58e4a438303fc": {
      "model_module": "@jupyter-widgets/controls",
      "model_module_version": "1.5.0",
      "model_name": "SliderStyleModel",
      "state": {
       "description_width": ""
      }
     },
     "7a4da1ae85554afe9a2c9cf3d3ce66ed": {
      "model_module": "@jupyter-widgets/base",
      "model_module_version": "1.2.0",
      "model_name": "LayoutModel",
      "state": {}
     },
     "7d5bb4051fc440bb9b91658b9fa4a6c0": {
      "model_module": "@jupyter-widgets/controls",
      "model_module_version": "1.5.0",
      "model_name": "VBoxModel",
      "state": {
       "_dom_classes": [
        "widget-interact"
       ],
       "children": [
        "IPY_MODEL_1f53f0e6de904f609e118b011832dc26",
        "IPY_MODEL_65e4958be792451b8906919e5068c459",
        "IPY_MODEL_782406e125944a8ca3d0bdb58caf6f0d"
       ],
       "layout": "IPY_MODEL_6aced1c8ff064c288894bb9360044bf4"
      }
     },
     "7da313f6d1014c2c867df6fd4c3ef2fb": {
      "model_module": "@jupyter-widgets/base",
      "model_module_version": "1.2.0",
      "model_name": "LayoutModel",
      "state": {}
     },
     "7da933454b9d43e88b4e80e57a0aebb1": {
      "model_module": "@jupyter-widgets/controls",
      "model_module_version": "1.5.0",
      "model_name": "SliderStyleModel",
      "state": {
       "description_width": ""
      }
     },
     "7dbd51e19e4246049f5bf1821c3d51c8": {
      "model_module": "@jupyter-widgets/controls",
      "model_module_version": "1.5.0",
      "model_name": "SliderStyleModel",
      "state": {
       "description_width": ""
      }
     },
     "7e2ed74f2dd64ac982f32be9af6db3d9": {
      "model_module": "@jupyter-widgets/base",
      "model_module_version": "1.2.0",
      "model_name": "LayoutModel",
      "state": {}
     },
     "7eeba7c338594ed8aaf1be71e53979ec": {
      "model_module": "@jupyter-widgets/controls",
      "model_module_version": "1.5.0",
      "model_name": "FloatSliderModel",
      "state": {
       "description": "ip",
       "layout": "IPY_MODEL_3855fa75770742a1a31f8344e887eb23",
       "max": 10,
       "step": 0.2,
       "style": "IPY_MODEL_426eae3289e8438a90cd31e572a783a6"
      }
     },
     "8019e79a21744741876ef809c3d876dc": {
      "model_module": "@jupyter-widgets/base",
      "model_module_version": "1.2.0",
      "model_name": "LayoutModel",
      "state": {}
     },
     "805d3b68d73246a2994dbf82195d65e6": {
      "model_module": "@jupyter-widgets/base",
      "model_module_version": "1.2.0",
      "model_name": "LayoutModel",
      "state": {}
     },
     "80887143925c4f3384e1b6c1c2bf051c": {
      "model_module": "@jupyter-widgets/base",
      "model_module_version": "1.2.0",
      "model_name": "LayoutModel",
      "state": {}
     },
     "809eff45a15b4ce690c44ca285c97d16": {
      "model_module": "@jupyter-widgets/base",
      "model_module_version": "1.2.0",
      "model_name": "LayoutModel",
      "state": {}
     },
     "81fb1acbd7674e8d902f8667e83b530e": {
      "model_module": "@jupyter-widgets/base",
      "model_module_version": "1.2.0",
      "model_name": "LayoutModel",
      "state": {}
     },
     "8229c7ec9a734c158de10d629c829da0": {
      "model_module": "@jupyter-widgets/controls",
      "model_module_version": "1.5.0",
      "model_name": "ButtonModel",
      "state": {
       "description": "Run Interact",
       "layout": "IPY_MODEL_59c40e65e4134577a2805084464d5431",
       "style": "IPY_MODEL_3e19478904c7418daafed09183c5f189"
      }
     },
     "837d6311d6b24c76bd30204b28aafff7": {
      "model_module": "@jupyter-widgets/controls",
      "model_module_version": "1.5.0",
      "model_name": "SliderStyleModel",
      "state": {
       "description_width": ""
      }
     },
     "83e1876f124b4b16acef91d6d193f26a": {
      "model_module": "@jupyter-widgets/controls",
      "model_module_version": "1.5.0",
      "model_name": "SliderStyleModel",
      "state": {
       "description_width": ""
      }
     },
     "845a84af8baf49998ed5d9b70833dea7": {
      "model_module": "@jupyter-widgets/base",
      "model_module_version": "1.2.0",
      "model_name": "LayoutModel",
      "state": {}
     },
     "8508b37191b34adbaa3fbc3025058c31": {
      "model_module": "@jupyter-widgets/base",
      "model_module_version": "1.2.0",
      "model_name": "LayoutModel",
      "state": {}
     },
     "874d675a6e214f8094456bdd0f3b268c": {
      "model_module": "@jupyter-widgets/controls",
      "model_module_version": "1.5.0",
      "model_name": "FloatSliderModel",
      "state": {
       "description": "tfmax",
       "layout": "IPY_MODEL_25520d696ad94056a570462d99343739",
       "max": 3000,
       "step": 10,
       "style": "IPY_MODEL_837d6311d6b24c76bd30204b28aafff7",
       "value": 3000
      }
     },
     "8799dd57b5b64492b1e101f1f9c214f6": {
      "model_module": "@jupyter-widgets/controls",
      "model_module_version": "1.5.0",
      "model_name": "VBoxModel",
      "state": {
       "_dom_classes": [
        "widget-interact"
       ],
       "children": [
        "IPY_MODEL_5e8617c3ab764dae94c723b4ef0c1b12",
        "IPY_MODEL_295170905327481aae949868baeaeab4",
        "IPY_MODEL_11e3715fedb74dc8915900437aea0dd8",
        "IPY_MODEL_b6fca3f447f849388a7cef2e1a431204",
        "IPY_MODEL_36f850887ecb43a2bbec7d5fccc29251",
        "IPY_MODEL_bd0952e952c44b2c902dbb1515df2537"
       ],
       "layout": "IPY_MODEL_6bc6169c704c452890148659b4282e14"
      }
     },
     "8a82116d7e194223b2b43a663c55664f": {
      "model_module": "@jupyter-widgets/base",
      "model_module_version": "1.2.0",
      "model_name": "LayoutModel",
      "state": {}
     },
     "8b2591b8fa3e4546a192e5b3871f46c7": {
      "model_module": "@jupyter-widgets/output",
      "model_module_version": "1.0.0",
      "model_name": "OutputModel",
      "state": {
       "layout": "IPY_MODEL_b59fc084f149407c96d547e7c871afa8",
       "outputs": [
        {
         "name": "stdout",
         "output_type": "stream",
         "text": "Temperatura di fusione della forsterite: 2230.00 K\nTemperatura di fusione della fayalite: 1562.67 K\n"
        },
        {
         "data": {
          "application/javascript": "/* Put everything inside the global mpl namespace */\nwindow.mpl = {};\n\n\nmpl.get_websocket_type = function() {\n    if (typeof(WebSocket) !== 'undefined') {\n        return WebSocket;\n    } else if (typeof(MozWebSocket) !== 'undefined') {\n        return MozWebSocket;\n    } else {\n        alert('Your browser does not have WebSocket support. ' +\n              'Please try Chrome, Safari or Firefox ≥ 6. ' +\n              'Firefox 4 and 5 are also supported but you ' +\n              'have to enable WebSockets in about:config.');\n    };\n}\n\nmpl.figure = function(figure_id, websocket, ondownload, parent_element) {\n    this.id = figure_id;\n\n    this.ws = websocket;\n\n    this.supports_binary = (this.ws.binaryType != undefined);\n\n    if (!this.supports_binary) {\n        var warnings = document.getElementById(\"mpl-warnings\");\n        if (warnings) {\n            warnings.style.display = 'block';\n            warnings.textContent = (\n                \"This browser does not support binary websocket messages. \" +\n                    \"Performance may be slow.\");\n        }\n    }\n\n    this.imageObj = new Image();\n\n    this.context = undefined;\n    this.message = undefined;\n    this.canvas = undefined;\n    this.rubberband_canvas = undefined;\n    this.rubberband_context = undefined;\n    this.format_dropdown = undefined;\n\n    this.image_mode = 'full';\n\n    this.root = $('<div/>');\n    this._root_extra_style(this.root)\n    this.root.attr('style', 'display: inline-block');\n\n    $(parent_element).append(this.root);\n\n    this._init_header(this);\n    this._init_canvas(this);\n    this._init_toolbar(this);\n\n    var fig = this;\n\n    this.waiting = false;\n\n    this.ws.onopen =  function () {\n            fig.send_message(\"supports_binary\", {value: fig.supports_binary});\n            fig.send_message(\"send_image_mode\", {});\n            if (mpl.ratio != 1) {\n                fig.send_message(\"set_dpi_ratio\", {'dpi_ratio': mpl.ratio});\n            }\n            fig.send_message(\"refresh\", {});\n        }\n\n    this.imageObj.onload = function() {\n            if (fig.image_mode == 'full') {\n                // Full images could contain transparency (where diff images\n                // almost always do), so we need to clear the canvas so that\n                // there is no ghosting.\n                fig.context.clearRect(0, 0, fig.canvas.width, fig.canvas.height);\n            }\n            fig.context.drawImage(fig.imageObj, 0, 0);\n        };\n\n    this.imageObj.onunload = function() {\n        fig.ws.close();\n    }\n\n    this.ws.onmessage = this._make_on_message_function(this);\n\n    this.ondownload = ondownload;\n}\n\nmpl.figure.prototype._init_header = function() {\n    var titlebar = $(\n        '<div class=\"ui-dialog-titlebar ui-widget-header ui-corner-all ' +\n        'ui-helper-clearfix\"/>');\n    var titletext = $(\n        '<div class=\"ui-dialog-title\" style=\"width: 100%; ' +\n        'text-align: center; padding: 3px;\"/>');\n    titlebar.append(titletext)\n    this.root.append(titlebar);\n    this.header = titletext[0];\n}\n\n\n\nmpl.figure.prototype._canvas_extra_style = function(canvas_div) {\n\n}\n\n\nmpl.figure.prototype._root_extra_style = function(canvas_div) {\n\n}\n\nmpl.figure.prototype._init_canvas = function() {\n    var fig = this;\n\n    var canvas_div = $('<div/>');\n\n    canvas_div.attr('style', 'position: relative; clear: both; outline: 0');\n\n    function canvas_keyboard_event(event) {\n        return fig.key_event(event, event['data']);\n    }\n\n    canvas_div.keydown('key_press', canvas_keyboard_event);\n    canvas_div.keyup('key_release', canvas_keyboard_event);\n    this.canvas_div = canvas_div\n    this._canvas_extra_style(canvas_div)\n    this.root.append(canvas_div);\n\n    var canvas = $('<canvas/>');\n    canvas.addClass('mpl-canvas');\n    canvas.attr('style', \"left: 0; top: 0; z-index: 0; outline: 0\")\n\n    this.canvas = canvas[0];\n    this.context = canvas[0].getContext(\"2d\");\n\n    var backingStore = this.context.backingStorePixelRatio ||\n\tthis.context.webkitBackingStorePixelRatio ||\n\tthis.context.mozBackingStorePixelRatio ||\n\tthis.context.msBackingStorePixelRatio ||\n\tthis.context.oBackingStorePixelRatio ||\n\tthis.context.backingStorePixelRatio || 1;\n\n    mpl.ratio = (window.devicePixelRatio || 1) / backingStore;\n\n    var rubberband = $('<canvas/>');\n    rubberband.attr('style', \"position: absolute; left: 0; top: 0; z-index: 1;\")\n\n    var pass_mouse_events = true;\n\n    canvas_div.resizable({\n        start: function(event, ui) {\n            pass_mouse_events = false;\n        },\n        resize: function(event, ui) {\n            fig.request_resize(ui.size.width, ui.size.height);\n        },\n        stop: function(event, ui) {\n            pass_mouse_events = true;\n            fig.request_resize(ui.size.width, ui.size.height);\n        },\n    });\n\n    function mouse_event_fn(event) {\n        if (pass_mouse_events)\n            return fig.mouse_event(event, event['data']);\n    }\n\n    rubberband.mousedown('button_press', mouse_event_fn);\n    rubberband.mouseup('button_release', mouse_event_fn);\n    // Throttle sequential mouse events to 1 every 20ms.\n    rubberband.mousemove('motion_notify', mouse_event_fn);\n\n    rubberband.mouseenter('figure_enter', mouse_event_fn);\n    rubberband.mouseleave('figure_leave', mouse_event_fn);\n\n    canvas_div.on(\"wheel\", function (event) {\n        event = event.originalEvent;\n        event['data'] = 'scroll'\n        if (event.deltaY < 0) {\n            event.step = 1;\n        } else {\n            event.step = -1;\n        }\n        mouse_event_fn(event);\n    });\n\n    canvas_div.append(canvas);\n    canvas_div.append(rubberband);\n\n    this.rubberband = rubberband;\n    this.rubberband_canvas = rubberband[0];\n    this.rubberband_context = rubberband[0].getContext(\"2d\");\n    this.rubberband_context.strokeStyle = \"#000000\";\n\n    this._resize_canvas = function(width, height) {\n        // Keep the size of the canvas, canvas container, and rubber band\n        // canvas in synch.\n        canvas_div.css('width', width)\n        canvas_div.css('height', height)\n\n        canvas.attr('width', width * mpl.ratio);\n        canvas.attr('height', height * mpl.ratio);\n        canvas.attr('style', 'width: ' + width + 'px; height: ' + height + 'px;');\n\n        rubberband.attr('width', width);\n        rubberband.attr('height', height);\n    }\n\n    // Set the figure to an initial 600x600px, this will subsequently be updated\n    // upon first draw.\n    this._resize_canvas(600, 600);\n\n    // Disable right mouse context menu.\n    $(this.rubberband_canvas).bind(\"contextmenu\",function(e){\n        return false;\n    });\n\n    function set_focus () {\n        canvas.focus();\n        canvas_div.focus();\n    }\n\n    window.setTimeout(set_focus, 100);\n}\n\nmpl.figure.prototype._init_toolbar = function() {\n    var fig = this;\n\n    var nav_element = $('<div/>');\n    nav_element.attr('style', 'width: 100%');\n    this.root.append(nav_element);\n\n    // Define a callback function for later on.\n    function toolbar_event(event) {\n        return fig.toolbar_button_onclick(event['data']);\n    }\n    function toolbar_mouse_event(event) {\n        return fig.toolbar_button_onmouseover(event['data']);\n    }\n\n    for(var toolbar_ind in mpl.toolbar_items) {\n        var name = mpl.toolbar_items[toolbar_ind][0];\n        var tooltip = mpl.toolbar_items[toolbar_ind][1];\n        var image = mpl.toolbar_items[toolbar_ind][2];\n        var method_name = mpl.toolbar_items[toolbar_ind][3];\n\n        if (!name) {\n            // put a spacer in here.\n            continue;\n        }\n        var button = $('<button/>');\n        button.addClass('ui-button ui-widget ui-state-default ui-corner-all ' +\n                        'ui-button-icon-only');\n        button.attr('role', 'button');\n        button.attr('aria-disabled', 'false');\n        button.click(method_name, toolbar_event);\n        button.mouseover(tooltip, toolbar_mouse_event);\n\n        var icon_img = $('<span/>');\n        icon_img.addClass('ui-button-icon-primary ui-icon');\n        icon_img.addClass(image);\n        icon_img.addClass('ui-corner-all');\n\n        var tooltip_span = $('<span/>');\n        tooltip_span.addClass('ui-button-text');\n        tooltip_span.html(tooltip);\n\n        button.append(icon_img);\n        button.append(tooltip_span);\n\n        nav_element.append(button);\n    }\n\n    var fmt_picker_span = $('<span/>');\n\n    var fmt_picker = $('<select/>');\n    fmt_picker.addClass('mpl-toolbar-option ui-widget ui-widget-content');\n    fmt_picker_span.append(fmt_picker);\n    nav_element.append(fmt_picker_span);\n    this.format_dropdown = fmt_picker[0];\n\n    for (var ind in mpl.extensions) {\n        var fmt = mpl.extensions[ind];\n        var option = $(\n            '<option/>', {selected: fmt === mpl.default_extension}).html(fmt);\n        fmt_picker.append(option);\n    }\n\n    // Add hover states to the ui-buttons\n    $( \".ui-button\" ).hover(\n        function() { $(this).addClass(\"ui-state-hover\");},\n        function() { $(this).removeClass(\"ui-state-hover\");}\n    );\n\n    var status_bar = $('<span class=\"mpl-message\"/>');\n    nav_element.append(status_bar);\n    this.message = status_bar[0];\n}\n\nmpl.figure.prototype.request_resize = function(x_pixels, y_pixels) {\n    // Request matplotlib to resize the figure. Matplotlib will then trigger a resize in the client,\n    // which will in turn request a refresh of the image.\n    this.send_message('resize', {'width': x_pixels, 'height': y_pixels});\n}\n\nmpl.figure.prototype.send_message = function(type, properties) {\n    properties['type'] = type;\n    properties['figure_id'] = this.id;\n    this.ws.send(JSON.stringify(properties));\n}\n\nmpl.figure.prototype.send_draw_message = function() {\n    if (!this.waiting) {\n        this.waiting = true;\n        this.ws.send(JSON.stringify({type: \"draw\", figure_id: this.id}));\n    }\n}\n\n\nmpl.figure.prototype.handle_save = function(fig, msg) {\n    var format_dropdown = fig.format_dropdown;\n    var format = format_dropdown.options[format_dropdown.selectedIndex].value;\n    fig.ondownload(fig, format);\n}\n\n\nmpl.figure.prototype.handle_resize = function(fig, msg) {\n    var size = msg['size'];\n    if (size[0] != fig.canvas.width || size[1] != fig.canvas.height) {\n        fig._resize_canvas(size[0], size[1]);\n        fig.send_message(\"refresh\", {});\n    };\n}\n\nmpl.figure.prototype.handle_rubberband = function(fig, msg) {\n    var x0 = msg['x0'] / mpl.ratio;\n    var y0 = (fig.canvas.height - msg['y0']) / mpl.ratio;\n    var x1 = msg['x1'] / mpl.ratio;\n    var y1 = (fig.canvas.height - msg['y1']) / mpl.ratio;\n    x0 = Math.floor(x0) + 0.5;\n    y0 = Math.floor(y0) + 0.5;\n    x1 = Math.floor(x1) + 0.5;\n    y1 = Math.floor(y1) + 0.5;\n    var min_x = Math.min(x0, x1);\n    var min_y = Math.min(y0, y1);\n    var width = Math.abs(x1 - x0);\n    var height = Math.abs(y1 - y0);\n\n    fig.rubberband_context.clearRect(\n        0, 0, fig.canvas.width / mpl.ratio, fig.canvas.height / mpl.ratio);\n\n    fig.rubberband_context.strokeRect(min_x, min_y, width, height);\n}\n\nmpl.figure.prototype.handle_figure_label = function(fig, msg) {\n    // Updates the figure title.\n    fig.header.textContent = msg['label'];\n}\n\nmpl.figure.prototype.handle_cursor = function(fig, msg) {\n    var cursor = msg['cursor'];\n    switch(cursor)\n    {\n    case 0:\n        cursor = 'pointer';\n        break;\n    case 1:\n        cursor = 'default';\n        break;\n    case 2:\n        cursor = 'crosshair';\n        break;\n    case 3:\n        cursor = 'move';\n        break;\n    }\n    fig.rubberband_canvas.style.cursor = cursor;\n}\n\nmpl.figure.prototype.handle_message = function(fig, msg) {\n    fig.message.textContent = msg['message'];\n}\n\nmpl.figure.prototype.handle_draw = function(fig, msg) {\n    // Request the server to send over a new figure.\n    fig.send_draw_message();\n}\n\nmpl.figure.prototype.handle_image_mode = function(fig, msg) {\n    fig.image_mode = msg['mode'];\n}\n\nmpl.figure.prototype.updated_canvas_event = function() {\n    // Called whenever the canvas gets updated.\n    this.send_message(\"ack\", {});\n}\n\n// A function to construct a web socket function for onmessage handling.\n// Called in the figure constructor.\nmpl.figure.prototype._make_on_message_function = function(fig) {\n    return function socket_on_message(evt) {\n        if (evt.data instanceof Blob) {\n            /* FIXME: We get \"Resource interpreted as Image but\n             * transferred with MIME type text/plain:\" errors on\n             * Chrome.  But how to set the MIME type?  It doesn't seem\n             * to be part of the websocket stream */\n            evt.data.type = \"image/png\";\n\n            /* Free the memory for the previous frames */\n            if (fig.imageObj.src) {\n                (window.URL || window.webkitURL).revokeObjectURL(\n                    fig.imageObj.src);\n            }\n\n            fig.imageObj.src = (window.URL || window.webkitURL).createObjectURL(\n                evt.data);\n            fig.updated_canvas_event();\n            fig.waiting = false;\n            return;\n        }\n        else if (typeof evt.data === 'string' && evt.data.slice(0, 21) == \"data:image/png;base64\") {\n            fig.imageObj.src = evt.data;\n            fig.updated_canvas_event();\n            fig.waiting = false;\n            return;\n        }\n\n        var msg = JSON.parse(evt.data);\n        var msg_type = msg['type'];\n\n        // Call the  \"handle_{type}\" callback, which takes\n        // the figure and JSON message as its only arguments.\n        try {\n            var callback = fig[\"handle_\" + msg_type];\n        } catch (e) {\n            console.log(\"No handler for the '\" + msg_type + \"' message type: \", msg);\n            return;\n        }\n\n        if (callback) {\n            try {\n                // console.log(\"Handling '\" + msg_type + \"' message: \", msg);\n                callback(fig, msg);\n            } catch (e) {\n                console.log(\"Exception inside the 'handler_\" + msg_type + \"' callback:\", e, e.stack, msg);\n            }\n        }\n    };\n}\n\n// from http://stackoverflow.com/questions/1114465/getting-mouse-location-in-canvas\nmpl.findpos = function(e) {\n    //this section is from http://www.quirksmode.org/js/events_properties.html\n    var targ;\n    if (!e)\n        e = window.event;\n    if (e.target)\n        targ = e.target;\n    else if (e.srcElement)\n        targ = e.srcElement;\n    if (targ.nodeType == 3) // defeat Safari bug\n        targ = targ.parentNode;\n\n    // jQuery normalizes the pageX and pageY\n    // pageX,Y are the mouse positions relative to the document\n    // offset() returns the position of the element relative to the document\n    var x = e.pageX - $(targ).offset().left;\n    var y = e.pageY - $(targ).offset().top;\n\n    return {\"x\": x, \"y\": y};\n};\n\n/*\n * return a copy of an object with only non-object keys\n * we need this to avoid circular references\n * http://stackoverflow.com/a/24161582/3208463\n */\nfunction simpleKeys (original) {\n  return Object.keys(original).reduce(function (obj, key) {\n    if (typeof original[key] !== 'object')\n        obj[key] = original[key]\n    return obj;\n  }, {});\n}\n\nmpl.figure.prototype.mouse_event = function(event, name) {\n    var canvas_pos = mpl.findpos(event)\n\n    if (name === 'button_press')\n    {\n        this.canvas.focus();\n        this.canvas_div.focus();\n    }\n\n    var x = canvas_pos.x * mpl.ratio;\n    var y = canvas_pos.y * mpl.ratio;\n\n    this.send_message(name, {x: x, y: y, button: event.button,\n                             step: event.step,\n                             guiEvent: simpleKeys(event)});\n\n    /* This prevents the web browser from automatically changing to\n     * the text insertion cursor when the button is pressed.  We want\n     * to control all of the cursor setting manually through the\n     * 'cursor' event from matplotlib */\n    event.preventDefault();\n    return false;\n}\n\nmpl.figure.prototype._key_event_extra = function(event, name) {\n    // Handle any extra behaviour associated with a key event\n}\n\nmpl.figure.prototype.key_event = function(event, name) {\n\n    // Prevent repeat events\n    if (name == 'key_press')\n    {\n        if (event.which === this._key)\n            return;\n        else\n            this._key = event.which;\n    }\n    if (name == 'key_release')\n        this._key = null;\n\n    var value = '';\n    if (event.ctrlKey && event.which != 17)\n        value += \"ctrl+\";\n    if (event.altKey && event.which != 18)\n        value += \"alt+\";\n    if (event.shiftKey && event.which != 16)\n        value += \"shift+\";\n\n    value += 'k';\n    value += event.which.toString();\n\n    this._key_event_extra(event, name);\n\n    this.send_message(name, {key: value,\n                             guiEvent: simpleKeys(event)});\n    return false;\n}\n\nmpl.figure.prototype.toolbar_button_onclick = function(name) {\n    if (name == 'download') {\n        this.handle_save(this, null);\n    } else {\n        this.send_message(\"toolbar_button\", {name: name});\n    }\n};\n\nmpl.figure.prototype.toolbar_button_onmouseover = function(tooltip) {\n    this.message.textContent = tooltip;\n};\nmpl.toolbar_items = [[\"Home\", \"Reset original view\", \"fa fa-home icon-home\", \"home\"], [\"Back\", \"Back to previous view\", \"fa fa-arrow-left icon-arrow-left\", \"back\"], [\"Forward\", \"Forward to next view\", \"fa fa-arrow-right icon-arrow-right\", \"forward\"], [\"\", \"\", \"\", \"\"], [\"Pan\", \"Pan axes with left mouse, zoom with right\", \"fa fa-arrows icon-move\", \"pan\"], [\"Zoom\", \"Zoom to rectangle\", \"fa fa-square-o icon-check-empty\", \"zoom\"], [\"\", \"\", \"\", \"\"], [\"Download\", \"Download plot\", \"fa fa-floppy-o icon-save\", \"download\"]];\n\nmpl.extensions = [\"eps\", \"jpeg\", \"pdf\", \"png\", \"ps\", \"raw\", \"svg\", \"tif\"];\n\nmpl.default_extension = \"png\";var comm_websocket_adapter = function(comm) {\n    // Create a \"websocket\"-like object which calls the given IPython comm\n    // object with the appropriate methods. Currently this is a non binary\n    // socket, so there is still some room for performance tuning.\n    var ws = {};\n\n    ws.close = function() {\n        comm.close()\n    };\n    ws.send = function(m) {\n        //console.log('sending', m);\n        comm.send(m);\n    };\n    // Register the callback with on_msg.\n    comm.on_msg(function(msg) {\n        //console.log('receiving', msg['content']['data'], msg);\n        // Pass the mpl event to the overridden (by mpl) onmessage function.\n        ws.onmessage(msg['content']['data'])\n    });\n    return ws;\n}\n\nmpl.mpl_figure_comm = function(comm, msg) {\n    // This is the function which gets called when the mpl process\n    // starts-up an IPython Comm through the \"matplotlib\" channel.\n\n    var id = msg.content.data.id;\n    // Get hold of the div created by the display call when the Comm\n    // socket was opened in Python.\n    var element = $(\"#\" + id);\n    var ws_proxy = comm_websocket_adapter(comm)\n\n    function ondownload(figure, format) {\n        window.open(figure.imageObj.src);\n    }\n\n    var fig = new mpl.figure(id, ws_proxy,\n                           ondownload,\n                           element.get(0));\n\n    // Call onopen now - mpl needs it, as it is assuming we've passed it a real\n    // web socket which is closed, not our websocket->open comm proxy.\n    ws_proxy.onopen();\n\n    fig.parent_element = element.get(0);\n    fig.cell_info = mpl.find_output_cell(\"<div id='\" + id + \"'></div>\");\n    if (!fig.cell_info) {\n        console.error(\"Failed to find cell for figure\", id, fig);\n        return;\n    }\n\n    var output_index = fig.cell_info[2]\n    var cell = fig.cell_info[0];\n\n};\n\nmpl.figure.prototype.handle_close = function(fig, msg) {\n    var width = fig.canvas.width/mpl.ratio\n    fig.root.unbind('remove')\n\n    // Update the output cell to use the data from the current canvas.\n    fig.push_to_output();\n    var dataURL = fig.canvas.toDataURL();\n    // Re-enable the keyboard manager in IPython - without this line, in FF,\n    // the notebook keyboard shortcuts fail.\n    IPython.keyboard_manager.enable()\n    $(fig.parent_element).html('<img src=\"' + dataURL + '\" width=\"' + width + '\">');\n    fig.close_ws(fig, msg);\n}\n\nmpl.figure.prototype.close_ws = function(fig, msg){\n    fig.send_message('closing', msg);\n    // fig.ws.close()\n}\n\nmpl.figure.prototype.push_to_output = function(remove_interactive) {\n    // Turn the data on the canvas into data in the output cell.\n    var width = this.canvas.width/mpl.ratio\n    var dataURL = this.canvas.toDataURL();\n    this.cell_info[1]['text/html'] = '<img src=\"' + dataURL + '\" width=\"' + width + '\">';\n}\n\nmpl.figure.prototype.updated_canvas_event = function() {\n    // Tell IPython that the notebook contents must change.\n    IPython.notebook.set_dirty(true);\n    this.send_message(\"ack\", {});\n    var fig = this;\n    // Wait a second, then push the new image to the DOM so\n    // that it is saved nicely (might be nice to debounce this).\n    setTimeout(function () { fig.push_to_output() }, 1000);\n}\n\nmpl.figure.prototype._init_toolbar = function() {\n    var fig = this;\n\n    var nav_element = $('<div/>');\n    nav_element.attr('style', 'width: 100%');\n    this.root.append(nav_element);\n\n    // Define a callback function for later on.\n    function toolbar_event(event) {\n        return fig.toolbar_button_onclick(event['data']);\n    }\n    function toolbar_mouse_event(event) {\n        return fig.toolbar_button_onmouseover(event['data']);\n    }\n\n    for(var toolbar_ind in mpl.toolbar_items){\n        var name = mpl.toolbar_items[toolbar_ind][0];\n        var tooltip = mpl.toolbar_items[toolbar_ind][1];\n        var image = mpl.toolbar_items[toolbar_ind][2];\n        var method_name = mpl.toolbar_items[toolbar_ind][3];\n\n        if (!name) { continue; };\n\n        var button = $('<button class=\"btn btn-default\" href=\"#\" title=\"' + name + '\"><i class=\"fa ' + image + ' fa-lg\"></i></button>');\n        button.click(method_name, toolbar_event);\n        button.mouseover(tooltip, toolbar_mouse_event);\n        nav_element.append(button);\n    }\n\n    // Add the status bar.\n    var status_bar = $('<span class=\"mpl-message\" style=\"text-align:right; float: right;\"/>');\n    nav_element.append(status_bar);\n    this.message = status_bar[0];\n\n    // Add the close button to the window.\n    var buttongrp = $('<div class=\"btn-group inline pull-right\"></div>');\n    var button = $('<button class=\"btn btn-mini btn-primary\" href=\"#\" title=\"Stop Interaction\"><i class=\"fa fa-power-off icon-remove icon-large\"></i></button>');\n    button.click(function (evt) { fig.handle_close(fig, {}); } );\n    button.mouseover('Stop Interaction', toolbar_mouse_event);\n    buttongrp.append(button);\n    var titlebar = this.root.find($('.ui-dialog-titlebar'));\n    titlebar.prepend(buttongrp);\n}\n\nmpl.figure.prototype._root_extra_style = function(el){\n    var fig = this\n    el.on(\"remove\", function(){\n\tfig.close_ws(fig, {});\n    });\n}\n\nmpl.figure.prototype._canvas_extra_style = function(el){\n    // this is important to make the div 'focusable\n    el.attr('tabindex', 0)\n    // reach out to IPython and tell the keyboard manager to turn it's self\n    // off when our div gets focus\n\n    // location in version 3\n    if (IPython.notebook.keyboard_manager) {\n        IPython.notebook.keyboard_manager.register_events(el);\n    }\n    else {\n        // location in version 2\n        IPython.keyboard_manager.register_events(el);\n    }\n\n}\n\nmpl.figure.prototype._key_event_extra = function(event, name) {\n    var manager = IPython.notebook.keyboard_manager;\n    if (!manager)\n        manager = IPython.keyboard_manager;\n\n    // Check for shift+enter\n    if (event.shiftKey && event.which == 13) {\n        this.canvas_div.blur();\n        // select the cell after this one\n        var index = IPython.notebook.find_cell_index(this.cell_info[0]);\n        IPython.notebook.select(index + 1);\n    }\n}\n\nmpl.figure.prototype.handle_save = function(fig, msg) {\n    fig.ondownload(fig, null);\n}\n\n\nmpl.find_output_cell = function(html_output) {\n    // Return the cell and output element which can be found *uniquely* in the notebook.\n    // Note - this is a bit hacky, but it is done because the \"notebook_saving.Notebook\"\n    // IPython event is triggered only after the cells have been serialised, which for\n    // our purposes (turning an active figure into a static one), is too late.\n    var cells = IPython.notebook.get_cells();\n    var ncells = cells.length;\n    for (var i=0; i<ncells; i++) {\n        var cell = cells[i];\n        if (cell.cell_type === 'code'){\n            for (var j=0; j<cell.output_area.outputs.length; j++) {\n                var data = cell.output_area.outputs[j];\n                if (data.data) {\n                    // IPython >= 3 moved mimebundle to data attribute of output\n                    data = data.data;\n                }\n                if (data['text/html'] == html_output) {\n                    return [cell, data, j];\n                }\n            }\n        }\n    }\n}\n\n// Register the function which deals with the matplotlib target/channel.\n// The kernel may be null if the page has been refreshed.\nif (IPython.notebook.kernel != null) {\n    IPython.notebook.kernel.comm_manager.register_target('matplotlib', mpl.mpl_figure_comm);\n}\n",
          "text/plain": "<IPython.core.display.Javascript object>"
         },
         "metadata": {},
         "output_type": "display_data"
        },
        {
         "data": {
          "text/html": "<div id='f8b5c9e3-158d-455c-be58-e5b21bcfd0de'></div>",
          "text/plain": "<IPython.core.display.HTML object>"
         },
         "metadata": {},
         "output_type": "display_data"
        },
        {
         "name": "stdout",
         "output_type": "stream",
         "text": "\n  T (K)   X(Mg)sol  X(Fe)sol  X(Mg)liq  X(Fe)liq\n 1562.67    0.00      1.00      0.00      1.00  \n 1610.33    0.21      0.79      0.03      0.97  \n 1658.00    0.38      0.62      0.06      0.94  \n 1705.67    0.50      0.50      0.10      0.90  \n 1753.33    0.61      0.39      0.14      0.86  \n 1801.00    0.69      0.31      0.18      0.82  \n 1848.67    0.75      0.25      0.23      0.77  \n 1896.33    0.81      0.19      0.29      0.71  \n 1944.00    0.85      0.15      0.36      0.64  \n 1991.67    0.89      0.11      0.43      0.57  \n 2039.33    0.92      0.08      0.52      0.48  \n 2087.00    0.94      0.06      0.62      0.38  \n 2134.67    0.96      0.04      0.73      0.27  \n 2182.33    0.98      0.02      0.86      0.14  \n 2230.00    1.00      0.00      1.00      0.00  \n"
        }
       ]
      }
     },
     "8b4e2b4114f24a7fb95b07ef9f0349a9": {
      "model_module": "@jupyter-widgets/controls",
      "model_module_version": "1.5.0",
      "model_name": "ButtonStyleModel",
      "state": {}
     },
     "8dd4e7d9a43a4bc1b686f95b513ffaf2": {
      "model_module": "@jupyter-widgets/controls",
      "model_module_version": "1.5.0",
      "model_name": "SliderStyleModel",
      "state": {
       "description_width": ""
      }
     },
     "8ea3289c29ad4579a06de80d4cc5523c": {
      "model_module": "@jupyter-widgets/base",
      "model_module_version": "1.2.0",
      "model_name": "LayoutModel",
      "state": {}
     },
     "8ea681875cf049da9656fd89da65b804": {
      "model_module": "@jupyter-widgets/controls",
      "model_module_version": "1.5.0",
      "model_name": "SliderStyleModel",
      "state": {
       "description_width": ""
      }
     },
     "8ea8e54cc60244b5ac0fc1c3b3886303": {
      "model_module": "@jupyter-widgets/output",
      "model_module_version": "1.0.0",
      "model_name": "OutputModel",
      "state": {
       "layout": "IPY_MODEL_7da313f6d1014c2c867df6fd4c3ef2fb"
      }
     },
     "9001e0c20aa445589cab4e8130222837": {
      "model_module": "@jupyter-widgets/controls",
      "model_module_version": "1.5.0",
      "model_name": "IntSliderModel",
      "state": {
       "description": "nt",
       "layout": "IPY_MODEL_f5b2b3e101c14c10975e3e9244942c95",
       "max": 30,
       "min": 10,
       "step": 5,
       "style": "IPY_MODEL_69840a5ae6e0419fba00b291ad712963",
       "value": 10
      }
     },
     "90bd050454564d95bfc59e33d3ca8400": {
      "model_module": "@jupyter-widgets/controls",
      "model_module_version": "1.5.0",
      "model_name": "ButtonModel",
      "state": {
       "description": "Run Interact",
       "layout": "IPY_MODEL_15b4d7c0ea7f45dbaacb0f6ca891065c",
       "style": "IPY_MODEL_9f1afbd0b38242dba68690eef046a825"
      }
     },
     "91de418fb64d4d368f541c5402b829b5": {
      "model_module": "@jupyter-widgets/controls",
      "model_module_version": "1.5.0",
      "model_name": "IntSliderModel",
      "state": {
       "description": "nt",
       "layout": "IPY_MODEL_efe730029cef456da7de0f8a5cce7a3e",
       "max": 30,
       "min": 10,
       "step": 5,
       "style": "IPY_MODEL_292bab0a665b4423b97160973b5d3b00",
       "value": 20
      }
     },
     "927bd9b26927415389cf223f8d4f309d": {
      "model_module": "@jupyter-widgets/controls",
      "model_module_version": "1.5.0",
      "model_name": "VBoxModel",
      "state": {
       "_dom_classes": [
        "widget-interact"
       ],
       "children": [
        "IPY_MODEL_34e16eb4d4194893b5d30291e96049d6",
        "IPY_MODEL_9282b2fe69ae4e9ca6f9b13e4382cf3e",
        "IPY_MODEL_b0c597c3760649eb95bf6b39111061ae",
        "IPY_MODEL_1f5e50498fcb4417a60e92bf11df1ae8"
       ],
       "layout": "IPY_MODEL_6919d07975824eb799f3df2701d8da7a"
      }
     },
     "9282b2fe69ae4e9ca6f9b13e4382cf3e": {
      "model_module": "@jupyter-widgets/controls",
      "model_module_version": "1.5.0",
      "model_name": "IntSliderModel",
      "state": {
       "description": "nt",
       "layout": "IPY_MODEL_c18ad315157a48c2b6665e97790d41da",
       "max": 30,
       "min": 10,
       "step": 5,
       "style": "IPY_MODEL_413bdcc48f5e4dc4b2fe6373e4fa3559",
       "value": 10
      }
     },
     "92b2af0bcecf430380e05aab647ef4fa": {
      "model_module": "@jupyter-widgets/controls",
      "model_module_version": "1.5.0",
      "model_name": "IntSliderModel",
      "state": {
       "description": "nt",
       "layout": "IPY_MODEL_e2cfcf41bff04bea908f4f84325845a6",
       "max": 30,
       "min": 10,
       "step": 5,
       "style": "IPY_MODEL_37f039f0623c46b7a420a4625a02c1d7",
       "value": 10
      }
     },
     "930e2e882a8447ec977a011ee2989192": {
      "model_module": "@jupyter-widgets/base",
      "model_module_version": "1.2.0",
      "model_name": "LayoutModel",
      "state": {}
     },
     "94e64bd8540f4754b922b7db18cef5a7": {
      "model_module": "@jupyter-widgets/base",
      "model_module_version": "1.2.0",
      "model_name": "LayoutModel",
      "state": {}
     },
     "9553e918be15460c856f7557cba51465": {
      "model_module": "@jupyter-widgets/controls",
      "model_module_version": "1.5.0",
      "model_name": "SliderStyleModel",
      "state": {
       "description_width": ""
      }
     },
     "958caca14e834220983451a01d9c4867": {
      "model_module": "@jupyter-widgets/controls",
      "model_module_version": "1.5.0",
      "model_name": "ButtonModel",
      "state": {
       "description": "Run Interact",
       "layout": "IPY_MODEL_f01e135a7d5d4079a6abc18bb0f4c263",
       "style": "IPY_MODEL_51c1361a95064e909d0291e89b5e802d"
      }
     },
     "966eab5d2bc543d8a00c870808f64dde": {
      "model_module": "@jupyter-widgets/base",
      "model_module_version": "1.2.0",
      "model_name": "LayoutModel",
      "state": {}
     },
     "976197cbca1741f28143862e8d38943e": {
      "model_module": "@jupyter-widgets/controls",
      "model_module_version": "1.5.0",
      "model_name": "VBoxModel",
      "state": {
       "_dom_classes": [
        "widget-interact"
       ],
       "children": [
        "IPY_MODEL_ae0bc1b66dc747c189344e73eaa97537",
        "IPY_MODEL_3d9eb2761a764ee88e0eb187912f3ed9",
        "IPY_MODEL_958caca14e834220983451a01d9c4867",
        "IPY_MODEL_8ea8e54cc60244b5ac0fc1c3b3886303"
       ],
       "layout": "IPY_MODEL_3b3ae776fd754a7ca2af527bda994504"
      }
     },
     "976ff94dcda44d23804a6c389f5d1e08": {
      "model_module": "@jupyter-widgets/controls",
      "model_module_version": "1.5.0",
      "model_name": "IntSliderModel",
      "state": {
       "description": "nt",
       "layout": "IPY_MODEL_c81b076569c942c2b744c534c3cc6882",
       "max": 30,
       "min": 10,
       "step": 5,
       "style": "IPY_MODEL_05efcc06727245e1bd1cf6aad27045f2",
       "value": 15
      }
     },
     "9801ec6457f9468d845e047d9f1c5a2d": {
      "model_module": "@jupyter-widgets/controls",
      "model_module_version": "1.5.0",
      "model_name": "FloatSliderModel",
      "state": {
       "description": "ip",
       "layout": "IPY_MODEL_bd16f3df17e94c65aac24fa945c2c7da",
       "max": 10,
       "step": 0.2,
       "style": "IPY_MODEL_32794bd7e48f4d9780d1a6a19b1c3a9e",
       "value": 10
      }
     },
     "982d9d40c91e4ffa97fe0b396bfd8390": {
      "model_module": "@jupyter-widgets/base",
      "model_module_version": "1.2.0",
      "model_name": "LayoutModel",
      "state": {}
     },
     "9882a3cb218a47c99a1b70b613f3a5fd": {
      "model_module": "@jupyter-widgets/controls",
      "model_module_version": "1.5.0",
      "model_name": "VBoxModel",
      "state": {
       "_dom_classes": [
        "widget-interact"
       ],
       "children": [
        "IPY_MODEL_ab5171c1a44c4513ad168526d16e445c",
        "IPY_MODEL_4dc3ac704e554d0780b72291b324ea7e",
        "IPY_MODEL_6c8a166484184030932618571e0950da",
        "IPY_MODEL_644f226d35124c5bb31cadfc990d9e6a"
       ],
       "layout": "IPY_MODEL_beea97db0c1b4376b03145f2b5b1b47f"
      }
     },
     "989e91faada342fabedba527c1de5a85": {
      "model_module": "@jupyter-widgets/controls",
      "model_module_version": "1.5.0",
      "model_name": "IntSliderModel",
      "state": {
       "description": "nt",
       "layout": "IPY_MODEL_71c902b4bd9b46b293c1855e15e9ce46",
       "max": 30,
       "min": 10,
       "step": 5,
       "style": "IPY_MODEL_7dbd51e19e4246049f5bf1821c3d51c8",
       "value": 10
      }
     },
     "9912d832b84e4392900938170ae83eca": {
      "model_module": "@jupyter-widgets/base",
      "model_module_version": "1.2.0",
      "model_name": "LayoutModel",
      "state": {}
     },
     "99683d06c89844edb4234de729d9988b": {
      "model_module": "@jupyter-widgets/controls",
      "model_module_version": "1.5.0",
      "model_name": "SliderStyleModel",
      "state": {
       "description_width": ""
      }
     },
     "99c94e4eadc843dd907c3c0e6aaa434e": {
      "model_module": "@jupyter-widgets/controls",
      "model_module_version": "1.5.0",
      "model_name": "VBoxModel",
      "state": {
       "_dom_classes": [
        "widget-interact"
       ],
       "children": [
        "IPY_MODEL_0909ef8237124ebfb96d242b220e3b3e",
        "IPY_MODEL_9001e0c20aa445589cab4e8130222837",
        "IPY_MODEL_5985a96d7b8f41a78ab098985827c732",
        "IPY_MODEL_c21634ba76a04d62a808d56d5e10bef9"
       ],
       "layout": "IPY_MODEL_516cb3594fa1465d8b42f11220f79ffa"
      }
     },
     "9a2f4aeab8dc402687df5fc51e1237a2": {
      "model_module": "@jupyter-widgets/controls",
      "model_module_version": "1.5.0",
      "model_name": "FloatSliderModel",
      "state": {
       "description": "ip",
       "layout": "IPY_MODEL_e434de82f82247529c1dbb5d92516151",
       "max": 10,
       "step": 0.2,
       "style": "IPY_MODEL_0f6d350295d84af898a6f57006b649da",
       "value": 1.2
      }
     },
     "9b9b13f8e1174d09b62e992a61537afb": {
      "model_module": "@jupyter-widgets/base",
      "model_module_version": "1.2.0",
      "model_name": "LayoutModel",
      "state": {}
     },
     "9d0473d545194c48928d7dd222a3837d": {
      "model_module": "@jupyter-widgets/controls",
      "model_module_version": "1.5.0",
      "model_name": "IntSliderModel",
      "state": {
       "description": "nt",
       "layout": "IPY_MODEL_e1a6ddc467bb48b5838fa25d185d5de0",
       "max": 30,
       "min": 10,
       "step": 5,
       "style": "IPY_MODEL_790d2e8550a6406ca0f58e4a438303fc",
       "value": 10
      }
     },
     "9d2442c60ef240d8a255d5644feeb000": {
      "model_module": "@jupyter-widgets/base",
      "model_module_version": "1.2.0",
      "model_name": "LayoutModel",
      "state": {}
     },
     "9d342579f6324f7db25ab9d7fde6e5af": {
      "model_module": "@jupyter-widgets/base",
      "model_module_version": "1.2.0",
      "model_name": "LayoutModel",
      "state": {}
     },
     "9e7a2113197f4626aae93e785ed3fc8d": {
      "model_module": "@jupyter-widgets/controls",
      "model_module_version": "1.5.0",
      "model_name": "SliderStyleModel",
      "state": {
       "description_width": ""
      }
     },
     "9ee5d987cd054f27b87bf2ccce45361f": {
      "model_module": "@jupyter-widgets/base",
      "model_module_version": "1.2.0",
      "model_name": "LayoutModel",
      "state": {}
     },
     "9f1afbd0b38242dba68690eef046a825": {
      "model_module": "@jupyter-widgets/controls",
      "model_module_version": "1.5.0",
      "model_name": "ButtonStyleModel",
      "state": {}
     },
     "9fa1321c83c345259fa1c57a18201b57": {
      "model_module": "@jupyter-widgets/controls",
      "model_module_version": "1.5.0",
      "model_name": "SliderStyleModel",
      "state": {
       "description_width": ""
      }
     },
     "a17d1d7941c840aeb65cb6548983197a": {
      "model_module": "@jupyter-widgets/base",
      "model_module_version": "1.2.0",
      "model_name": "LayoutModel",
      "state": {}
     },
     "a1faefb7a5c340adb19aa605584c532b": {
      "model_module": "@jupyter-widgets/base",
      "model_module_version": "1.2.0",
      "model_name": "LayoutModel",
      "state": {}
     },
     "a276cf902658420aba2b2711903d60d9": {
      "model_module": "@jupyter-widgets/base",
      "model_module_version": "1.2.0",
      "model_name": "LayoutModel",
      "state": {}
     },
     "a3582a6b0b9b497cb7dbee9021c2e03a": {
      "model_module": "@jupyter-widgets/base",
      "model_module_version": "1.2.0",
      "model_name": "LayoutModel",
      "state": {}
     },
     "a3a10c4ddbd540498fc3774fb6d48ff6": {
      "model_module": "@jupyter-widgets/controls",
      "model_module_version": "1.5.0",
      "model_name": "IntSliderModel",
      "state": {
       "description": "nt",
       "layout": "IPY_MODEL_76d3efeed54f4e28b125e5c7bf881d8a",
       "max": 30,
       "min": 10,
       "step": 5,
       "style": "IPY_MODEL_f0b0bdd8dfea494fb3967724ab77a03e",
       "value": 10
      }
     },
     "a3a912073a3f4a94a917404fb754c65b": {
      "model_module": "@jupyter-widgets/controls",
      "model_module_version": "1.5.0",
      "model_name": "FloatSliderModel",
      "state": {
       "description": "ip",
       "layout": "IPY_MODEL_d8a8a8a12eae41128837419083af63d0",
       "max": 10,
       "step": 0.2,
       "style": "IPY_MODEL_55eaf903349c4a09920271287b439eca"
      }
     },
     "a42772b05500462a85bceb87d4e3712f": {
      "model_module": "@jupyter-widgets/controls",
      "model_module_version": "1.5.0",
      "model_name": "VBoxModel",
      "state": {
       "_dom_classes": [
        "widget-interact"
       ],
       "children": [
        "IPY_MODEL_a57c7bcf1ad149af82afd4407353ad3d",
        "IPY_MODEL_4ee2b07e6cc94c1f945a5e2c87a35ae7",
        "IPY_MODEL_b8d05b5e90e7471eb16f9a92e92afacc"
       ],
       "layout": "IPY_MODEL_f67bf14df5b44f249acc38bf996e9ae9"
      }
     },
     "a57c7bcf1ad149af82afd4407353ad3d": {
      "model_module": "@jupyter-widgets/controls",
      "model_module_version": "1.5.0",
      "model_name": "FloatSliderModel",
      "state": {
       "description": "ip",
       "layout": "IPY_MODEL_f5bce312c8fa41ba92a9ec886763cb1e",
       "max": 10,
       "step": 0.2,
       "style": "IPY_MODEL_b7b949d3d63948abbeeb5b2dc5d63313",
       "value": 1
      }
     },
     "a590c1b3390d4e73a1caef39b0866a6c": {
      "model_module": "@jupyter-widgets/controls",
      "model_module_version": "1.5.0",
      "model_name": "ButtonStyleModel",
      "state": {}
     },
     "a729922a97d446d48ac46a26e314f623": {
      "model_module": "@jupyter-widgets/controls",
      "model_module_version": "1.5.0",
      "model_name": "FloatSliderModel",
      "state": {
       "description": "ip",
       "layout": "IPY_MODEL_d04ffcba0c8141eaa5688094244987a2",
       "max": 10,
       "step": 0.2,
       "style": "IPY_MODEL_df369e2993354182a79d8557c2241c12",
       "value": 5
      }
     },
     "a737c1e7d0114e2d884b4afe2db9c31a": {
      "model_module": "@jupyter-widgets/controls",
      "model_module_version": "1.5.0",
      "model_name": "SliderStyleModel",
      "state": {
       "description_width": ""
      }
     },
     "a75cdc3cfeea449da74b1f8a4a8db5b6": {
      "model_module": "@jupyter-widgets/base",
      "model_module_version": "1.2.0",
      "model_name": "LayoutModel",
      "state": {}
     },
     "a7ed9d21276a436c8298e2157e44eae0": {
      "model_module": "@jupyter-widgets/controls",
      "model_module_version": "1.5.0",
      "model_name": "SliderStyleModel",
      "state": {
       "description_width": ""
      }
     },
     "a7fd0cd56a1341cb8848fd304f9288a5": {
      "model_module": "@jupyter-widgets/base",
      "model_module_version": "1.2.0",
      "model_name": "LayoutModel",
      "state": {}
     },
     "a976d3fcf0804cc0b9d55ddfdfb3662c": {
      "model_module": "@jupyter-widgets/controls",
      "model_module_version": "1.5.0",
      "model_name": "ButtonStyleModel",
      "state": {}
     },
     "aac858fdc6e240bba058d4abab741e96": {
      "model_module": "@jupyter-widgets/controls",
      "model_module_version": "1.5.0",
      "model_name": "FloatSliderModel",
      "state": {
       "description": "ip",
       "layout": "IPY_MODEL_2b4e20602f3c48bfa12f303b9735e29a",
       "max": 5,
       "step": 0.1,
       "style": "IPY_MODEL_67691575650f4e8cb1417273743a3185"
      }
     },
     "ab5171c1a44c4513ad168526d16e445c": {
      "model_module": "@jupyter-widgets/controls",
      "model_module_version": "1.5.0",
      "model_name": "FloatSliderModel",
      "state": {
       "description": "ip",
       "layout": "IPY_MODEL_ffc244a5f24d450db34304a2456a07f7",
       "max": 10,
       "step": 0.2,
       "style": "IPY_MODEL_0cb065c27e44412c9e8c6251eb4f1034",
       "value": 1
      }
     },
     "ab5a8527f9864f9eabee7aa393852458": {
      "model_module": "@jupyter-widgets/controls",
      "model_module_version": "1.5.0",
      "model_name": "ButtonStyleModel",
      "state": {}
     },
     "ac0794b0001247bfb536f776dad568e6": {
      "model_module": "@jupyter-widgets/controls",
      "model_module_version": "1.5.0",
      "model_name": "IntSliderModel",
      "state": {
       "description": "nt",
       "layout": "IPY_MODEL_e62c05316d924f699fa5e106aac4960a",
       "max": 30,
       "min": 10,
       "step": 5,
       "style": "IPY_MODEL_74a287caba2e4fe9bbceb719cc7ab68b",
       "value": 10
      }
     },
     "ac0f5ff65ea241a48a48a5dc97391ca1": {
      "model_module": "@jupyter-widgets/controls",
      "model_module_version": "1.5.0",
      "model_name": "ButtonStyleModel",
      "state": {}
     },
     "ac2c8a5a298d4f849db255f8b893c8c5": {
      "model_module": "@jupyter-widgets/controls",
      "model_module_version": "1.5.0",
      "model_name": "FloatSliderModel",
      "state": {
       "description": "ip",
       "layout": "IPY_MODEL_43bd628c0c2446f88c8d7f8677ee0744",
       "max": 5,
       "step": 0.1,
       "style": "IPY_MODEL_a737c1e7d0114e2d884b4afe2db9c31a"
      }
     },
     "ac6bacb2b7ac41d3a3789e72dd7799d1": {
      "model_module": "@jupyter-widgets/controls",
      "model_module_version": "1.5.0",
      "model_name": "VBoxModel",
      "state": {
       "_dom_classes": [
        "widget-interact"
       ],
       "children": [
        "IPY_MODEL_64587af2db62492a97e64783095890a1",
        "IPY_MODEL_65058f96c9bb46199db045b2b06b6a52",
        "IPY_MODEL_69f0fb8495204a1cb0d01e06dcb39c20"
       ],
       "layout": "IPY_MODEL_30620d1985b2494fa3b5987cb489dbe1"
      }
     },
     "ac92b64518774b09a9f1189067e27679": {
      "model_module": "@jupyter-widgets/controls",
      "model_module_version": "1.5.0",
      "model_name": "ButtonStyleModel",
      "state": {}
     },
     "ad52ddddaea040f380605e6e302e21c4": {
      "model_module": "@jupyter-widgets/controls",
      "model_module_version": "1.5.0",
      "model_name": "ButtonStyleModel",
      "state": {}
     },
     "ae0bc1b66dc747c189344e73eaa97537": {
      "model_module": "@jupyter-widgets/controls",
      "model_module_version": "1.5.0",
      "model_name": "FloatSliderModel",
      "state": {
       "description": "ip",
       "layout": "IPY_MODEL_f5320fd7605c4a24802cceea792820ac",
       "max": 5,
       "step": 0.1,
       "style": "IPY_MODEL_0275ef8061f94f30b24228ba00414af5"
      }
     },
     "aec14d08f4a94e49abbd8c05a831e04f": {
      "model_module": "@jupyter-widgets/controls",
      "model_module_version": "1.5.0",
      "model_name": "FloatSliderModel",
      "state": {
       "description": "ip",
       "layout": "IPY_MODEL_6d169c61060a4278bf19ec200a376ad1",
       "max": 10,
       "step": 0.2,
       "style": "IPY_MODEL_23f1d2411b8c46229c784520c8032ab8"
      }
     },
     "b0c597c3760649eb95bf6b39111061ae": {
      "model_module": "@jupyter-widgets/controls",
      "model_module_version": "1.5.0",
      "model_name": "ButtonModel",
      "state": {
       "description": "Run Interact",
       "layout": "IPY_MODEL_e9ca1903359944afb2f10f3b6549dafb",
       "style": "IPY_MODEL_108ccdfaabcc413b9eef90d650b31463"
      }
     },
     "b102433eb07a46c78ba4f56004c80fd8": {
      "model_module": "@jupyter-widgets/controls",
      "model_module_version": "1.5.0",
      "model_name": "SliderStyleModel",
      "state": {
       "description_width": ""
      }
     },
     "b1553d03f5b44782ab69890bf1a76539": {
      "model_module": "@jupyter-widgets/output",
      "model_module_version": "1.0.0",
      "model_name": "OutputModel",
      "state": {
       "layout": "IPY_MODEL_b181da58991d4d63898b68eb24ff9232"
      }
     },
     "b181da58991d4d63898b68eb24ff9232": {
      "model_module": "@jupyter-widgets/base",
      "model_module_version": "1.2.0",
      "model_name": "LayoutModel",
      "state": {}
     },
     "b27df5dbec5540bf85660bc4aee7004c": {
      "model_module": "@jupyter-widgets/controls",
      "model_module_version": "1.5.0",
      "model_name": "SliderStyleModel",
      "state": {
       "description_width": ""
      }
     },
     "b2958f51dc13461cb6004c59dba92fce": {
      "model_module": "@jupyter-widgets/controls",
      "model_module_version": "1.5.0",
      "model_name": "SliderStyleModel",
      "state": {
       "description_width": ""
      }
     },
     "b2d96106da2b43c2beead0323de9e8fc": {
      "model_module": "@jupyter-widgets/controls",
      "model_module_version": "1.5.0",
      "model_name": "FloatSliderModel",
      "state": {
       "description": "ip",
       "layout": "IPY_MODEL_623b269dec034247a0670ae003bc56f4",
       "max": 10,
       "step": 0.2,
       "style": "IPY_MODEL_9fa1321c83c345259fa1c57a18201b57"
      }
     },
     "b32df6cd0ce645dba6c2385dafb59285": {
      "model_module": "@jupyter-widgets/base",
      "model_module_version": "1.2.0",
      "model_name": "LayoutModel",
      "state": {}
     },
     "b521298282fc48a9962bee2814071436": {
      "model_module": "@jupyter-widgets/base",
      "model_module_version": "1.2.0",
      "model_name": "LayoutModel",
      "state": {}
     },
     "b589e609001443dfa3118bffcb6cf5cc": {
      "model_module": "@jupyter-widgets/output",
      "model_module_version": "1.0.0",
      "model_name": "OutputModel",
      "state": {
       "layout": "IPY_MODEL_a75cdc3cfeea449da74b1f8a4a8db5b6",
       "outputs": [
        {
         "name": "stdout",
         "output_type": "stream",
         "text": "Temperatura di fusione della forsterite: 2243.61 K\nTemperatura di fusione della fayalite: 1578.31 K\n"
        },
        {
         "data": {
          "image/png": "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\n",
          "text/plain": "<Figure size 432x288 with 1 Axes>"
         },
         "metadata": {
          "needs_background": "light"
         },
         "output_type": "display_data"
        },
        {
         "name": "stdout",
         "output_type": "stream",
         "text": "\n  T (K)   X(Mg)sol  X(Fe)sol  X(Mg)liq  X(Fe)liq\n 1578.31    0.00      1.00      0.00      1.00  \n 1613.32    0.16      0.84      0.02      0.98  \n 1648.34    0.29      0.71      0.04      0.96  \n 1683.35    0.40      0.60      0.07      0.93  \n 1718.37    0.49      0.51      0.10      0.90  \n 1753.38    0.57      0.43      0.12      0.88  \n 1788.40    0.64      0.36      0.16      0.84  \n 1823.42    0.69      0.31      0.19      0.81  \n 1858.43    0.74      0.26      0.23      0.77  \n 1893.45    0.78      0.22      0.27      0.73  \n 1928.46    0.82      0.18      0.32      0.68  \n 1963.48    0.85      0.15      0.37      0.63  \n 1998.50    0.88      0.12      0.42      0.58  \n 2033.51    0.90      0.10      0.48      0.52  \n 2068.53    0.92      0.08      0.55      0.45  \n 2103.54    0.94      0.06      0.62      0.38  \n 2138.56    0.96      0.04      0.71      0.29  \n 2173.57    0.97      0.03      0.79      0.21  \n 2208.59    0.99      0.01      0.89      0.11  \n 2243.61    1.00      0.00      1.00      0.00  \n"
        }
       ]
      }
     },
     "b59fc084f149407c96d547e7c871afa8": {
      "model_module": "@jupyter-widgets/base",
      "model_module_version": "1.2.0",
      "model_name": "LayoutModel",
      "state": {}
     },
     "b6fca3f447f849388a7cef2e1a431204": {
      "model_module": "@jupyter-widgets/controls",
      "model_module_version": "1.5.0",
      "model_name": "FloatSliderModel",
      "state": {
       "description": "tfmax",
       "layout": "IPY_MODEL_ebef76df71424172900b6aa0c1882272",
       "max": 3000,
       "step": 10,
       "style": "IPY_MODEL_b2958f51dc13461cb6004c59dba92fce",
       "value": 3000
      }
     },
     "b700a533d86d42b786554da78200c328": {
      "model_module": "@jupyter-widgets/controls",
      "model_module_version": "1.5.0",
      "model_name": "IntSliderModel",
      "state": {
       "description": "nt",
       "layout": "IPY_MODEL_4ae121b07a604949b7e2a96abac8ded7",
       "max": 30,
       "min": 10,
       "step": 5,
       "style": "IPY_MODEL_c7af4b76e37c4c7c8b68f6e2b0a95ce4",
       "value": 10
      }
     },
     "b7b949d3d63948abbeeb5b2dc5d63313": {
      "model_module": "@jupyter-widgets/controls",
      "model_module_version": "1.5.0",
      "model_name": "SliderStyleModel",
      "state": {
       "description_width": ""
      }
     },
     "b8d05b5e90e7471eb16f9a92e92afacc": {
      "model_module": "@jupyter-widgets/output",
      "model_module_version": "1.0.0",
      "model_name": "OutputModel",
      "state": {
       "layout": "IPY_MODEL_6fb51c4d3d624eaba5dfca2fe44cd66f",
       "outputs": [
        {
         "name": "stdout",
         "output_type": "stream",
         "text": "Temperatura di fusione della forsterite: 2230.00 K\nTemperatura di fusione della fayalite: 1562.67 K\n"
        },
        {
         "data": {
          "application/javascript": "/* Put everything inside the global mpl namespace */\nwindow.mpl = {};\n\n\nmpl.get_websocket_type = function() {\n    if (typeof(WebSocket) !== 'undefined') {\n        return WebSocket;\n    } else if (typeof(MozWebSocket) !== 'undefined') {\n        return MozWebSocket;\n    } else {\n        alert('Your browser does not have WebSocket support. ' +\n              'Please try Chrome, Safari or Firefox ≥ 6. ' +\n              'Firefox 4 and 5 are also supported but you ' +\n              'have to enable WebSockets in about:config.');\n    };\n}\n\nmpl.figure = function(figure_id, websocket, ondownload, parent_element) {\n    this.id = figure_id;\n\n    this.ws = websocket;\n\n    this.supports_binary = (this.ws.binaryType != undefined);\n\n    if (!this.supports_binary) {\n        var warnings = document.getElementById(\"mpl-warnings\");\n        if (warnings) {\n            warnings.style.display = 'block';\n            warnings.textContent = (\n                \"This browser does not support binary websocket messages. \" +\n                    \"Performance may be slow.\");\n        }\n    }\n\n    this.imageObj = new Image();\n\n    this.context = undefined;\n    this.message = undefined;\n    this.canvas = undefined;\n    this.rubberband_canvas = undefined;\n    this.rubberband_context = undefined;\n    this.format_dropdown = undefined;\n\n    this.image_mode = 'full';\n\n    this.root = $('<div/>');\n    this._root_extra_style(this.root)\n    this.root.attr('style', 'display: inline-block');\n\n    $(parent_element).append(this.root);\n\n    this._init_header(this);\n    this._init_canvas(this);\n    this._init_toolbar(this);\n\n    var fig = this;\n\n    this.waiting = false;\n\n    this.ws.onopen =  function () {\n            fig.send_message(\"supports_binary\", {value: fig.supports_binary});\n            fig.send_message(\"send_image_mode\", {});\n            if (mpl.ratio != 1) {\n                fig.send_message(\"set_dpi_ratio\", {'dpi_ratio': mpl.ratio});\n            }\n            fig.send_message(\"refresh\", {});\n        }\n\n    this.imageObj.onload = function() {\n            if (fig.image_mode == 'full') {\n                // Full images could contain transparency (where diff images\n                // almost always do), so we need to clear the canvas so that\n                // there is no ghosting.\n                fig.context.clearRect(0, 0, fig.canvas.width, fig.canvas.height);\n            }\n            fig.context.drawImage(fig.imageObj, 0, 0);\n        };\n\n    this.imageObj.onunload = function() {\n        fig.ws.close();\n    }\n\n    this.ws.onmessage = this._make_on_message_function(this);\n\n    this.ondownload = ondownload;\n}\n\nmpl.figure.prototype._init_header = function() {\n    var titlebar = $(\n        '<div class=\"ui-dialog-titlebar ui-widget-header ui-corner-all ' +\n        'ui-helper-clearfix\"/>');\n    var titletext = $(\n        '<div class=\"ui-dialog-title\" style=\"width: 100%; ' +\n        'text-align: center; padding: 3px;\"/>');\n    titlebar.append(titletext)\n    this.root.append(titlebar);\n    this.header = titletext[0];\n}\n\n\n\nmpl.figure.prototype._canvas_extra_style = function(canvas_div) {\n\n}\n\n\nmpl.figure.prototype._root_extra_style = function(canvas_div) {\n\n}\n\nmpl.figure.prototype._init_canvas = function() {\n    var fig = this;\n\n    var canvas_div = $('<div/>');\n\n    canvas_div.attr('style', 'position: relative; clear: both; outline: 0');\n\n    function canvas_keyboard_event(event) {\n        return fig.key_event(event, event['data']);\n    }\n\n    canvas_div.keydown('key_press', canvas_keyboard_event);\n    canvas_div.keyup('key_release', canvas_keyboard_event);\n    this.canvas_div = canvas_div\n    this._canvas_extra_style(canvas_div)\n    this.root.append(canvas_div);\n\n    var canvas = $('<canvas/>');\n    canvas.addClass('mpl-canvas');\n    canvas.attr('style', \"left: 0; top: 0; z-index: 0; outline: 0\")\n\n    this.canvas = canvas[0];\n    this.context = canvas[0].getContext(\"2d\");\n\n    var backingStore = this.context.backingStorePixelRatio ||\n\tthis.context.webkitBackingStorePixelRatio ||\n\tthis.context.mozBackingStorePixelRatio ||\n\tthis.context.msBackingStorePixelRatio ||\n\tthis.context.oBackingStorePixelRatio ||\n\tthis.context.backingStorePixelRatio || 1;\n\n    mpl.ratio = (window.devicePixelRatio || 1) / backingStore;\n\n    var rubberband = $('<canvas/>');\n    rubberband.attr('style', \"position: absolute; left: 0; top: 0; z-index: 1;\")\n\n    var pass_mouse_events = true;\n\n    canvas_div.resizable({\n        start: function(event, ui) {\n            pass_mouse_events = false;\n        },\n        resize: function(event, ui) {\n            fig.request_resize(ui.size.width, ui.size.height);\n        },\n        stop: function(event, ui) {\n            pass_mouse_events = true;\n            fig.request_resize(ui.size.width, ui.size.height);\n        },\n    });\n\n    function mouse_event_fn(event) {\n        if (pass_mouse_events)\n            return fig.mouse_event(event, event['data']);\n    }\n\n    rubberband.mousedown('button_press', mouse_event_fn);\n    rubberband.mouseup('button_release', mouse_event_fn);\n    // Throttle sequential mouse events to 1 every 20ms.\n    rubberband.mousemove('motion_notify', mouse_event_fn);\n\n    rubberband.mouseenter('figure_enter', mouse_event_fn);\n    rubberband.mouseleave('figure_leave', mouse_event_fn);\n\n    canvas_div.on(\"wheel\", function (event) {\n        event = event.originalEvent;\n        event['data'] = 'scroll'\n        if (event.deltaY < 0) {\n            event.step = 1;\n        } else {\n            event.step = -1;\n        }\n        mouse_event_fn(event);\n    });\n\n    canvas_div.append(canvas);\n    canvas_div.append(rubberband);\n\n    this.rubberband = rubberband;\n    this.rubberband_canvas = rubberband[0];\n    this.rubberband_context = rubberband[0].getContext(\"2d\");\n    this.rubberband_context.strokeStyle = \"#000000\";\n\n    this._resize_canvas = function(width, height) {\n        // Keep the size of the canvas, canvas container, and rubber band\n        // canvas in synch.\n        canvas_div.css('width', width)\n        canvas_div.css('height', height)\n\n        canvas.attr('width', width * mpl.ratio);\n        canvas.attr('height', height * mpl.ratio);\n        canvas.attr('style', 'width: ' + width + 'px; height: ' + height + 'px;');\n\n        rubberband.attr('width', width);\n        rubberband.attr('height', height);\n    }\n\n    // Set the figure to an initial 600x600px, this will subsequently be updated\n    // upon first draw.\n    this._resize_canvas(600, 600);\n\n    // Disable right mouse context menu.\n    $(this.rubberband_canvas).bind(\"contextmenu\",function(e){\n        return false;\n    });\n\n    function set_focus () {\n        canvas.focus();\n        canvas_div.focus();\n    }\n\n    window.setTimeout(set_focus, 100);\n}\n\nmpl.figure.prototype._init_toolbar = function() {\n    var fig = this;\n\n    var nav_element = $('<div/>');\n    nav_element.attr('style', 'width: 100%');\n    this.root.append(nav_element);\n\n    // Define a callback function for later on.\n    function toolbar_event(event) {\n        return fig.toolbar_button_onclick(event['data']);\n    }\n    function toolbar_mouse_event(event) {\n        return fig.toolbar_button_onmouseover(event['data']);\n    }\n\n    for(var toolbar_ind in mpl.toolbar_items) {\n        var name = mpl.toolbar_items[toolbar_ind][0];\n        var tooltip = mpl.toolbar_items[toolbar_ind][1];\n        var image = mpl.toolbar_items[toolbar_ind][2];\n        var method_name = mpl.toolbar_items[toolbar_ind][3];\n\n        if (!name) {\n            // put a spacer in here.\n            continue;\n        }\n        var button = $('<button/>');\n        button.addClass('ui-button ui-widget ui-state-default ui-corner-all ' +\n                        'ui-button-icon-only');\n        button.attr('role', 'button');\n        button.attr('aria-disabled', 'false');\n        button.click(method_name, toolbar_event);\n        button.mouseover(tooltip, toolbar_mouse_event);\n\n        var icon_img = $('<span/>');\n        icon_img.addClass('ui-button-icon-primary ui-icon');\n        icon_img.addClass(image);\n        icon_img.addClass('ui-corner-all');\n\n        var tooltip_span = $('<span/>');\n        tooltip_span.addClass('ui-button-text');\n        tooltip_span.html(tooltip);\n\n        button.append(icon_img);\n        button.append(tooltip_span);\n\n        nav_element.append(button);\n    }\n\n    var fmt_picker_span = $('<span/>');\n\n    var fmt_picker = $('<select/>');\n    fmt_picker.addClass('mpl-toolbar-option ui-widget ui-widget-content');\n    fmt_picker_span.append(fmt_picker);\n    nav_element.append(fmt_picker_span);\n    this.format_dropdown = fmt_picker[0];\n\n    for (var ind in mpl.extensions) {\n        var fmt = mpl.extensions[ind];\n        var option = $(\n            '<option/>', {selected: fmt === mpl.default_extension}).html(fmt);\n        fmt_picker.append(option);\n    }\n\n    // Add hover states to the ui-buttons\n    $( \".ui-button\" ).hover(\n        function() { $(this).addClass(\"ui-state-hover\");},\n        function() { $(this).removeClass(\"ui-state-hover\");}\n    );\n\n    var status_bar = $('<span class=\"mpl-message\"/>');\n    nav_element.append(status_bar);\n    this.message = status_bar[0];\n}\n\nmpl.figure.prototype.request_resize = function(x_pixels, y_pixels) {\n    // Request matplotlib to resize the figure. Matplotlib will then trigger a resize in the client,\n    // which will in turn request a refresh of the image.\n    this.send_message('resize', {'width': x_pixels, 'height': y_pixels});\n}\n\nmpl.figure.prototype.send_message = function(type, properties) {\n    properties['type'] = type;\n    properties['figure_id'] = this.id;\n    this.ws.send(JSON.stringify(properties));\n}\n\nmpl.figure.prototype.send_draw_message = function() {\n    if (!this.waiting) {\n        this.waiting = true;\n        this.ws.send(JSON.stringify({type: \"draw\", figure_id: this.id}));\n    }\n}\n\n\nmpl.figure.prototype.handle_save = function(fig, msg) {\n    var format_dropdown = fig.format_dropdown;\n    var format = format_dropdown.options[format_dropdown.selectedIndex].value;\n    fig.ondownload(fig, format);\n}\n\n\nmpl.figure.prototype.handle_resize = function(fig, msg) {\n    var size = msg['size'];\n    if (size[0] != fig.canvas.width || size[1] != fig.canvas.height) {\n        fig._resize_canvas(size[0], size[1]);\n        fig.send_message(\"refresh\", {});\n    };\n}\n\nmpl.figure.prototype.handle_rubberband = function(fig, msg) {\n    var x0 = msg['x0'] / mpl.ratio;\n    var y0 = (fig.canvas.height - msg['y0']) / mpl.ratio;\n    var x1 = msg['x1'] / mpl.ratio;\n    var y1 = (fig.canvas.height - msg['y1']) / mpl.ratio;\n    x0 = Math.floor(x0) + 0.5;\n    y0 = Math.floor(y0) + 0.5;\n    x1 = Math.floor(x1) + 0.5;\n    y1 = Math.floor(y1) + 0.5;\n    var min_x = Math.min(x0, x1);\n    var min_y = Math.min(y0, y1);\n    var width = Math.abs(x1 - x0);\n    var height = Math.abs(y1 - y0);\n\n    fig.rubberband_context.clearRect(\n        0, 0, fig.canvas.width / mpl.ratio, fig.canvas.height / mpl.ratio);\n\n    fig.rubberband_context.strokeRect(min_x, min_y, width, height);\n}\n\nmpl.figure.prototype.handle_figure_label = function(fig, msg) {\n    // Updates the figure title.\n    fig.header.textContent = msg['label'];\n}\n\nmpl.figure.prototype.handle_cursor = function(fig, msg) {\n    var cursor = msg['cursor'];\n    switch(cursor)\n    {\n    case 0:\n        cursor = 'pointer';\n        break;\n    case 1:\n        cursor = 'default';\n        break;\n    case 2:\n        cursor = 'crosshair';\n        break;\n    case 3:\n        cursor = 'move';\n        break;\n    }\n    fig.rubberband_canvas.style.cursor = cursor;\n}\n\nmpl.figure.prototype.handle_message = function(fig, msg) {\n    fig.message.textContent = msg['message'];\n}\n\nmpl.figure.prototype.handle_draw = function(fig, msg) {\n    // Request the server to send over a new figure.\n    fig.send_draw_message();\n}\n\nmpl.figure.prototype.handle_image_mode = function(fig, msg) {\n    fig.image_mode = msg['mode'];\n}\n\nmpl.figure.prototype.updated_canvas_event = function() {\n    // Called whenever the canvas gets updated.\n    this.send_message(\"ack\", {});\n}\n\n// A function to construct a web socket function for onmessage handling.\n// Called in the figure constructor.\nmpl.figure.prototype._make_on_message_function = function(fig) {\n    return function socket_on_message(evt) {\n        if (evt.data instanceof Blob) {\n            /* FIXME: We get \"Resource interpreted as Image but\n             * transferred with MIME type text/plain:\" errors on\n             * Chrome.  But how to set the MIME type?  It doesn't seem\n             * to be part of the websocket stream */\n            evt.data.type = \"image/png\";\n\n            /* Free the memory for the previous frames */\n            if (fig.imageObj.src) {\n                (window.URL || window.webkitURL).revokeObjectURL(\n                    fig.imageObj.src);\n            }\n\n            fig.imageObj.src = (window.URL || window.webkitURL).createObjectURL(\n                evt.data);\n            fig.updated_canvas_event();\n            fig.waiting = false;\n            return;\n        }\n        else if (typeof evt.data === 'string' && evt.data.slice(0, 21) == \"data:image/png;base64\") {\n            fig.imageObj.src = evt.data;\n            fig.updated_canvas_event();\n            fig.waiting = false;\n            return;\n        }\n\n        var msg = JSON.parse(evt.data);\n        var msg_type = msg['type'];\n\n        // Call the  \"handle_{type}\" callback, which takes\n        // the figure and JSON message as its only arguments.\n        try {\n            var callback = fig[\"handle_\" + msg_type];\n        } catch (e) {\n            console.log(\"No handler for the '\" + msg_type + \"' message type: \", msg);\n            return;\n        }\n\n        if (callback) {\n            try {\n                // console.log(\"Handling '\" + msg_type + \"' message: \", msg);\n                callback(fig, msg);\n            } catch (e) {\n                console.log(\"Exception inside the 'handler_\" + msg_type + \"' callback:\", e, e.stack, msg);\n            }\n        }\n    };\n}\n\n// from http://stackoverflow.com/questions/1114465/getting-mouse-location-in-canvas\nmpl.findpos = function(e) {\n    //this section is from http://www.quirksmode.org/js/events_properties.html\n    var targ;\n    if (!e)\n        e = window.event;\n    if (e.target)\n        targ = e.target;\n    else if (e.srcElement)\n        targ = e.srcElement;\n    if (targ.nodeType == 3) // defeat Safari bug\n        targ = targ.parentNode;\n\n    // jQuery normalizes the pageX and pageY\n    // pageX,Y are the mouse positions relative to the document\n    // offset() returns the position of the element relative to the document\n    var x = e.pageX - $(targ).offset().left;\n    var y = e.pageY - $(targ).offset().top;\n\n    return {\"x\": x, \"y\": y};\n};\n\n/*\n * return a copy of an object with only non-object keys\n * we need this to avoid circular references\n * http://stackoverflow.com/a/24161582/3208463\n */\nfunction simpleKeys (original) {\n  return Object.keys(original).reduce(function (obj, key) {\n    if (typeof original[key] !== 'object')\n        obj[key] = original[key]\n    return obj;\n  }, {});\n}\n\nmpl.figure.prototype.mouse_event = function(event, name) {\n    var canvas_pos = mpl.findpos(event)\n\n    if (name === 'button_press')\n    {\n        this.canvas.focus();\n        this.canvas_div.focus();\n    }\n\n    var x = canvas_pos.x * mpl.ratio;\n    var y = canvas_pos.y * mpl.ratio;\n\n    this.send_message(name, {x: x, y: y, button: event.button,\n                             step: event.step,\n                             guiEvent: simpleKeys(event)});\n\n    /* This prevents the web browser from automatically changing to\n     * the text insertion cursor when the button is pressed.  We want\n     * to control all of the cursor setting manually through the\n     * 'cursor' event from matplotlib */\n    event.preventDefault();\n    return false;\n}\n\nmpl.figure.prototype._key_event_extra = function(event, name) {\n    // Handle any extra behaviour associated with a key event\n}\n\nmpl.figure.prototype.key_event = function(event, name) {\n\n    // Prevent repeat events\n    if (name == 'key_press')\n    {\n        if (event.which === this._key)\n            return;\n        else\n            this._key = event.which;\n    }\n    if (name == 'key_release')\n        this._key = null;\n\n    var value = '';\n    if (event.ctrlKey && event.which != 17)\n        value += \"ctrl+\";\n    if (event.altKey && event.which != 18)\n        value += \"alt+\";\n    if (event.shiftKey && event.which != 16)\n        value += \"shift+\";\n\n    value += 'k';\n    value += event.which.toString();\n\n    this._key_event_extra(event, name);\n\n    this.send_message(name, {key: value,\n                             guiEvent: simpleKeys(event)});\n    return false;\n}\n\nmpl.figure.prototype.toolbar_button_onclick = function(name) {\n    if (name == 'download') {\n        this.handle_save(this, null);\n    } else {\n        this.send_message(\"toolbar_button\", {name: name});\n    }\n};\n\nmpl.figure.prototype.toolbar_button_onmouseover = function(tooltip) {\n    this.message.textContent = tooltip;\n};\nmpl.toolbar_items = [[\"Home\", \"Reset original view\", \"fa fa-home icon-home\", \"home\"], [\"Back\", \"Back to previous view\", \"fa fa-arrow-left icon-arrow-left\", \"back\"], [\"Forward\", \"Forward to next view\", \"fa fa-arrow-right icon-arrow-right\", \"forward\"], [\"\", \"\", \"\", \"\"], [\"Pan\", \"Pan axes with left mouse, zoom with right\", \"fa fa-arrows icon-move\", \"pan\"], [\"Zoom\", \"Zoom to rectangle\", \"fa fa-square-o icon-check-empty\", \"zoom\"], [\"\", \"\", \"\", \"\"], [\"Download\", \"Download plot\", \"fa fa-floppy-o icon-save\", \"download\"]];\n\nmpl.extensions = [\"eps\", \"jpeg\", \"pdf\", \"png\", \"ps\", \"raw\", \"svg\", \"tif\"];\n\nmpl.default_extension = \"png\";var comm_websocket_adapter = function(comm) {\n    // Create a \"websocket\"-like object which calls the given IPython comm\n    // object with the appropriate methods. Currently this is a non binary\n    // socket, so there is still some room for performance tuning.\n    var ws = {};\n\n    ws.close = function() {\n        comm.close()\n    };\n    ws.send = function(m) {\n        //console.log('sending', m);\n        comm.send(m);\n    };\n    // Register the callback with on_msg.\n    comm.on_msg(function(msg) {\n        //console.log('receiving', msg['content']['data'], msg);\n        // Pass the mpl event to the overridden (by mpl) onmessage function.\n        ws.onmessage(msg['content']['data'])\n    });\n    return ws;\n}\n\nmpl.mpl_figure_comm = function(comm, msg) {\n    // This is the function which gets called when the mpl process\n    // starts-up an IPython Comm through the \"matplotlib\" channel.\n\n    var id = msg.content.data.id;\n    // Get hold of the div created by the display call when the Comm\n    // socket was opened in Python.\n    var element = $(\"#\" + id);\n    var ws_proxy = comm_websocket_adapter(comm)\n\n    function ondownload(figure, format) {\n        window.open(figure.imageObj.src);\n    }\n\n    var fig = new mpl.figure(id, ws_proxy,\n                           ondownload,\n                           element.get(0));\n\n    // Call onopen now - mpl needs it, as it is assuming we've passed it a real\n    // web socket which is closed, not our websocket->open comm proxy.\n    ws_proxy.onopen();\n\n    fig.parent_element = element.get(0);\n    fig.cell_info = mpl.find_output_cell(\"<div id='\" + id + \"'></div>\");\n    if (!fig.cell_info) {\n        console.error(\"Failed to find cell for figure\", id, fig);\n        return;\n    }\n\n    var output_index = fig.cell_info[2]\n    var cell = fig.cell_info[0];\n\n};\n\nmpl.figure.prototype.handle_close = function(fig, msg) {\n    var width = fig.canvas.width/mpl.ratio\n    fig.root.unbind('remove')\n\n    // Update the output cell to use the data from the current canvas.\n    fig.push_to_output();\n    var dataURL = fig.canvas.toDataURL();\n    // Re-enable the keyboard manager in IPython - without this line, in FF,\n    // the notebook keyboard shortcuts fail.\n    IPython.keyboard_manager.enable()\n    $(fig.parent_element).html('<img src=\"' + dataURL + '\" width=\"' + width + '\">');\n    fig.close_ws(fig, msg);\n}\n\nmpl.figure.prototype.close_ws = function(fig, msg){\n    fig.send_message('closing', msg);\n    // fig.ws.close()\n}\n\nmpl.figure.prototype.push_to_output = function(remove_interactive) {\n    // Turn the data on the canvas into data in the output cell.\n    var width = this.canvas.width/mpl.ratio\n    var dataURL = this.canvas.toDataURL();\n    this.cell_info[1]['text/html'] = '<img src=\"' + dataURL + '\" width=\"' + width + '\">';\n}\n\nmpl.figure.prototype.updated_canvas_event = function() {\n    // Tell IPython that the notebook contents must change.\n    IPython.notebook.set_dirty(true);\n    this.send_message(\"ack\", {});\n    var fig = this;\n    // Wait a second, then push the new image to the DOM so\n    // that it is saved nicely (might be nice to debounce this).\n    setTimeout(function () { fig.push_to_output() }, 1000);\n}\n\nmpl.figure.prototype._init_toolbar = function() {\n    var fig = this;\n\n    var nav_element = $('<div/>');\n    nav_element.attr('style', 'width: 100%');\n    this.root.append(nav_element);\n\n    // Define a callback function for later on.\n    function toolbar_event(event) {\n        return fig.toolbar_button_onclick(event['data']);\n    }\n    function toolbar_mouse_event(event) {\n        return fig.toolbar_button_onmouseover(event['data']);\n    }\n\n    for(var toolbar_ind in mpl.toolbar_items){\n        var name = mpl.toolbar_items[toolbar_ind][0];\n        var tooltip = mpl.toolbar_items[toolbar_ind][1];\n        var image = mpl.toolbar_items[toolbar_ind][2];\n        var method_name = mpl.toolbar_items[toolbar_ind][3];\n\n        if (!name) { continue; };\n\n        var button = $('<button class=\"btn btn-default\" href=\"#\" title=\"' + name + '\"><i class=\"fa ' + image + ' fa-lg\"></i></button>');\n        button.click(method_name, toolbar_event);\n        button.mouseover(tooltip, toolbar_mouse_event);\n        nav_element.append(button);\n    }\n\n    // Add the status bar.\n    var status_bar = $('<span class=\"mpl-message\" style=\"text-align:right; float: right;\"/>');\n    nav_element.append(status_bar);\n    this.message = status_bar[0];\n\n    // Add the close button to the window.\n    var buttongrp = $('<div class=\"btn-group inline pull-right\"></div>');\n    var button = $('<button class=\"btn btn-mini btn-primary\" href=\"#\" title=\"Stop Interaction\"><i class=\"fa fa-power-off icon-remove icon-large\"></i></button>');\n    button.click(function (evt) { fig.handle_close(fig, {}); } );\n    button.mouseover('Stop Interaction', toolbar_mouse_event);\n    buttongrp.append(button);\n    var titlebar = this.root.find($('.ui-dialog-titlebar'));\n    titlebar.prepend(buttongrp);\n}\n\nmpl.figure.prototype._root_extra_style = function(el){\n    var fig = this\n    el.on(\"remove\", function(){\n\tfig.close_ws(fig, {});\n    });\n}\n\nmpl.figure.prototype._canvas_extra_style = function(el){\n    // this is important to make the div 'focusable\n    el.attr('tabindex', 0)\n    // reach out to IPython and tell the keyboard manager to turn it's self\n    // off when our div gets focus\n\n    // location in version 3\n    if (IPython.notebook.keyboard_manager) {\n        IPython.notebook.keyboard_manager.register_events(el);\n    }\n    else {\n        // location in version 2\n        IPython.keyboard_manager.register_events(el);\n    }\n\n}\n\nmpl.figure.prototype._key_event_extra = function(event, name) {\n    var manager = IPython.notebook.keyboard_manager;\n    if (!manager)\n        manager = IPython.keyboard_manager;\n\n    // Check for shift+enter\n    if (event.shiftKey && event.which == 13) {\n        this.canvas_div.blur();\n        // select the cell after this one\n        var index = IPython.notebook.find_cell_index(this.cell_info[0]);\n        IPython.notebook.select(index + 1);\n    }\n}\n\nmpl.figure.prototype.handle_save = function(fig, msg) {\n    fig.ondownload(fig, null);\n}\n\n\nmpl.find_output_cell = function(html_output) {\n    // Return the cell and output element which can be found *uniquely* in the notebook.\n    // Note - this is a bit hacky, but it is done because the \"notebook_saving.Notebook\"\n    // IPython event is triggered only after the cells have been serialised, which for\n    // our purposes (turning an active figure into a static one), is too late.\n    var cells = IPython.notebook.get_cells();\n    var ncells = cells.length;\n    for (var i=0; i<ncells; i++) {\n        var cell = cells[i];\n        if (cell.cell_type === 'code'){\n            for (var j=0; j<cell.output_area.outputs.length; j++) {\n                var data = cell.output_area.outputs[j];\n                if (data.data) {\n                    // IPython >= 3 moved mimebundle to data attribute of output\n                    data = data.data;\n                }\n                if (data['text/html'] == html_output) {\n                    return [cell, data, j];\n                }\n            }\n        }\n    }\n}\n\n// Register the function which deals with the matplotlib target/channel.\n// The kernel may be null if the page has been refreshed.\nif (IPython.notebook.kernel != null) {\n    IPython.notebook.kernel.comm_manager.register_target('matplotlib', mpl.mpl_figure_comm);\n}\n",
          "text/plain": "<IPython.core.display.Javascript object>"
         },
         "metadata": {},
         "output_type": "display_data"
        },
        {
         "data": {
          "text/html": "<div id='ecb04d09-4ba9-4da8-9886-24f472f55f81'></div>",
          "text/plain": "<IPython.core.display.HTML object>"
         },
         "metadata": {},
         "output_type": "display_data"
        },
        {
         "name": "stdout",
         "output_type": "stream",
         "text": "\n  T (K)   X(Mg)sol  X(Fe)sol  X(Mg)liq  X(Fe)liq\n 1562.67    0.00      1.00      0.00      1.00  \n 1636.82    0.31      0.69      0.05      0.95  \n 1710.96    0.52      0.48      0.10      0.90  \n 1785.11    0.66      0.34      0.17      0.83  \n 1859.26    0.76      0.24      0.24      0.76  \n 1933.41    0.84      0.16      0.34      0.66  \n 2007.56    0.90      0.10      0.46      0.54  \n 2081.70    0.94      0.06      0.60      0.40  \n 2155.85    0.97      0.03      0.78      0.22  \n 2230.00    1.00      0.00      1.00      0.00  \n"
        }
       ]
      }
     },
     "b97bd8745dcd4451b90b192dc4a8514c": {
      "model_module": "@jupyter-widgets/controls",
      "model_module_version": "1.5.0",
      "model_name": "SliderStyleModel",
      "state": {
       "description_width": ""
      }
     },
     "ba3a1463fd294147b1051907f9595959": {
      "model_module": "@jupyter-widgets/controls",
      "model_module_version": "1.5.0",
      "model_name": "VBoxModel",
      "state": {
       "_dom_classes": [
        "widget-interact"
       ],
       "children": [
        "IPY_MODEL_6e44c65af63b4803827813af95ecc1cf",
        "IPY_MODEL_ef48b08d2ee6442f8578c964c951a70c",
        "IPY_MODEL_70ccccb2e7b04780960587009226c43f",
        "IPY_MODEL_09323d73bcfe4b8aa7ee2c858ff18e40"
       ],
       "layout": "IPY_MODEL_809eff45a15b4ce690c44ca285c97d16"
      }
     },
     "babb2d854fa44e8c8f9fd849b3ce3bed": {
      "model_module": "@jupyter-widgets/base",
      "model_module_version": "1.2.0",
      "model_name": "LayoutModel",
      "state": {}
     },
     "bb9e73ec131d49119b4664405c416411": {
      "model_module": "@jupyter-widgets/base",
      "model_module_version": "1.2.0",
      "model_name": "LayoutModel",
      "state": {}
     },
     "bc28a83274e34916a32cfe52d8e34eca": {
      "model_module": "@jupyter-widgets/base",
      "model_module_version": "1.2.0",
      "model_name": "LayoutModel",
      "state": {}
     },
     "bd0952e952c44b2c902dbb1515df2537": {
      "model_module": "@jupyter-widgets/output",
      "model_module_version": "1.0.0",
      "model_name": "OutputModel",
      "state": {
       "layout": "IPY_MODEL_966eab5d2bc543d8a00c870808f64dde",
       "outputs": [
        {
         "name": "stdout",
         "output_type": "stream",
         "text": "Temperatura di fusione della forsterite: 2855.71 K\nTemperatura di fusione della fayalite: 2124.33 K\n"
        },
        {
         "data": {
          "application/javascript": "/* Put everything inside the global mpl namespace */\nwindow.mpl = {};\n\n\nmpl.get_websocket_type = function() {\n    if (typeof(WebSocket) !== 'undefined') {\n        return WebSocket;\n    } else if (typeof(MozWebSocket) !== 'undefined') {\n        return MozWebSocket;\n    } else {\n        alert('Your browser does not have WebSocket support. ' +\n              'Please try Chrome, Safari or Firefox ≥ 6. ' +\n              'Firefox 4 and 5 are also supported but you ' +\n              'have to enable WebSockets in about:config.');\n    };\n}\n\nmpl.figure = function(figure_id, websocket, ondownload, parent_element) {\n    this.id = figure_id;\n\n    this.ws = websocket;\n\n    this.supports_binary = (this.ws.binaryType != undefined);\n\n    if (!this.supports_binary) {\n        var warnings = document.getElementById(\"mpl-warnings\");\n        if (warnings) {\n            warnings.style.display = 'block';\n            warnings.textContent = (\n                \"This browser does not support binary websocket messages. \" +\n                    \"Performance may be slow.\");\n        }\n    }\n\n    this.imageObj = new Image();\n\n    this.context = undefined;\n    this.message = undefined;\n    this.canvas = undefined;\n    this.rubberband_canvas = undefined;\n    this.rubberband_context = undefined;\n    this.format_dropdown = undefined;\n\n    this.image_mode = 'full';\n\n    this.root = $('<div/>');\n    this._root_extra_style(this.root)\n    this.root.attr('style', 'display: inline-block');\n\n    $(parent_element).append(this.root);\n\n    this._init_header(this);\n    this._init_canvas(this);\n    this._init_toolbar(this);\n\n    var fig = this;\n\n    this.waiting = false;\n\n    this.ws.onopen =  function () {\n            fig.send_message(\"supports_binary\", {value: fig.supports_binary});\n            fig.send_message(\"send_image_mode\", {});\n            if (mpl.ratio != 1) {\n                fig.send_message(\"set_dpi_ratio\", {'dpi_ratio': mpl.ratio});\n            }\n            fig.send_message(\"refresh\", {});\n        }\n\n    this.imageObj.onload = function() {\n            if (fig.image_mode == 'full') {\n                // Full images could contain transparency (where diff images\n                // almost always do), so we need to clear the canvas so that\n                // there is no ghosting.\n                fig.context.clearRect(0, 0, fig.canvas.width, fig.canvas.height);\n            }\n            fig.context.drawImage(fig.imageObj, 0, 0);\n        };\n\n    this.imageObj.onunload = function() {\n        fig.ws.close();\n    }\n\n    this.ws.onmessage = this._make_on_message_function(this);\n\n    this.ondownload = ondownload;\n}\n\nmpl.figure.prototype._init_header = function() {\n    var titlebar = $(\n        '<div class=\"ui-dialog-titlebar ui-widget-header ui-corner-all ' +\n        'ui-helper-clearfix\"/>');\n    var titletext = $(\n        '<div class=\"ui-dialog-title\" style=\"width: 100%; ' +\n        'text-align: center; padding: 3px;\"/>');\n    titlebar.append(titletext)\n    this.root.append(titlebar);\n    this.header = titletext[0];\n}\n\n\n\nmpl.figure.prototype._canvas_extra_style = function(canvas_div) {\n\n}\n\n\nmpl.figure.prototype._root_extra_style = function(canvas_div) {\n\n}\n\nmpl.figure.prototype._init_canvas = function() {\n    var fig = this;\n\n    var canvas_div = $('<div/>');\n\n    canvas_div.attr('style', 'position: relative; clear: both; outline: 0');\n\n    function canvas_keyboard_event(event) {\n        return fig.key_event(event, event['data']);\n    }\n\n    canvas_div.keydown('key_press', canvas_keyboard_event);\n    canvas_div.keyup('key_release', canvas_keyboard_event);\n    this.canvas_div = canvas_div\n    this._canvas_extra_style(canvas_div)\n    this.root.append(canvas_div);\n\n    var canvas = $('<canvas/>');\n    canvas.addClass('mpl-canvas');\n    canvas.attr('style', \"left: 0; top: 0; z-index: 0; outline: 0\")\n\n    this.canvas = canvas[0];\n    this.context = canvas[0].getContext(\"2d\");\n\n    var backingStore = this.context.backingStorePixelRatio ||\n\tthis.context.webkitBackingStorePixelRatio ||\n\tthis.context.mozBackingStorePixelRatio ||\n\tthis.context.msBackingStorePixelRatio ||\n\tthis.context.oBackingStorePixelRatio ||\n\tthis.context.backingStorePixelRatio || 1;\n\n    mpl.ratio = (window.devicePixelRatio || 1) / backingStore;\n\n    var rubberband = $('<canvas/>');\n    rubberband.attr('style', \"position: absolute; left: 0; top: 0; z-index: 1;\")\n\n    var pass_mouse_events = true;\n\n    canvas_div.resizable({\n        start: function(event, ui) {\n            pass_mouse_events = false;\n        },\n        resize: function(event, ui) {\n            fig.request_resize(ui.size.width, ui.size.height);\n        },\n        stop: function(event, ui) {\n            pass_mouse_events = true;\n            fig.request_resize(ui.size.width, ui.size.height);\n        },\n    });\n\n    function mouse_event_fn(event) {\n        if (pass_mouse_events)\n            return fig.mouse_event(event, event['data']);\n    }\n\n    rubberband.mousedown('button_press', mouse_event_fn);\n    rubberband.mouseup('button_release', mouse_event_fn);\n    // Throttle sequential mouse events to 1 every 20ms.\n    rubberband.mousemove('motion_notify', mouse_event_fn);\n\n    rubberband.mouseenter('figure_enter', mouse_event_fn);\n    rubberband.mouseleave('figure_leave', mouse_event_fn);\n\n    canvas_div.on(\"wheel\", function (event) {\n        event = event.originalEvent;\n        event['data'] = 'scroll'\n        if (event.deltaY < 0) {\n            event.step = 1;\n        } else {\n            event.step = -1;\n        }\n        mouse_event_fn(event);\n    });\n\n    canvas_div.append(canvas);\n    canvas_div.append(rubberband);\n\n    this.rubberband = rubberband;\n    this.rubberband_canvas = rubberband[0];\n    this.rubberband_context = rubberband[0].getContext(\"2d\");\n    this.rubberband_context.strokeStyle = \"#000000\";\n\n    this._resize_canvas = function(width, height) {\n        // Keep the size of the canvas, canvas container, and rubber band\n        // canvas in synch.\n        canvas_div.css('width', width)\n        canvas_div.css('height', height)\n\n        canvas.attr('width', width * mpl.ratio);\n        canvas.attr('height', height * mpl.ratio);\n        canvas.attr('style', 'width: ' + width + 'px; height: ' + height + 'px;');\n\n        rubberband.attr('width', width);\n        rubberband.attr('height', height);\n    }\n\n    // Set the figure to an initial 600x600px, this will subsequently be updated\n    // upon first draw.\n    this._resize_canvas(600, 600);\n\n    // Disable right mouse context menu.\n    $(this.rubberband_canvas).bind(\"contextmenu\",function(e){\n        return false;\n    });\n\n    function set_focus () {\n        canvas.focus();\n        canvas_div.focus();\n    }\n\n    window.setTimeout(set_focus, 100);\n}\n\nmpl.figure.prototype._init_toolbar = function() {\n    var fig = this;\n\n    var nav_element = $('<div/>');\n    nav_element.attr('style', 'width: 100%');\n    this.root.append(nav_element);\n\n    // Define a callback function for later on.\n    function toolbar_event(event) {\n        return fig.toolbar_button_onclick(event['data']);\n    }\n    function toolbar_mouse_event(event) {\n        return fig.toolbar_button_onmouseover(event['data']);\n    }\n\n    for(var toolbar_ind in mpl.toolbar_items) {\n        var name = mpl.toolbar_items[toolbar_ind][0];\n        var tooltip = mpl.toolbar_items[toolbar_ind][1];\n        var image = mpl.toolbar_items[toolbar_ind][2];\n        var method_name = mpl.toolbar_items[toolbar_ind][3];\n\n        if (!name) {\n            // put a spacer in here.\n            continue;\n        }\n        var button = $('<button/>');\n        button.addClass('ui-button ui-widget ui-state-default ui-corner-all ' +\n                        'ui-button-icon-only');\n        button.attr('role', 'button');\n        button.attr('aria-disabled', 'false');\n        button.click(method_name, toolbar_event);\n        button.mouseover(tooltip, toolbar_mouse_event);\n\n        var icon_img = $('<span/>');\n        icon_img.addClass('ui-button-icon-primary ui-icon');\n        icon_img.addClass(image);\n        icon_img.addClass('ui-corner-all');\n\n        var tooltip_span = $('<span/>');\n        tooltip_span.addClass('ui-button-text');\n        tooltip_span.html(tooltip);\n\n        button.append(icon_img);\n        button.append(tooltip_span);\n\n        nav_element.append(button);\n    }\n\n    var fmt_picker_span = $('<span/>');\n\n    var fmt_picker = $('<select/>');\n    fmt_picker.addClass('mpl-toolbar-option ui-widget ui-widget-content');\n    fmt_picker_span.append(fmt_picker);\n    nav_element.append(fmt_picker_span);\n    this.format_dropdown = fmt_picker[0];\n\n    for (var ind in mpl.extensions) {\n        var fmt = mpl.extensions[ind];\n        var option = $(\n            '<option/>', {selected: fmt === mpl.default_extension}).html(fmt);\n        fmt_picker.append(option);\n    }\n\n    // Add hover states to the ui-buttons\n    $( \".ui-button\" ).hover(\n        function() { $(this).addClass(\"ui-state-hover\");},\n        function() { $(this).removeClass(\"ui-state-hover\");}\n    );\n\n    var status_bar = $('<span class=\"mpl-message\"/>');\n    nav_element.append(status_bar);\n    this.message = status_bar[0];\n}\n\nmpl.figure.prototype.request_resize = function(x_pixels, y_pixels) {\n    // Request matplotlib to resize the figure. Matplotlib will then trigger a resize in the client,\n    // which will in turn request a refresh of the image.\n    this.send_message('resize', {'width': x_pixels, 'height': y_pixels});\n}\n\nmpl.figure.prototype.send_message = function(type, properties) {\n    properties['type'] = type;\n    properties['figure_id'] = this.id;\n    this.ws.send(JSON.stringify(properties));\n}\n\nmpl.figure.prototype.send_draw_message = function() {\n    if (!this.waiting) {\n        this.waiting = true;\n        this.ws.send(JSON.stringify({type: \"draw\", figure_id: this.id}));\n    }\n}\n\n\nmpl.figure.prototype.handle_save = function(fig, msg) {\n    var format_dropdown = fig.format_dropdown;\n    var format = format_dropdown.options[format_dropdown.selectedIndex].value;\n    fig.ondownload(fig, format);\n}\n\n\nmpl.figure.prototype.handle_resize = function(fig, msg) {\n    var size = msg['size'];\n    if (size[0] != fig.canvas.width || size[1] != fig.canvas.height) {\n        fig._resize_canvas(size[0], size[1]);\n        fig.send_message(\"refresh\", {});\n    };\n}\n\nmpl.figure.prototype.handle_rubberband = function(fig, msg) {\n    var x0 = msg['x0'] / mpl.ratio;\n    var y0 = (fig.canvas.height - msg['y0']) / mpl.ratio;\n    var x1 = msg['x1'] / mpl.ratio;\n    var y1 = (fig.canvas.height - msg['y1']) / mpl.ratio;\n    x0 = Math.floor(x0) + 0.5;\n    y0 = Math.floor(y0) + 0.5;\n    x1 = Math.floor(x1) + 0.5;\n    y1 = Math.floor(y1) + 0.5;\n    var min_x = Math.min(x0, x1);\n    var min_y = Math.min(y0, y1);\n    var width = Math.abs(x1 - x0);\n    var height = Math.abs(y1 - y0);\n\n    fig.rubberband_context.clearRect(\n        0, 0, fig.canvas.width / mpl.ratio, fig.canvas.height / mpl.ratio);\n\n    fig.rubberband_context.strokeRect(min_x, min_y, width, height);\n}\n\nmpl.figure.prototype.handle_figure_label = function(fig, msg) {\n    // Updates the figure title.\n    fig.header.textContent = msg['label'];\n}\n\nmpl.figure.prototype.handle_cursor = function(fig, msg) {\n    var cursor = msg['cursor'];\n    switch(cursor)\n    {\n    case 0:\n        cursor = 'pointer';\n        break;\n    case 1:\n        cursor = 'default';\n        break;\n    case 2:\n        cursor = 'crosshair';\n        break;\n    case 3:\n        cursor = 'move';\n        break;\n    }\n    fig.rubberband_canvas.style.cursor = cursor;\n}\n\nmpl.figure.prototype.handle_message = function(fig, msg) {\n    fig.message.textContent = msg['message'];\n}\n\nmpl.figure.prototype.handle_draw = function(fig, msg) {\n    // Request the server to send over a new figure.\n    fig.send_draw_message();\n}\n\nmpl.figure.prototype.handle_image_mode = function(fig, msg) {\n    fig.image_mode = msg['mode'];\n}\n\nmpl.figure.prototype.updated_canvas_event = function() {\n    // Called whenever the canvas gets updated.\n    this.send_message(\"ack\", {});\n}\n\n// A function to construct a web socket function for onmessage handling.\n// Called in the figure constructor.\nmpl.figure.prototype._make_on_message_function = function(fig) {\n    return function socket_on_message(evt) {\n        if (evt.data instanceof Blob) {\n            /* FIXME: We get \"Resource interpreted as Image but\n             * transferred with MIME type text/plain:\" errors on\n             * Chrome.  But how to set the MIME type?  It doesn't seem\n             * to be part of the websocket stream */\n            evt.data.type = \"image/png\";\n\n            /* Free the memory for the previous frames */\n            if (fig.imageObj.src) {\n                (window.URL || window.webkitURL).revokeObjectURL(\n                    fig.imageObj.src);\n            }\n\n            fig.imageObj.src = (window.URL || window.webkitURL).createObjectURL(\n                evt.data);\n            fig.updated_canvas_event();\n            fig.waiting = false;\n            return;\n        }\n        else if (typeof evt.data === 'string' && evt.data.slice(0, 21) == \"data:image/png;base64\") {\n            fig.imageObj.src = evt.data;\n            fig.updated_canvas_event();\n            fig.waiting = false;\n            return;\n        }\n\n        var msg = JSON.parse(evt.data);\n        var msg_type = msg['type'];\n\n        // Call the  \"handle_{type}\" callback, which takes\n        // the figure and JSON message as its only arguments.\n        try {\n            var callback = fig[\"handle_\" + msg_type];\n        } catch (e) {\n            console.log(\"No handler for the '\" + msg_type + \"' message type: \", msg);\n            return;\n        }\n\n        if (callback) {\n            try {\n                // console.log(\"Handling '\" + msg_type + \"' message: \", msg);\n                callback(fig, msg);\n            } catch (e) {\n                console.log(\"Exception inside the 'handler_\" + msg_type + \"' callback:\", e, e.stack, msg);\n            }\n        }\n    };\n}\n\n// from http://stackoverflow.com/questions/1114465/getting-mouse-location-in-canvas\nmpl.findpos = function(e) {\n    //this section is from http://www.quirksmode.org/js/events_properties.html\n    var targ;\n    if (!e)\n        e = window.event;\n    if (e.target)\n        targ = e.target;\n    else if (e.srcElement)\n        targ = e.srcElement;\n    if (targ.nodeType == 3) // defeat Safari bug\n        targ = targ.parentNode;\n\n    // jQuery normalizes the pageX and pageY\n    // pageX,Y are the mouse positions relative to the document\n    // offset() returns the position of the element relative to the document\n    var x = e.pageX - $(targ).offset().left;\n    var y = e.pageY - $(targ).offset().top;\n\n    return {\"x\": x, \"y\": y};\n};\n\n/*\n * return a copy of an object with only non-object keys\n * we need this to avoid circular references\n * http://stackoverflow.com/a/24161582/3208463\n */\nfunction simpleKeys (original) {\n  return Object.keys(original).reduce(function (obj, key) {\n    if (typeof original[key] !== 'object')\n        obj[key] = original[key]\n    return obj;\n  }, {});\n}\n\nmpl.figure.prototype.mouse_event = function(event, name) {\n    var canvas_pos = mpl.findpos(event)\n\n    if (name === 'button_press')\n    {\n        this.canvas.focus();\n        this.canvas_div.focus();\n    }\n\n    var x = canvas_pos.x * mpl.ratio;\n    var y = canvas_pos.y * mpl.ratio;\n\n    this.send_message(name, {x: x, y: y, button: event.button,\n                             step: event.step,\n                             guiEvent: simpleKeys(event)});\n\n    /* This prevents the web browser from automatically changing to\n     * the text insertion cursor when the button is pressed.  We want\n     * to control all of the cursor setting manually through the\n     * 'cursor' event from matplotlib */\n    event.preventDefault();\n    return false;\n}\n\nmpl.figure.prototype._key_event_extra = function(event, name) {\n    // Handle any extra behaviour associated with a key event\n}\n\nmpl.figure.prototype.key_event = function(event, name) {\n\n    // Prevent repeat events\n    if (name == 'key_press')\n    {\n        if (event.which === this._key)\n            return;\n        else\n            this._key = event.which;\n    }\n    if (name == 'key_release')\n        this._key = null;\n\n    var value = '';\n    if (event.ctrlKey && event.which != 17)\n        value += \"ctrl+\";\n    if (event.altKey && event.which != 18)\n        value += \"alt+\";\n    if (event.shiftKey && event.which != 16)\n        value += \"shift+\";\n\n    value += 'k';\n    value += event.which.toString();\n\n    this._key_event_extra(event, name);\n\n    this.send_message(name, {key: value,\n                             guiEvent: simpleKeys(event)});\n    return false;\n}\n\nmpl.figure.prototype.toolbar_button_onclick = function(name) {\n    if (name == 'download') {\n        this.handle_save(this, null);\n    } else {\n        this.send_message(\"toolbar_button\", {name: name});\n    }\n};\n\nmpl.figure.prototype.toolbar_button_onmouseover = function(tooltip) {\n    this.message.textContent = tooltip;\n};\nmpl.toolbar_items = [[\"Home\", \"Reset original view\", \"fa fa-home icon-home\", \"home\"], [\"Back\", \"Back to previous view\", \"fa fa-arrow-left icon-arrow-left\", \"back\"], [\"Forward\", \"Forward to next view\", \"fa fa-arrow-right icon-arrow-right\", \"forward\"], [\"\", \"\", \"\", \"\"], [\"Pan\", \"Pan axes with left mouse, zoom with right\", \"fa fa-arrows icon-move\", \"pan\"], [\"Zoom\", \"Zoom to rectangle\", \"fa fa-square-o icon-check-empty\", \"zoom\"], [\"\", \"\", \"\", \"\"], [\"Download\", \"Download plot\", \"fa fa-floppy-o icon-save\", \"download\"]];\n\nmpl.extensions = [\"eps\", \"jpeg\", \"pdf\", \"png\", \"ps\", \"raw\", \"svg\", \"tif\"];\n\nmpl.default_extension = \"png\";var comm_websocket_adapter = function(comm) {\n    // Create a \"websocket\"-like object which calls the given IPython comm\n    // object with the appropriate methods. Currently this is a non binary\n    // socket, so there is still some room for performance tuning.\n    var ws = {};\n\n    ws.close = function() {\n        comm.close()\n    };\n    ws.send = function(m) {\n        //console.log('sending', m);\n        comm.send(m);\n    };\n    // Register the callback with on_msg.\n    comm.on_msg(function(msg) {\n        //console.log('receiving', msg['content']['data'], msg);\n        // Pass the mpl event to the overridden (by mpl) onmessage function.\n        ws.onmessage(msg['content']['data'])\n    });\n    return ws;\n}\n\nmpl.mpl_figure_comm = function(comm, msg) {\n    // This is the function which gets called when the mpl process\n    // starts-up an IPython Comm through the \"matplotlib\" channel.\n\n    var id = msg.content.data.id;\n    // Get hold of the div created by the display call when the Comm\n    // socket was opened in Python.\n    var element = $(\"#\" + id);\n    var ws_proxy = comm_websocket_adapter(comm)\n\n    function ondownload(figure, format) {\n        window.open(figure.imageObj.src);\n    }\n\n    var fig = new mpl.figure(id, ws_proxy,\n                           ondownload,\n                           element.get(0));\n\n    // Call onopen now - mpl needs it, as it is assuming we've passed it a real\n    // web socket which is closed, not our websocket->open comm proxy.\n    ws_proxy.onopen();\n\n    fig.parent_element = element.get(0);\n    fig.cell_info = mpl.find_output_cell(\"<div id='\" + id + \"'></div>\");\n    if (!fig.cell_info) {\n        console.error(\"Failed to find cell for figure\", id, fig);\n        return;\n    }\n\n    var output_index = fig.cell_info[2]\n    var cell = fig.cell_info[0];\n\n};\n\nmpl.figure.prototype.handle_close = function(fig, msg) {\n    var width = fig.canvas.width/mpl.ratio\n    fig.root.unbind('remove')\n\n    // Update the output cell to use the data from the current canvas.\n    fig.push_to_output();\n    var dataURL = fig.canvas.toDataURL();\n    // Re-enable the keyboard manager in IPython - without this line, in FF,\n    // the notebook keyboard shortcuts fail.\n    IPython.keyboard_manager.enable()\n    $(fig.parent_element).html('<img src=\"' + dataURL + '\" width=\"' + width + '\">');\n    fig.close_ws(fig, msg);\n}\n\nmpl.figure.prototype.close_ws = function(fig, msg){\n    fig.send_message('closing', msg);\n    // fig.ws.close()\n}\n\nmpl.figure.prototype.push_to_output = function(remove_interactive) {\n    // Turn the data on the canvas into data in the output cell.\n    var width = this.canvas.width/mpl.ratio\n    var dataURL = this.canvas.toDataURL();\n    this.cell_info[1]['text/html'] = '<img src=\"' + dataURL + '\" width=\"' + width + '\">';\n}\n\nmpl.figure.prototype.updated_canvas_event = function() {\n    // Tell IPython that the notebook contents must change.\n    IPython.notebook.set_dirty(true);\n    this.send_message(\"ack\", {});\n    var fig = this;\n    // Wait a second, then push the new image to the DOM so\n    // that it is saved nicely (might be nice to debounce this).\n    setTimeout(function () { fig.push_to_output() }, 1000);\n}\n\nmpl.figure.prototype._init_toolbar = function() {\n    var fig = this;\n\n    var nav_element = $('<div/>');\n    nav_element.attr('style', 'width: 100%');\n    this.root.append(nav_element);\n\n    // Define a callback function for later on.\n    function toolbar_event(event) {\n        return fig.toolbar_button_onclick(event['data']);\n    }\n    function toolbar_mouse_event(event) {\n        return fig.toolbar_button_onmouseover(event['data']);\n    }\n\n    for(var toolbar_ind in mpl.toolbar_items){\n        var name = mpl.toolbar_items[toolbar_ind][0];\n        var tooltip = mpl.toolbar_items[toolbar_ind][1];\n        var image = mpl.toolbar_items[toolbar_ind][2];\n        var method_name = mpl.toolbar_items[toolbar_ind][3];\n\n        if (!name) { continue; };\n\n        var button = $('<button class=\"btn btn-default\" href=\"#\" title=\"' + name + '\"><i class=\"fa ' + image + ' fa-lg\"></i></button>');\n        button.click(method_name, toolbar_event);\n        button.mouseover(tooltip, toolbar_mouse_event);\n        nav_element.append(button);\n    }\n\n    // Add the status bar.\n    var status_bar = $('<span class=\"mpl-message\" style=\"text-align:right; float: right;\"/>');\n    nav_element.append(status_bar);\n    this.message = status_bar[0];\n\n    // Add the close button to the window.\n    var buttongrp = $('<div class=\"btn-group inline pull-right\"></div>');\n    var button = $('<button class=\"btn btn-mini btn-primary\" href=\"#\" title=\"Stop Interaction\"><i class=\"fa fa-power-off icon-remove icon-large\"></i></button>');\n    button.click(function (evt) { fig.handle_close(fig, {}); } );\n    button.mouseover('Stop Interaction', toolbar_mouse_event);\n    buttongrp.append(button);\n    var titlebar = this.root.find($('.ui-dialog-titlebar'));\n    titlebar.prepend(buttongrp);\n}\n\nmpl.figure.prototype._root_extra_style = function(el){\n    var fig = this\n    el.on(\"remove\", function(){\n\tfig.close_ws(fig, {});\n    });\n}\n\nmpl.figure.prototype._canvas_extra_style = function(el){\n    // this is important to make the div 'focusable\n    el.attr('tabindex', 0)\n    // reach out to IPython and tell the keyboard manager to turn it's self\n    // off when our div gets focus\n\n    // location in version 3\n    if (IPython.notebook.keyboard_manager) {\n        IPython.notebook.keyboard_manager.register_events(el);\n    }\n    else {\n        // location in version 2\n        IPython.keyboard_manager.register_events(el);\n    }\n\n}\n\nmpl.figure.prototype._key_event_extra = function(event, name) {\n    var manager = IPython.notebook.keyboard_manager;\n    if (!manager)\n        manager = IPython.keyboard_manager;\n\n    // Check for shift+enter\n    if (event.shiftKey && event.which == 13) {\n        this.canvas_div.blur();\n        // select the cell after this one\n        var index = IPython.notebook.find_cell_index(this.cell_info[0]);\n        IPython.notebook.select(index + 1);\n    }\n}\n\nmpl.figure.prototype.handle_save = function(fig, msg) {\n    fig.ondownload(fig, null);\n}\n\n\nmpl.find_output_cell = function(html_output) {\n    // Return the cell and output element which can be found *uniquely* in the notebook.\n    // Note - this is a bit hacky, but it is done because the \"notebook_saving.Notebook\"\n    // IPython event is triggered only after the cells have been serialised, which for\n    // our purposes (turning an active figure into a static one), is too late.\n    var cells = IPython.notebook.get_cells();\n    var ncells = cells.length;\n    for (var i=0; i<ncells; i++) {\n        var cell = cells[i];\n        if (cell.cell_type === 'code'){\n            for (var j=0; j<cell.output_area.outputs.length; j++) {\n                var data = cell.output_area.outputs[j];\n                if (data.data) {\n                    // IPython >= 3 moved mimebundle to data attribute of output\n                    data = data.data;\n                }\n                if (data['text/html'] == html_output) {\n                    return [cell, data, j];\n                }\n            }\n        }\n    }\n}\n\n// Register the function which deals with the matplotlib target/channel.\n// The kernel may be null if the page has been refreshed.\nif (IPython.notebook.kernel != null) {\n    IPython.notebook.kernel.comm_manager.register_target('matplotlib', mpl.mpl_figure_comm);\n}\n",
          "text/plain": "<IPython.core.display.Javascript object>"
         },
         "metadata": {},
         "output_type": "display_data"
        },
        {
         "data": {
          "text/html": "<div id='6cbd93ef-6ded-4817-86f4-d1c1b4f28857'></div>",
          "text/plain": "<IPython.core.display.HTML object>"
         },
         "metadata": {},
         "output_type": "display_data"
        },
        {
         "name": "stdout",
         "output_type": "stream",
         "text": "\n  T (K)   X(Mg)sol  X(Fe)sol  X(Mg)liq  X(Fe)liq\n 2124.33    0.00      1.00      0.00      1.00  \n 2205.59    0.15      0.85      0.05      0.95  \n 2286.86    0.29      0.71      0.10      0.90  \n 2368.12    0.41      0.59      0.17      0.83  \n 2449.39    0.52      0.48      0.25      0.75  \n 2530.65    0.62      0.38      0.35      0.65  \n 2611.92    0.71      0.29      0.46      0.54  \n 2693.18    0.81      0.19      0.61      0.39  \n 2774.45    0.90      0.10      0.78      0.22  \n 2855.71    1.00      0.00      1.00      0.00  \n"
        }
       ]
      }
     },
     "bd16f3df17e94c65aac24fa945c2c7da": {
      "model_module": "@jupyter-widgets/base",
      "model_module_version": "1.2.0",
      "model_name": "LayoutModel",
      "state": {}
     },
     "bdc82666063d486ca509ebc9e609763b": {
      "model_module": "@jupyter-widgets/base",
      "model_module_version": "1.2.0",
      "model_name": "LayoutModel",
      "state": {}
     },
     "bed17974cbf44224b96874f5948f39be": {
      "model_module": "@jupyter-widgets/output",
      "model_module_version": "1.0.0",
      "model_name": "OutputModel",
      "state": {
       "layout": "IPY_MODEL_81fb1acbd7674e8d902f8667e83b530e",
       "outputs": [
        {
         "name": "stdout",
         "output_type": "stream",
         "text": "Temperatura di fusione della forsterite: 2223.18 K\nTemperatura di fusione della fayalite: 1554.75 K\n"
        },
        {
         "data": {
          "application/javascript": "/* Put everything inside the global mpl namespace */\nwindow.mpl = {};\n\n\nmpl.get_websocket_type = function() {\n    if (typeof(WebSocket) !== 'undefined') {\n        return WebSocket;\n    } else if (typeof(MozWebSocket) !== 'undefined') {\n        return MozWebSocket;\n    } else {\n        alert('Your browser does not have WebSocket support. ' +\n              'Please try Chrome, Safari or Firefox ≥ 6. ' +\n              'Firefox 4 and 5 are also supported but you ' +\n              'have to enable WebSockets in about:config.');\n    };\n}\n\nmpl.figure = function(figure_id, websocket, ondownload, parent_element) {\n    this.id = figure_id;\n\n    this.ws = websocket;\n\n    this.supports_binary = (this.ws.binaryType != undefined);\n\n    if (!this.supports_binary) {\n        var warnings = document.getElementById(\"mpl-warnings\");\n        if (warnings) {\n            warnings.style.display = 'block';\n            warnings.textContent = (\n                \"This browser does not support binary websocket messages. \" +\n                    \"Performance may be slow.\");\n        }\n    }\n\n    this.imageObj = new Image();\n\n    this.context = undefined;\n    this.message = undefined;\n    this.canvas = undefined;\n    this.rubberband_canvas = undefined;\n    this.rubberband_context = undefined;\n    this.format_dropdown = undefined;\n\n    this.image_mode = 'full';\n\n    this.root = $('<div/>');\n    this._root_extra_style(this.root)\n    this.root.attr('style', 'display: inline-block');\n\n    $(parent_element).append(this.root);\n\n    this._init_header(this);\n    this._init_canvas(this);\n    this._init_toolbar(this);\n\n    var fig = this;\n\n    this.waiting = false;\n\n    this.ws.onopen =  function () {\n            fig.send_message(\"supports_binary\", {value: fig.supports_binary});\n            fig.send_message(\"send_image_mode\", {});\n            if (mpl.ratio != 1) {\n                fig.send_message(\"set_dpi_ratio\", {'dpi_ratio': mpl.ratio});\n            }\n            fig.send_message(\"refresh\", {});\n        }\n\n    this.imageObj.onload = function() {\n            if (fig.image_mode == 'full') {\n                // Full images could contain transparency (where diff images\n                // almost always do), so we need to clear the canvas so that\n                // there is no ghosting.\n                fig.context.clearRect(0, 0, fig.canvas.width, fig.canvas.height);\n            }\n            fig.context.drawImage(fig.imageObj, 0, 0);\n        };\n\n    this.imageObj.onunload = function() {\n        fig.ws.close();\n    }\n\n    this.ws.onmessage = this._make_on_message_function(this);\n\n    this.ondownload = ondownload;\n}\n\nmpl.figure.prototype._init_header = function() {\n    var titlebar = $(\n        '<div class=\"ui-dialog-titlebar ui-widget-header ui-corner-all ' +\n        'ui-helper-clearfix\"/>');\n    var titletext = $(\n        '<div class=\"ui-dialog-title\" style=\"width: 100%; ' +\n        'text-align: center; padding: 3px;\"/>');\n    titlebar.append(titletext)\n    this.root.append(titlebar);\n    this.header = titletext[0];\n}\n\n\n\nmpl.figure.prototype._canvas_extra_style = function(canvas_div) {\n\n}\n\n\nmpl.figure.prototype._root_extra_style = function(canvas_div) {\n\n}\n\nmpl.figure.prototype._init_canvas = function() {\n    var fig = this;\n\n    var canvas_div = $('<div/>');\n\n    canvas_div.attr('style', 'position: relative; clear: both; outline: 0');\n\n    function canvas_keyboard_event(event) {\n        return fig.key_event(event, event['data']);\n    }\n\n    canvas_div.keydown('key_press', canvas_keyboard_event);\n    canvas_div.keyup('key_release', canvas_keyboard_event);\n    this.canvas_div = canvas_div\n    this._canvas_extra_style(canvas_div)\n    this.root.append(canvas_div);\n\n    var canvas = $('<canvas/>');\n    canvas.addClass('mpl-canvas');\n    canvas.attr('style', \"left: 0; top: 0; z-index: 0; outline: 0\")\n\n    this.canvas = canvas[0];\n    this.context = canvas[0].getContext(\"2d\");\n\n    var backingStore = this.context.backingStorePixelRatio ||\n\tthis.context.webkitBackingStorePixelRatio ||\n\tthis.context.mozBackingStorePixelRatio ||\n\tthis.context.msBackingStorePixelRatio ||\n\tthis.context.oBackingStorePixelRatio ||\n\tthis.context.backingStorePixelRatio || 1;\n\n    mpl.ratio = (window.devicePixelRatio || 1) / backingStore;\n\n    var rubberband = $('<canvas/>');\n    rubberband.attr('style', \"position: absolute; left: 0; top: 0; z-index: 1;\")\n\n    var pass_mouse_events = true;\n\n    canvas_div.resizable({\n        start: function(event, ui) {\n            pass_mouse_events = false;\n        },\n        resize: function(event, ui) {\n            fig.request_resize(ui.size.width, ui.size.height);\n        },\n        stop: function(event, ui) {\n            pass_mouse_events = true;\n            fig.request_resize(ui.size.width, ui.size.height);\n        },\n    });\n\n    function mouse_event_fn(event) {\n        if (pass_mouse_events)\n            return fig.mouse_event(event, event['data']);\n    }\n\n    rubberband.mousedown('button_press', mouse_event_fn);\n    rubberband.mouseup('button_release', mouse_event_fn);\n    // Throttle sequential mouse events to 1 every 20ms.\n    rubberband.mousemove('motion_notify', mouse_event_fn);\n\n    rubberband.mouseenter('figure_enter', mouse_event_fn);\n    rubberband.mouseleave('figure_leave', mouse_event_fn);\n\n    canvas_div.on(\"wheel\", function (event) {\n        event = event.originalEvent;\n        event['data'] = 'scroll'\n        if (event.deltaY < 0) {\n            event.step = 1;\n        } else {\n            event.step = -1;\n        }\n        mouse_event_fn(event);\n    });\n\n    canvas_div.append(canvas);\n    canvas_div.append(rubberband);\n\n    this.rubberband = rubberband;\n    this.rubberband_canvas = rubberband[0];\n    this.rubberband_context = rubberband[0].getContext(\"2d\");\n    this.rubberband_context.strokeStyle = \"#000000\";\n\n    this._resize_canvas = function(width, height) {\n        // Keep the size of the canvas, canvas container, and rubber band\n        // canvas in synch.\n        canvas_div.css('width', width)\n        canvas_div.css('height', height)\n\n        canvas.attr('width', width * mpl.ratio);\n        canvas.attr('height', height * mpl.ratio);\n        canvas.attr('style', 'width: ' + width + 'px; height: ' + height + 'px;');\n\n        rubberband.attr('width', width);\n        rubberband.attr('height', height);\n    }\n\n    // Set the figure to an initial 600x600px, this will subsequently be updated\n    // upon first draw.\n    this._resize_canvas(600, 600);\n\n    // Disable right mouse context menu.\n    $(this.rubberband_canvas).bind(\"contextmenu\",function(e){\n        return false;\n    });\n\n    function set_focus () {\n        canvas.focus();\n        canvas_div.focus();\n    }\n\n    window.setTimeout(set_focus, 100);\n}\n\nmpl.figure.prototype._init_toolbar = function() {\n    var fig = this;\n\n    var nav_element = $('<div/>');\n    nav_element.attr('style', 'width: 100%');\n    this.root.append(nav_element);\n\n    // Define a callback function for later on.\n    function toolbar_event(event) {\n        return fig.toolbar_button_onclick(event['data']);\n    }\n    function toolbar_mouse_event(event) {\n        return fig.toolbar_button_onmouseover(event['data']);\n    }\n\n    for(var toolbar_ind in mpl.toolbar_items) {\n        var name = mpl.toolbar_items[toolbar_ind][0];\n        var tooltip = mpl.toolbar_items[toolbar_ind][1];\n        var image = mpl.toolbar_items[toolbar_ind][2];\n        var method_name = mpl.toolbar_items[toolbar_ind][3];\n\n        if (!name) {\n            // put a spacer in here.\n            continue;\n        }\n        var button = $('<button/>');\n        button.addClass('ui-button ui-widget ui-state-default ui-corner-all ' +\n                        'ui-button-icon-only');\n        button.attr('role', 'button');\n        button.attr('aria-disabled', 'false');\n        button.click(method_name, toolbar_event);\n        button.mouseover(tooltip, toolbar_mouse_event);\n\n        var icon_img = $('<span/>');\n        icon_img.addClass('ui-button-icon-primary ui-icon');\n        icon_img.addClass(image);\n        icon_img.addClass('ui-corner-all');\n\n        var tooltip_span = $('<span/>');\n        tooltip_span.addClass('ui-button-text');\n        tooltip_span.html(tooltip);\n\n        button.append(icon_img);\n        button.append(tooltip_span);\n\n        nav_element.append(button);\n    }\n\n    var fmt_picker_span = $('<span/>');\n\n    var fmt_picker = $('<select/>');\n    fmt_picker.addClass('mpl-toolbar-option ui-widget ui-widget-content');\n    fmt_picker_span.append(fmt_picker);\n    nav_element.append(fmt_picker_span);\n    this.format_dropdown = fmt_picker[0];\n\n    for (var ind in mpl.extensions) {\n        var fmt = mpl.extensions[ind];\n        var option = $(\n            '<option/>', {selected: fmt === mpl.default_extension}).html(fmt);\n        fmt_picker.append(option);\n    }\n\n    // Add hover states to the ui-buttons\n    $( \".ui-button\" ).hover(\n        function() { $(this).addClass(\"ui-state-hover\");},\n        function() { $(this).removeClass(\"ui-state-hover\");}\n    );\n\n    var status_bar = $('<span class=\"mpl-message\"/>');\n    nav_element.append(status_bar);\n    this.message = status_bar[0];\n}\n\nmpl.figure.prototype.request_resize = function(x_pixels, y_pixels) {\n    // Request matplotlib to resize the figure. Matplotlib will then trigger a resize in the client,\n    // which will in turn request a refresh of the image.\n    this.send_message('resize', {'width': x_pixels, 'height': y_pixels});\n}\n\nmpl.figure.prototype.send_message = function(type, properties) {\n    properties['type'] = type;\n    properties['figure_id'] = this.id;\n    this.ws.send(JSON.stringify(properties));\n}\n\nmpl.figure.prototype.send_draw_message = function() {\n    if (!this.waiting) {\n        this.waiting = true;\n        this.ws.send(JSON.stringify({type: \"draw\", figure_id: this.id}));\n    }\n}\n\n\nmpl.figure.prototype.handle_save = function(fig, msg) {\n    var format_dropdown = fig.format_dropdown;\n    var format = format_dropdown.options[format_dropdown.selectedIndex].value;\n    fig.ondownload(fig, format);\n}\n\n\nmpl.figure.prototype.handle_resize = function(fig, msg) {\n    var size = msg['size'];\n    if (size[0] != fig.canvas.width || size[1] != fig.canvas.height) {\n        fig._resize_canvas(size[0], size[1]);\n        fig.send_message(\"refresh\", {});\n    };\n}\n\nmpl.figure.prototype.handle_rubberband = function(fig, msg) {\n    var x0 = msg['x0'] / mpl.ratio;\n    var y0 = (fig.canvas.height - msg['y0']) / mpl.ratio;\n    var x1 = msg['x1'] / mpl.ratio;\n    var y1 = (fig.canvas.height - msg['y1']) / mpl.ratio;\n    x0 = Math.floor(x0) + 0.5;\n    y0 = Math.floor(y0) + 0.5;\n    x1 = Math.floor(x1) + 0.5;\n    y1 = Math.floor(y1) + 0.5;\n    var min_x = Math.min(x0, x1);\n    var min_y = Math.min(y0, y1);\n    var width = Math.abs(x1 - x0);\n    var height = Math.abs(y1 - y0);\n\n    fig.rubberband_context.clearRect(\n        0, 0, fig.canvas.width / mpl.ratio, fig.canvas.height / mpl.ratio);\n\n    fig.rubberband_context.strokeRect(min_x, min_y, width, height);\n}\n\nmpl.figure.prototype.handle_figure_label = function(fig, msg) {\n    // Updates the figure title.\n    fig.header.textContent = msg['label'];\n}\n\nmpl.figure.prototype.handle_cursor = function(fig, msg) {\n    var cursor = msg['cursor'];\n    switch(cursor)\n    {\n    case 0:\n        cursor = 'pointer';\n        break;\n    case 1:\n        cursor = 'default';\n        break;\n    case 2:\n        cursor = 'crosshair';\n        break;\n    case 3:\n        cursor = 'move';\n        break;\n    }\n    fig.rubberband_canvas.style.cursor = cursor;\n}\n\nmpl.figure.prototype.handle_message = function(fig, msg) {\n    fig.message.textContent = msg['message'];\n}\n\nmpl.figure.prototype.handle_draw = function(fig, msg) {\n    // Request the server to send over a new figure.\n    fig.send_draw_message();\n}\n\nmpl.figure.prototype.handle_image_mode = function(fig, msg) {\n    fig.image_mode = msg['mode'];\n}\n\nmpl.figure.prototype.updated_canvas_event = function() {\n    // Called whenever the canvas gets updated.\n    this.send_message(\"ack\", {});\n}\n\n// A function to construct a web socket function for onmessage handling.\n// Called in the figure constructor.\nmpl.figure.prototype._make_on_message_function = function(fig) {\n    return function socket_on_message(evt) {\n        if (evt.data instanceof Blob) {\n            /* FIXME: We get \"Resource interpreted as Image but\n             * transferred with MIME type text/plain:\" errors on\n             * Chrome.  But how to set the MIME type?  It doesn't seem\n             * to be part of the websocket stream */\n            evt.data.type = \"image/png\";\n\n            /* Free the memory for the previous frames */\n            if (fig.imageObj.src) {\n                (window.URL || window.webkitURL).revokeObjectURL(\n                    fig.imageObj.src);\n            }\n\n            fig.imageObj.src = (window.URL || window.webkitURL).createObjectURL(\n                evt.data);\n            fig.updated_canvas_event();\n            fig.waiting = false;\n            return;\n        }\n        else if (typeof evt.data === 'string' && evt.data.slice(0, 21) == \"data:image/png;base64\") {\n            fig.imageObj.src = evt.data;\n            fig.updated_canvas_event();\n            fig.waiting = false;\n            return;\n        }\n\n        var msg = JSON.parse(evt.data);\n        var msg_type = msg['type'];\n\n        // Call the  \"handle_{type}\" callback, which takes\n        // the figure and JSON message as its only arguments.\n        try {\n            var callback = fig[\"handle_\" + msg_type];\n        } catch (e) {\n            console.log(\"No handler for the '\" + msg_type + \"' message type: \", msg);\n            return;\n        }\n\n        if (callback) {\n            try {\n                // console.log(\"Handling '\" + msg_type + \"' message: \", msg);\n                callback(fig, msg);\n            } catch (e) {\n                console.log(\"Exception inside the 'handler_\" + msg_type + \"' callback:\", e, e.stack, msg);\n            }\n        }\n    };\n}\n\n// from http://stackoverflow.com/questions/1114465/getting-mouse-location-in-canvas\nmpl.findpos = function(e) {\n    //this section is from http://www.quirksmode.org/js/events_properties.html\n    var targ;\n    if (!e)\n        e = window.event;\n    if (e.target)\n        targ = e.target;\n    else if (e.srcElement)\n        targ = e.srcElement;\n    if (targ.nodeType == 3) // defeat Safari bug\n        targ = targ.parentNode;\n\n    // jQuery normalizes the pageX and pageY\n    // pageX,Y are the mouse positions relative to the document\n    // offset() returns the position of the element relative to the document\n    var x = e.pageX - $(targ).offset().left;\n    var y = e.pageY - $(targ).offset().top;\n\n    return {\"x\": x, \"y\": y};\n};\n\n/*\n * return a copy of an object with only non-object keys\n * we need this to avoid circular references\n * http://stackoverflow.com/a/24161582/3208463\n */\nfunction simpleKeys (original) {\n  return Object.keys(original).reduce(function (obj, key) {\n    if (typeof original[key] !== 'object')\n        obj[key] = original[key]\n    return obj;\n  }, {});\n}\n\nmpl.figure.prototype.mouse_event = function(event, name) {\n    var canvas_pos = mpl.findpos(event)\n\n    if (name === 'button_press')\n    {\n        this.canvas.focus();\n        this.canvas_div.focus();\n    }\n\n    var x = canvas_pos.x * mpl.ratio;\n    var y = canvas_pos.y * mpl.ratio;\n\n    this.send_message(name, {x: x, y: y, button: event.button,\n                             step: event.step,\n                             guiEvent: simpleKeys(event)});\n\n    /* This prevents the web browser from automatically changing to\n     * the text insertion cursor when the button is pressed.  We want\n     * to control all of the cursor setting manually through the\n     * 'cursor' event from matplotlib */\n    event.preventDefault();\n    return false;\n}\n\nmpl.figure.prototype._key_event_extra = function(event, name) {\n    // Handle any extra behaviour associated with a key event\n}\n\nmpl.figure.prototype.key_event = function(event, name) {\n\n    // Prevent repeat events\n    if (name == 'key_press')\n    {\n        if (event.which === this._key)\n            return;\n        else\n            this._key = event.which;\n    }\n    if (name == 'key_release')\n        this._key = null;\n\n    var value = '';\n    if (event.ctrlKey && event.which != 17)\n        value += \"ctrl+\";\n    if (event.altKey && event.which != 18)\n        value += \"alt+\";\n    if (event.shiftKey && event.which != 16)\n        value += \"shift+\";\n\n    value += 'k';\n    value += event.which.toString();\n\n    this._key_event_extra(event, name);\n\n    this.send_message(name, {key: value,\n                             guiEvent: simpleKeys(event)});\n    return false;\n}\n\nmpl.figure.prototype.toolbar_button_onclick = function(name) {\n    if (name == 'download') {\n        this.handle_save(this, null);\n    } else {\n        this.send_message(\"toolbar_button\", {name: name});\n    }\n};\n\nmpl.figure.prototype.toolbar_button_onmouseover = function(tooltip) {\n    this.message.textContent = tooltip;\n};\nmpl.toolbar_items = [[\"Home\", \"Reset original view\", \"fa fa-home icon-home\", \"home\"], [\"Back\", \"Back to previous view\", \"fa fa-arrow-left icon-arrow-left\", \"back\"], [\"Forward\", \"Forward to next view\", \"fa fa-arrow-right icon-arrow-right\", \"forward\"], [\"\", \"\", \"\", \"\"], [\"Pan\", \"Pan axes with left mouse, zoom with right\", \"fa fa-arrows icon-move\", \"pan\"], [\"Zoom\", \"Zoom to rectangle\", \"fa fa-square-o icon-check-empty\", \"zoom\"], [\"\", \"\", \"\", \"\"], [\"Download\", \"Download plot\", \"fa fa-floppy-o icon-save\", \"download\"]];\n\nmpl.extensions = [\"eps\", \"jpeg\", \"pdf\", \"png\", \"ps\", \"raw\", \"svg\", \"tif\"];\n\nmpl.default_extension = \"png\";var comm_websocket_adapter = function(comm) {\n    // Create a \"websocket\"-like object which calls the given IPython comm\n    // object with the appropriate methods. Currently this is a non binary\n    // socket, so there is still some room for performance tuning.\n    var ws = {};\n\n    ws.close = function() {\n        comm.close()\n    };\n    ws.send = function(m) {\n        //console.log('sending', m);\n        comm.send(m);\n    };\n    // Register the callback with on_msg.\n    comm.on_msg(function(msg) {\n        //console.log('receiving', msg['content']['data'], msg);\n        // Pass the mpl event to the overridden (by mpl) onmessage function.\n        ws.onmessage(msg['content']['data'])\n    });\n    return ws;\n}\n\nmpl.mpl_figure_comm = function(comm, msg) {\n    // This is the function which gets called when the mpl process\n    // starts-up an IPython Comm through the \"matplotlib\" channel.\n\n    var id = msg.content.data.id;\n    // Get hold of the div created by the display call when the Comm\n    // socket was opened in Python.\n    var element = $(\"#\" + id);\n    var ws_proxy = comm_websocket_adapter(comm)\n\n    function ondownload(figure, format) {\n        window.open(figure.imageObj.src);\n    }\n\n    var fig = new mpl.figure(id, ws_proxy,\n                           ondownload,\n                           element.get(0));\n\n    // Call onopen now - mpl needs it, as it is assuming we've passed it a real\n    // web socket which is closed, not our websocket->open comm proxy.\n    ws_proxy.onopen();\n\n    fig.parent_element = element.get(0);\n    fig.cell_info = mpl.find_output_cell(\"<div id='\" + id + \"'></div>\");\n    if (!fig.cell_info) {\n        console.error(\"Failed to find cell for figure\", id, fig);\n        return;\n    }\n\n    var output_index = fig.cell_info[2]\n    var cell = fig.cell_info[0];\n\n};\n\nmpl.figure.prototype.handle_close = function(fig, msg) {\n    var width = fig.canvas.width/mpl.ratio\n    fig.root.unbind('remove')\n\n    // Update the output cell to use the data from the current canvas.\n    fig.push_to_output();\n    var dataURL = fig.canvas.toDataURL();\n    // Re-enable the keyboard manager in IPython - without this line, in FF,\n    // the notebook keyboard shortcuts fail.\n    IPython.keyboard_manager.enable()\n    $(fig.parent_element).html('<img src=\"' + dataURL + '\" width=\"' + width + '\">');\n    fig.close_ws(fig, msg);\n}\n\nmpl.figure.prototype.close_ws = function(fig, msg){\n    fig.send_message('closing', msg);\n    // fig.ws.close()\n}\n\nmpl.figure.prototype.push_to_output = function(remove_interactive) {\n    // Turn the data on the canvas into data in the output cell.\n    var width = this.canvas.width/mpl.ratio\n    var dataURL = this.canvas.toDataURL();\n    this.cell_info[1]['text/html'] = '<img src=\"' + dataURL + '\" width=\"' + width + '\">';\n}\n\nmpl.figure.prototype.updated_canvas_event = function() {\n    // Tell IPython that the notebook contents must change.\n    IPython.notebook.set_dirty(true);\n    this.send_message(\"ack\", {});\n    var fig = this;\n    // Wait a second, then push the new image to the DOM so\n    // that it is saved nicely (might be nice to debounce this).\n    setTimeout(function () { fig.push_to_output() }, 1000);\n}\n\nmpl.figure.prototype._init_toolbar = function() {\n    var fig = this;\n\n    var nav_element = $('<div/>');\n    nav_element.attr('style', 'width: 100%');\n    this.root.append(nav_element);\n\n    // Define a callback function for later on.\n    function toolbar_event(event) {\n        return fig.toolbar_button_onclick(event['data']);\n    }\n    function toolbar_mouse_event(event) {\n        return fig.toolbar_button_onmouseover(event['data']);\n    }\n\n    for(var toolbar_ind in mpl.toolbar_items){\n        var name = mpl.toolbar_items[toolbar_ind][0];\n        var tooltip = mpl.toolbar_items[toolbar_ind][1];\n        var image = mpl.toolbar_items[toolbar_ind][2];\n        var method_name = mpl.toolbar_items[toolbar_ind][3];\n\n        if (!name) { continue; };\n\n        var button = $('<button class=\"btn btn-default\" href=\"#\" title=\"' + name + '\"><i class=\"fa ' + image + ' fa-lg\"></i></button>');\n        button.click(method_name, toolbar_event);\n        button.mouseover(tooltip, toolbar_mouse_event);\n        nav_element.append(button);\n    }\n\n    // Add the status bar.\n    var status_bar = $('<span class=\"mpl-message\" style=\"text-align:right; float: right;\"/>');\n    nav_element.append(status_bar);\n    this.message = status_bar[0];\n\n    // Add the close button to the window.\n    var buttongrp = $('<div class=\"btn-group inline pull-right\"></div>');\n    var button = $('<button class=\"btn btn-mini btn-primary\" href=\"#\" title=\"Stop Interaction\"><i class=\"fa fa-power-off icon-remove icon-large\"></i></button>');\n    button.click(function (evt) { fig.handle_close(fig, {}); } );\n    button.mouseover('Stop Interaction', toolbar_mouse_event);\n    buttongrp.append(button);\n    var titlebar = this.root.find($('.ui-dialog-titlebar'));\n    titlebar.prepend(buttongrp);\n}\n\nmpl.figure.prototype._root_extra_style = function(el){\n    var fig = this\n    el.on(\"remove\", function(){\n\tfig.close_ws(fig, {});\n    });\n}\n\nmpl.figure.prototype._canvas_extra_style = function(el){\n    // this is important to make the div 'focusable\n    el.attr('tabindex', 0)\n    // reach out to IPython and tell the keyboard manager to turn it's self\n    // off when our div gets focus\n\n    // location in version 3\n    if (IPython.notebook.keyboard_manager) {\n        IPython.notebook.keyboard_manager.register_events(el);\n    }\n    else {\n        // location in version 2\n        IPython.keyboard_manager.register_events(el);\n    }\n\n}\n\nmpl.figure.prototype._key_event_extra = function(event, name) {\n    var manager = IPython.notebook.keyboard_manager;\n    if (!manager)\n        manager = IPython.keyboard_manager;\n\n    // Check for shift+enter\n    if (event.shiftKey && event.which == 13) {\n        this.canvas_div.blur();\n        // select the cell after this one\n        var index = IPython.notebook.find_cell_index(this.cell_info[0]);\n        IPython.notebook.select(index + 1);\n    }\n}\n\nmpl.figure.prototype.handle_save = function(fig, msg) {\n    fig.ondownload(fig, null);\n}\n\n\nmpl.find_output_cell = function(html_output) {\n    // Return the cell and output element which can be found *uniquely* in the notebook.\n    // Note - this is a bit hacky, but it is done because the \"notebook_saving.Notebook\"\n    // IPython event is triggered only after the cells have been serialised, which for\n    // our purposes (turning an active figure into a static one), is too late.\n    var cells = IPython.notebook.get_cells();\n    var ncells = cells.length;\n    for (var i=0; i<ncells; i++) {\n        var cell = cells[i];\n        if (cell.cell_type === 'code'){\n            for (var j=0; j<cell.output_area.outputs.length; j++) {\n                var data = cell.output_area.outputs[j];\n                if (data.data) {\n                    // IPython >= 3 moved mimebundle to data attribute of output\n                    data = data.data;\n                }\n                if (data['text/html'] == html_output) {\n                    return [cell, data, j];\n                }\n            }\n        }\n    }\n}\n\n// Register the function which deals with the matplotlib target/channel.\n// The kernel may be null if the page has been refreshed.\nif (IPython.notebook.kernel != null) {\n    IPython.notebook.kernel.comm_manager.register_target('matplotlib', mpl.mpl_figure_comm);\n}\n",
          "text/plain": "<IPython.core.display.Javascript object>"
         },
         "metadata": {},
         "output_type": "display_data"
        },
        {
         "data": {
          "text/html": "<div id='bb1af7e9-cd11-4a5f-97bc-609a274b2002'></div>",
          "text/plain": "<IPython.core.display.HTML object>"
         },
         "metadata": {},
         "output_type": "display_data"
        },
        {
         "name": "stdout",
         "output_type": "stream",
         "text": "\n  T (K)   X(Mg)sol  X(Fe)sol  X(Mg)liq  X(Fe)liq\n 1554.75    0.00      1.00      0.00      1.00  \n 1629.02    0.31      0.69      0.05      0.95  \n 1703.29    0.52      0.48      0.10      0.90  \n 1777.56    0.66      0.34      0.16      0.84  \n 1851.83    0.77      0.23      0.24      0.76  \n 1926.10    0.84      0.16      0.34      0.66  \n 2000.37    0.90      0.10      0.46      0.54  \n 2074.64    0.94      0.06      0.60      0.40  \n 2148.91    0.97      0.03      0.78      0.22  \n 2223.18    1.00      0.00      1.00      0.00  \n"
        }
       ]
      }
     },
     "bee80a321dbc4087ba3a14eecee9ab66": {
      "model_module": "@jupyter-widgets/controls",
      "model_module_version": "1.5.0",
      "model_name": "VBoxModel",
      "state": {
       "_dom_classes": [
        "widget-interact"
       ],
       "children": [
        "IPY_MODEL_aec14d08f4a94e49abbd8c05a831e04f",
        "IPY_MODEL_6e22ce8ddce5462a90d6321ab8b5f850",
        "IPY_MODEL_52ed6629fbb646a6841fef85e110310f",
        "IPY_MODEL_f163511ba43f4420a5110a46af6ef8b9",
        "IPY_MODEL_60853f8b923d4f7d8287a2eead2c08ad",
        "IPY_MODEL_564113d0cd47458d8ddbfc0dee499fce"
       ],
       "layout": "IPY_MODEL_30aa811c59b64a88a3f889f4d1d359b7"
      }
     },
     "beea97db0c1b4376b03145f2b5b1b47f": {
      "model_module": "@jupyter-widgets/base",
      "model_module_version": "1.2.0",
      "model_name": "LayoutModel",
      "state": {}
     },
     "bf8590edc8a64335a7a1d863e2bcf1e7": {
      "model_module": "@jupyter-widgets/controls",
      "model_module_version": "1.5.0",
      "model_name": "FloatSliderModel",
      "state": {
       "description": "ip",
       "layout": "IPY_MODEL_df1fa7557d15469d81a5bd84c4d3520f",
       "max": 5,
       "step": 0.1,
       "style": "IPY_MODEL_24bfcdf205dc43589784c82ce143ca0c",
       "value": 1
      }
     },
     "bf9926951af14ec1aadb81b7f88a7a84": {
      "model_module": "@jupyter-widgets/base",
      "model_module_version": "1.2.0",
      "model_name": "LayoutModel",
      "state": {}
     },
     "c0c44025954349f993d33cec997726c6": {
      "model_module": "@jupyter-widgets/controls",
      "model_module_version": "1.5.0",
      "model_name": "VBoxModel",
      "state": {
       "_dom_classes": [
        "widget-interact"
       ],
       "children": [
        "IPY_MODEL_1a873a14fd2044209e8a97f9aa2b929e",
        "IPY_MODEL_3a864b29faac4d54ba444c6736a26c40",
        "IPY_MODEL_241e36d66abe4f3c98f1549049bd4f47",
        "IPY_MODEL_e2772ff247bd4023b10f91065b2620d3"
       ],
       "layout": "IPY_MODEL_6eab74a735644faab8d5c19a37d4ff8a"
      }
     },
     "c12b5dac8c534a8e88c8844f7e635bae": {
      "model_module": "@jupyter-widgets/base",
      "model_module_version": "1.2.0",
      "model_name": "LayoutModel",
      "state": {}
     },
     "c147ad6c4bfb47378f567239b2a72840": {
      "model_module": "@jupyter-widgets/controls",
      "model_module_version": "1.5.0",
      "model_name": "ButtonModel",
      "state": {
       "description": "Run Interact",
       "layout": "IPY_MODEL_805d3b68d73246a2994dbf82195d65e6",
       "style": "IPY_MODEL_3e95b37e1507416c8926e2c0109300e3"
      }
     },
     "c18ad315157a48c2b6665e97790d41da": {
      "model_module": "@jupyter-widgets/base",
      "model_module_version": "1.2.0",
      "model_name": "LayoutModel",
      "state": {}
     },
     "c21634ba76a04d62a808d56d5e10bef9": {
      "model_module": "@jupyter-widgets/output",
      "model_module_version": "1.0.0",
      "model_name": "OutputModel",
      "state": {
       "layout": "IPY_MODEL_7e2ed74f2dd64ac982f32be9af6db3d9"
      }
     },
     "c4e77bbaa5fe479d82e4f779b5cfc101": {
      "model_module": "@jupyter-widgets/base",
      "model_module_version": "1.2.0",
      "model_name": "LayoutModel",
      "state": {}
     },
     "c5b1b074eb4f4e39b367278065f6bd8e": {
      "model_module": "@jupyter-widgets/base",
      "model_module_version": "1.2.0",
      "model_name": "LayoutModel",
      "state": {}
     },
     "c61777911e054994b01d3d2c566905ad": {
      "model_module": "@jupyter-widgets/base",
      "model_module_version": "1.2.0",
      "model_name": "LayoutModel",
      "state": {}
     },
     "c7af4b76e37c4c7c8b68f6e2b0a95ce4": {
      "model_module": "@jupyter-widgets/controls",
      "model_module_version": "1.5.0",
      "model_name": "SliderStyleModel",
      "state": {
       "description_width": ""
      }
     },
     "c7b438b399754203b5b0787e1e692f0e": {
      "model_module": "@jupyter-widgets/controls",
      "model_module_version": "1.5.0",
      "model_name": "ButtonStyleModel",
      "state": {}
     },
     "c8019d02d2c5465ca8764c0fc369dacc": {
      "model_module": "@jupyter-widgets/base",
      "model_module_version": "1.2.0",
      "model_name": "LayoutModel",
      "state": {}
     },
     "c81b076569c942c2b744c534c3cc6882": {
      "model_module": "@jupyter-widgets/base",
      "model_module_version": "1.2.0",
      "model_name": "LayoutModel",
      "state": {}
     },
     "c92f054f6a9f4e0e80a62ddbf1ca78b9": {
      "model_module": "@jupyter-widgets/controls",
      "model_module_version": "1.5.0",
      "model_name": "IntSliderModel",
      "state": {
       "description": "nt",
       "layout": "IPY_MODEL_e7827d5bcf854163b73245ba4bd36cf8",
       "max": 30,
       "min": 10,
       "step": 5,
       "style": "IPY_MODEL_08e1b5b821334c18bf379bbccf701e0d",
       "value": 10
      }
     },
     "cd695e4de7934c30bf248ce6dccebecd": {
      "model_module": "@jupyter-widgets/base",
      "model_module_version": "1.2.0",
      "model_name": "LayoutModel",
      "state": {}
     },
     "cd7e0651adda4bb1bea70e4173ef8159": {
      "model_module": "@jupyter-widgets/output",
      "model_module_version": "1.0.0",
      "model_name": "OutputModel",
      "state": {
       "layout": "IPY_MODEL_f1cd73d6b4684207b0f12d8f8df1c7cb",
       "outputs": [
        {
         "name": "stdout",
         "output_type": "stream",
         "text": "Temperatura di fusione della forsterite: 2161.01 K\nTemperatura di fusione della fayalite: 1480.31 K\n"
        },
        {
         "data": {
          "image/png": "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\n",
          "text/plain": "<Figure size 432x288 with 1 Axes>"
         },
         "metadata": {
          "needs_background": "light"
         },
         "output_type": "display_data"
        },
        {
         "name": "stdout",
         "output_type": "stream",
         "text": "\n  T (K)   X(Mg)sol  X(Fe)sol  X(Mg)liq  X(Fe)liq\n 1480.31    0.00      1.00      0.00      1.00  \n 1555.95    0.33      0.67      0.04      0.96  \n 1631.58    0.55      0.45      0.09      0.91  \n 1707.21    0.69      0.31      0.16      0.84  \n 1782.85    0.79      0.21      0.23      0.77  \n 1858.48    0.86      0.14      0.33      0.67  \n 1934.11    0.91      0.09      0.44      0.56  \n 2009.75    0.95      0.05      0.59      0.41  \n 2085.38    0.98      0.02      0.77      0.23  \n 2161.01    1.00      0.00      1.00      0.00  \n"
        }
       ]
      }
     },
     "cf47fc66fba24d06b5cd4519befb4bab": {
      "model_module": "@jupyter-widgets/controls",
      "model_module_version": "1.5.0",
      "model_name": "SliderStyleModel",
      "state": {
       "description_width": ""
      }
     },
     "cf60f36a2ee740ce83e4f82a4b6b1b18": {
      "model_module": "@jupyter-widgets/controls",
      "model_module_version": "1.5.0",
      "model_name": "IntSliderModel",
      "state": {
       "description": "nt",
       "layout": "IPY_MODEL_dc023d5c12b94333bff01ab1c5e75ee2",
       "max": 30,
       "min": 10,
       "step": 5,
       "style": "IPY_MODEL_8dd4e7d9a43a4bc1b686f95b513ffaf2",
       "value": 15
      }
     },
     "cf970f7baa824a62b3a54cda395a977c": {
      "model_module": "@jupyter-widgets/controls",
      "model_module_version": "1.5.0",
      "model_name": "VBoxModel",
      "state": {
       "_dom_classes": [
        "widget-interact"
       ],
       "children": [
        "IPY_MODEL_7eeba7c338594ed8aaf1be71e53979ec",
        "IPY_MODEL_ac0794b0001247bfb536f776dad568e6",
        "IPY_MODEL_cd7e0651adda4bb1bea70e4173ef8159"
       ],
       "layout": "IPY_MODEL_eff93d3ffd0449a7a15143e370f8cc57"
      }
     },
     "d026742a41e941249b0f001ff7720985": {
      "model_module": "@jupyter-widgets/base",
      "model_module_version": "1.2.0",
      "model_name": "LayoutModel",
      "state": {}
     },
     "d04ffcba0c8141eaa5688094244987a2": {
      "model_module": "@jupyter-widgets/base",
      "model_module_version": "1.2.0",
      "model_name": "LayoutModel",
      "state": {}
     },
     "d0a94550cbc74a668c20bfc3be245829": {
      "model_module": "@jupyter-widgets/base",
      "model_module_version": "1.2.0",
      "model_name": "LayoutModel",
      "state": {}
     },
     "d1845f0f4d3e4613b37f3ff40d579bf8": {
      "model_module": "@jupyter-widgets/base",
      "model_module_version": "1.2.0",
      "model_name": "LayoutModel",
      "state": {}
     },
     "d263b049e8ae4d18b576fe8b80d3f22b": {
      "model_module": "@jupyter-widgets/controls",
      "model_module_version": "1.5.0",
      "model_name": "SliderStyleModel",
      "state": {
       "description_width": ""
      }
     },
     "d2e131cb4b594b12b0d2106ee8d68bfc": {
      "model_module": "@jupyter-widgets/controls",
      "model_module_version": "1.5.0",
      "model_name": "ButtonModel",
      "state": {
       "description": "Run Interact",
       "layout": "IPY_MODEL_c8019d02d2c5465ca8764c0fc369dacc",
       "style": "IPY_MODEL_7423ec2f8ed5493ead08908348e65049"
      }
     },
     "d54e867338a548c6b657f1c1860fb277": {
      "model_module": "@jupyter-widgets/controls",
      "model_module_version": "1.5.0",
      "model_name": "ButtonStyleModel",
      "state": {}
     },
     "d646b921a1ca43bc94f96bae6ddd7391": {
      "model_module": "@jupyter-widgets/controls",
      "model_module_version": "1.5.0",
      "model_name": "VBoxModel",
      "state": {
       "_dom_classes": [
        "widget-interact"
       ],
       "children": [
        "IPY_MODEL_1eda3109f52147c8a26e7dbdb464ce75",
        "IPY_MODEL_976ff94dcda44d23804a6c389f5d1e08",
        "IPY_MODEL_5b0a88cc26134c609c410bd1be10ef4f",
        "IPY_MODEL_ffe66e19e9584bcda0e0c6e04c4fc983"
       ],
       "layout": "IPY_MODEL_f563403e6d17485fa6bad5fcfb9d58bd"
      }
     },
     "d6bc55c26d124e52bdfb750732e5e951": {
      "model_module": "@jupyter-widgets/base",
      "model_module_version": "1.2.0",
      "model_name": "LayoutModel",
      "state": {}
     },
     "d76d0baa268c4798b6e7668c9e9fde0a": {
      "model_module": "@jupyter-widgets/base",
      "model_module_version": "1.2.0",
      "model_name": "LayoutModel",
      "state": {}
     },
     "d8a8a8a12eae41128837419083af63d0": {
      "model_module": "@jupyter-widgets/base",
      "model_module_version": "1.2.0",
      "model_name": "LayoutModel",
      "state": {}
     },
     "da0875f8696f4202b6d7e93c6e597d70": {
      "model_module": "@jupyter-widgets/output",
      "model_module_version": "1.0.0",
      "model_name": "OutputModel",
      "state": {
       "layout": "IPY_MODEL_1cdfbdde84114361ae454925dd0059ba",
       "outputs": [
        {
         "name": "stdout",
         "output_type": "stream",
         "text": "Temperatura di fusione della forsterite: 2855.71 K\nTemperatura di fusione della fayalite: 2124.33 K\n"
        },
        {
         "data": {
          "application/javascript": "/* Put everything inside the global mpl namespace */\nwindow.mpl = {};\n\n\nmpl.get_websocket_type = function() {\n    if (typeof(WebSocket) !== 'undefined') {\n        return WebSocket;\n    } else if (typeof(MozWebSocket) !== 'undefined') {\n        return MozWebSocket;\n    } else {\n        alert('Your browser does not have WebSocket support. ' +\n              'Please try Chrome, Safari or Firefox ≥ 6. ' +\n              'Firefox 4 and 5 are also supported but you ' +\n              'have to enable WebSockets in about:config.');\n    };\n}\n\nmpl.figure = function(figure_id, websocket, ondownload, parent_element) {\n    this.id = figure_id;\n\n    this.ws = websocket;\n\n    this.supports_binary = (this.ws.binaryType != undefined);\n\n    if (!this.supports_binary) {\n        var warnings = document.getElementById(\"mpl-warnings\");\n        if (warnings) {\n            warnings.style.display = 'block';\n            warnings.textContent = (\n                \"This browser does not support binary websocket messages. \" +\n                    \"Performance may be slow.\");\n        }\n    }\n\n    this.imageObj = new Image();\n\n    this.context = undefined;\n    this.message = undefined;\n    this.canvas = undefined;\n    this.rubberband_canvas = undefined;\n    this.rubberband_context = undefined;\n    this.format_dropdown = undefined;\n\n    this.image_mode = 'full';\n\n    this.root = $('<div/>');\n    this._root_extra_style(this.root)\n    this.root.attr('style', 'display: inline-block');\n\n    $(parent_element).append(this.root);\n\n    this._init_header(this);\n    this._init_canvas(this);\n    this._init_toolbar(this);\n\n    var fig = this;\n\n    this.waiting = false;\n\n    this.ws.onopen =  function () {\n            fig.send_message(\"supports_binary\", {value: fig.supports_binary});\n            fig.send_message(\"send_image_mode\", {});\n            if (mpl.ratio != 1) {\n                fig.send_message(\"set_dpi_ratio\", {'dpi_ratio': mpl.ratio});\n            }\n            fig.send_message(\"refresh\", {});\n        }\n\n    this.imageObj.onload = function() {\n            if (fig.image_mode == 'full') {\n                // Full images could contain transparency (where diff images\n                // almost always do), so we need to clear the canvas so that\n                // there is no ghosting.\n                fig.context.clearRect(0, 0, fig.canvas.width, fig.canvas.height);\n            }\n            fig.context.drawImage(fig.imageObj, 0, 0);\n        };\n\n    this.imageObj.onunload = function() {\n        fig.ws.close();\n    }\n\n    this.ws.onmessage = this._make_on_message_function(this);\n\n    this.ondownload = ondownload;\n}\n\nmpl.figure.prototype._init_header = function() {\n    var titlebar = $(\n        '<div class=\"ui-dialog-titlebar ui-widget-header ui-corner-all ' +\n        'ui-helper-clearfix\"/>');\n    var titletext = $(\n        '<div class=\"ui-dialog-title\" style=\"width: 100%; ' +\n        'text-align: center; padding: 3px;\"/>');\n    titlebar.append(titletext)\n    this.root.append(titlebar);\n    this.header = titletext[0];\n}\n\n\n\nmpl.figure.prototype._canvas_extra_style = function(canvas_div) {\n\n}\n\n\nmpl.figure.prototype._root_extra_style = function(canvas_div) {\n\n}\n\nmpl.figure.prototype._init_canvas = function() {\n    var fig = this;\n\n    var canvas_div = $('<div/>');\n\n    canvas_div.attr('style', 'position: relative; clear: both; outline: 0');\n\n    function canvas_keyboard_event(event) {\n        return fig.key_event(event, event['data']);\n    }\n\n    canvas_div.keydown('key_press', canvas_keyboard_event);\n    canvas_div.keyup('key_release', canvas_keyboard_event);\n    this.canvas_div = canvas_div\n    this._canvas_extra_style(canvas_div)\n    this.root.append(canvas_div);\n\n    var canvas = $('<canvas/>');\n    canvas.addClass('mpl-canvas');\n    canvas.attr('style', \"left: 0; top: 0; z-index: 0; outline: 0\")\n\n    this.canvas = canvas[0];\n    this.context = canvas[0].getContext(\"2d\");\n\n    var backingStore = this.context.backingStorePixelRatio ||\n\tthis.context.webkitBackingStorePixelRatio ||\n\tthis.context.mozBackingStorePixelRatio ||\n\tthis.context.msBackingStorePixelRatio ||\n\tthis.context.oBackingStorePixelRatio ||\n\tthis.context.backingStorePixelRatio || 1;\n\n    mpl.ratio = (window.devicePixelRatio || 1) / backingStore;\n\n    var rubberband = $('<canvas/>');\n    rubberband.attr('style', \"position: absolute; left: 0; top: 0; z-index: 1;\")\n\n    var pass_mouse_events = true;\n\n    canvas_div.resizable({\n        start: function(event, ui) {\n            pass_mouse_events = false;\n        },\n        resize: function(event, ui) {\n            fig.request_resize(ui.size.width, ui.size.height);\n        },\n        stop: function(event, ui) {\n            pass_mouse_events = true;\n            fig.request_resize(ui.size.width, ui.size.height);\n        },\n    });\n\n    function mouse_event_fn(event) {\n        if (pass_mouse_events)\n            return fig.mouse_event(event, event['data']);\n    }\n\n    rubberband.mousedown('button_press', mouse_event_fn);\n    rubberband.mouseup('button_release', mouse_event_fn);\n    // Throttle sequential mouse events to 1 every 20ms.\n    rubberband.mousemove('motion_notify', mouse_event_fn);\n\n    rubberband.mouseenter('figure_enter', mouse_event_fn);\n    rubberband.mouseleave('figure_leave', mouse_event_fn);\n\n    canvas_div.on(\"wheel\", function (event) {\n        event = event.originalEvent;\n        event['data'] = 'scroll'\n        if (event.deltaY < 0) {\n            event.step = 1;\n        } else {\n            event.step = -1;\n        }\n        mouse_event_fn(event);\n    });\n\n    canvas_div.append(canvas);\n    canvas_div.append(rubberband);\n\n    this.rubberband = rubberband;\n    this.rubberband_canvas = rubberband[0];\n    this.rubberband_context = rubberband[0].getContext(\"2d\");\n    this.rubberband_context.strokeStyle = \"#000000\";\n\n    this._resize_canvas = function(width, height) {\n        // Keep the size of the canvas, canvas container, and rubber band\n        // canvas in synch.\n        canvas_div.css('width', width)\n        canvas_div.css('height', height)\n\n        canvas.attr('width', width * mpl.ratio);\n        canvas.attr('height', height * mpl.ratio);\n        canvas.attr('style', 'width: ' + width + 'px; height: ' + height + 'px;');\n\n        rubberband.attr('width', width);\n        rubberband.attr('height', height);\n    }\n\n    // Set the figure to an initial 600x600px, this will subsequently be updated\n    // upon first draw.\n    this._resize_canvas(600, 600);\n\n    // Disable right mouse context menu.\n    $(this.rubberband_canvas).bind(\"contextmenu\",function(e){\n        return false;\n    });\n\n    function set_focus () {\n        canvas.focus();\n        canvas_div.focus();\n    }\n\n    window.setTimeout(set_focus, 100);\n}\n\nmpl.figure.prototype._init_toolbar = function() {\n    var fig = this;\n\n    var nav_element = $('<div/>');\n    nav_element.attr('style', 'width: 100%');\n    this.root.append(nav_element);\n\n    // Define a callback function for later on.\n    function toolbar_event(event) {\n        return fig.toolbar_button_onclick(event['data']);\n    }\n    function toolbar_mouse_event(event) {\n        return fig.toolbar_button_onmouseover(event['data']);\n    }\n\n    for(var toolbar_ind in mpl.toolbar_items) {\n        var name = mpl.toolbar_items[toolbar_ind][0];\n        var tooltip = mpl.toolbar_items[toolbar_ind][1];\n        var image = mpl.toolbar_items[toolbar_ind][2];\n        var method_name = mpl.toolbar_items[toolbar_ind][3];\n\n        if (!name) {\n            // put a spacer in here.\n            continue;\n        }\n        var button = $('<button/>');\n        button.addClass('ui-button ui-widget ui-state-default ui-corner-all ' +\n                        'ui-button-icon-only');\n        button.attr('role', 'button');\n        button.attr('aria-disabled', 'false');\n        button.click(method_name, toolbar_event);\n        button.mouseover(tooltip, toolbar_mouse_event);\n\n        var icon_img = $('<span/>');\n        icon_img.addClass('ui-button-icon-primary ui-icon');\n        icon_img.addClass(image);\n        icon_img.addClass('ui-corner-all');\n\n        var tooltip_span = $('<span/>');\n        tooltip_span.addClass('ui-button-text');\n        tooltip_span.html(tooltip);\n\n        button.append(icon_img);\n        button.append(tooltip_span);\n\n        nav_element.append(button);\n    }\n\n    var fmt_picker_span = $('<span/>');\n\n    var fmt_picker = $('<select/>');\n    fmt_picker.addClass('mpl-toolbar-option ui-widget ui-widget-content');\n    fmt_picker_span.append(fmt_picker);\n    nav_element.append(fmt_picker_span);\n    this.format_dropdown = fmt_picker[0];\n\n    for (var ind in mpl.extensions) {\n        var fmt = mpl.extensions[ind];\n        var option = $(\n            '<option/>', {selected: fmt === mpl.default_extension}).html(fmt);\n        fmt_picker.append(option);\n    }\n\n    // Add hover states to the ui-buttons\n    $( \".ui-button\" ).hover(\n        function() { $(this).addClass(\"ui-state-hover\");},\n        function() { $(this).removeClass(\"ui-state-hover\");}\n    );\n\n    var status_bar = $('<span class=\"mpl-message\"/>');\n    nav_element.append(status_bar);\n    this.message = status_bar[0];\n}\n\nmpl.figure.prototype.request_resize = function(x_pixels, y_pixels) {\n    // Request matplotlib to resize the figure. Matplotlib will then trigger a resize in the client,\n    // which will in turn request a refresh of the image.\n    this.send_message('resize', {'width': x_pixels, 'height': y_pixels});\n}\n\nmpl.figure.prototype.send_message = function(type, properties) {\n    properties['type'] = type;\n    properties['figure_id'] = this.id;\n    this.ws.send(JSON.stringify(properties));\n}\n\nmpl.figure.prototype.send_draw_message = function() {\n    if (!this.waiting) {\n        this.waiting = true;\n        this.ws.send(JSON.stringify({type: \"draw\", figure_id: this.id}));\n    }\n}\n\n\nmpl.figure.prototype.handle_save = function(fig, msg) {\n    var format_dropdown = fig.format_dropdown;\n    var format = format_dropdown.options[format_dropdown.selectedIndex].value;\n    fig.ondownload(fig, format);\n}\n\n\nmpl.figure.prototype.handle_resize = function(fig, msg) {\n    var size = msg['size'];\n    if (size[0] != fig.canvas.width || size[1] != fig.canvas.height) {\n        fig._resize_canvas(size[0], size[1]);\n        fig.send_message(\"refresh\", {});\n    };\n}\n\nmpl.figure.prototype.handle_rubberband = function(fig, msg) {\n    var x0 = msg['x0'] / mpl.ratio;\n    var y0 = (fig.canvas.height - msg['y0']) / mpl.ratio;\n    var x1 = msg['x1'] / mpl.ratio;\n    var y1 = (fig.canvas.height - msg['y1']) / mpl.ratio;\n    x0 = Math.floor(x0) + 0.5;\n    y0 = Math.floor(y0) + 0.5;\n    x1 = Math.floor(x1) + 0.5;\n    y1 = Math.floor(y1) + 0.5;\n    var min_x = Math.min(x0, x1);\n    var min_y = Math.min(y0, y1);\n    var width = Math.abs(x1 - x0);\n    var height = Math.abs(y1 - y0);\n\n    fig.rubberband_context.clearRect(\n        0, 0, fig.canvas.width / mpl.ratio, fig.canvas.height / mpl.ratio);\n\n    fig.rubberband_context.strokeRect(min_x, min_y, width, height);\n}\n\nmpl.figure.prototype.handle_figure_label = function(fig, msg) {\n    // Updates the figure title.\n    fig.header.textContent = msg['label'];\n}\n\nmpl.figure.prototype.handle_cursor = function(fig, msg) {\n    var cursor = msg['cursor'];\n    switch(cursor)\n    {\n    case 0:\n        cursor = 'pointer';\n        break;\n    case 1:\n        cursor = 'default';\n        break;\n    case 2:\n        cursor = 'crosshair';\n        break;\n    case 3:\n        cursor = 'move';\n        break;\n    }\n    fig.rubberband_canvas.style.cursor = cursor;\n}\n\nmpl.figure.prototype.handle_message = function(fig, msg) {\n    fig.message.textContent = msg['message'];\n}\n\nmpl.figure.prototype.handle_draw = function(fig, msg) {\n    // Request the server to send over a new figure.\n    fig.send_draw_message();\n}\n\nmpl.figure.prototype.handle_image_mode = function(fig, msg) {\n    fig.image_mode = msg['mode'];\n}\n\nmpl.figure.prototype.updated_canvas_event = function() {\n    // Called whenever the canvas gets updated.\n    this.send_message(\"ack\", {});\n}\n\n// A function to construct a web socket function for onmessage handling.\n// Called in the figure constructor.\nmpl.figure.prototype._make_on_message_function = function(fig) {\n    return function socket_on_message(evt) {\n        if (evt.data instanceof Blob) {\n            /* FIXME: We get \"Resource interpreted as Image but\n             * transferred with MIME type text/plain:\" errors on\n             * Chrome.  But how to set the MIME type?  It doesn't seem\n             * to be part of the websocket stream */\n            evt.data.type = \"image/png\";\n\n            /* Free the memory for the previous frames */\n            if (fig.imageObj.src) {\n                (window.URL || window.webkitURL).revokeObjectURL(\n                    fig.imageObj.src);\n            }\n\n            fig.imageObj.src = (window.URL || window.webkitURL).createObjectURL(\n                evt.data);\n            fig.updated_canvas_event();\n            fig.waiting = false;\n            return;\n        }\n        else if (typeof evt.data === 'string' && evt.data.slice(0, 21) == \"data:image/png;base64\") {\n            fig.imageObj.src = evt.data;\n            fig.updated_canvas_event();\n            fig.waiting = false;\n            return;\n        }\n\n        var msg = JSON.parse(evt.data);\n        var msg_type = msg['type'];\n\n        // Call the  \"handle_{type}\" callback, which takes\n        // the figure and JSON message as its only arguments.\n        try {\n            var callback = fig[\"handle_\" + msg_type];\n        } catch (e) {\n            console.log(\"No handler for the '\" + msg_type + \"' message type: \", msg);\n            return;\n        }\n\n        if (callback) {\n            try {\n                // console.log(\"Handling '\" + msg_type + \"' message: \", msg);\n                callback(fig, msg);\n            } catch (e) {\n                console.log(\"Exception inside the 'handler_\" + msg_type + \"' callback:\", e, e.stack, msg);\n            }\n        }\n    };\n}\n\n// from http://stackoverflow.com/questions/1114465/getting-mouse-location-in-canvas\nmpl.findpos = function(e) {\n    //this section is from http://www.quirksmode.org/js/events_properties.html\n    var targ;\n    if (!e)\n        e = window.event;\n    if (e.target)\n        targ = e.target;\n    else if (e.srcElement)\n        targ = e.srcElement;\n    if (targ.nodeType == 3) // defeat Safari bug\n        targ = targ.parentNode;\n\n    // jQuery normalizes the pageX and pageY\n    // pageX,Y are the mouse positions relative to the document\n    // offset() returns the position of the element relative to the document\n    var x = e.pageX - $(targ).offset().left;\n    var y = e.pageY - $(targ).offset().top;\n\n    return {\"x\": x, \"y\": y};\n};\n\n/*\n * return a copy of an object with only non-object keys\n * we need this to avoid circular references\n * http://stackoverflow.com/a/24161582/3208463\n */\nfunction simpleKeys (original) {\n  return Object.keys(original).reduce(function (obj, key) {\n    if (typeof original[key] !== 'object')\n        obj[key] = original[key]\n    return obj;\n  }, {});\n}\n\nmpl.figure.prototype.mouse_event = function(event, name) {\n    var canvas_pos = mpl.findpos(event)\n\n    if (name === 'button_press')\n    {\n        this.canvas.focus();\n        this.canvas_div.focus();\n    }\n\n    var x = canvas_pos.x * mpl.ratio;\n    var y = canvas_pos.y * mpl.ratio;\n\n    this.send_message(name, {x: x, y: y, button: event.button,\n                             step: event.step,\n                             guiEvent: simpleKeys(event)});\n\n    /* This prevents the web browser from automatically changing to\n     * the text insertion cursor when the button is pressed.  We want\n     * to control all of the cursor setting manually through the\n     * 'cursor' event from matplotlib */\n    event.preventDefault();\n    return false;\n}\n\nmpl.figure.prototype._key_event_extra = function(event, name) {\n    // Handle any extra behaviour associated with a key event\n}\n\nmpl.figure.prototype.key_event = function(event, name) {\n\n    // Prevent repeat events\n    if (name == 'key_press')\n    {\n        if (event.which === this._key)\n            return;\n        else\n            this._key = event.which;\n    }\n    if (name == 'key_release')\n        this._key = null;\n\n    var value = '';\n    if (event.ctrlKey && event.which != 17)\n        value += \"ctrl+\";\n    if (event.altKey && event.which != 18)\n        value += \"alt+\";\n    if (event.shiftKey && event.which != 16)\n        value += \"shift+\";\n\n    value += 'k';\n    value += event.which.toString();\n\n    this._key_event_extra(event, name);\n\n    this.send_message(name, {key: value,\n                             guiEvent: simpleKeys(event)});\n    return false;\n}\n\nmpl.figure.prototype.toolbar_button_onclick = function(name) {\n    if (name == 'download') {\n        this.handle_save(this, null);\n    } else {\n        this.send_message(\"toolbar_button\", {name: name});\n    }\n};\n\nmpl.figure.prototype.toolbar_button_onmouseover = function(tooltip) {\n    this.message.textContent = tooltip;\n};\nmpl.toolbar_items = [[\"Home\", \"Reset original view\", \"fa fa-home icon-home\", \"home\"], [\"Back\", \"Back to previous view\", \"fa fa-arrow-left icon-arrow-left\", \"back\"], [\"Forward\", \"Forward to next view\", \"fa fa-arrow-right icon-arrow-right\", \"forward\"], [\"\", \"\", \"\", \"\"], [\"Pan\", \"Pan axes with left mouse, zoom with right\", \"fa fa-arrows icon-move\", \"pan\"], [\"Zoom\", \"Zoom to rectangle\", \"fa fa-square-o icon-check-empty\", \"zoom\"], [\"\", \"\", \"\", \"\"], [\"Download\", \"Download plot\", \"fa fa-floppy-o icon-save\", \"download\"]];\n\nmpl.extensions = [\"eps\", \"jpeg\", \"pdf\", \"png\", \"ps\", \"raw\", \"svg\", \"tif\"];\n\nmpl.default_extension = \"png\";var comm_websocket_adapter = function(comm) {\n    // Create a \"websocket\"-like object which calls the given IPython comm\n    // object with the appropriate methods. Currently this is a non binary\n    // socket, so there is still some room for performance tuning.\n    var ws = {};\n\n    ws.close = function() {\n        comm.close()\n    };\n    ws.send = function(m) {\n        //console.log('sending', m);\n        comm.send(m);\n    };\n    // Register the callback with on_msg.\n    comm.on_msg(function(msg) {\n        //console.log('receiving', msg['content']['data'], msg);\n        // Pass the mpl event to the overridden (by mpl) onmessage function.\n        ws.onmessage(msg['content']['data'])\n    });\n    return ws;\n}\n\nmpl.mpl_figure_comm = function(comm, msg) {\n    // This is the function which gets called when the mpl process\n    // starts-up an IPython Comm through the \"matplotlib\" channel.\n\n    var id = msg.content.data.id;\n    // Get hold of the div created by the display call when the Comm\n    // socket was opened in Python.\n    var element = $(\"#\" + id);\n    var ws_proxy = comm_websocket_adapter(comm)\n\n    function ondownload(figure, format) {\n        window.open(figure.imageObj.src);\n    }\n\n    var fig = new mpl.figure(id, ws_proxy,\n                           ondownload,\n                           element.get(0));\n\n    // Call onopen now - mpl needs it, as it is assuming we've passed it a real\n    // web socket which is closed, not our websocket->open comm proxy.\n    ws_proxy.onopen();\n\n    fig.parent_element = element.get(0);\n    fig.cell_info = mpl.find_output_cell(\"<div id='\" + id + \"'></div>\");\n    if (!fig.cell_info) {\n        console.error(\"Failed to find cell for figure\", id, fig);\n        return;\n    }\n\n    var output_index = fig.cell_info[2]\n    var cell = fig.cell_info[0];\n\n};\n\nmpl.figure.prototype.handle_close = function(fig, msg) {\n    var width = fig.canvas.width/mpl.ratio\n    fig.root.unbind('remove')\n\n    // Update the output cell to use the data from the current canvas.\n    fig.push_to_output();\n    var dataURL = fig.canvas.toDataURL();\n    // Re-enable the keyboard manager in IPython - without this line, in FF,\n    // the notebook keyboard shortcuts fail.\n    IPython.keyboard_manager.enable()\n    $(fig.parent_element).html('<img src=\"' + dataURL + '\" width=\"' + width + '\">');\n    fig.close_ws(fig, msg);\n}\n\nmpl.figure.prototype.close_ws = function(fig, msg){\n    fig.send_message('closing', msg);\n    // fig.ws.close()\n}\n\nmpl.figure.prototype.push_to_output = function(remove_interactive) {\n    // Turn the data on the canvas into data in the output cell.\n    var width = this.canvas.width/mpl.ratio\n    var dataURL = this.canvas.toDataURL();\n    this.cell_info[1]['text/html'] = '<img src=\"' + dataURL + '\" width=\"' + width + '\">';\n}\n\nmpl.figure.prototype.updated_canvas_event = function() {\n    // Tell IPython that the notebook contents must change.\n    IPython.notebook.set_dirty(true);\n    this.send_message(\"ack\", {});\n    var fig = this;\n    // Wait a second, then push the new image to the DOM so\n    // that it is saved nicely (might be nice to debounce this).\n    setTimeout(function () { fig.push_to_output() }, 1000);\n}\n\nmpl.figure.prototype._init_toolbar = function() {\n    var fig = this;\n\n    var nav_element = $('<div/>');\n    nav_element.attr('style', 'width: 100%');\n    this.root.append(nav_element);\n\n    // Define a callback function for later on.\n    function toolbar_event(event) {\n        return fig.toolbar_button_onclick(event['data']);\n    }\n    function toolbar_mouse_event(event) {\n        return fig.toolbar_button_onmouseover(event['data']);\n    }\n\n    for(var toolbar_ind in mpl.toolbar_items){\n        var name = mpl.toolbar_items[toolbar_ind][0];\n        var tooltip = mpl.toolbar_items[toolbar_ind][1];\n        var image = mpl.toolbar_items[toolbar_ind][2];\n        var method_name = mpl.toolbar_items[toolbar_ind][3];\n\n        if (!name) { continue; };\n\n        var button = $('<button class=\"btn btn-default\" href=\"#\" title=\"' + name + '\"><i class=\"fa ' + image + ' fa-lg\"></i></button>');\n        button.click(method_name, toolbar_event);\n        button.mouseover(tooltip, toolbar_mouse_event);\n        nav_element.append(button);\n    }\n\n    // Add the status bar.\n    var status_bar = $('<span class=\"mpl-message\" style=\"text-align:right; float: right;\"/>');\n    nav_element.append(status_bar);\n    this.message = status_bar[0];\n\n    // Add the close button to the window.\n    var buttongrp = $('<div class=\"btn-group inline pull-right\"></div>');\n    var button = $('<button class=\"btn btn-mini btn-primary\" href=\"#\" title=\"Stop Interaction\"><i class=\"fa fa-power-off icon-remove icon-large\"></i></button>');\n    button.click(function (evt) { fig.handle_close(fig, {}); } );\n    button.mouseover('Stop Interaction', toolbar_mouse_event);\n    buttongrp.append(button);\n    var titlebar = this.root.find($('.ui-dialog-titlebar'));\n    titlebar.prepend(buttongrp);\n}\n\nmpl.figure.prototype._root_extra_style = function(el){\n    var fig = this\n    el.on(\"remove\", function(){\n\tfig.close_ws(fig, {});\n    });\n}\n\nmpl.figure.prototype._canvas_extra_style = function(el){\n    // this is important to make the div 'focusable\n    el.attr('tabindex', 0)\n    // reach out to IPython and tell the keyboard manager to turn it's self\n    // off when our div gets focus\n\n    // location in version 3\n    if (IPython.notebook.keyboard_manager) {\n        IPython.notebook.keyboard_manager.register_events(el);\n    }\n    else {\n        // location in version 2\n        IPython.keyboard_manager.register_events(el);\n    }\n\n}\n\nmpl.figure.prototype._key_event_extra = function(event, name) {\n    var manager = IPython.notebook.keyboard_manager;\n    if (!manager)\n        manager = IPython.keyboard_manager;\n\n    // Check for shift+enter\n    if (event.shiftKey && event.which == 13) {\n        this.canvas_div.blur();\n        // select the cell after this one\n        var index = IPython.notebook.find_cell_index(this.cell_info[0]);\n        IPython.notebook.select(index + 1);\n    }\n}\n\nmpl.figure.prototype.handle_save = function(fig, msg) {\n    fig.ondownload(fig, null);\n}\n\n\nmpl.find_output_cell = function(html_output) {\n    // Return the cell and output element which can be found *uniquely* in the notebook.\n    // Note - this is a bit hacky, but it is done because the \"notebook_saving.Notebook\"\n    // IPython event is triggered only after the cells have been serialised, which for\n    // our purposes (turning an active figure into a static one), is too late.\n    var cells = IPython.notebook.get_cells();\n    var ncells = cells.length;\n    for (var i=0; i<ncells; i++) {\n        var cell = cells[i];\n        if (cell.cell_type === 'code'){\n            for (var j=0; j<cell.output_area.outputs.length; j++) {\n                var data = cell.output_area.outputs[j];\n                if (data.data) {\n                    // IPython >= 3 moved mimebundle to data attribute of output\n                    data = data.data;\n                }\n                if (data['text/html'] == html_output) {\n                    return [cell, data, j];\n                }\n            }\n        }\n    }\n}\n\n// Register the function which deals with the matplotlib target/channel.\n// The kernel may be null if the page has been refreshed.\nif (IPython.notebook.kernel != null) {\n    IPython.notebook.kernel.comm_manager.register_target('matplotlib', mpl.mpl_figure_comm);\n}\n",
          "text/plain": "<IPython.core.display.Javascript object>"
         },
         "metadata": {},
         "output_type": "display_data"
        },
        {
         "data": {
          "text/html": "<div id='58d1292e-3b63-49b6-83ba-5213789d0c6c'></div>",
          "text/plain": "<IPython.core.display.HTML object>"
         },
         "metadata": {},
         "output_type": "display_data"
        },
        {
         "name": "stdout",
         "output_type": "stream",
         "text": "\n  T (K)   X(Mg)sol  X(Fe)sol  X(Mg)liq  X(Fe)liq\n 2124.33    0.00      1.00      0.00      1.00  \n 2205.59    0.15      0.85      0.05      0.95  \n 2286.86    0.29      0.71      0.10      0.90  \n 2368.12    0.41      0.59      0.17      0.83  \n 2449.39    0.52      0.48      0.25      0.75  \n 2530.65    0.62      0.38      0.35      0.65  \n 2611.92    0.71      0.29      0.46      0.54  \n 2693.18    0.81      0.19      0.61      0.39  \n 2774.45    0.90      0.10      0.78      0.22  \n 2855.71    1.00      0.00      1.00      0.00  \n"
        }
       ]
      }
     },
     "dc023d5c12b94333bff01ab1c5e75ee2": {
      "model_module": "@jupyter-widgets/base",
      "model_module_version": "1.2.0",
      "model_name": "LayoutModel",
      "state": {}
     },
     "dc7ffd7f234747999404bcdc2fe6c7ee": {
      "model_module": "@jupyter-widgets/controls",
      "model_module_version": "1.5.0",
      "model_name": "SliderStyleModel",
      "state": {
       "description_width": ""
      }
     },
     "ddaaca7ad4644ee089a98fd120bee3b9": {
      "model_module": "@jupyter-widgets/controls",
      "model_module_version": "1.5.0",
      "model_name": "SliderStyleModel",
      "state": {
       "description_width": ""
      }
     },
     "de3b6d41148248ababd9d839b687335c": {
      "model_module": "@jupyter-widgets/controls",
      "model_module_version": "1.5.0",
      "model_name": "FloatSliderModel",
      "state": {
       "description": "ip",
       "layout": "IPY_MODEL_57421368e75a4f12a24bb1db73dba404",
       "max": 5,
       "step": 0.1,
       "style": "IPY_MODEL_69307d9db6cb48539333a13404eee3b5",
       "value": 5
      }
     },
     "df1fa7557d15469d81a5bd84c4d3520f": {
      "model_module": "@jupyter-widgets/base",
      "model_module_version": "1.2.0",
      "model_name": "LayoutModel",
      "state": {}
     },
     "df369e2993354182a79d8557c2241c12": {
      "model_module": "@jupyter-widgets/controls",
      "model_module_version": "1.5.0",
      "model_name": "SliderStyleModel",
      "state": {
       "description_width": ""
      }
     },
     "e03232ad1a1447549b02303e647bb1b4": {
      "model_module": "@jupyter-widgets/controls",
      "model_module_version": "1.5.0",
      "model_name": "SliderStyleModel",
      "state": {
       "description_width": ""
      }
     },
     "e057686dc80b4d6484c18383594642c3": {
      "model_module": "@jupyter-widgets/output",
      "model_module_version": "1.0.0",
      "model_name": "OutputModel",
      "state": {
       "layout": "IPY_MODEL_54a632ce99554da39ebd5aa2ccb20cef"
      }
     },
     "e0f48a232df7403286a98d681a4a5574": {
      "model_module": "@jupyter-widgets/controls",
      "model_module_version": "1.5.0",
      "model_name": "SliderStyleModel",
      "state": {
       "description_width": ""
      }
     },
     "e15fbfb150f448cabff1530bab200928": {
      "model_module": "@jupyter-widgets/controls",
      "model_module_version": "1.5.0",
      "model_name": "ButtonModel",
      "state": {
       "description": "Run Interact",
       "layout": "IPY_MODEL_16f6ef5a5f514261a9e152f56b1bd606",
       "style": "IPY_MODEL_0e35013fb84245a4b857e1e1aee45da7"
      }
     },
     "e1a6ddc467bb48b5838fa25d185d5de0": {
      "model_module": "@jupyter-widgets/base",
      "model_module_version": "1.2.0",
      "model_name": "LayoutModel",
      "state": {}
     },
     "e1eeed5438ed4b0487ff29b7df932a35": {
      "model_module": "@jupyter-widgets/controls",
      "model_module_version": "1.5.0",
      "model_name": "ButtonModel",
      "state": {
       "description": "Run Interact",
       "layout": "IPY_MODEL_67961303040d4e4e8881783eb764000b",
       "style": "IPY_MODEL_a590c1b3390d4e73a1caef39b0866a6c"
      }
     },
     "e2772ff247bd4023b10f91065b2620d3": {
      "model_module": "@jupyter-widgets/output",
      "model_module_version": "1.0.0",
      "model_name": "OutputModel",
      "state": {
       "layout": "IPY_MODEL_845a84af8baf49998ed5d9b70833dea7",
       "outputs": [
        {
         "name": "stdout",
         "output_type": "stream",
         "text": "Temperatura di fusione della forsterite: 2161.01 K\nTemperatura di fusione della fayalite: 1480.31 K\n"
        },
        {
         "data": {
          "application/javascript": "/* Put everything inside the global mpl namespace */\nwindow.mpl = {};\n\n\nmpl.get_websocket_type = function() {\n    if (typeof(WebSocket) !== 'undefined') {\n        return WebSocket;\n    } else if (typeof(MozWebSocket) !== 'undefined') {\n        return MozWebSocket;\n    } else {\n        alert('Your browser does not have WebSocket support. ' +\n              'Please try Chrome, Safari or Firefox ≥ 6. ' +\n              'Firefox 4 and 5 are also supported but you ' +\n              'have to enable WebSockets in about:config.');\n    };\n}\n\nmpl.figure = function(figure_id, websocket, ondownload, parent_element) {\n    this.id = figure_id;\n\n    this.ws = websocket;\n\n    this.supports_binary = (this.ws.binaryType != undefined);\n\n    if (!this.supports_binary) {\n        var warnings = document.getElementById(\"mpl-warnings\");\n        if (warnings) {\n            warnings.style.display = 'block';\n            warnings.textContent = (\n                \"This browser does not support binary websocket messages. \" +\n                    \"Performance may be slow.\");\n        }\n    }\n\n    this.imageObj = new Image();\n\n    this.context = undefined;\n    this.message = undefined;\n    this.canvas = undefined;\n    this.rubberband_canvas = undefined;\n    this.rubberband_context = undefined;\n    this.format_dropdown = undefined;\n\n    this.image_mode = 'full';\n\n    this.root = $('<div/>');\n    this._root_extra_style(this.root)\n    this.root.attr('style', 'display: inline-block');\n\n    $(parent_element).append(this.root);\n\n    this._init_header(this);\n    this._init_canvas(this);\n    this._init_toolbar(this);\n\n    var fig = this;\n\n    this.waiting = false;\n\n    this.ws.onopen =  function () {\n            fig.send_message(\"supports_binary\", {value: fig.supports_binary});\n            fig.send_message(\"send_image_mode\", {});\n            if (mpl.ratio != 1) {\n                fig.send_message(\"set_dpi_ratio\", {'dpi_ratio': mpl.ratio});\n            }\n            fig.send_message(\"refresh\", {});\n        }\n\n    this.imageObj.onload = function() {\n            if (fig.image_mode == 'full') {\n                // Full images could contain transparency (where diff images\n                // almost always do), so we need to clear the canvas so that\n                // there is no ghosting.\n                fig.context.clearRect(0, 0, fig.canvas.width, fig.canvas.height);\n            }\n            fig.context.drawImage(fig.imageObj, 0, 0);\n        };\n\n    this.imageObj.onunload = function() {\n        fig.ws.close();\n    }\n\n    this.ws.onmessage = this._make_on_message_function(this);\n\n    this.ondownload = ondownload;\n}\n\nmpl.figure.prototype._init_header = function() {\n    var titlebar = $(\n        '<div class=\"ui-dialog-titlebar ui-widget-header ui-corner-all ' +\n        'ui-helper-clearfix\"/>');\n    var titletext = $(\n        '<div class=\"ui-dialog-title\" style=\"width: 100%; ' +\n        'text-align: center; padding: 3px;\"/>');\n    titlebar.append(titletext)\n    this.root.append(titlebar);\n    this.header = titletext[0];\n}\n\n\n\nmpl.figure.prototype._canvas_extra_style = function(canvas_div) {\n\n}\n\n\nmpl.figure.prototype._root_extra_style = function(canvas_div) {\n\n}\n\nmpl.figure.prototype._init_canvas = function() {\n    var fig = this;\n\n    var canvas_div = $('<div/>');\n\n    canvas_div.attr('style', 'position: relative; clear: both; outline: 0');\n\n    function canvas_keyboard_event(event) {\n        return fig.key_event(event, event['data']);\n    }\n\n    canvas_div.keydown('key_press', canvas_keyboard_event);\n    canvas_div.keyup('key_release', canvas_keyboard_event);\n    this.canvas_div = canvas_div\n    this._canvas_extra_style(canvas_div)\n    this.root.append(canvas_div);\n\n    var canvas = $('<canvas/>');\n    canvas.addClass('mpl-canvas');\n    canvas.attr('style', \"left: 0; top: 0; z-index: 0; outline: 0\")\n\n    this.canvas = canvas[0];\n    this.context = canvas[0].getContext(\"2d\");\n\n    var backingStore = this.context.backingStorePixelRatio ||\n\tthis.context.webkitBackingStorePixelRatio ||\n\tthis.context.mozBackingStorePixelRatio ||\n\tthis.context.msBackingStorePixelRatio ||\n\tthis.context.oBackingStorePixelRatio ||\n\tthis.context.backingStorePixelRatio || 1;\n\n    mpl.ratio = (window.devicePixelRatio || 1) / backingStore;\n\n    var rubberband = $('<canvas/>');\n    rubberband.attr('style', \"position: absolute; left: 0; top: 0; z-index: 1;\")\n\n    var pass_mouse_events = true;\n\n    canvas_div.resizable({\n        start: function(event, ui) {\n            pass_mouse_events = false;\n        },\n        resize: function(event, ui) {\n            fig.request_resize(ui.size.width, ui.size.height);\n        },\n        stop: function(event, ui) {\n            pass_mouse_events = true;\n            fig.request_resize(ui.size.width, ui.size.height);\n        },\n    });\n\n    function mouse_event_fn(event) {\n        if (pass_mouse_events)\n            return fig.mouse_event(event, event['data']);\n    }\n\n    rubberband.mousedown('button_press', mouse_event_fn);\n    rubberband.mouseup('button_release', mouse_event_fn);\n    // Throttle sequential mouse events to 1 every 20ms.\n    rubberband.mousemove('motion_notify', mouse_event_fn);\n\n    rubberband.mouseenter('figure_enter', mouse_event_fn);\n    rubberband.mouseleave('figure_leave', mouse_event_fn);\n\n    canvas_div.on(\"wheel\", function (event) {\n        event = event.originalEvent;\n        event['data'] = 'scroll'\n        if (event.deltaY < 0) {\n            event.step = 1;\n        } else {\n            event.step = -1;\n        }\n        mouse_event_fn(event);\n    });\n\n    canvas_div.append(canvas);\n    canvas_div.append(rubberband);\n\n    this.rubberband = rubberband;\n    this.rubberband_canvas = rubberband[0];\n    this.rubberband_context = rubberband[0].getContext(\"2d\");\n    this.rubberband_context.strokeStyle = \"#000000\";\n\n    this._resize_canvas = function(width, height) {\n        // Keep the size of the canvas, canvas container, and rubber band\n        // canvas in synch.\n        canvas_div.css('width', width)\n        canvas_div.css('height', height)\n\n        canvas.attr('width', width * mpl.ratio);\n        canvas.attr('height', height * mpl.ratio);\n        canvas.attr('style', 'width: ' + width + 'px; height: ' + height + 'px;');\n\n        rubberband.attr('width', width);\n        rubberband.attr('height', height);\n    }\n\n    // Set the figure to an initial 600x600px, this will subsequently be updated\n    // upon first draw.\n    this._resize_canvas(600, 600);\n\n    // Disable right mouse context menu.\n    $(this.rubberband_canvas).bind(\"contextmenu\",function(e){\n        return false;\n    });\n\n    function set_focus () {\n        canvas.focus();\n        canvas_div.focus();\n    }\n\n    window.setTimeout(set_focus, 100);\n}\n\nmpl.figure.prototype._init_toolbar = function() {\n    var fig = this;\n\n    var nav_element = $('<div/>');\n    nav_element.attr('style', 'width: 100%');\n    this.root.append(nav_element);\n\n    // Define a callback function for later on.\n    function toolbar_event(event) {\n        return fig.toolbar_button_onclick(event['data']);\n    }\n    function toolbar_mouse_event(event) {\n        return fig.toolbar_button_onmouseover(event['data']);\n    }\n\n    for(var toolbar_ind in mpl.toolbar_items) {\n        var name = mpl.toolbar_items[toolbar_ind][0];\n        var tooltip = mpl.toolbar_items[toolbar_ind][1];\n        var image = mpl.toolbar_items[toolbar_ind][2];\n        var method_name = mpl.toolbar_items[toolbar_ind][3];\n\n        if (!name) {\n            // put a spacer in here.\n            continue;\n        }\n        var button = $('<button/>');\n        button.addClass('ui-button ui-widget ui-state-default ui-corner-all ' +\n                        'ui-button-icon-only');\n        button.attr('role', 'button');\n        button.attr('aria-disabled', 'false');\n        button.click(method_name, toolbar_event);\n        button.mouseover(tooltip, toolbar_mouse_event);\n\n        var icon_img = $('<span/>');\n        icon_img.addClass('ui-button-icon-primary ui-icon');\n        icon_img.addClass(image);\n        icon_img.addClass('ui-corner-all');\n\n        var tooltip_span = $('<span/>');\n        tooltip_span.addClass('ui-button-text');\n        tooltip_span.html(tooltip);\n\n        button.append(icon_img);\n        button.append(tooltip_span);\n\n        nav_element.append(button);\n    }\n\n    var fmt_picker_span = $('<span/>');\n\n    var fmt_picker = $('<select/>');\n    fmt_picker.addClass('mpl-toolbar-option ui-widget ui-widget-content');\n    fmt_picker_span.append(fmt_picker);\n    nav_element.append(fmt_picker_span);\n    this.format_dropdown = fmt_picker[0];\n\n    for (var ind in mpl.extensions) {\n        var fmt = mpl.extensions[ind];\n        var option = $(\n            '<option/>', {selected: fmt === mpl.default_extension}).html(fmt);\n        fmt_picker.append(option);\n    }\n\n    // Add hover states to the ui-buttons\n    $( \".ui-button\" ).hover(\n        function() { $(this).addClass(\"ui-state-hover\");},\n        function() { $(this).removeClass(\"ui-state-hover\");}\n    );\n\n    var status_bar = $('<span class=\"mpl-message\"/>');\n    nav_element.append(status_bar);\n    this.message = status_bar[0];\n}\n\nmpl.figure.prototype.request_resize = function(x_pixels, y_pixels) {\n    // Request matplotlib to resize the figure. Matplotlib will then trigger a resize in the client,\n    // which will in turn request a refresh of the image.\n    this.send_message('resize', {'width': x_pixels, 'height': y_pixels});\n}\n\nmpl.figure.prototype.send_message = function(type, properties) {\n    properties['type'] = type;\n    properties['figure_id'] = this.id;\n    this.ws.send(JSON.stringify(properties));\n}\n\nmpl.figure.prototype.send_draw_message = function() {\n    if (!this.waiting) {\n        this.waiting = true;\n        this.ws.send(JSON.stringify({type: \"draw\", figure_id: this.id}));\n    }\n}\n\n\nmpl.figure.prototype.handle_save = function(fig, msg) {\n    var format_dropdown = fig.format_dropdown;\n    var format = format_dropdown.options[format_dropdown.selectedIndex].value;\n    fig.ondownload(fig, format);\n}\n\n\nmpl.figure.prototype.handle_resize = function(fig, msg) {\n    var size = msg['size'];\n    if (size[0] != fig.canvas.width || size[1] != fig.canvas.height) {\n        fig._resize_canvas(size[0], size[1]);\n        fig.send_message(\"refresh\", {});\n    };\n}\n\nmpl.figure.prototype.handle_rubberband = function(fig, msg) {\n    var x0 = msg['x0'] / mpl.ratio;\n    var y0 = (fig.canvas.height - msg['y0']) / mpl.ratio;\n    var x1 = msg['x1'] / mpl.ratio;\n    var y1 = (fig.canvas.height - msg['y1']) / mpl.ratio;\n    x0 = Math.floor(x0) + 0.5;\n    y0 = Math.floor(y0) + 0.5;\n    x1 = Math.floor(x1) + 0.5;\n    y1 = Math.floor(y1) + 0.5;\n    var min_x = Math.min(x0, x1);\n    var min_y = Math.min(y0, y1);\n    var width = Math.abs(x1 - x0);\n    var height = Math.abs(y1 - y0);\n\n    fig.rubberband_context.clearRect(\n        0, 0, fig.canvas.width / mpl.ratio, fig.canvas.height / mpl.ratio);\n\n    fig.rubberband_context.strokeRect(min_x, min_y, width, height);\n}\n\nmpl.figure.prototype.handle_figure_label = function(fig, msg) {\n    // Updates the figure title.\n    fig.header.textContent = msg['label'];\n}\n\nmpl.figure.prototype.handle_cursor = function(fig, msg) {\n    var cursor = msg['cursor'];\n    switch(cursor)\n    {\n    case 0:\n        cursor = 'pointer';\n        break;\n    case 1:\n        cursor = 'default';\n        break;\n    case 2:\n        cursor = 'crosshair';\n        break;\n    case 3:\n        cursor = 'move';\n        break;\n    }\n    fig.rubberband_canvas.style.cursor = cursor;\n}\n\nmpl.figure.prototype.handle_message = function(fig, msg) {\n    fig.message.textContent = msg['message'];\n}\n\nmpl.figure.prototype.handle_draw = function(fig, msg) {\n    // Request the server to send over a new figure.\n    fig.send_draw_message();\n}\n\nmpl.figure.prototype.handle_image_mode = function(fig, msg) {\n    fig.image_mode = msg['mode'];\n}\n\nmpl.figure.prototype.updated_canvas_event = function() {\n    // Called whenever the canvas gets updated.\n    this.send_message(\"ack\", {});\n}\n\n// A function to construct a web socket function for onmessage handling.\n// Called in the figure constructor.\nmpl.figure.prototype._make_on_message_function = function(fig) {\n    return function socket_on_message(evt) {\n        if (evt.data instanceof Blob) {\n            /* FIXME: We get \"Resource interpreted as Image but\n             * transferred with MIME type text/plain:\" errors on\n             * Chrome.  But how to set the MIME type?  It doesn't seem\n             * to be part of the websocket stream */\n            evt.data.type = \"image/png\";\n\n            /* Free the memory for the previous frames */\n            if (fig.imageObj.src) {\n                (window.URL || window.webkitURL).revokeObjectURL(\n                    fig.imageObj.src);\n            }\n\n            fig.imageObj.src = (window.URL || window.webkitURL).createObjectURL(\n                evt.data);\n            fig.updated_canvas_event();\n            fig.waiting = false;\n            return;\n        }\n        else if (typeof evt.data === 'string' && evt.data.slice(0, 21) == \"data:image/png;base64\") {\n            fig.imageObj.src = evt.data;\n            fig.updated_canvas_event();\n            fig.waiting = false;\n            return;\n        }\n\n        var msg = JSON.parse(evt.data);\n        var msg_type = msg['type'];\n\n        // Call the  \"handle_{type}\" callback, which takes\n        // the figure and JSON message as its only arguments.\n        try {\n            var callback = fig[\"handle_\" + msg_type];\n        } catch (e) {\n            console.log(\"No handler for the '\" + msg_type + \"' message type: \", msg);\n            return;\n        }\n\n        if (callback) {\n            try {\n                // console.log(\"Handling '\" + msg_type + \"' message: \", msg);\n                callback(fig, msg);\n            } catch (e) {\n                console.log(\"Exception inside the 'handler_\" + msg_type + \"' callback:\", e, e.stack, msg);\n            }\n        }\n    };\n}\n\n// from http://stackoverflow.com/questions/1114465/getting-mouse-location-in-canvas\nmpl.findpos = function(e) {\n    //this section is from http://www.quirksmode.org/js/events_properties.html\n    var targ;\n    if (!e)\n        e = window.event;\n    if (e.target)\n        targ = e.target;\n    else if (e.srcElement)\n        targ = e.srcElement;\n    if (targ.nodeType == 3) // defeat Safari bug\n        targ = targ.parentNode;\n\n    // jQuery normalizes the pageX and pageY\n    // pageX,Y are the mouse positions relative to the document\n    // offset() returns the position of the element relative to the document\n    var x = e.pageX - $(targ).offset().left;\n    var y = e.pageY - $(targ).offset().top;\n\n    return {\"x\": x, \"y\": y};\n};\n\n/*\n * return a copy of an object with only non-object keys\n * we need this to avoid circular references\n * http://stackoverflow.com/a/24161582/3208463\n */\nfunction simpleKeys (original) {\n  return Object.keys(original).reduce(function (obj, key) {\n    if (typeof original[key] !== 'object')\n        obj[key] = original[key]\n    return obj;\n  }, {});\n}\n\nmpl.figure.prototype.mouse_event = function(event, name) {\n    var canvas_pos = mpl.findpos(event)\n\n    if (name === 'button_press')\n    {\n        this.canvas.focus();\n        this.canvas_div.focus();\n    }\n\n    var x = canvas_pos.x * mpl.ratio;\n    var y = canvas_pos.y * mpl.ratio;\n\n    this.send_message(name, {x: x, y: y, button: event.button,\n                             step: event.step,\n                             guiEvent: simpleKeys(event)});\n\n    /* This prevents the web browser from automatically changing to\n     * the text insertion cursor when the button is pressed.  We want\n     * to control all of the cursor setting manually through the\n     * 'cursor' event from matplotlib */\n    event.preventDefault();\n    return false;\n}\n\nmpl.figure.prototype._key_event_extra = function(event, name) {\n    // Handle any extra behaviour associated with a key event\n}\n\nmpl.figure.prototype.key_event = function(event, name) {\n\n    // Prevent repeat events\n    if (name == 'key_press')\n    {\n        if (event.which === this._key)\n            return;\n        else\n            this._key = event.which;\n    }\n    if (name == 'key_release')\n        this._key = null;\n\n    var value = '';\n    if (event.ctrlKey && event.which != 17)\n        value += \"ctrl+\";\n    if (event.altKey && event.which != 18)\n        value += \"alt+\";\n    if (event.shiftKey && event.which != 16)\n        value += \"shift+\";\n\n    value += 'k';\n    value += event.which.toString();\n\n    this._key_event_extra(event, name);\n\n    this.send_message(name, {key: value,\n                             guiEvent: simpleKeys(event)});\n    return false;\n}\n\nmpl.figure.prototype.toolbar_button_onclick = function(name) {\n    if (name == 'download') {\n        this.handle_save(this, null);\n    } else {\n        this.send_message(\"toolbar_button\", {name: name});\n    }\n};\n\nmpl.figure.prototype.toolbar_button_onmouseover = function(tooltip) {\n    this.message.textContent = tooltip;\n};\nmpl.toolbar_items = [[\"Home\", \"Reset original view\", \"fa fa-home icon-home\", \"home\"], [\"Back\", \"Back to previous view\", \"fa fa-arrow-left icon-arrow-left\", \"back\"], [\"Forward\", \"Forward to next view\", \"fa fa-arrow-right icon-arrow-right\", \"forward\"], [\"\", \"\", \"\", \"\"], [\"Pan\", \"Pan axes with left mouse, zoom with right\", \"fa fa-arrows icon-move\", \"pan\"], [\"Zoom\", \"Zoom to rectangle\", \"fa fa-square-o icon-check-empty\", \"zoom\"], [\"\", \"\", \"\", \"\"], [\"Download\", \"Download plot\", \"fa fa-floppy-o icon-save\", \"download\"]];\n\nmpl.extensions = [\"eps\", \"jpeg\", \"pdf\", \"png\", \"ps\", \"raw\", \"svg\", \"tif\"];\n\nmpl.default_extension = \"png\";var comm_websocket_adapter = function(comm) {\n    // Create a \"websocket\"-like object which calls the given IPython comm\n    // object with the appropriate methods. Currently this is a non binary\n    // socket, so there is still some room for performance tuning.\n    var ws = {};\n\n    ws.close = function() {\n        comm.close()\n    };\n    ws.send = function(m) {\n        //console.log('sending', m);\n        comm.send(m);\n    };\n    // Register the callback with on_msg.\n    comm.on_msg(function(msg) {\n        //console.log('receiving', msg['content']['data'], msg);\n        // Pass the mpl event to the overridden (by mpl) onmessage function.\n        ws.onmessage(msg['content']['data'])\n    });\n    return ws;\n}\n\nmpl.mpl_figure_comm = function(comm, msg) {\n    // This is the function which gets called when the mpl process\n    // starts-up an IPython Comm through the \"matplotlib\" channel.\n\n    var id = msg.content.data.id;\n    // Get hold of the div created by the display call when the Comm\n    // socket was opened in Python.\n    var element = $(\"#\" + id);\n    var ws_proxy = comm_websocket_adapter(comm)\n\n    function ondownload(figure, format) {\n        window.open(figure.imageObj.src);\n    }\n\n    var fig = new mpl.figure(id, ws_proxy,\n                           ondownload,\n                           element.get(0));\n\n    // Call onopen now - mpl needs it, as it is assuming we've passed it a real\n    // web socket which is closed, not our websocket->open comm proxy.\n    ws_proxy.onopen();\n\n    fig.parent_element = element.get(0);\n    fig.cell_info = mpl.find_output_cell(\"<div id='\" + id + \"'></div>\");\n    if (!fig.cell_info) {\n        console.error(\"Failed to find cell for figure\", id, fig);\n        return;\n    }\n\n    var output_index = fig.cell_info[2]\n    var cell = fig.cell_info[0];\n\n};\n\nmpl.figure.prototype.handle_close = function(fig, msg) {\n    var width = fig.canvas.width/mpl.ratio\n    fig.root.unbind('remove')\n\n    // Update the output cell to use the data from the current canvas.\n    fig.push_to_output();\n    var dataURL = fig.canvas.toDataURL();\n    // Re-enable the keyboard manager in IPython - without this line, in FF,\n    // the notebook keyboard shortcuts fail.\n    IPython.keyboard_manager.enable()\n    $(fig.parent_element).html('<img src=\"' + dataURL + '\" width=\"' + width + '\">');\n    fig.close_ws(fig, msg);\n}\n\nmpl.figure.prototype.close_ws = function(fig, msg){\n    fig.send_message('closing', msg);\n    // fig.ws.close()\n}\n\nmpl.figure.prototype.push_to_output = function(remove_interactive) {\n    // Turn the data on the canvas into data in the output cell.\n    var width = this.canvas.width/mpl.ratio\n    var dataURL = this.canvas.toDataURL();\n    this.cell_info[1]['text/html'] = '<img src=\"' + dataURL + '\" width=\"' + width + '\">';\n}\n\nmpl.figure.prototype.updated_canvas_event = function() {\n    // Tell IPython that the notebook contents must change.\n    IPython.notebook.set_dirty(true);\n    this.send_message(\"ack\", {});\n    var fig = this;\n    // Wait a second, then push the new image to the DOM so\n    // that it is saved nicely (might be nice to debounce this).\n    setTimeout(function () { fig.push_to_output() }, 1000);\n}\n\nmpl.figure.prototype._init_toolbar = function() {\n    var fig = this;\n\n    var nav_element = $('<div/>');\n    nav_element.attr('style', 'width: 100%');\n    this.root.append(nav_element);\n\n    // Define a callback function for later on.\n    function toolbar_event(event) {\n        return fig.toolbar_button_onclick(event['data']);\n    }\n    function toolbar_mouse_event(event) {\n        return fig.toolbar_button_onmouseover(event['data']);\n    }\n\n    for(var toolbar_ind in mpl.toolbar_items){\n        var name = mpl.toolbar_items[toolbar_ind][0];\n        var tooltip = mpl.toolbar_items[toolbar_ind][1];\n        var image = mpl.toolbar_items[toolbar_ind][2];\n        var method_name = mpl.toolbar_items[toolbar_ind][3];\n\n        if (!name) { continue; };\n\n        var button = $('<button class=\"btn btn-default\" href=\"#\" title=\"' + name + '\"><i class=\"fa ' + image + ' fa-lg\"></i></button>');\n        button.click(method_name, toolbar_event);\n        button.mouseover(tooltip, toolbar_mouse_event);\n        nav_element.append(button);\n    }\n\n    // Add the status bar.\n    var status_bar = $('<span class=\"mpl-message\" style=\"text-align:right; float: right;\"/>');\n    nav_element.append(status_bar);\n    this.message = status_bar[0];\n\n    // Add the close button to the window.\n    var buttongrp = $('<div class=\"btn-group inline pull-right\"></div>');\n    var button = $('<button class=\"btn btn-mini btn-primary\" href=\"#\" title=\"Stop Interaction\"><i class=\"fa fa-power-off icon-remove icon-large\"></i></button>');\n    button.click(function (evt) { fig.handle_close(fig, {}); } );\n    button.mouseover('Stop Interaction', toolbar_mouse_event);\n    buttongrp.append(button);\n    var titlebar = this.root.find($('.ui-dialog-titlebar'));\n    titlebar.prepend(buttongrp);\n}\n\nmpl.figure.prototype._root_extra_style = function(el){\n    var fig = this\n    el.on(\"remove\", function(){\n\tfig.close_ws(fig, {});\n    });\n}\n\nmpl.figure.prototype._canvas_extra_style = function(el){\n    // this is important to make the div 'focusable\n    el.attr('tabindex', 0)\n    // reach out to IPython and tell the keyboard manager to turn it's self\n    // off when our div gets focus\n\n    // location in version 3\n    if (IPython.notebook.keyboard_manager) {\n        IPython.notebook.keyboard_manager.register_events(el);\n    }\n    else {\n        // location in version 2\n        IPython.keyboard_manager.register_events(el);\n    }\n\n}\n\nmpl.figure.prototype._key_event_extra = function(event, name) {\n    var manager = IPython.notebook.keyboard_manager;\n    if (!manager)\n        manager = IPython.keyboard_manager;\n\n    // Check for shift+enter\n    if (event.shiftKey && event.which == 13) {\n        this.canvas_div.blur();\n        // select the cell after this one\n        var index = IPython.notebook.find_cell_index(this.cell_info[0]);\n        IPython.notebook.select(index + 1);\n    }\n}\n\nmpl.figure.prototype.handle_save = function(fig, msg) {\n    fig.ondownload(fig, null);\n}\n\n\nmpl.find_output_cell = function(html_output) {\n    // Return the cell and output element which can be found *uniquely* in the notebook.\n    // Note - this is a bit hacky, but it is done because the \"notebook_saving.Notebook\"\n    // IPython event is triggered only after the cells have been serialised, which for\n    // our purposes (turning an active figure into a static one), is too late.\n    var cells = IPython.notebook.get_cells();\n    var ncells = cells.length;\n    for (var i=0; i<ncells; i++) {\n        var cell = cells[i];\n        if (cell.cell_type === 'code'){\n            for (var j=0; j<cell.output_area.outputs.length; j++) {\n                var data = cell.output_area.outputs[j];\n                if (data.data) {\n                    // IPython >= 3 moved mimebundle to data attribute of output\n                    data = data.data;\n                }\n                if (data['text/html'] == html_output) {\n                    return [cell, data, j];\n                }\n            }\n        }\n    }\n}\n\n// Register the function which deals with the matplotlib target/channel.\n// The kernel may be null if the page has been refreshed.\nif (IPython.notebook.kernel != null) {\n    IPython.notebook.kernel.comm_manager.register_target('matplotlib', mpl.mpl_figure_comm);\n}\n",
          "text/plain": "<IPython.core.display.Javascript object>"
         },
         "metadata": {},
         "output_type": "display_data"
        },
        {
         "data": {
          "text/html": "<div id='96802849-e0ae-41c6-838e-926702fb88d0'></div>",
          "text/plain": "<IPython.core.display.HTML object>"
         },
         "metadata": {},
         "output_type": "display_data"
        },
        {
         "name": "stdout",
         "output_type": "stream",
         "text": "\n  T (K)   X(Mg)sol  X(Fe)sol  X(Mg)liq  X(Fe)liq\n 1480.31    0.00      1.00      0.00      1.00  \n 1555.95    0.33      0.67      0.04      0.96  \n 1631.58    0.55      0.45      0.09      0.91  \n 1707.21    0.69      0.31      0.16      0.84  \n 1782.85    0.79      0.21      0.23      0.77  \n 1858.48    0.86      0.14      0.33      0.67  \n 1934.11    0.91      0.09      0.44      0.56  \n 2009.75    0.95      0.05      0.59      0.41  \n 2085.38    0.98      0.02      0.77      0.23  \n 2161.01    1.00      0.00      1.00      0.00  \n"
        }
       ]
      }
     },
     "e2cfcf41bff04bea908f4f84325845a6": {
      "model_module": "@jupyter-widgets/base",
      "model_module_version": "1.2.0",
      "model_name": "LayoutModel",
      "state": {}
     },
     "e3579287f1b94c0cba638a9874e229c5": {
      "model_module": "@jupyter-widgets/controls",
      "model_module_version": "1.5.0",
      "model_name": "IntSliderModel",
      "state": {
       "description": "nt",
       "layout": "IPY_MODEL_94e64bd8540f4754b922b7db18cef5a7",
       "max": 30,
       "min": 10,
       "step": 5,
       "style": "IPY_MODEL_2ce92d56300941439dd2567515df4788",
       "value": 15
      }
     },
     "e434de82f82247529c1dbb5d92516151": {
      "model_module": "@jupyter-widgets/base",
      "model_module_version": "1.2.0",
      "model_name": "LayoutModel",
      "state": {}
     },
     "e4de9860fe6e40d28caabe7c5adefab5": {
      "model_module": "@jupyter-widgets/controls",
      "model_module_version": "1.5.0",
      "model_name": "VBoxModel",
      "state": {
       "_dom_classes": [
        "widget-interact"
       ],
       "children": [
        "IPY_MODEL_f955e265b43641ccbf996b0aeb08d168",
        "IPY_MODEL_a3a10c4ddbd540498fc3774fb6d48ff6",
        "IPY_MODEL_4f14d7d1053445218dd0037372eb8066",
        "IPY_MODEL_65e6477f2c3244609d2a33794ddf3f22"
       ],
       "layout": "IPY_MODEL_139aef72294646ea851906988c134e7b"
      }
     },
     "e62c05316d924f699fa5e106aac4960a": {
      "model_module": "@jupyter-widgets/base",
      "model_module_version": "1.2.0",
      "model_name": "LayoutModel",
      "state": {}
     },
     "e73a0ccea2b94c6f9871d26d045d0bb6": {
      "model_module": "@jupyter-widgets/controls",
      "model_module_version": "1.5.0",
      "model_name": "VBoxModel",
      "state": {
       "_dom_classes": [
        "widget-interact"
       ],
       "children": [
        "IPY_MODEL_642a37208a944d6e8f7a55099a2b9002",
        "IPY_MODEL_6072a8a168ea40879a7cf9b15d670432",
        "IPY_MODEL_e15fbfb150f448cabff1530bab200928",
        "IPY_MODEL_b1553d03f5b44782ab69890bf1a76539"
       ],
       "layout": "IPY_MODEL_c4e77bbaa5fe479d82e4f779b5cfc101"
      }
     },
     "e7827d5bcf854163b73245ba4bd36cf8": {
      "model_module": "@jupyter-widgets/base",
      "model_module_version": "1.2.0",
      "model_name": "LayoutModel",
      "state": {}
     },
     "e9ca1903359944afb2f10f3b6549dafb": {
      "model_module": "@jupyter-widgets/base",
      "model_module_version": "1.2.0",
      "model_name": "LayoutModel",
      "state": {}
     },
     "ea36477e8d1b4b91b3d1caec950ea37d": {
      "model_module": "@jupyter-widgets/controls",
      "model_module_version": "1.5.0",
      "model_name": "FloatSliderModel",
      "state": {
       "description": "ip",
       "layout": "IPY_MODEL_6cfcd0730bb8402885310fedb0666c08",
       "max": 5,
       "step": 0.1,
       "style": "IPY_MODEL_dc7ffd7f234747999404bcdc2fe6c7ee"
      }
     },
     "eadd32b98c2e4352b686385e6acb8825": {
      "model_module": "@jupyter-widgets/base",
      "model_module_version": "1.2.0",
      "model_name": "LayoutModel",
      "state": {}
     },
     "eb322c063fb34184acb8764ba206aa67": {
      "model_module": "@jupyter-widgets/controls",
      "model_module_version": "1.5.0",
      "model_name": "FloatSliderModel",
      "state": {
       "description": "tfmax",
       "layout": "IPY_MODEL_b32df6cd0ce645dba6c2385dafb59285",
       "max": 3000,
       "step": 10,
       "style": "IPY_MODEL_68f56e52e22d401ab8dc7d2fc8f9c30e"
      }
     },
     "eb65820549bf4d98a13bc05e4a4848a1": {
      "model_module": "@jupyter-widgets/controls",
      "model_module_version": "1.5.0",
      "model_name": "IntSliderModel",
      "state": {
       "description": "nt",
       "layout": "IPY_MODEL_39583a7f0532433eb4076bc63a389c97",
       "max": 30,
       "min": 10,
       "step": 5,
       "style": "IPY_MODEL_7da933454b9d43e88b4e80e57a0aebb1",
       "value": 10
      }
     },
     "ebef76df71424172900b6aa0c1882272": {
      "model_module": "@jupyter-widgets/base",
      "model_module_version": "1.2.0",
      "model_name": "LayoutModel",
      "state": {}
     },
     "ed3d3c9e9c7544bd9602752c3f63776f": {
      "model_module": "@jupyter-widgets/base",
      "model_module_version": "1.2.0",
      "model_name": "LayoutModel",
      "state": {}
     },
     "ee4f26e6bed8402cace277eea362147f": {
      "model_module": "@jupyter-widgets/controls",
      "model_module_version": "1.5.0",
      "model_name": "ButtonStyleModel",
      "state": {}
     },
     "ef48b08d2ee6442f8578c964c951a70c": {
      "model_module": "@jupyter-widgets/controls",
      "model_module_version": "1.5.0",
      "model_name": "IntSliderModel",
      "state": {
       "description": "nt",
       "layout": "IPY_MODEL_a1faefb7a5c340adb19aa605584c532b",
       "max": 30,
       "min": 10,
       "step": 5,
       "style": "IPY_MODEL_5f41e23927f9476e901d6625ee91f64a",
       "value": 10
      }
     },
     "efe730029cef456da7de0f8a5cce7a3e": {
      "model_module": "@jupyter-widgets/base",
      "model_module_version": "1.2.0",
      "model_name": "LayoutModel",
      "state": {}
     },
     "eff93d3ffd0449a7a15143e370f8cc57": {
      "model_module": "@jupyter-widgets/base",
      "model_module_version": "1.2.0",
      "model_name": "LayoutModel",
      "state": {}
     },
     "f01e135a7d5d4079a6abc18bb0f4c263": {
      "model_module": "@jupyter-widgets/base",
      "model_module_version": "1.2.0",
      "model_name": "LayoutModel",
      "state": {}
     },
     "f0b0bdd8dfea494fb3967724ab77a03e": {
      "model_module": "@jupyter-widgets/controls",
      "model_module_version": "1.5.0",
      "model_name": "SliderStyleModel",
      "state": {
       "description_width": ""
      }
     },
     "f0dd75a9479d48fb9e64acac09d02359": {
      "model_module": "@jupyter-widgets/base",
      "model_module_version": "1.2.0",
      "model_name": "LayoutModel",
      "state": {}
     },
     "f163511ba43f4420a5110a46af6ef8b9": {
      "model_module": "@jupyter-widgets/controls",
      "model_module_version": "1.5.0",
      "model_name": "FloatSliderModel",
      "state": {
       "description": "tfmax",
       "layout": "IPY_MODEL_0d4d8e75c2a04a7bbb83089c158932af",
       "max": 1,
       "step": 0.1,
       "style": "IPY_MODEL_f7b72d5fdb9f41fea0eafab3f31bbec2"
      }
     },
     "f1cd73d6b4684207b0f12d8f8df1c7cb": {
      "model_module": "@jupyter-widgets/base",
      "model_module_version": "1.2.0",
      "model_name": "LayoutModel",
      "state": {}
     },
     "f1eb5931cdf8477f9d6092ddc93dc8d1": {
      "model_module": "@jupyter-widgets/controls",
      "model_module_version": "1.5.0",
      "model_name": "VBoxModel",
      "state": {
       "_dom_classes": [
        "widget-interact"
       ],
       "children": [
        "IPY_MODEL_0547f924f2e84fd5b41028a368dfeb61",
        "IPY_MODEL_7541fa3c04e34c85b24f72bd31a44314",
        "IPY_MODEL_c147ad6c4bfb47378f567239b2a72840",
        "IPY_MODEL_0bdc6fe830ee4a5189023e3e09cf225d"
       ],
       "layout": "IPY_MODEL_eadd32b98c2e4352b686385e6acb8825"
      }
     },
     "f26de6fa206d47e7a9d2f1486db5f2c9": {
      "model_module": "@jupyter-widgets/base",
      "model_module_version": "1.2.0",
      "model_name": "LayoutModel",
      "state": {}
     },
     "f47a9c41d12c4171a0f7117896355926": {
      "model_module": "@jupyter-widgets/base",
      "model_module_version": "1.2.0",
      "model_name": "LayoutModel",
      "state": {}
     },
     "f5320fd7605c4a24802cceea792820ac": {
      "model_module": "@jupyter-widgets/base",
      "model_module_version": "1.2.0",
      "model_name": "LayoutModel",
      "state": {}
     },
     "f563403e6d17485fa6bad5fcfb9d58bd": {
      "model_module": "@jupyter-widgets/base",
      "model_module_version": "1.2.0",
      "model_name": "LayoutModel",
      "state": {}
     },
     "f5b2b3e101c14c10975e3e9244942c95": {
      "model_module": "@jupyter-widgets/base",
      "model_module_version": "1.2.0",
      "model_name": "LayoutModel",
      "state": {}
     },
     "f5bce312c8fa41ba92a9ec886763cb1e": {
      "model_module": "@jupyter-widgets/base",
      "model_module_version": "1.2.0",
      "model_name": "LayoutModel",
      "state": {}
     },
     "f67bf14df5b44f249acc38bf996e9ae9": {
      "model_module": "@jupyter-widgets/base",
      "model_module_version": "1.2.0",
      "model_name": "LayoutModel",
      "state": {}
     },
     "f735dad63a68474f8f41cb68b72d615c": {
      "model_module": "@jupyter-widgets/controls",
      "model_module_version": "1.5.0",
      "model_name": "VBoxModel",
      "state": {
       "_dom_classes": [
        "widget-interact"
       ],
       "children": [
        "IPY_MODEL_a729922a97d446d48ac46a26e314f623",
        "IPY_MODEL_e3579287f1b94c0cba638a9874e229c5",
        "IPY_MODEL_71ad91a1cea54e1198f17a2a49069ab2",
        "IPY_MODEL_d2e131cb4b594b12b0d2106ee8d68bfc",
        "IPY_MODEL_589f56a4afb44ebf961d8e8f95eef805"
       ],
       "layout": "IPY_MODEL_d1845f0f4d3e4613b37f3ff40d579bf8"
      }
     },
     "f7b72d5fdb9f41fea0eafab3f31bbec2": {
      "model_module": "@jupyter-widgets/controls",
      "model_module_version": "1.5.0",
      "model_name": "SliderStyleModel",
      "state": {
       "description_width": ""
      }
     },
     "f857002df0d949db8832f8c02c18e62a": {
      "model_module": "@jupyter-widgets/controls",
      "model_module_version": "1.5.0",
      "model_name": "IntSliderModel",
      "state": {
       "description": "nt",
       "layout": "IPY_MODEL_d76d0baa268c4798b6e7668c9e9fde0a",
       "max": 30,
       "min": 10,
       "step": 5,
       "style": "IPY_MODEL_5d160ce6b69a4dc0917774d5e512d84c",
       "value": 10
      }
     },
     "f86d1c126a1b47b18cfcd14fade66338": {
      "model_module": "@jupyter-widgets/base",
      "model_module_version": "1.2.0",
      "model_name": "LayoutModel",
      "state": {}
     },
     "f955e265b43641ccbf996b0aeb08d168": {
      "model_module": "@jupyter-widgets/controls",
      "model_module_version": "1.5.0",
      "model_name": "FloatSliderModel",
      "state": {
       "description": "ip",
       "layout": "IPY_MODEL_23c7bbd77a1b423fa74e3a0b1b17df75",
       "max": 5,
       "step": 0.1,
       "style": "IPY_MODEL_3fbbc9efb13343fe8e569c54d55fc307"
      }
     },
     "fa51c89284b6470bafcf1719883880ea": {
      "model_module": "@jupyter-widgets/base",
      "model_module_version": "1.2.0",
      "model_name": "LayoutModel",
      "state": {}
     },
     "faa24ebad27c445bbd37167dbe5c5984": {
      "model_module": "@jupyter-widgets/controls",
      "model_module_version": "1.5.0",
      "model_name": "SliderStyleModel",
      "state": {
       "description_width": ""
      }
     },
     "faaa154f0ba9464fa6942e56d499863d": {
      "model_module": "@jupyter-widgets/base",
      "model_module_version": "1.2.0",
      "model_name": "LayoutModel",
      "state": {}
     },
     "fba5d43c4e8048fa9c9fdcb89cc42d8a": {
      "model_module": "@jupyter-widgets/base",
      "model_module_version": "1.2.0",
      "model_name": "LayoutModel",
      "state": {}
     },
     "fe1d625355b1400dbf40d2d397e374eb": {
      "model_module": "@jupyter-widgets/controls",
      "model_module_version": "1.5.0",
      "model_name": "SliderStyleModel",
      "state": {
       "description_width": ""
      }
     },
     "ffc244a5f24d450db34304a2456a07f7": {
      "model_module": "@jupyter-widgets/base",
      "model_module_version": "1.2.0",
      "model_name": "LayoutModel",
      "state": {}
     },
     "ffc823fdfa9a4d05adf4b45dce9173f5": {
      "model_module": "@jupyter-widgets/base",
      "model_module_version": "1.2.0",
      "model_name": "LayoutModel",
      "state": {}
     },
     "ffe66e19e9584bcda0e0c6e04c4fc983": {
      "model_module": "@jupyter-widgets/output",
      "model_module_version": "1.0.0",
      "model_name": "OutputModel",
      "state": {
       "layout": "IPY_MODEL_f26de6fa206d47e7a9d2f1486db5f2c9",
       "outputs": [
        {
         "name": "stdout",
         "output_type": "stream",
         "text": "Temperatura di fusione della forsterite: 2161.01 K\nTemperatura di fusione della fayalite: 1480.31 K\n"
        },
        {
         "data": {
          "application/javascript": "/* Put everything inside the global mpl namespace */\nwindow.mpl = {};\n\n\nmpl.get_websocket_type = function() {\n    if (typeof(WebSocket) !== 'undefined') {\n        return WebSocket;\n    } else if (typeof(MozWebSocket) !== 'undefined') {\n        return MozWebSocket;\n    } else {\n        alert('Your browser does not have WebSocket support. ' +\n              'Please try Chrome, Safari or Firefox ≥ 6. ' +\n              'Firefox 4 and 5 are also supported but you ' +\n              'have to enable WebSockets in about:config.');\n    };\n}\n\nmpl.figure = function(figure_id, websocket, ondownload, parent_element) {\n    this.id = figure_id;\n\n    this.ws = websocket;\n\n    this.supports_binary = (this.ws.binaryType != undefined);\n\n    if (!this.supports_binary) {\n        var warnings = document.getElementById(\"mpl-warnings\");\n        if (warnings) {\n            warnings.style.display = 'block';\n            warnings.textContent = (\n                \"This browser does not support binary websocket messages. \" +\n                    \"Performance may be slow.\");\n        }\n    }\n\n    this.imageObj = new Image();\n\n    this.context = undefined;\n    this.message = undefined;\n    this.canvas = undefined;\n    this.rubberband_canvas = undefined;\n    this.rubberband_context = undefined;\n    this.format_dropdown = undefined;\n\n    this.image_mode = 'full';\n\n    this.root = $('<div/>');\n    this._root_extra_style(this.root)\n    this.root.attr('style', 'display: inline-block');\n\n    $(parent_element).append(this.root);\n\n    this._init_header(this);\n    this._init_canvas(this);\n    this._init_toolbar(this);\n\n    var fig = this;\n\n    this.waiting = false;\n\n    this.ws.onopen =  function () {\n            fig.send_message(\"supports_binary\", {value: fig.supports_binary});\n            fig.send_message(\"send_image_mode\", {});\n            if (mpl.ratio != 1) {\n                fig.send_message(\"set_dpi_ratio\", {'dpi_ratio': mpl.ratio});\n            }\n            fig.send_message(\"refresh\", {});\n        }\n\n    this.imageObj.onload = function() {\n            if (fig.image_mode == 'full') {\n                // Full images could contain transparency (where diff images\n                // almost always do), so we need to clear the canvas so that\n                // there is no ghosting.\n                fig.context.clearRect(0, 0, fig.canvas.width, fig.canvas.height);\n            }\n            fig.context.drawImage(fig.imageObj, 0, 0);\n        };\n\n    this.imageObj.onunload = function() {\n        fig.ws.close();\n    }\n\n    this.ws.onmessage = this._make_on_message_function(this);\n\n    this.ondownload = ondownload;\n}\n\nmpl.figure.prototype._init_header = function() {\n    var titlebar = $(\n        '<div class=\"ui-dialog-titlebar ui-widget-header ui-corner-all ' +\n        'ui-helper-clearfix\"/>');\n    var titletext = $(\n        '<div class=\"ui-dialog-title\" style=\"width: 100%; ' +\n        'text-align: center; padding: 3px;\"/>');\n    titlebar.append(titletext)\n    this.root.append(titlebar);\n    this.header = titletext[0];\n}\n\n\n\nmpl.figure.prototype._canvas_extra_style = function(canvas_div) {\n\n}\n\n\nmpl.figure.prototype._root_extra_style = function(canvas_div) {\n\n}\n\nmpl.figure.prototype._init_canvas = function() {\n    var fig = this;\n\n    var canvas_div = $('<div/>');\n\n    canvas_div.attr('style', 'position: relative; clear: both; outline: 0');\n\n    function canvas_keyboard_event(event) {\n        return fig.key_event(event, event['data']);\n    }\n\n    canvas_div.keydown('key_press', canvas_keyboard_event);\n    canvas_div.keyup('key_release', canvas_keyboard_event);\n    this.canvas_div = canvas_div\n    this._canvas_extra_style(canvas_div)\n    this.root.append(canvas_div);\n\n    var canvas = $('<canvas/>');\n    canvas.addClass('mpl-canvas');\n    canvas.attr('style', \"left: 0; top: 0; z-index: 0; outline: 0\")\n\n    this.canvas = canvas[0];\n    this.context = canvas[0].getContext(\"2d\");\n\n    var backingStore = this.context.backingStorePixelRatio ||\n\tthis.context.webkitBackingStorePixelRatio ||\n\tthis.context.mozBackingStorePixelRatio ||\n\tthis.context.msBackingStorePixelRatio ||\n\tthis.context.oBackingStorePixelRatio ||\n\tthis.context.backingStorePixelRatio || 1;\n\n    mpl.ratio = (window.devicePixelRatio || 1) / backingStore;\n\n    var rubberband = $('<canvas/>');\n    rubberband.attr('style', \"position: absolute; left: 0; top: 0; z-index: 1;\")\n\n    var pass_mouse_events = true;\n\n    canvas_div.resizable({\n        start: function(event, ui) {\n            pass_mouse_events = false;\n        },\n        resize: function(event, ui) {\n            fig.request_resize(ui.size.width, ui.size.height);\n        },\n        stop: function(event, ui) {\n            pass_mouse_events = true;\n            fig.request_resize(ui.size.width, ui.size.height);\n        },\n    });\n\n    function mouse_event_fn(event) {\n        if (pass_mouse_events)\n            return fig.mouse_event(event, event['data']);\n    }\n\n    rubberband.mousedown('button_press', mouse_event_fn);\n    rubberband.mouseup('button_release', mouse_event_fn);\n    // Throttle sequential mouse events to 1 every 20ms.\n    rubberband.mousemove('motion_notify', mouse_event_fn);\n\n    rubberband.mouseenter('figure_enter', mouse_event_fn);\n    rubberband.mouseleave('figure_leave', mouse_event_fn);\n\n    canvas_div.on(\"wheel\", function (event) {\n        event = event.originalEvent;\n        event['data'] = 'scroll'\n        if (event.deltaY < 0) {\n            event.step = 1;\n        } else {\n            event.step = -1;\n        }\n        mouse_event_fn(event);\n    });\n\n    canvas_div.append(canvas);\n    canvas_div.append(rubberband);\n\n    this.rubberband = rubberband;\n    this.rubberband_canvas = rubberband[0];\n    this.rubberband_context = rubberband[0].getContext(\"2d\");\n    this.rubberband_context.strokeStyle = \"#000000\";\n\n    this._resize_canvas = function(width, height) {\n        // Keep the size of the canvas, canvas container, and rubber band\n        // canvas in synch.\n        canvas_div.css('width', width)\n        canvas_div.css('height', height)\n\n        canvas.attr('width', width * mpl.ratio);\n        canvas.attr('height', height * mpl.ratio);\n        canvas.attr('style', 'width: ' + width + 'px; height: ' + height + 'px;');\n\n        rubberband.attr('width', width);\n        rubberband.attr('height', height);\n    }\n\n    // Set the figure to an initial 600x600px, this will subsequently be updated\n    // upon first draw.\n    this._resize_canvas(600, 600);\n\n    // Disable right mouse context menu.\n    $(this.rubberband_canvas).bind(\"contextmenu\",function(e){\n        return false;\n    });\n\n    function set_focus () {\n        canvas.focus();\n        canvas_div.focus();\n    }\n\n    window.setTimeout(set_focus, 100);\n}\n\nmpl.figure.prototype._init_toolbar = function() {\n    var fig = this;\n\n    var nav_element = $('<div/>');\n    nav_element.attr('style', 'width: 100%');\n    this.root.append(nav_element);\n\n    // Define a callback function for later on.\n    function toolbar_event(event) {\n        return fig.toolbar_button_onclick(event['data']);\n    }\n    function toolbar_mouse_event(event) {\n        return fig.toolbar_button_onmouseover(event['data']);\n    }\n\n    for(var toolbar_ind in mpl.toolbar_items) {\n        var name = mpl.toolbar_items[toolbar_ind][0];\n        var tooltip = mpl.toolbar_items[toolbar_ind][1];\n        var image = mpl.toolbar_items[toolbar_ind][2];\n        var method_name = mpl.toolbar_items[toolbar_ind][3];\n\n        if (!name) {\n            // put a spacer in here.\n            continue;\n        }\n        var button = $('<button/>');\n        button.addClass('ui-button ui-widget ui-state-default ui-corner-all ' +\n                        'ui-button-icon-only');\n        button.attr('role', 'button');\n        button.attr('aria-disabled', 'false');\n        button.click(method_name, toolbar_event);\n        button.mouseover(tooltip, toolbar_mouse_event);\n\n        var icon_img = $('<span/>');\n        icon_img.addClass('ui-button-icon-primary ui-icon');\n        icon_img.addClass(image);\n        icon_img.addClass('ui-corner-all');\n\n        var tooltip_span = $('<span/>');\n        tooltip_span.addClass('ui-button-text');\n        tooltip_span.html(tooltip);\n\n        button.append(icon_img);\n        button.append(tooltip_span);\n\n        nav_element.append(button);\n    }\n\n    var fmt_picker_span = $('<span/>');\n\n    var fmt_picker = $('<select/>');\n    fmt_picker.addClass('mpl-toolbar-option ui-widget ui-widget-content');\n    fmt_picker_span.append(fmt_picker);\n    nav_element.append(fmt_picker_span);\n    this.format_dropdown = fmt_picker[0];\n\n    for (var ind in mpl.extensions) {\n        var fmt = mpl.extensions[ind];\n        var option = $(\n            '<option/>', {selected: fmt === mpl.default_extension}).html(fmt);\n        fmt_picker.append(option);\n    }\n\n    // Add hover states to the ui-buttons\n    $( \".ui-button\" ).hover(\n        function() { $(this).addClass(\"ui-state-hover\");},\n        function() { $(this).removeClass(\"ui-state-hover\");}\n    );\n\n    var status_bar = $('<span class=\"mpl-message\"/>');\n    nav_element.append(status_bar);\n    this.message = status_bar[0];\n}\n\nmpl.figure.prototype.request_resize = function(x_pixels, y_pixels) {\n    // Request matplotlib to resize the figure. Matplotlib will then trigger a resize in the client,\n    // which will in turn request a refresh of the image.\n    this.send_message('resize', {'width': x_pixels, 'height': y_pixels});\n}\n\nmpl.figure.prototype.send_message = function(type, properties) {\n    properties['type'] = type;\n    properties['figure_id'] = this.id;\n    this.ws.send(JSON.stringify(properties));\n}\n\nmpl.figure.prototype.send_draw_message = function() {\n    if (!this.waiting) {\n        this.waiting = true;\n        this.ws.send(JSON.stringify({type: \"draw\", figure_id: this.id}));\n    }\n}\n\n\nmpl.figure.prototype.handle_save = function(fig, msg) {\n    var format_dropdown = fig.format_dropdown;\n    var format = format_dropdown.options[format_dropdown.selectedIndex].value;\n    fig.ondownload(fig, format);\n}\n\n\nmpl.figure.prototype.handle_resize = function(fig, msg) {\n    var size = msg['size'];\n    if (size[0] != fig.canvas.width || size[1] != fig.canvas.height) {\n        fig._resize_canvas(size[0], size[1]);\n        fig.send_message(\"refresh\", {});\n    };\n}\n\nmpl.figure.prototype.handle_rubberband = function(fig, msg) {\n    var x0 = msg['x0'] / mpl.ratio;\n    var y0 = (fig.canvas.height - msg['y0']) / mpl.ratio;\n    var x1 = msg['x1'] / mpl.ratio;\n    var y1 = (fig.canvas.height - msg['y1']) / mpl.ratio;\n    x0 = Math.floor(x0) + 0.5;\n    y0 = Math.floor(y0) + 0.5;\n    x1 = Math.floor(x1) + 0.5;\n    y1 = Math.floor(y1) + 0.5;\n    var min_x = Math.min(x0, x1);\n    var min_y = Math.min(y0, y1);\n    var width = Math.abs(x1 - x0);\n    var height = Math.abs(y1 - y0);\n\n    fig.rubberband_context.clearRect(\n        0, 0, fig.canvas.width / mpl.ratio, fig.canvas.height / mpl.ratio);\n\n    fig.rubberband_context.strokeRect(min_x, min_y, width, height);\n}\n\nmpl.figure.prototype.handle_figure_label = function(fig, msg) {\n    // Updates the figure title.\n    fig.header.textContent = msg['label'];\n}\n\nmpl.figure.prototype.handle_cursor = function(fig, msg) {\n    var cursor = msg['cursor'];\n    switch(cursor)\n    {\n    case 0:\n        cursor = 'pointer';\n        break;\n    case 1:\n        cursor = 'default';\n        break;\n    case 2:\n        cursor = 'crosshair';\n        break;\n    case 3:\n        cursor = 'move';\n        break;\n    }\n    fig.rubberband_canvas.style.cursor = cursor;\n}\n\nmpl.figure.prototype.handle_message = function(fig, msg) {\n    fig.message.textContent = msg['message'];\n}\n\nmpl.figure.prototype.handle_draw = function(fig, msg) {\n    // Request the server to send over a new figure.\n    fig.send_draw_message();\n}\n\nmpl.figure.prototype.handle_image_mode = function(fig, msg) {\n    fig.image_mode = msg['mode'];\n}\n\nmpl.figure.prototype.updated_canvas_event = function() {\n    // Called whenever the canvas gets updated.\n    this.send_message(\"ack\", {});\n}\n\n// A function to construct a web socket function for onmessage handling.\n// Called in the figure constructor.\nmpl.figure.prototype._make_on_message_function = function(fig) {\n    return function socket_on_message(evt) {\n        if (evt.data instanceof Blob) {\n            /* FIXME: We get \"Resource interpreted as Image but\n             * transferred with MIME type text/plain:\" errors on\n             * Chrome.  But how to set the MIME type?  It doesn't seem\n             * to be part of the websocket stream */\n            evt.data.type = \"image/png\";\n\n            /* Free the memory for the previous frames */\n            if (fig.imageObj.src) {\n                (window.URL || window.webkitURL).revokeObjectURL(\n                    fig.imageObj.src);\n            }\n\n            fig.imageObj.src = (window.URL || window.webkitURL).createObjectURL(\n                evt.data);\n            fig.updated_canvas_event();\n            fig.waiting = false;\n            return;\n        }\n        else if (typeof evt.data === 'string' && evt.data.slice(0, 21) == \"data:image/png;base64\") {\n            fig.imageObj.src = evt.data;\n            fig.updated_canvas_event();\n            fig.waiting = false;\n            return;\n        }\n\n        var msg = JSON.parse(evt.data);\n        var msg_type = msg['type'];\n\n        // Call the  \"handle_{type}\" callback, which takes\n        // the figure and JSON message as its only arguments.\n        try {\n            var callback = fig[\"handle_\" + msg_type];\n        } catch (e) {\n            console.log(\"No handler for the '\" + msg_type + \"' message type: \", msg);\n            return;\n        }\n\n        if (callback) {\n            try {\n                // console.log(\"Handling '\" + msg_type + \"' message: \", msg);\n                callback(fig, msg);\n            } catch (e) {\n                console.log(\"Exception inside the 'handler_\" + msg_type + \"' callback:\", e, e.stack, msg);\n            }\n        }\n    };\n}\n\n// from http://stackoverflow.com/questions/1114465/getting-mouse-location-in-canvas\nmpl.findpos = function(e) {\n    //this section is from http://www.quirksmode.org/js/events_properties.html\n    var targ;\n    if (!e)\n        e = window.event;\n    if (e.target)\n        targ = e.target;\n    else if (e.srcElement)\n        targ = e.srcElement;\n    if (targ.nodeType == 3) // defeat Safari bug\n        targ = targ.parentNode;\n\n    // jQuery normalizes the pageX and pageY\n    // pageX,Y are the mouse positions relative to the document\n    // offset() returns the position of the element relative to the document\n    var x = e.pageX - $(targ).offset().left;\n    var y = e.pageY - $(targ).offset().top;\n\n    return {\"x\": x, \"y\": y};\n};\n\n/*\n * return a copy of an object with only non-object keys\n * we need this to avoid circular references\n * http://stackoverflow.com/a/24161582/3208463\n */\nfunction simpleKeys (original) {\n  return Object.keys(original).reduce(function (obj, key) {\n    if (typeof original[key] !== 'object')\n        obj[key] = original[key]\n    return obj;\n  }, {});\n}\n\nmpl.figure.prototype.mouse_event = function(event, name) {\n    var canvas_pos = mpl.findpos(event)\n\n    if (name === 'button_press')\n    {\n        this.canvas.focus();\n        this.canvas_div.focus();\n    }\n\n    var x = canvas_pos.x * mpl.ratio;\n    var y = canvas_pos.y * mpl.ratio;\n\n    this.send_message(name, {x: x, y: y, button: event.button,\n                             step: event.step,\n                             guiEvent: simpleKeys(event)});\n\n    /* This prevents the web browser from automatically changing to\n     * the text insertion cursor when the button is pressed.  We want\n     * to control all of the cursor setting manually through the\n     * 'cursor' event from matplotlib */\n    event.preventDefault();\n    return false;\n}\n\nmpl.figure.prototype._key_event_extra = function(event, name) {\n    // Handle any extra behaviour associated with a key event\n}\n\nmpl.figure.prototype.key_event = function(event, name) {\n\n    // Prevent repeat events\n    if (name == 'key_press')\n    {\n        if (event.which === this._key)\n            return;\n        else\n            this._key = event.which;\n    }\n    if (name == 'key_release')\n        this._key = null;\n\n    var value = '';\n    if (event.ctrlKey && event.which != 17)\n        value += \"ctrl+\";\n    if (event.altKey && event.which != 18)\n        value += \"alt+\";\n    if (event.shiftKey && event.which != 16)\n        value += \"shift+\";\n\n    value += 'k';\n    value += event.which.toString();\n\n    this._key_event_extra(event, name);\n\n    this.send_message(name, {key: value,\n                             guiEvent: simpleKeys(event)});\n    return false;\n}\n\nmpl.figure.prototype.toolbar_button_onclick = function(name) {\n    if (name == 'download') {\n        this.handle_save(this, null);\n    } else {\n        this.send_message(\"toolbar_button\", {name: name});\n    }\n};\n\nmpl.figure.prototype.toolbar_button_onmouseover = function(tooltip) {\n    this.message.textContent = tooltip;\n};\nmpl.toolbar_items = [[\"Home\", \"Reset original view\", \"fa fa-home icon-home\", \"home\"], [\"Back\", \"Back to previous view\", \"fa fa-arrow-left icon-arrow-left\", \"back\"], [\"Forward\", \"Forward to next view\", \"fa fa-arrow-right icon-arrow-right\", \"forward\"], [\"\", \"\", \"\", \"\"], [\"Pan\", \"Pan axes with left mouse, zoom with right\", \"fa fa-arrows icon-move\", \"pan\"], [\"Zoom\", \"Zoom to rectangle\", \"fa fa-square-o icon-check-empty\", \"zoom\"], [\"\", \"\", \"\", \"\"], [\"Download\", \"Download plot\", \"fa fa-floppy-o icon-save\", \"download\"]];\n\nmpl.extensions = [\"eps\", \"jpeg\", \"pdf\", \"png\", \"ps\", \"raw\", \"svg\", \"tif\"];\n\nmpl.default_extension = \"png\";var comm_websocket_adapter = function(comm) {\n    // Create a \"websocket\"-like object which calls the given IPython comm\n    // object with the appropriate methods. Currently this is a non binary\n    // socket, so there is still some room for performance tuning.\n    var ws = {};\n\n    ws.close = function() {\n        comm.close()\n    };\n    ws.send = function(m) {\n        //console.log('sending', m);\n        comm.send(m);\n    };\n    // Register the callback with on_msg.\n    comm.on_msg(function(msg) {\n        //console.log('receiving', msg['content']['data'], msg);\n        // Pass the mpl event to the overridden (by mpl) onmessage function.\n        ws.onmessage(msg['content']['data'])\n    });\n    return ws;\n}\n\nmpl.mpl_figure_comm = function(comm, msg) {\n    // This is the function which gets called when the mpl process\n    // starts-up an IPython Comm through the \"matplotlib\" channel.\n\n    var id = msg.content.data.id;\n    // Get hold of the div created by the display call when the Comm\n    // socket was opened in Python.\n    var element = $(\"#\" + id);\n    var ws_proxy = comm_websocket_adapter(comm)\n\n    function ondownload(figure, format) {\n        window.open(figure.imageObj.src);\n    }\n\n    var fig = new mpl.figure(id, ws_proxy,\n                           ondownload,\n                           element.get(0));\n\n    // Call onopen now - mpl needs it, as it is assuming we've passed it a real\n    // web socket which is closed, not our websocket->open comm proxy.\n    ws_proxy.onopen();\n\n    fig.parent_element = element.get(0);\n    fig.cell_info = mpl.find_output_cell(\"<div id='\" + id + \"'></div>\");\n    if (!fig.cell_info) {\n        console.error(\"Failed to find cell for figure\", id, fig);\n        return;\n    }\n\n    var output_index = fig.cell_info[2]\n    var cell = fig.cell_info[0];\n\n};\n\nmpl.figure.prototype.handle_close = function(fig, msg) {\n    var width = fig.canvas.width/mpl.ratio\n    fig.root.unbind('remove')\n\n    // Update the output cell to use the data from the current canvas.\n    fig.push_to_output();\n    var dataURL = fig.canvas.toDataURL();\n    // Re-enable the keyboard manager in IPython - without this line, in FF,\n    // the notebook keyboard shortcuts fail.\n    IPython.keyboard_manager.enable()\n    $(fig.parent_element).html('<img src=\"' + dataURL + '\" width=\"' + width + '\">');\n    fig.close_ws(fig, msg);\n}\n\nmpl.figure.prototype.close_ws = function(fig, msg){\n    fig.send_message('closing', msg);\n    // fig.ws.close()\n}\n\nmpl.figure.prototype.push_to_output = function(remove_interactive) {\n    // Turn the data on the canvas into data in the output cell.\n    var width = this.canvas.width/mpl.ratio\n    var dataURL = this.canvas.toDataURL();\n    this.cell_info[1]['text/html'] = '<img src=\"' + dataURL + '\" width=\"' + width + '\">';\n}\n\nmpl.figure.prototype.updated_canvas_event = function() {\n    // Tell IPython that the notebook contents must change.\n    IPython.notebook.set_dirty(true);\n    this.send_message(\"ack\", {});\n    var fig = this;\n    // Wait a second, then push the new image to the DOM so\n    // that it is saved nicely (might be nice to debounce this).\n    setTimeout(function () { fig.push_to_output() }, 1000);\n}\n\nmpl.figure.prototype._init_toolbar = function() {\n    var fig = this;\n\n    var nav_element = $('<div/>');\n    nav_element.attr('style', 'width: 100%');\n    this.root.append(nav_element);\n\n    // Define a callback function for later on.\n    function toolbar_event(event) {\n        return fig.toolbar_button_onclick(event['data']);\n    }\n    function toolbar_mouse_event(event) {\n        return fig.toolbar_button_onmouseover(event['data']);\n    }\n\n    for(var toolbar_ind in mpl.toolbar_items){\n        var name = mpl.toolbar_items[toolbar_ind][0];\n        var tooltip = mpl.toolbar_items[toolbar_ind][1];\n        var image = mpl.toolbar_items[toolbar_ind][2];\n        var method_name = mpl.toolbar_items[toolbar_ind][3];\n\n        if (!name) { continue; };\n\n        var button = $('<button class=\"btn btn-default\" href=\"#\" title=\"' + name + '\"><i class=\"fa ' + image + ' fa-lg\"></i></button>');\n        button.click(method_name, toolbar_event);\n        button.mouseover(tooltip, toolbar_mouse_event);\n        nav_element.append(button);\n    }\n\n    // Add the status bar.\n    var status_bar = $('<span class=\"mpl-message\" style=\"text-align:right; float: right;\"/>');\n    nav_element.append(status_bar);\n    this.message = status_bar[0];\n\n    // Add the close button to the window.\n    var buttongrp = $('<div class=\"btn-group inline pull-right\"></div>');\n    var button = $('<button class=\"btn btn-mini btn-primary\" href=\"#\" title=\"Stop Interaction\"><i class=\"fa fa-power-off icon-remove icon-large\"></i></button>');\n    button.click(function (evt) { fig.handle_close(fig, {}); } );\n    button.mouseover('Stop Interaction', toolbar_mouse_event);\n    buttongrp.append(button);\n    var titlebar = this.root.find($('.ui-dialog-titlebar'));\n    titlebar.prepend(buttongrp);\n}\n\nmpl.figure.prototype._root_extra_style = function(el){\n    var fig = this\n    el.on(\"remove\", function(){\n\tfig.close_ws(fig, {});\n    });\n}\n\nmpl.figure.prototype._canvas_extra_style = function(el){\n    // this is important to make the div 'focusable\n    el.attr('tabindex', 0)\n    // reach out to IPython and tell the keyboard manager to turn it's self\n    // off when our div gets focus\n\n    // location in version 3\n    if (IPython.notebook.keyboard_manager) {\n        IPython.notebook.keyboard_manager.register_events(el);\n    }\n    else {\n        // location in version 2\n        IPython.keyboard_manager.register_events(el);\n    }\n\n}\n\nmpl.figure.prototype._key_event_extra = function(event, name) {\n    var manager = IPython.notebook.keyboard_manager;\n    if (!manager)\n        manager = IPython.keyboard_manager;\n\n    // Check for shift+enter\n    if (event.shiftKey && event.which == 13) {\n        this.canvas_div.blur();\n        // select the cell after this one\n        var index = IPython.notebook.find_cell_index(this.cell_info[0]);\n        IPython.notebook.select(index + 1);\n    }\n}\n\nmpl.figure.prototype.handle_save = function(fig, msg) {\n    fig.ondownload(fig, null);\n}\n\n\nmpl.find_output_cell = function(html_output) {\n    // Return the cell and output element which can be found *uniquely* in the notebook.\n    // Note - this is a bit hacky, but it is done because the \"notebook_saving.Notebook\"\n    // IPython event is triggered only after the cells have been serialised, which for\n    // our purposes (turning an active figure into a static one), is too late.\n    var cells = IPython.notebook.get_cells();\n    var ncells = cells.length;\n    for (var i=0; i<ncells; i++) {\n        var cell = cells[i];\n        if (cell.cell_type === 'code'){\n            for (var j=0; j<cell.output_area.outputs.length; j++) {\n                var data = cell.output_area.outputs[j];\n                if (data.data) {\n                    // IPython >= 3 moved mimebundle to data attribute of output\n                    data = data.data;\n                }\n                if (data['text/html'] == html_output) {\n                    return [cell, data, j];\n                }\n            }\n        }\n    }\n}\n\n// Register the function which deals with the matplotlib target/channel.\n// The kernel may be null if the page has been refreshed.\nif (IPython.notebook.kernel != null) {\n    IPython.notebook.kernel.comm_manager.register_target('matplotlib', mpl.mpl_figure_comm);\n}\n",
          "text/plain": "<IPython.core.display.Javascript object>"
         },
         "metadata": {},
         "output_type": "display_data"
        },
        {
         "data": {
          "text/html": "<div id='050268c5-7ea4-4116-9356-7ee847bb8271'></div>",
          "text/plain": "<IPython.core.display.HTML object>"
         },
         "metadata": {},
         "output_type": "display_data"
        },
        {
         "name": "stdout",
         "output_type": "stream",
         "text": "\n  T (K)   X(Mg)sol  X(Fe)sol  X(Mg)liq  X(Fe)liq\n 1480.31    0.00      1.00      0.00      1.00  \n 1528.94    0.23      0.77      0.03      0.97  \n 1577.56    0.41      0.59      0.06      0.94  \n 1626.18    0.54      0.46      0.09      0.91  \n 1674.80    0.64      0.36      0.13      0.87  \n 1723.42    0.72      0.28      0.17      0.83  \n 1772.04    0.78      0.22      0.22      0.78  \n 1820.66    0.83      0.17      0.28      0.72  \n 1869.28    0.87      0.13      0.34      0.66  \n 1917.91    0.90      0.10      0.42      0.58  \n 1966.53    0.93      0.07      0.50      0.50  \n 2015.15    0.95      0.05      0.60      0.40  \n 2063.77    0.97      0.03      0.72      0.28  \n 2112.39    0.99      0.01      0.85      0.15  \n 2161.01    1.00      0.00      1.00      0.00  \n"
        }
       ]
      }
     }
    },
    "version_major": 2,
    "version_minor": 0
   }
  }
 },
 "nbformat": 4,
 "nbformat_minor": 4
}
