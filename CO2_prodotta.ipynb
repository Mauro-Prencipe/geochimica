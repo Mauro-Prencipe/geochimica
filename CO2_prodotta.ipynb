{
 "cells": [
  {
   "cell_type": "markdown",
   "id": "90cdd24c",
   "metadata": {},
   "source": [
    "### Quantità  (in peso) di CO2 prodotta dalla combustione di un litro di benzina (ottano, C8H18)\n",
    "\n",
    "Dati:\n",
    "- densita'  dell'ottano (D): 0.703 kg/litro\n",
    "- Peso atomico carbonio (PC): 12 g/mole\n",
    "- Peso atomo idrogeno (PH): 1 g/mole\n",
    "- Peso atomico ossigeno (PO): 16 g/mole"
   ]
  },
  {
   "cell_type": "code",
   "execution_count": 6,
   "id": "a21a6ed4",
   "metadata": {},
   "outputs": [],
   "source": [
    "D=0.703\n",
    "PC=12\n",
    "PH=1\n",
    "PO=16"
   ]
  },
  {
   "cell_type": "code",
   "execution_count": 7,
   "id": "faa6a098",
   "metadata": {},
   "outputs": [],
   "source": [
    "# pesi molecolari C8H18 (PMO) e CO2 (PMC)\n",
    "\n",
    "PMO=8*PC+18*PH\n",
    "PMC=PC+2*PO"
   ]
  },
  {
   "cell_type": "markdown",
   "id": "af144b99",
   "metadata": {},
   "source": [
    "Reazione di combustione\n",
    "\n",
    "$$\\mathrm{2\\,C_8H_{18} + 25\\,O_2 \\longleftrightarrow 16\\,CO_2 + 18\\,H_2O}$$\n",
    "\n",
    "Quindi il rapporto $\\mathrm{C_8H_{18}\\,: CO_2}$ è $1:8$. Da 1 mole di ottano si ottengono 8 moli di biossido di carbonio "
   ]
  },
  {
   "cell_type": "code",
   "execution_count": 8,
   "id": "4561b3dc",
   "metadata": {},
   "outputs": [
    {
     "name": "stdout",
     "output_type": "stream",
     "text": [
      "\n",
      "Peso della CO2 prodotta da 1 litro di benzina: 2.17 kg\n",
      "\n"
     ]
    }
   ],
   "source": [
    "# In un litro di benzina ci sono 0.703 kg di ottano\n",
    "# Numero di moli in un litro:\n",
    "    \n",
    "n_ottano=D*1000/PMO\n",
    "\n",
    "# Da una mole di ottano si ottengono 8 moli di CO2:\n",
    "\n",
    "n_co2=8*n_ottano\n",
    "\n",
    "# Peso CO2 in kg:\n",
    "\n",
    "peso_co2=n_co2*PMC/1000\n",
    "\n",
    "print(\"\\nPeso della CO2 prodotta da 1 litro di benzina: %4.2f kg\\n\" % peso_co2)"
   ]
  },
  {
   "cell_type": "markdown",
   "id": "36452bac",
   "metadata": {},
   "source": [
    "### Costi di una *carbon tax*\n",
    "\n",
    "- Costo in euro della benzina al litro (CL): 1.856 €/l \n",
    "- Spesa di un pieno di benzina (CP): 45 €\n",
    "- Carbon tax (CT) pari a 60 $ per tonnellata di CO2 prodotta\n",
    "- Cambio euro/dollaro (cambio): 1.06 (1 euro pari a 1.06 dollari)"
   ]
  },
  {
   "cell_type": "code",
   "execution_count": 9,
   "id": "643b1bea",
   "metadata": {},
   "outputs": [],
   "source": [
    "CL=1.856\n",
    "CP=45\n",
    "cambio=1.06\n",
    "CT=60.0"
   ]
  },
  {
   "cell_type": "code",
   "execution_count": 10,
   "id": "400a8bae",
   "metadata": {},
   "outputs": [
    {
     "name": "stdout",
     "output_type": "stream",
     "text": [
      "CO2 prodotta dal pieno di benzina: 52.63 kg\n",
      "Carbon tax: 2.98 euro\n",
      "Spesa totale: 47.98 euro\n",
      "Percentuale tassa sul costo globale:  6.2%\n"
     ]
    }
   ],
   "source": [
    "# Carbon tax in euro\n",
    "CT=CT/cambio  \n",
    "\n",
    "# numero di litri in un pieno di benzina\n",
    "n_litri = CP/CL\n",
    "\n",
    "# CO2 prodotta\n",
    "tot_co2=n_litri*peso_co2\n",
    "\n",
    "# CO2 prodotta (tonnellate) \n",
    "tot_co2_t=tot_co2*1e-3 \n",
    "\n",
    "# tassa sulla CO2 prodotta da un pieno di benzina\n",
    "tassa=tot_co2_t*CT \n",
    "\n",
    "# spesa totale e percentuale tassa sul costo globale\n",
    "spesa_totale=CP+tassa\n",
    "percentuale=100*tassa/spesa_totale\n",
    "\n",
    "print(\"CO2 prodotta dal pieno di benzina: %4.2f kg\" % tot_co2)\n",
    "print(\"Carbon tax: %4.2f euro\" % tassa)\n",
    "print(\"Spesa totale: %4.2f euro\" % spesa_totale)\n",
    "print(\"Percentuale tassa sul costo globale: %4.1f%%\" % percentuale)"
   ]
  }
 ],
 "metadata": {
  "kernelspec": {
   "display_name": "Python 3 (ipykernel)",
   "language": "python",
   "name": "python3"
  },
  "language_info": {
   "codemirror_mode": {
    "name": "ipython",
    "version": 3
   },
   "file_extension": ".py",
   "mimetype": "text/x-python",
   "name": "python",
   "nbconvert_exporter": "python",
   "pygments_lexer": "ipython3",
   "version": "3.9.16"
  },
  "varInspector": {
   "cols": {
    "lenName": 16,
    "lenType": 16,
    "lenVar": 40
   },
   "kernels_config": {
    "python": {
     "delete_cmd_postfix": "",
     "delete_cmd_prefix": "del ",
     "library": "var_list.py",
     "varRefreshCmd": "print(var_dic_list())"
    },
    "r": {
     "delete_cmd_postfix": ") ",
     "delete_cmd_prefix": "rm(",
     "library": "var_list.r",
     "varRefreshCmd": "cat(var_dic_list()) "
    }
   },
   "types_to_exclude": [
    "module",
    "function",
    "builtin_function_or_method",
    "instance",
    "_Feature"
   ],
   "window_display": false
  }
 },
 "nbformat": 4,
 "nbformat_minor": 5
}
