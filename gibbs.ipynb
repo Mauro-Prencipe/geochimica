{
 "cells": [
  {
   "cell_type": "markdown",
   "metadata": {},
   "source": [
    "# Calcolo dell'energia libera di Gibbs del piropo, in funzione della temperatura e alla pressione di 1 bar\n",
    "\n",
    "Il programma è una modifica di quello che abbiamo già visto per il calcolo dell'entropia della stessa sostanza. Qui viene aggiunta una funzione per il calcolo dell'entalpia che sfrutta ancora i dati sul calore specifico, ricordando che, a pressione costante, $dH=C_P\\,dT$ e $dS=C_P/T\\,dT$. \n",
    "\n",
    "Come dato aggiuntivo abbiamo anche bisogno dell'entalpia di formazione del piropo dagli elementi, in condizioni standard ($H_0$).\n",
    "\n",
    "Tutti i dati preventivi necessari sono conservati nella variabile *reg* che è un'istanza della classe *fpar*:\n",
    "\n",
    "```\n",
    "class fpar():\n",
    "    def __init__(self):\n",
    "        self.flag=False       \n",
    "        self.ex=(0,1,-1,2, -2,0.5,-0.5)\n",
    "        self.size=len(self.ex)\n",
    "        self.par=np.ones(self.size)\n",
    "        self.h0=-6281969.575\n",
    "        self.s0=269.5\n",
    "        self.g0=self.h0-298.15*self.s0\n",
    "        self.minT=10.\n",
    "    def set(self,par):\n",
    "        self.par=par\n",
    "    def set_h0(self,h):\n",
    "        self.h0=h\n",
    "    def set_s0(self,s):\n",
    "        self.s0=s\n",
    "    def set_g0(self):\n",
    "        self.g0=self.h0-298.15*self.s0\n",
    "    def out(self):\n",
    "        print(\"Entalpia di formazione %12.2f J/mole\" % self.h0)\n",
    "        print(\"Entropia di stato standard %9.2f J/mole K\" % self.s0)\n",
    "        print(\"Energia libera di Gibbs di stato standard %9.2f J/mole\" %\\\n",
    "               self.g0)\n",
    "        print(\"\\nCoefficienti del polinomio che esprime Cp in funzione\")\n",
    "        print(\"di T, determinati per 'best fit' dai dati sperimentali\")\n",
    "        index=0\n",
    "        for ip in self.par:\n",
    "            print(\"parameter %i, value: %6.4e\" % (index, self.par[index]))\n",
    "            index=index+1\n",
    "```\n",
    "\n",
    "La variabile reg viene creata con\n",
    "\n",
    "```\n",
    "reg=fpar()\n",
    "```\n",
    "\n",
    "Una volta creata, *reg* contiene \n",
    "<ul>\n",
    "    <li>l'entalpia di formazione (reg.h0)</li> \n",
    "    <li>un valore di entropia di *letteratura* (reg.s0)</li>\n",
    "    <li>un valore di energia libera di formazione in condizioni standard (reg.g0=reg.h0-298.15*reg.s0)</li>\n",
    "    <li>una lista di parametri (inizializzati a 1) dei coefficienti che esprimono $C_P$ in funzione di <i>T</i> (parametri che             verranno successivamente ottimizzati, per best fit, dalla funzione <i>fit</i>)</li>  \n",
    "    <li>una lista di esponenti delle potenze di <i>T</i> che esprimono la funzione $C_P$: \n",
    "        <code>reg.ex=(0,1,-1,2, -2,0.5,-0.5)</code> che produrrà la funzione<br><br>\n",
    "        $$C_P=aT^0 + bT +cT^{-1} + dT^2 + eT^{-2} + fT^{0.5}+gT^{-0.5}$$\n",
    "        <br>\n",
    "        e i coefficienti a, b, c... sono quelli conservati nella lista reg.par\n",
    "</ul>\n",
    "\n",
    "La classe fpar (e quindi la sua istanza reg) comprende anche delle funzioni che consento di operare sui valori della variabili che conserva; per esempio \n",
    "\n",
    "```\n",
    "def set(self,par):\n",
    "        self.par=par\n",
    "```\n",
    "\n",
    "quando invocata con\n",
    "\n",
    "```\n",
    "reg.set(opt)\n",
    "```\n",
    "\n",
    "salva la lista *opt* nella variabile *reg.par*\n",
    "\n",
    "Queste funzioni definite nella classe *fpar* vengono chiamate *metodi* della classe. *reg.set* è dunque un metodo della classe *reg*, istanza della classe *fpar*.\n",
    "\n",
    "Ci si prenda il tempo necessario per studiarsi la classe *fpar*. Per approfondire l'argomento esiste moltissimo materiale in rete, anche in italiano. Per esempio, trovate [qui](https://docs.python.it/html/tut/node11.html) un testo esplicativo sula sintassi e sul funzionamento delle classi. Qualche nota di approfondimento è anche scritta qui, al termine di questo notebook.\n",
    "\n",
    "Lanciamo adesso il <i>magic command</i> ```%matplotlib inline``` per avere la grafica inline in questo notebook e \n",
    "```%run gibbs.py``` per lanciare il programma"
   ]
  },
  {
   "cell_type": "code",
   "execution_count": 1,
   "metadata": {},
   "outputs": [],
   "source": [
    "%matplotlib inline"
   ]
  },
  {
   "cell_type": "code",
   "execution_count": 1,
   "metadata": {},
   "outputs": [],
   "source": [
    "%run gibbs.py"
   ]
  },
  {
   "cell_type": "markdown",
   "metadata": {},
   "source": [
    "Visualizziamo i dati salvati in reg, con il metodo <code>out</code> di *reg*"
   ]
  },
  {
   "cell_type": "code",
   "execution_count": 2,
   "metadata": {},
   "outputs": [
    {
     "name": "stdout",
     "output_type": "stream",
     "text": [
      "Entalpia di formazione  -6281969.58 J/mole\n",
      "Entropia di stato standard    269.50 J/mole K\n",
      "Energia libera di Gibbs di stato standard -6362321.00 J/mole\n",
      "\n",
      "Coefficienti del polinomio che esprime Cp in funzione\n",
      "di T, determinati per 'best fit' dai dati sperimentali\n",
      "parameter 0, value: 1.0000e+00\n",
      "parameter 1, value: 1.0000e+00\n",
      "parameter 2, value: 1.0000e+00\n",
      "parameter 3, value: 1.0000e+00\n",
      "parameter 4, value: 1.0000e+00\n",
      "parameter 5, value: 1.0000e+00\n",
      "parameter 6, value: 1.0000e+00\n"
     ]
    }
   ],
   "source": [
    "reg.out()"
   ]
  },
  {
   "cell_type": "markdown",
   "metadata": {},
   "source": [
    "Le variabili conservate in *reg* possono anche essere visualizzate (usate e anche assegnate) direttamente, semplicemente *invocandole*; per esempio *reg.ex* sono gli esponenti della serie di potenze di *T* con cui si esprime *Cp(T)*:"
   ]
  },
  {
   "cell_type": "code",
   "execution_count": 4,
   "metadata": {},
   "outputs": [
    {
     "data": {
      "text/plain": [
       "(0, 1, -1, 2, -2, 0.5, -0.5)"
      ]
     },
     "execution_count": 4,
     "metadata": {},
     "output_type": "execute_result"
    }
   ],
   "source": [
    "reg.ex"
   ]
  },
  {
   "cell_type": "markdown",
   "metadata": {},
   "source": [
    "Per ottenere l'energia libera di Gibbs alla temperature *T* si può partire chiamando direttamente la funzione <code>gibbs</code>, specificando la temperatura e il parametro <code>prt=True</code> (default <code>prt=True</code>)\n",
    "\n",
    "```\n",
    "def gibbs(T,prt=False):\n",
    "    if not reg.flag:\n",
    "        print(\"Eseguo preventivamente la funzione start\")\n",
    "        start()\n",
    "    enth_T=entalpia(T)+reg.h0                   # Calcolo di H(T)\n",
    "    ent_T=entropia(T)                           # Calcolo di S(T)\n",
    "    gibbs_T=enth_T-T*ent_T                      # Calcolo di G(T)=H(T)-T*S(T)\n",
    "    DG=gibbs_T-reg.g0                           # Calcolo di Delta_G = G(T) - G0\n",
    "    if prt:\n",
    "        print(\"Delta G(T): %8.2f J/mole; T: %5.1f K\" % (DG,T))\n",
    "        return\n",
    "    return DG                                   # restituzione di Delta_G\n",
    "```\n",
    "\n",
    "Poichè la funzione è chiamata senza aver preventivamente chiamato la funzione <code>start</code>, che esegue il fit del $C_P(T)$ e calcola l'entropia di stato standard, <code>gibbs</code> chiama preventivamente <code>start</code>. Le successive chiamate di <code>gibbs</code> non necessitano più della chiamata <code>start</code>. Questo meccanismo è realizzato dalle tre righe di codice\n",
    "\n",
    "```\n",
    "    if not reg.flag:\n",
    "        print(\"Eseguo preventivamente la funzione start\")\n",
    "        start()\n",
    "```\n",
    "\n",
    "La variabile <code>reg.flag</code> è inizializzata a <code>False</code> all'inizio del programma; <code>not reg.flag</code> è dunque <code>True</code> e il codice scritto entro la condizione <code>if</code> è eseguito: viene chiamata la funzione <code>start</code> che, tra le altre cose, cambia il valore di <code>reg.flag</code> a <code>True</code>, in modo che la volta successiva l'espressione \n",
    "\n",
    "```not reg.flag=False``` \n",
    "\n",
    "sia <code>False</code> e il codice della condizione <code>if</code> non più eseguito.  \n",
    "\n",
    "La funzione *start* è:\n",
    "\n",
    "```\n",
    "def start():\n",
    "    reg.flag=True                       # switch di reg.flag a True\n",
    "    T=500                               # T max per il plot di Cp(T)\n",
    "    fit(prt=False)                      # best fit della funzione Cp sui dati sperimentali di Cp \n",
    "    check_cp()                          # plot di Cp(T)\n",
    "    plot_entropy(T)                     # calcolo dell'entropia e plot di S(T)\n",
    "    ent_st=entropia(298.15)             # entropia nello stato standard S0\n",
    "    reg.set_s0(ent_st)                  # assegnazione di S0 a alla variabile reg.s0, attraverso il metodo reg.set_s0\n",
    "    reg.set_g0()                        # assegnazione di G0 a reg.g0\n",
    "    print(\"\\nEntropia di stato standard: %6.2f J/mole K\" % ent_st)\n",
    "    print(\"Energia libera di stato standard: %9.2f J/mole\" % reg.g0)\n",
    "```"
   ]
  },
  {
   "cell_type": "code",
   "execution_count": 5,
   "metadata": {},
   "outputs": [
    {
     "name": "stdout",
     "output_type": "stream",
     "text": [
      "Eseguo preventivamente la funzione start\n"
     ]
    },
    {
     "data": {
      "image/png": "[encoded data removed]",
      "text/plain": [
       "<Figure size 432x288 with 1 Axes>"
      ]
     },
     "metadata": {
      "needs_background": "light"
     },
     "output_type": "display_data"
    },
    {
     "name": "stdout",
     "output_type": "stream",
     "text": [
      "\n",
      "      T   Cp_exp   Cp_fit  delta\n",
      "  20.00    0.862    0.855  0.007\n",
      "  40.00   11.054   11.192 -0.138\n",
      "  60.00   33.631   33.173  0.458\n",
      "  80.00   62.668   62.806 -0.138\n",
      " 100.00   94.270   94.818 -0.548\n",
      " 150.00  171.540  171.264  0.276\n",
      " 200.00  235.850  235.308  0.542\n",
      " 250.00  286.480  286.608 -0.128\n",
      " 298.15  325.310  325.887 -0.577\n",
      " 350.00  359.030  359.382 -0.352\n",
      " 400.00  385.800  385.022  0.778\n",
      " 500.00  422.800  422.980 -0.180\n"
     ]
    },
    {
     "data": {
      "image/png": "[encoded data removed]",
      "text/plain": [
       "<Figure size 432x288 with 1 Axes>"
      ]
     },
     "metadata": {
      "needs_background": "light"
     },
     "output_type": "display_data"
    },
    {
     "name": "stdout",
     "output_type": "stream",
     "text": [
      "\n",
      "Entropia di stato standard: 266.35 J/mole K\n",
      "Energia libera di stato standard: -6361381.52 J/mole\n",
      "Delta G(T): -74287.61 J/mole; T: 500.0 K\n"
     ]
    }
   ],
   "source": [
    "gibbs(500,prt=True)"
   ]
  },
  {
   "cell_type": "markdown",
   "metadata": {},
   "source": [
    "<code>start</code> esegue il fit di $C_P$, calcola l'entropia di stato standard $S_0$ e l'energia libera nello stato standard $G_0$, a partire dall'entalpia di *formazione* allo stato standard $H_0$ (contenuta nella variabile <code>reg.h0</code>): \n",
    "$$G_0=H_0 - T_0\\,S_0$$\n",
    "\n",
    "dove $T_0=298.15$. Attraverso i due integrali\n",
    "\n",
    "$$\\int_{H_0}^{H} dH = \\int_{T_0}^{T} C_PdT \\rightarrow H(T)=H_0 + \\int_{T_0}^{T} C_PdT$$\n",
    "\n",
    "e\n",
    "\n",
    "$$\\int_{0}^{S} dS = \\int_{0}^{T} \\frac{C_P}{T}dT \\rightarrow S(T)=\\int_{0}^{T} \\frac{C_P}{T}dT$$\n",
    "\n",
    "<br><br>\n",
    "viene quindi calcolata $G(T)=H(T)-TS(T)$ e restituito il valore $\\Delta G=G(T)-G_0$\n",
    "\n",
    "Poichè, a questo punto, la funzione *fit* è stata eseguita, se invochiamo il metodo *reg.out* visualizziamo le nuove variabili *reg.par* aggiornate (anche s0 e g0 sono aggiornate):"
   ]
  },
  {
   "cell_type": "code",
   "execution_count": 6,
   "metadata": {},
   "outputs": [
    {
     "name": "stdout",
     "output_type": "stream",
     "text": [
      "Entalpia di formazione  -6281969.58 J/mole\n",
      "Entropia di stato standard    266.35 J/mole K\n",
      "Energia libera di Gibbs di stato standard -6361381.52 J/mole\n",
      "\n",
      "Coefficienti del polinomio che esprime Cp in funzione\n",
      "di T, determinati per 'best fit' dai dati sperimentali\n",
      "parameter 0, value: -2.8925e+03\n",
      "parameter 1, value: -5.5659e+00\n",
      "parameter 2, value: -3.3466e+04\n",
      "parameter 3, value: 1.3063e-03\n",
      "parameter 4, value: 6.4400e+04\n",
      "parameter 5, value: 2.2991e+02\n",
      "parameter 6, value: 1.5600e+04\n"
     ]
    }
   ],
   "source": [
    "reg.out()"
   ]
  },
  {
   "cell_type": "markdown",
   "metadata": {},
   "source": [
    "La successiva chiamata di *gibbs* non esegue più alcun fit (perchè adesso ```reg.flag=True```):"
   ]
  },
  {
   "cell_type": "code",
   "execution_count": 7,
   "metadata": {},
   "outputs": [
    {
     "name": "stdout",
     "output_type": "stream",
     "text": [
      "True\n"
     ]
    }
   ],
   "source": [
    "print(reg.flag)"
   ]
  },
  {
   "cell_type": "code",
   "execution_count": 8,
   "metadata": {},
   "outputs": [
    {
     "name": "stdout",
     "output_type": "stream",
     "text": [
      "Delta G(T): -124481.00 J/mole; T: 600.0 K\n"
     ]
    }
   ],
   "source": [
    "gibbs(600,prt=True)"
   ]
  },
  {
   "cell_type": "markdown",
   "metadata": {},
   "source": [
    "Il plot della funzione $\\Delta G = G(T)-G_0$ in funzione di $T$ viene quindi effettuato chiamando la funzione *gibbs_plot* che ha codice:\n",
    "\n",
    "```\n",
    "def gibbs_plot(T):\n",
    "    if T < 298.15:\n",
    "        print(\"La temperatura deve essere superiore a 298.15 K\")\n",
    "        return\n",
    "    T_list=np.linspace(298.15, T, 50)             # T_list è una lista di 50 valori di temperatura da 50 a T K\n",
    "    gibbs_list=np.array([])                       # lista (array) gibbs_list inizialiazzata (vuota)\n",
    "    \n",
    "    for it in T_list:                             # ciclo su tutti i valori in T_list\n",
    "        ig=gibbs(it)                              # calcolo energia G alla temperatura \"it\"\n",
    "        gibbs_list=np.append(gibbs_list,ig)       # i valori di energia libera (ig) vengono salvati in gibbs_list\n",
    "        \n",
    "    plt.figure()                                  # sezione grafica\n",
    "    plt.plot(T_list,gibbs_list)\n",
    "    plt.xlabel(\"T (K)\")\n",
    "    plt.ylabel(\"Delta G (J/mole)\")\n",
    "    plt.title(\"Delta G = G(T) - G(298.15)\")\n",
    "    plt.show()\n",
    "```\n",
    "<br><br>\n",
    "Poniamo la T massima per cui fare il plot a 600 K:"
   ]
  },
  {
   "cell_type": "code",
   "execution_count": 9,
   "metadata": {},
   "outputs": [
    {
     "data": {
      "image/png": "[encoded data removed]",
      "text/plain": [
       "<Figure size 432x288 with 1 Axes>"
      ]
     },
     "metadata": {
      "needs_background": "light"
     },
     "output_type": "display_data"
    }
   ],
   "source": [
    "gibbs_plot(600)"
   ]
  },
  {
   "cell_type": "markdown",
   "metadata": {},
   "source": [
    "## Nota sulle variabili in python e sull'uso delle classi \n",
    "### (per chi voglia approfondire e imparare a programmare in python)\n",
    "\n",
    "<br><br>\n",
    "Nella scrittura di un programma python occorre fare attenzione all'assegnazione e all'uso che si fa delle variabili. Ogni variabile è definita in un certo contesto e può essere *vista* o *non vista* in altri contesti (funzioni) dello stesso programma. \n",
    "\n",
    "Come regola generale, una variabile definita e assegnata nel corpo principale del programma viene passata a tutte le funzioni definite nello stesso programma. Si veda in proposito il piccolo programma che segue    "
   ]
  },
  {
   "cell_type": "code",
   "execution_count": 10,
   "metadata": {},
   "outputs": [
    {
     "name": "stdout",
     "output_type": "stream",
     "text": [
      "Stampa iniziale di 'a': 10\n",
      "Stampa di 'a' all'interno della funzione: 10\n"
     ]
    }
   ],
   "source": [
    "a=10\n",
    "print(\"Stampa iniziale di 'a': %i\" % a)\n",
    "\n",
    "def fun():\n",
    "    print(\"Stampa di 'a' all'interno della funzione: %i\" % a)\n",
    "\n",
    "# chiamata alla funzione fun che stampa \"a\" a cui la funzione medesima può accedere\n",
    "fun()"
   ]
  },
  {
   "cell_type": "markdown",
   "metadata": {},
   "source": [
    "Modifichiamo adesso il programma in modo che venga definita, assegnata e usata una variabile *b* all'interno della funzione *fun*"
   ]
  },
  {
   "cell_type": "code",
   "execution_count": 11,
   "metadata": {},
   "outputs": [
    {
     "name": "stdout",
     "output_type": "stream",
     "text": [
      "Stampa iniziale di a: 10\n",
      "Stampa di 'a' all'interno della funzione: 10\n",
      "Stampa di 'b' e 'c=a+b': 5, 15\n"
     ]
    }
   ],
   "source": [
    "a=10\n",
    "print(\"Stampa iniziale di a: %i\" % a)\n",
    "\n",
    "def fun():\n",
    "    b=5\n",
    "    print(\"Stampa di 'a' all'interno della funzione: %i\" % a)\n",
    "    c=a+b\n",
    "    print(\"Stampa di 'b' e 'c=a+b': %i, %i\" % (b, c))\n",
    "\n",
    "# chiamata alla funzione fun che stampa \"a\" a cui la funzione medesima può accedere\n",
    "fun()\n"
   ]
  },
  {
   "cell_type": "markdown",
   "metadata": {},
   "source": [
    "Tuttavia, se proviamo a fare stampare la variabile *b*, con un <code>print(b)</code> al di fuori della funzione *fun* (e dopo che *fun* sia stata chiamata) otteniamo un errore: ```name 'b' is not defined```"
   ]
  },
  {
   "cell_type": "code",
   "execution_count": 12,
   "metadata": {},
   "outputs": [
    {
     "name": "stdout",
     "output_type": "stream",
     "text": [
      "Stampa iniziale di 'a': 10\n",
      "Stampa di 'a' all'interno della funzione: 10\n",
      "Stampa di 'b' e 'c=a+b': 5, 15\n"
     ]
    },
    {
     "ename": "NameError",
     "evalue": "name 'b' is not defined",
     "output_type": "error",
     "traceback": [
      "\u001b[1;31m---------------------------------------------------------------------------\u001b[0m",
      "\u001b[1;31mNameError\u001b[0m                                 Traceback (most recent call last)",
      "\u001b[1;32m<ipython-input-12-3a3569f630f1>\u001b[0m in \u001b[0;36m<module>\u001b[1;34m\u001b[0m\n\u001b[0;32m     10\u001b[0m \u001b[1;31m# chiamata alla funzione fun che stampa \"a\" a cui la funzione medesima può accedere\u001b[0m\u001b[1;33m\u001b[0m\u001b[1;33m\u001b[0m\u001b[1;33m\u001b[0m\u001b[0m\n\u001b[0;32m     11\u001b[0m \u001b[0mfun\u001b[0m\u001b[1;33m(\u001b[0m\u001b[1;33m)\u001b[0m\u001b[1;33m\u001b[0m\u001b[1;33m\u001b[0m\u001b[0m\n\u001b[1;32m---> 12\u001b[1;33m \u001b[0mprint\u001b[0m\u001b[1;33m(\u001b[0m\u001b[0mb\u001b[0m\u001b[1;33m)\u001b[0m\u001b[1;33m\u001b[0m\u001b[1;33m\u001b[0m\u001b[0m\n\u001b[0m",
      "\u001b[1;31mNameError\u001b[0m: name 'b' is not defined"
     ]
    }
   ],
   "source": [
    "a=10\n",
    "print(\"Stampa iniziale di 'a': %i\" % a)\n",
    "\n",
    "def fun():\n",
    "    b=5\n",
    "    print(\"Stampa di 'a' all'interno della funzione: %i\" % a)\n",
    "    c=a+b\n",
    "    print(\"Stampa di 'b' e 'c=a+b': %i, %i\" % (b, c))\n",
    "\n",
    "# chiamata alla funzione fun che stampa \"a\" a cui la funzione medesima può accedere\n",
    "fun()\n",
    "print(b)"
   ]
  },
  {
   "cell_type": "markdown",
   "metadata": {},
   "source": [
    "Questo perchè *b* è definita <em>localmente</em> all'interno della funzione *fun* e non è accessibile al di fuori di quella funzione.\n",
    "\n",
    "Interessante il comportamento che vediamo nel programmino seguente:"
   ]
  },
  {
   "cell_type": "code",
   "execution_count": 13,
   "metadata": {},
   "outputs": [
    {
     "name": "stdout",
     "output_type": "stream",
     "text": [
      "Stampa iniziale di 'a': 10\n",
      "Stampa di 'a' all'interno della funzione: 5\n",
      "Nuova stampa di 'a' al di fuori della funzione: 10\n"
     ]
    }
   ],
   "source": [
    "a=10\n",
    "print(\"Stampa iniziale di 'a': %i\" % a)\n",
    "\n",
    "def fun():\n",
    "    a=5\n",
    "    print(\"Stampa di 'a' all'interno della funzione: %i\" % a)\n",
    "    \n",
    "# chiamata alla funzione fun che stampa \"a\" a cui la funzione medesima può accedere\n",
    "fun()\n",
    "print(\"Nuova stampa di 'a' al di fuori della funzione: %i\" % a)"
   ]
  },
  {
   "cell_type": "markdown",
   "metadata": {},
   "source": [
    "Qui la variabile *a* è riassegnata nella funzione *fun* e stampata (valore 5); ma quando si esce da *fun*, e si richiede nuovamente il valore di *a*, si riottiene il valore originale (10). Questo perchè la variabile *a* definita nel programma principale (l'ambiente) non è la stessa variabile locale *a* definita all'interno di *fun* seppur abbia lo stesso nome; *a* globale e *a* locale sono in effetti due variabili distinte.  "
   ]
  },
  {
   "cell_type": "markdown",
   "metadata": {},
   "source": [
    "Se vogliamo modificare la variabile *a* in *fun* e conservarla anche al di fuori della funzione, dobbiamo definirla come <code>global</code> all'interno della funzione:"
   ]
  },
  {
   "cell_type": "code",
   "execution_count": 14,
   "metadata": {},
   "outputs": [
    {
     "name": "stdout",
     "output_type": "stream",
     "text": [
      "Stampa iniziale di 'a': 10\n",
      "Stampa di 'a' all'interno della funzione: 5\n",
      "Nuova stampa di 'a' al di fuori della funzione: 5\n",
      "Stampa di 'b' al di fuori della funzione: 20\n"
     ]
    }
   ],
   "source": [
    "a=10\n",
    "print(\"Stampa iniziale di 'a': %i\" % a)\n",
    "\n",
    "def fun():\n",
    "    global a, b\n",
    "    a=5\n",
    "    b=20\n",
    "    print(\"Stampa di 'a' all'interno della funzione: %i\" % a)\n",
    "    \n",
    "# chiamata alla funzione fun che stampa \"a\" a cui la funzione medesima può accedere\n",
    "fun()\n",
    "print(\"Nuova stampa di 'a' al di fuori della funzione: %i\" % a)\n",
    "print(\"Stampa di 'b' al di fuori della funzione: %i\" % b)"
   ]
  },
  {
   "cell_type": "markdown",
   "metadata": {},
   "source": [
    "Come vediamo, l'ultima stampa di *a* dopo l'esecuzione di *fun* ci dice che effettivamente la variabile è stata modificata. Non solo, ma definendo come global anche *b*, all'interno della funzione, il suo valore viene conservato e reso disponibile all'esterno della funzione medesima.\n",
    "\n",
    "Questo comportamento delle variabile va sotto il nome di *scoping*: lo *scope* di una variabile è l'ambiente entro il quale risulta definita: le variabili definite nell'ambiente principale hanno scoping globale, mentre quelle nelle funzioni hanno scoping locale e, in generale, non hanno nessuna connessione con quelle globali dell'ambiente esterno, anche se hanno (apparentemente) lo stesso nome. All'interno di una funzione, una variabile locale può essere resa globale usando esplicitamente la direttiva <code>global</code>"
   ]
  },
  {
   "cell_type": "markdown",
   "metadata": {},
   "source": [
    "Ora, tutti gli sviluppatori del linguaggio Python *sconsigliano* assolutamente di scrivere codice in cui ci siano funzioni che modifichino i valori di variabili globali! Questo perchè, in programmi lunghi, si perde molto rapidamente traccia di *chi modifica cosa*, diventa facile fare errori (*bug*) ed è difficile scovarli tutte le volte che questi programmi mostrano problemi. In un programma scritto *bene* non *dovrebbero* esserci direttive <code>global</code> all'interno delle funzioni.\n",
    "C'è anzi il rischio che ciò che sia oggi solo sconsigliato (*deprecated* nel gergo informatico) diventi *vietato* in successive release del sistema, per cui codice scritto oggi con pratiche *deprecated*, in futuro potrebbe non funzionare più negli ambienti *upgraded*. \n",
    "\n",
    "La soluzione esiste e sta nella definizione delle *classi*. Si esamini il codice seguente (e i commenti al suo interno):"
   ]
  },
  {
   "cell_type": "code",
   "execution_count": 15,
   "metadata": {},
   "outputs": [
    {
     "name": "stdout",
     "output_type": "stream",
     "text": [
      "Stampe iniziali delle variabili 'v.a' e 'w.a':\n",
      "La variabile vale 10\n",
      "La variabile vale 5\n",
      "\n",
      "Stampa della variabile 'v.a' all'interno della funzione\n",
      "La variabile vale 20\n",
      "\n",
      "Stampa di 'v.a' all'esterno della funzione (che l'ha modificata)\n",
      "La variabile vale 20\n"
     ]
    }
   ],
   "source": [
    "class var():\n",
    "    def __init__(self,vv):         # Inizializzazione della variabile 'a'\n",
    "        self.a=vv\n",
    "    def set_a(self,vv):            # metodo per modificare la variabile\n",
    "        self.a=vv\n",
    "    def print(self):               # metodo per stampare la variabile\n",
    "        print(\"La variabile vale %i\" % self.a)\n",
    "        \n",
    "v=var(10)                          # vengono create due istanze della classe var\n",
    "w=var(5)\n",
    "\n",
    "print(\"Stampe iniziali delle variabili 'v.a' e 'w.a':\")\n",
    "v.print()                          # Viene usato il metodo print delle due istanze v e w per\n",
    "w.print()                          # stampare le variabili corrispondenti v.a e w.a\n",
    "                                   # Si noti che, non solo v.a e w.a sono variabili diverse,\n",
    "                                   # ma diversi sono anche i metodi v.print e w.print\n",
    "        \n",
    "def fun():                         # semplice funzione che modifica v.a attraverso il metodo v.set_a\n",
    "    v.set_a(20)\n",
    "    print(\"\\nStampa della variabile 'v.a' all'interno della funzione\")\n",
    "    v.print()\n",
    "\n",
    "fun()                              # chiamata della funzione fun\n",
    "\n",
    "print(\"\\nStampa di 'v.a' all'esterno della funzione (che l'ha modificata)\")\n",
    "v.print()"
   ]
  },
  {
   "cell_type": "markdown",
   "metadata": {},
   "source": [
    "Come si vede, la funzione *fun*, usando il metodo *v.set_a*, è stata in grado di modificare *globalmente* il valore della variabile *v.a*, senza usare alcuna direttiva <code>global</code>.\n",
    "\n",
    "Da notare che le variabili delle classi si possono modificare direttamente senza passare dai metodi (come *set_a*), come fatto nel programmino che segue (che è una modifica del precedente) in cui *fun*, che accetta adesso anche un argomento *vv*, modifica direttamente *v.a* con un'assegnazione diretta <code>v.a=vv</code>."
   ]
  },
  {
   "cell_type": "code",
   "execution_count": 16,
   "metadata": {},
   "outputs": [
    {
     "name": "stdout",
     "output_type": "stream",
     "text": [
      "Stampe iniziali delle variabili 'v.a' e 'w.a':\n",
      "La variabile vale 10\n",
      "La variabile vale 5\n",
      "\n",
      "Stampa della variabile 'v.a' all'interno della funzione\n",
      "La variabile vale 20\n",
      "\n",
      "Stampa di 'v.a' all'esterno della funzione (che l'ha modificata)\n",
      "La variabile vale 20\n"
     ]
    }
   ],
   "source": [
    "class var():\n",
    "    def __init__(self,vv):         # Inizializzazione della variabile 'a'\n",
    "        self.a=vv\n",
    "    def set_a(self,vv):            # metodo per modificare la variabile\n",
    "        self.a=vv\n",
    "    def print(self):               # metodo per stampare la variabile\n",
    "        print(\"La variabile vale %i\" % self.a)\n",
    "        \n",
    "v=var(10)                          # vengono create due istanze della classe var\n",
    "w=var(5)\n",
    "\n",
    "print(\"Stampe iniziali delle variabili 'v.a' e 'w.a':\")\n",
    "v.print()                          # Viene usato il metodo print delle due istanze v e w per\n",
    "w.print()                          # stampare le variabili corrispondenti v.a e w.a\n",
    "                                   # Si noti che, non solo v.a e w.a sono variabili diverse,\n",
    "                                   # ma diversi sono anche i metodi v.print e w.print\n",
    "        \n",
    "def fun(vv):                       # semplice funzione che modifica v.a attraverso il metodo v.set_a\n",
    "    v.a=vv\n",
    "    print(\"\\nStampa della variabile 'v.a' all'interno della funzione\")\n",
    "    v.print()\n",
    "\n",
    "fun(20)                            # chiamata della funzione fun con argomento vv=20\n",
    "\n",
    "print(\"\\nStampa di 'v.a' all'esterno della funzione (che l'ha modificata)\")\n",
    "v.print()"
   ]
  },
  {
   "cell_type": "markdown",
   "metadata": {},
   "source": [
    "Questa pratica, per quanto sia possibile, viene pure *sconsigliata* (ma non come nel caso dell'uso di global), *caldeggiando* invece la definizione e l'uso di metodi appositi definiti all'interno della classe (*set_a*). Questa, in effetti, è la filosofia delle tecniche di programmazione ad oggetti in cui le classi vengono costruite per conservare dati e funzioni che possono accedere a quei dati: quelle stesse funzioni fanno da *interfaccia* per tutte le altre funzioni del programma che devono accedere a quegli stessi dati. In alcuni linguaggi come il C++, non è possibile accedere alle variabili delle classi senza passare dai metodi che fanno da interfaccia."
   ]
  }
 ],
 "metadata": {
  "kernelspec": {
   "display_name": "Python 3",
   "language": "python",
   "name": "python3"
  },
  "language_info": {
   "codemirror_mode": {
    "name": "ipython",
    "version": 3
   },
   "file_extension": ".py",
   "mimetype": "text/x-python",
   "name": "python",
   "nbconvert_exporter": "python",
   "pygments_lexer": "ipython3",
   "version": "3.8.5"
  }
 },
 "nbformat": 4,
 "nbformat_minor": 4
}
