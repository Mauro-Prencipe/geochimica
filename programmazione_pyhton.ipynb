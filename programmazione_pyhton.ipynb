{
 "cells": [
  {
   "cell_type": "markdown",
   "id": "f4d96594-61af-417a-b90b-af06e6c2ef03",
   "metadata": {},
   "source": [
    "# Elementi *minimali* di programmazione Python\n",
    "\n",
    "Utili per comprendere il materiale delle esercitazioni che consistono essenzialmente in calcoli eseguiti nell'ambiente Python\n",
    "\n",
    "Tipi di istruzioni Python, *grammatica* e *sintassi*:\n",
    "- istruzioni di *assegnazione*;\n",
    "- istruzioni *condizionali*;\n",
    "- esecuzione di *cicli*.\n",
    "\n",
    "\n",
    "### Assegnazioni\n",
    "\n",
    "Si tratta di assegnare *valori* a *variabili*; i valori possono essere:\n",
    "\n",
    "- numeri interi;\n",
    "- numeri decimali;\n",
    "- caratteri (o *stringhe*: sequenze di caratteri);\n",
    "- liste (di interi, decimali, stringhe o altre liste)."
   ]
  },
  {
   "cell_type": "code",
   "execution_count": 1,
   "id": "486faad2-8aae-404f-91ca-e12e58c6a714",
   "metadata": {},
   "outputs": [
    {
     "name": "stdout",
     "output_type": "stream",
     "text": [
      "2 + 3 = 5\n"
     ]
    }
   ],
   "source": [
    "a = 2  # assegnazione alla variabile a\n",
    "b = 3  # assegnazione alla variabile b\n",
    "c=a+b  # somma dei valori contenuti nelle due variabili a e b,  \n",
    "       # con risultato assegnato alla variabile c\n",
    "print(\"%i + %i = %i\" % (a, b, c))  # Stampa del risultato con una istruzione di print\n",
    "                                   # formattato"
   ]
  },
  {
   "cell_type": "markdown",
   "id": "deddc478-56ba-4d2d-a9e9-651783508f69",
   "metadata": {},
   "source": [
    "Assegnazione di variabili *carattere* e somma di *caratteri*"
   ]
  },
  {
   "cell_type": "code",
   "execution_count": 2,
   "id": "d55dae02-830b-441a-a55b-0b55f36a9b7c",
   "metadata": {},
   "outputs": [
    {
     "name": "stdout",
     "output_type": "stream",
     "text": [
      "Somma delle stringhe 1 e 2 = 12\n"
     ]
    }
   ],
   "source": [
    "a='1'\n",
    "b='2'\n",
    "\n",
    "c=a+b\n",
    "print(\"Somma delle stringhe %s e %s = %s\" % (a, b, c)) "
   ]
  },
  {
   "cell_type": "markdown",
   "id": "b5297981-b26f-4c49-85b4-d5b88fb3675b",
   "metadata": {},
   "source": [
    "Riassegnazioni"
   ]
  },
  {
   "cell_type": "code",
   "execution_count": 3,
   "id": "ddc898d7-6b6d-4e53-bb9d-979e08ac7025",
   "metadata": {},
   "outputs": [
    {
     "name": "stdout",
     "output_type": "stream",
     "text": [
      "2\n"
     ]
    }
   ],
   "source": [
    "a=1       # assegnazione del valore 1 alla variabile a\n",
    "a=a+1     # riassegnazione ad a del valore a+1\n",
    "print(a)"
   ]
  },
  {
   "cell_type": "markdown",
   "id": "4aebec94-748a-48bf-9f0a-56b2cf3d3b61",
   "metadata": {},
   "source": [
    "### Liste"
   ]
  },
  {
   "cell_type": "code",
   "execution_count": 4,
   "id": "7e9424ba-9646-40c1-b439-d47eb64ab20c",
   "metadata": {},
   "outputs": [
    {
     "name": "stdout",
     "output_type": "stream",
     "text": [
      "Lunghezza della lista: 5\n"
     ]
    }
   ],
   "source": [
    "a=[1,2,3,4,5]  # assegnazione di una lista alla variabile a\n",
    "\n",
    "a_size=len(a)  # numero di elementi della lista\n",
    "print(\"Lunghezza della lista: %i\" % a_size)"
   ]
  },
  {
   "cell_type": "markdown",
   "id": "a609a9b1-1a86-4581-aeeb-94fda00e04f0",
   "metadata": {},
   "source": [
    "Gli elementi della lista *a* sono accessibili attraverso il numero intero che rappresenta la loro posizione all'interno della lista, a partire dal numero 0 (*indice* del primo elemento della lista)\n",
    "\n",
    "`a[j]`\n",
    "\n",
    "identifica l'elemento di indice *j* nella lista *a*"
   ]
  },
  {
   "cell_type": "code",
   "execution_count": 5,
   "id": "e0819e0c-a2de-4aef-8d8b-100a4106c0f6",
   "metadata": {},
   "outputs": [
    {
     "name": "stdout",
     "output_type": "stream",
     "text": [
      "Elementi della lista:\n",
      "1 2 3 4 5\n"
     ]
    }
   ],
   "source": [
    "print(\"Elementi della lista:\")\n",
    "print(a[0], a[1], a[2], a[3], a[4])"
   ]
  },
  {
   "cell_type": "markdown",
   "id": "8ddd6e89-15e8-464d-a0b5-4eefaf8bca10",
   "metadata": {},
   "source": [
    "#### Liste speciali"
   ]
  },
  {
   "cell_type": "code",
   "execution_count": 6,
   "id": "0984ae0d-86bf-44a6-86df-72814127eb3f",
   "metadata": {},
   "outputs": [
    {
     "name": "stdout",
     "output_type": "stream",
     "text": [
      "[0, 1, 2, 3, 4, 5, 6, 7, 8, 9]\n"
     ]
    }
   ],
   "source": [
    "a_list=range(10)     # definizione di un generatore della lista dei dieci numeri interi\n",
    "                     # compresi tra 0 e 9\n",
    "a_list=list(a_list)  # riassegnazione della variabile a_list con la lista effettivamente\n",
    "                     # generata dal generatore precedente (a_list)\n",
    "print(a_list)        # stampa della lista"
   ]
  },
  {
   "cell_type": "markdown",
   "id": "e92f54fe-5a79-4f18-b3e4-6d4a8a8082ff",
   "metadata": {},
   "source": [
    "#### Slicing\n",
    "\n",
    "Selezione di elementi di una lista"
   ]
  },
  {
   "cell_type": "code",
   "execution_count": 7,
   "id": "11b16c5d-7ed2-486f-a61f-7562de5c2689",
   "metadata": {},
   "outputs": [
    {
     "name": "stdout",
     "output_type": "stream",
     "text": [
      "a_list:  [10, 11, 12, 13, 14, 15, 16, 17, 18, 19]\n",
      "b_list:  [12, 13, 14, 15, 16, 17]\n",
      "c_list:  [10, 12, 14, 16, 18]\n",
      "d_list:  [11, 13, 15, 17, 19]\n"
     ]
    }
   ],
   "source": [
    "a_list=list(range(10,20))   # generazione di una lista di interi da 10 a 19\n",
    "\n",
    "b_list=a_list[2:8]          # selezione degli elementi della lista, dalla posizione 2 alla 7\n",
    "c_list=a_list[::2]          # selezione degli elementi dalla prima posizione all'ultima,\n",
    "                            # con 'passo' 2\n",
    "d_list=a_list[1::2]         # selezione degli elementi dalla posizione 1 (secondo\n",
    "                            # elemento della lista) fino all'ultimo, con passo 2\n",
    "\n",
    "print(\"a_list: \", a_list)\n",
    "print(\"b_list: \", b_list)\n",
    "print(\"c_list: \", c_list)\n",
    "print(\"d_list: \", d_list)"
   ]
  },
  {
   "cell_type": "markdown",
   "id": "78ad8a0b-e83a-4903-af9e-e2a58ad0f02d",
   "metadata": {},
   "source": [
    "#### Libreria *numpy* e *array* "
   ]
  },
  {
   "cell_type": "code",
   "execution_count": 8,
   "id": "49883ad9-dc25-48b9-85ad-45ff83fd5570",
   "metadata": {},
   "outputs": [
    {
     "name": "stdout",
     "output_type": "stream",
     "text": [
      "[-1.         -0.77777778 -0.55555556 -0.33333333 -0.11111111  0.11111111\n",
      "  0.33333333  0.55555556  0.77777778  1.        ]\n"
     ]
    }
   ],
   "source": [
    "import numpy as np             # importazione della libreria numpy (con alias np)\n",
    "\n",
    "x_list=np.linspace(-1, 1, 10)  # creazione di un array di 10 numeri decimali compresi tra -1 e 1 \n",
    "\n",
    "print(x_list)                  # stampa dell'array"
   ]
  },
  {
   "cell_type": "markdown",
   "id": "84967358-2071-462b-99ae-92348d4a7978",
   "metadata": {},
   "source": [
    "#### Uso degli array nella costuzione del grafico di una funzione\n",
    "\n",
    "Si vuole di seguito tracciare il grafico della funzione\n",
    "\n",
    "$$y = x^3 - 0.5x^2 -x +2$$\n",
    "\n",
    "nell'intervallo \\[-1, 1\\] (funzione calcolata in 100 punti). \n",
    "\n",
    "Ottenuti gli array *x_list* e *y_list*, si usano le funzioni della libreria grafica *matplotlib.pyplot* per effettuare il grafico"
   ]
  },
  {
   "cell_type": "code",
   "execution_count": 9,
   "id": "0e7be583-40f2-430b-92ad-994c8ecbabbc",
   "metadata": {},
   "outputs": [
    {
     "data": {
      "image/png": "[encoded data removed]",
      "text/plain": [
       "<Figure size 400x300 with 1 Axes>"
      ]
     },
     "metadata": {},
     "output_type": "display_data"
    }
   ],
   "source": [
    "import matplotlib.pyplot as plt\n",
    "\n",
    "x_list=np.linspace(-1,1,100)\n",
    "y_list=x_list**3 - 0.5*x_list**2 - x_list + 2\n",
    "\n",
    "plt.figure(figsize=(4,3))\n",
    "plt.plot(x_list, y_list, \"b-\")\n",
    "plt.xlabel(\"X\")\n",
    "plt.ylabel(\"Y\")\n",
    "plt.show()"
   ]
  },
  {
   "cell_type": "markdown",
   "id": "178fba35-ee4b-4276-bdd7-0ccdabdc226f",
   "metadata": {},
   "source": [
    "### Istruzioni condizionali\n",
    "\n",
    "Costrutto `IF/ELIF/ELSE`\n",
    "\n",
    "```\n",
    "if test_1:\n",
    "   se test_1 è superato, esegui istruzione_1\n",
    "elif test_2:\n",
    "   se test_1 non è superato e test_2 è superato, esegui istruzione_2\n",
    "else:\n",
    "   se test_1 e test_2 non sono superati, esegui istruzione_3 \n",
    "```\n",
    "\n",
    "*test_1*, *test_2* e *test_3* sono variabili *booleane* che possono assumere solo i due valori *vero* (*True*) e *falso* (*False*)"
   ]
  },
  {
   "cell_type": "code",
   "execution_count": 10,
   "id": "89b7a841-486f-4431-8dfb-2c916c344b50",
   "metadata": {},
   "outputs": [
    {
     "name": "stdout",
     "output_type": "stream",
     "text": [
      "Il valore di a è minore di 2\n"
     ]
    }
   ],
   "source": [
    "a = 1\n",
    "\n",
    "if a > 2:\n",
    "    print(\"Il valore di a è maggiore di 2\")\n",
    "elif a == 2:\n",
    "    print(\"Il valore di a è uguale a 2\")\n",
    "else:\n",
    "    print(\"Il valore di a è minore di 2\")"
   ]
  },
  {
   "cell_type": "markdown",
   "id": "ab39dc7c-9146-4d13-b88e-b94673449abe",
   "metadata": {},
   "source": [
    "Nella cella sopra si confronta per esempio il valore di *a* (assegnato a 1) con il numero 2, per cui è falso che  `a > 2`   "
   ]
  },
  {
   "cell_type": "code",
   "execution_count": 11,
   "id": "cb514e4f-8eed-4b6d-809f-83a91724e346",
   "metadata": {},
   "outputs": [
    {
     "name": "stdout",
     "output_type": "stream",
     "text": [
      "test_1:  False\n"
     ]
    }
   ],
   "source": [
    "test_1 = a > 2\n",
    "print(\"test_1: \", test_1)"
   ]
  },
  {
   "cell_type": "markdown",
   "id": "1bb2fb58-c31a-447c-9ba9-e2168dd4235a",
   "metadata": {},
   "source": [
    "La presenza di `elif` e `else` è opzionale"
   ]
  },
  {
   "cell_type": "markdown",
   "id": "49ce3569-0143-4051-aa19-b34a47e43d9e",
   "metadata": {},
   "source": [
    "### Cicli\n",
    "\n",
    "Esecuzione di una o più operazioni, ripetute più volte, all'interno di un *ciclo*.\n",
    "\n",
    "```\n",
    "for iv in v_list:\n",
    "    esegui istruzione\n",
    "```\n",
    "dove *iv* è la variabile del ciclo che assume, ad ogni ciclo, i diversi valori contenuti nella lista *v_list*. "
   ]
  },
  {
   "cell_type": "code",
   "execution_count": 12,
   "id": "8ff5e827-c092-4112-bbb8-18f5f60a5e91",
   "metadata": {},
   "outputs": [
    {
     "name": "stdout",
     "output_type": "stream",
     "text": [
      "10 * 2 = 20\n",
      "20 * 2 = 40\n",
      "30 * 2 = 60\n",
      "40 * 2 = 80\n"
     ]
    }
   ],
   "source": [
    "a_list=[10,20,30,40]\n",
    "\n",
    "for ia in a_list:\n",
    "    ib=ia*2\n",
    "    print(\"%i * 2 = %i\"  % (ia, ib))"
   ]
  },
  {
   "cell_type": "markdown",
   "id": "b964327e-95dc-4193-98a8-6ffc821f6b8b",
   "metadata": {},
   "source": [
    "Alternativamente al costrutto precedente, si possono usare gli indici degli elementi della lista *a_list*:"
   ]
  },
  {
   "cell_type": "code",
   "execution_count": 13,
   "id": "698f9746-283a-4133-b3c2-fa554b0171b6",
   "metadata": {},
   "outputs": [
    {
     "name": "stdout",
     "output_type": "stream",
     "text": [
      "1)   10 * 2 = 20\n",
      "2)   20 * 2 = 40\n",
      "3)   30 * 2 = 60\n",
      "4)   40 * 2 = 80\n"
     ]
    }
   ],
   "source": [
    "a_size=len(a_list)\n",
    "\n",
    "for ia in range(a_size):\n",
    "    ib=a_list[ia]*2\n",
    "    print(\"%i)   %i * 2 = %i\"  % (ia+1, a_list[ia], ib))"
   ]
  },
  {
   "cell_type": "markdown",
   "id": "d253903d-d0ef-4100-a714-5c07a60e3c6a",
   "metadata": {},
   "source": [
    "Esempio: estrazione dei multipli di 4 nell'intervallo 1-40"
   ]
  },
  {
   "cell_type": "code",
   "execution_count": 14,
   "id": "06ab269f-1405-4d9b-80d7-a01f52564d11",
   "metadata": {},
   "outputs": [
    {
     "name": "stdout",
     "output_type": "stream",
     "text": [
      "[4, 8, 12, 16, 20, 24, 28, 32, 36, 40]\n"
     ]
    }
   ],
   "source": [
    "num=4                            # numero scelto (4)\n",
    "a_list=list(range(1, num*10+1))  # generazione di una lista di interi (tra 1 e 40) \n",
    "\n",
    "b_list=[]                        # inizializzazione di una lista vuota (b_list)\n",
    "\n",
    "for ia in a_list:                # ciclo su tutti gli elementi di a_list\n",
    "    if ia%num == 0:              # resto della divisione per 4: se zero allora\n",
    "       b_list.append(ia)         # metti il numero nella lista b_list\n",
    "\n",
    "print(b_list)"
   ]
  },
  {
   "cell_type": "markdown",
   "id": "d87e3a36-893e-43fb-ae83-a606c08c4b2a",
   "metadata": {},
   "source": [
    "## Funzioni\n",
    "\n",
    "Definizione di *funzioni* per calcoli specifici.\n",
    "\n",
    "```\n",
    "def nome_funzione(argomento/i funzione):\n",
    "    corpo della funzione\n",
    "    restituzione di un risultato\n",
    "```"
   ]
  },
  {
   "cell_type": "code",
   "execution_count": 15,
   "id": "5006d0ce-84e8-45cd-9b85-4397b6bbf640",
   "metadata": {},
   "outputs": [],
   "source": [
    "# Definizione della funzione 'square' che \n",
    "# restituisce il quadrato di un numero.\n",
    "#\n",
    "# L'argomento della funzione è rappresentato dalla\n",
    "# variabile x; la variabile y è il quadrato di x.\n",
    "#\n",
    "# Il valore y calcolato dalla funzione è 'restituito'\n",
    "# attraverso l'istruzione di 'return'\n",
    "\n",
    "def square(x):              \n",
    "    y = x**2\n",
    "    return y"
   ]
  },
  {
   "cell_type": "markdown",
   "id": "b216c6a3-24b3-44ac-b698-3fd43531bdc6",
   "metadata": {},
   "source": [
    "Esempio di uso della funzione:"
   ]
  },
  {
   "cell_type": "code",
   "execution_count": 16,
   "id": "25c7d37c-4cff-496c-8e01-24fc82be1c2d",
   "metadata": {},
   "outputs": [
    {
     "name": "stdout",
     "output_type": "stream",
     "text": [
      "1^2 = 1\n",
      "2^2 = 4\n",
      "3^2 = 9\n",
      "4^2 = 16\n",
      "5^2 = 25\n"
     ]
    }
   ],
   "source": [
    "a_list = [1,2,3,4,5]\n",
    "\n",
    "for ia in a_list:\n",
    "    ib=square(ia)\n",
    "    print(\"%i^2 = %i\" % (ia, ib))"
   ]
  },
  {
   "cell_type": "markdown",
   "id": "3047547a-bfd1-4453-9b2f-01ccb3d5d9d0",
   "metadata": {},
   "source": [
    "Grafico della funzione \n",
    "\n",
    "$$y = 10\\cdot e^{(-x/10)}\\cdot \\cos(x)$$\n",
    "\n",
    "per $x$ che varia tra 0 e $10\\pi$, realizzato attraverso le funzioni *fun*, *plot* e *make_plot*"
   ]
  },
  {
   "cell_type": "code",
   "execution_count": 17,
   "id": "c6c25dde-6263-4cc4-97f8-116990d6b95e",
   "metadata": {},
   "outputs": [],
   "source": [
    "def fun(x, fact, amplitude):\n",
    "    y=amplitude*np.exp(-1*fact*x)*np.cos(x)\n",
    "    return y\n",
    "\n",
    "def plot(x,y):\n",
    "    plt.figure(figsize=(5,3))\n",
    "    plt.plot(x,y)\n",
    "    plt.xlabel(\"X\")\n",
    "    plt.ylabel(\"Y\")\n",
    "    plt.show()\n",
    "\n",
    "def make_plot(xmin, xmax, fact=0.1, amplitude=10., npoint=500):\n",
    "    x_list=np.linspace(xmin, xmax, npoint)\n",
    "    y_list=fun(x_list, fact, amplitude)\n",
    "    plot(x_list, y_list)"
   ]
  },
  {
   "cell_type": "markdown",
   "id": "39f9cbc9-2070-434c-865d-6fb6c9521d03",
   "metadata": {},
   "source": [
    "Uso della funzione *make_plot*\n",
    "\n",
    "Chiamiamo la funzione con argomenti 0, $10\\pi$, non specificando il numero di punti (*npoint*) nell'intervallo (risoluzione del grafico), il che vuol dire che si accetta il valore di *default* previsto per questo parametro *opzionale* (500). Lo stesso vale per i due parametri *fact* e *amplitude* che sono lasciati ai loro valori di default.   "
   ]
  },
  {
   "cell_type": "code",
   "execution_count": 18,
   "id": "eabeaf24-6b07-43f3-97dc-db32eb84035f",
   "metadata": {},
   "outputs": [
    {
     "data": {
      "image/png": "[encoded data removed]",
      "text/plain": [
       "<Figure size 500x300 with 1 Axes>"
      ]
     },
     "metadata": {},
     "output_type": "display_data"
    }
   ],
   "source": [
    "make_plot(0, 10*np.pi)"
   ]
  }
 ],
 "metadata": {
  "kernelspec": {
   "display_name": "Python 3 (ipykernel)",
   "language": "python",
   "name": "python3"
  },
  "language_info": {
   "codemirror_mode": {
    "name": "ipython",
    "version": 3
   },
   "file_extension": ".py",
   "mimetype": "text/x-python",
   "name": "python",
   "nbconvert_exporter": "python",
   "pygments_lexer": "ipython3",
   "version": "3.12.7"
  }
 },
 "nbformat": 4,
 "nbformat_minor": 5
}
