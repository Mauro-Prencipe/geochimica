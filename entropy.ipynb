{
 "cells": [
  {
   "cell_type": "markdown",
   "metadata": {},
   "source": [
    "### Noteboook per il calcolo dell'entropia usando il programma python <i>entropy</i>\n",
    "\n",
    "Calcoliamo l'entropia di stato standard (P=1 atm, T=298.15 K) e l'entropia a una data temperatura *T* (a pressione ambiente) a partire dai dati di calore specifico a pressione costante (misurati a partire da 20 fino a 500K). \n",
    "\n",
    "Importiamo nel notebook anche la libreria *inspect* che consente di visualizzare il codice python delle funzioni contenute in *entropy.py*."
   ]
  },
  {
   "cell_type": "code",
   "execution_count": 1,
   "metadata": {},
   "outputs": [],
   "source": [
    "import inspect as ins\n",
    "%matplotlib inline\n",
    "%run entropy.py"
   ]
  },
  {
   "cell_type": "markdown",
   "metadata": {},
   "source": [
    "I valori sperimentali del calore specifico sono salvati nella lista Cp_list: uno per ogni valore di temperatura della lista T_list"
   ]
  },
  {
   "cell_type": "code",
   "execution_count": 2,
   "metadata": {},
   "outputs": [
    {
     "name": "stdout",
     "output_type": "stream",
     "text": [
      "Temperature (K):\n",
      " [ 20.    40.    60.    80.   100.   150.   200.   250.   298.15 350.\n",
      " 400.   500.  ]\n",
      "\n",
      "Calore specifico (J/K mole):\n",
      " [  0.862  11.054  33.631  62.668  94.27  171.54  235.85  286.48  325.31\n",
      " 359.03  385.8   422.8  ]\n"
     ]
    }
   ],
   "source": [
    "print(\"Temperature (K):\\n\", T_list)\n",
    "print(\"\\nCalore specifico (J/K mole):\\n\", Cp_list)"
   ]
  },
  {
   "cell_type": "markdown",
   "metadata": {},
   "source": [
    "Volendo visualizzare meglio la lista dei valori T/Cp si può ricorrere alla libreria *pandas* (che è già importata all'interno di *entropy.py* con l'alias *pd*) si procede nel seguente modo:\n",
    "\n",
    "- si costruisce una lista delle due liste, a cui diamo il nome di *serie*\n",
    "- riconfezioniamo *serie* nella forma di un *dataframe* Pandas, specificando i nomi da attribuire alle righe"
   ]
  },
  {
   "cell_type": "code",
   "execution_count": 3,
   "metadata": {},
   "outputs": [],
   "source": [
    "serie=(T_list,Cp_list)\n",
    "df=pd.DataFrame(serie, index=['Temp','Cp_exp'])"
   ]
  },
  {
   "cell_type": "markdown",
   "metadata": {},
   "source": [
    "Si stampa il dataframe eliminando (opzionalmente) la numerazione delle colonne con *header=False*)"
   ]
  },
  {
   "cell_type": "code",
   "execution_count": 4,
   "metadata": {},
   "outputs": [
    {
     "name": "stdout",
     "output_type": "stream",
     "text": [
      "Temp    20.000  40.000  60.000  80.000  100.00  150.00  200.00  250.00  298.15  350.00  400.0  500.0\n",
      "Cp_exp   0.862  11.054  33.631  62.668   94.27  171.54  235.85  286.48  325.31  359.03  385.8  422.8\n"
     ]
    }
   ],
   "source": [
    "print(df.to_string(header=False))"
   ]
  },
  {
   "cell_type": "markdown",
   "metadata": {},
   "source": [
    "Facciamo un fit del calore specifico in funzione della temperatura, usando la funzione *fit*; il fit è fatto sulla base di una polinomiale del tipo:\n",
    "\n",
    "$$C_P(T)=aT+bT^{-1}+cT^2+dT^{-2}+eT^{0.5}+fT^{-0.5}$$\n",
    "\n",
    "I valori delle potenze sono già contenuti nella funzione *Cp* che calcola il calore specifico a una data *T*:"
   ]
  },
  {
   "cell_type": "code",
   "execution_count": 5,
   "metadata": {},
   "outputs": [
    {
     "name": "stdout",
     "output_type": "stream",
     "text": [
      "def Cp(T,*par):\n",
      "    cp=par[0]+par[1]*T + par[2]*T**(-1) + par[3]*T**2 + \\\n",
      "       par[4]*T**(-2) + par[5]*T**0.5 + par[6]*T**(-0.5)\n",
      "    return cp\n",
      "\n"
     ]
    }
   ],
   "source": [
    "print(ins.getsource(Cp))"
   ]
  },
  {
   "cell_type": "code",
   "execution_count": 6,
   "metadata": {},
   "outputs": [
    {
     "name": "stdout",
     "output_type": "stream",
     "text": [
      "def fit(prt=True):\n",
      "    par=reg.par\n",
      "    opt,err=curve_fit(Cp, T_list, Cp_list, p0=par)\n",
      "    reg.set(opt)\n",
      "    if prt:\n",
      "       reg.out()\n",
      "\n"
     ]
    }
   ],
   "source": [
    "print(ins.getsource(fit))"
   ]
  },
  {
   "cell_type": "markdown",
   "metadata": {},
   "source": [
    "il fit è fatto usando la funzione *curve_fit* della libreria *scipy.optimize* [qui](https://docs.scipy.org/doc/scipy/reference/generated/scipy.optimize.curve_fit.html) la documentazione generale. *curve_fit* vuole come argomenti \n",
    "\n",
    "- il nome della funzione da usarsi per il fit (*Cp*)\n",
    "- la lista dei valori della variabile indipendente (*T_list*)\n",
    "- la lista dei valori della variabile dipendente (*Cp_list*)\n",
    "- un *guess* iniziale per i parametri da ottimizzare (*p0=par* : parametri iniziali che sono stati tutti posti al valore di 1). "
   ]
  },
  {
   "cell_type": "markdown",
   "metadata": {},
   "source": [
    "I valori ottimizzati dei coefficienti della polinomiale sono restituiti da *curve_fit* nella lista *opt* (la lista *err* contiene le corrispondenti deviazioni standard) e sono salvati nella variabile *reg.par* (istanza della classe fpar) usando il metodo *.set*  "
   ]
  },
  {
   "cell_type": "code",
   "execution_count": 7,
   "metadata": {},
   "outputs": [
    {
     "name": "stdout",
     "output_type": "stream",
     "text": [
      "Stored parameters of the Cp function\n",
      "parameter 0, value: -2.8925e+03\n",
      "parameter 1, value: -5.5659e+00\n",
      "parameter 2, value: -3.3466e+04\n",
      "parameter 3, value: 1.3063e-03\n",
      "parameter 4, value: 6.4400e+04\n",
      "parameter 5, value: 2.2991e+02\n",
      "parameter 6, value: 1.5600e+04\n"
     ]
    }
   ],
   "source": [
    "fit()"
   ]
  },
  {
   "cell_type": "markdown",
   "metadata": {},
   "source": [
    "Usando il polinomio ottimizzato, ci si può calcolare il calore specifico a qualsiasi temperatura con la funzione *Cp* passandogli oltre al valore di temperatura, anche la lista dei coefficienti conservata in *reg.par*:"
   ]
  },
  {
   "cell_type": "code",
   "execution_count": 8,
   "metadata": {},
   "outputs": [
    {
     "data": {
      "text/plain": [
       "385.0221480447955"
      ]
     },
     "execution_count": 8,
     "metadata": {},
     "output_type": "execute_result"
    }
   ],
   "source": [
    "Cp(400,*reg.par)"
   ]
  },
  {
   "cell_type": "markdown",
   "metadata": {},
   "source": [
    "Si noti l'uso dell'asterisco che precede il nome *reg.par*: specifica il passaggio alla funzione *Cp* di una lista di valori di lunghezza arbitraria.\n",
    "\n",
    "Usiamo la funzione *check_cp* per visualizzare i risultati del fit. Il codice della funzione è:"
   ]
  },
  {
   "cell_type": "code",
   "execution_count": 9,
   "metadata": {},
   "outputs": [
    {
     "name": "stdout",
     "output_type": "stream",
     "text": [
      "def check_cp():\n",
      "    delta=1.\n",
      "    Tmin=min(T_list)-delta\n",
      "    Tmax=max(T_list)+delta\n",
      "    npoint=100\n",
      "    if Tmin < 0.5:\n",
      "        Tmin=0.5\n",
      "        \n",
      "    T_plot=np.linspace(Tmin,Tmax,npoint)\n",
      "    Cp_plot=Cp(T_plot,*reg.par)\n",
      "    \n",
      "    plt.figure()\n",
      "    plt.plot(T_plot,Cp_plot,\"k-\",label=\"Cp fit\")\n",
      "    plt.plot(T_list, Cp_list,\"k*\",label=\"Cp exp\")\n",
      "    plt.xlabel(\"T (K)\")\n",
      "    plt.ylabel(\"Cp (J/mol K)\")\n",
      "    plt.legend(frameon=False)\n",
      "    plt.title(\"Calore specifico a pressione costante\")\n",
      "    plt.show()\n",
      "    \n",
      "    Cp_fit=np.array([])\n",
      "    for it in T_list:\n",
      "        icp=Cp(it,*reg.par)\n",
      "        Cp_fit=np.append(Cp_fit,icp)\n",
      "    \n",
      "    delta=Cp_list-Cp_fit\n",
      "    \n",
      "# Stampa di una tabella di valori T, Cp_exp, Cpfit e delta,\n",
      "# usando le funzioni della libreria Pandas\n",
      "    serie=(T_list,Cp_list,Cp_fit,delta)\n",
      "    df=pd.DataFrame(serie, index=['T','Cp_exp','Cp_fit','delta'])\n",
      "    df=df.T\n",
      "    df2=df.round(3)\n",
      "    print(\"\")\n",
      "    print(df2.to_string(index=False))   \n",
      "\n"
     ]
    }
   ],
   "source": [
    "print(ins.getsource(check_cp))"
   ]
  },
  {
   "cell_type": "code",
   "execution_count": 10,
   "metadata": {},
   "outputs": [
    {
     "data": {
      "image/png": "[encoded data removed]",
      "text/plain": [
       "<Figure size 432x288 with 1 Axes>"
      ]
     },
     "metadata": {
      "needs_background": "light"
     },
     "output_type": "display_data"
    },
    {
     "name": "stdout",
     "output_type": "stream",
     "text": [
      "\n",
      "      T   Cp_exp   Cp_fit  delta\n",
      "  20.00    0.862    0.855  0.007\n",
      "  40.00   11.054   11.192 -0.138\n",
      "  60.00   33.631   33.173  0.458\n",
      "  80.00   62.668   62.806 -0.138\n",
      " 100.00   94.270   94.818 -0.548\n",
      " 150.00  171.540  171.264  0.276\n",
      " 200.00  235.850  235.308  0.542\n",
      " 250.00  286.480  286.608 -0.128\n",
      " 298.15  325.310  325.887 -0.577\n",
      " 350.00  359.030  359.382 -0.352\n",
      " 400.00  385.800  385.022  0.778\n",
      " 500.00  422.800  422.980 -0.180\n"
     ]
    }
   ],
   "source": [
    "check_cp()"
   ]
  },
  {
   "cell_type": "markdown",
   "metadata": {},
   "source": [
    "La funzione *entropia* calcola appunto l'entropia a una data temperatura, attraverso l'integrale\n",
    "\n",
    "$$S(T)=\\int_{0}^{T}\\frac{C_P(T)}{T}\\,\\mathrm dT$$\n",
    "\n",
    "La funzione integranda $C_P/T$ è la funzione *integrand* del programma. La funzione *entropia* calcola l'integrale su scritto usando la funzione *quad* della libreria *scipy.integrate* (la documentazione la trovate [qui]( https://docs.scipy.org/doc/scipy/reference/generated/scipy.integrate.quad.html)).\n",
    "\n",
    "La sintassi di *quad* vuole come input:\n",
    "\n",
    "- il nome della funzione integranda \n",
    "- i limiti di integrazione (qui poniamo il minimo al valore di 10, per evitare problemi di divergenza della funzione integranda)\n",
    "- gli altri parametri, oltre alla variabile *T* di cui la funzione integranda necessita: questi sono i coefficienti della polinomiale contenuti in *reg.par* (e si specificano usando *args=reg.par*)\n",
    "\n",
    "*quad* restituisce i risultati del calcolo in una lista di cui il primo elemento (quello con indice 0) è il valore dell'integrale. Quindi salviamo l'output di *quad* nella variabile *ent*; la funzione *entropia* restituisce il valore ent\\[0\\]."
   ]
  },
  {
   "cell_type": "code",
   "execution_count": 11,
   "metadata": {},
   "outputs": [
    {
     "name": "stdout",
     "output_type": "stream",
     "text": [
      "def integrand(T,par):\n",
      "    return Cp(T,*par)/T\n",
      "\n",
      "def entropia(T):\n",
      "    ent=quad(integrand, 10, T, args=reg.par)\n",
      "    return ent[0]\n",
      "\n"
     ]
    }
   ],
   "source": [
    "print(ins.getsource(integrand))\n",
    "print(ins.getsource(entropia))"
   ]
  },
  {
   "cell_type": "markdown",
   "metadata": {},
   "source": [
    "Per esempio, calcoliamo l'integrale:\n",
    "\n",
    "$$I=\\int_{0}^{5}x^2\\,\\mathrm dx$$\n",
    "\n",
    "Scriviamo la funzione integranda (*myfunc*) in modo che restituisca il valore di $x^{deg}$ dati $x$ e *deg*; quindi calcoliamo l'integrale e salviamo il risultato nella variabile *integ*:"
   ]
  },
  {
   "cell_type": "code",
   "execution_count": 12,
   "metadata": {},
   "outputs": [],
   "source": [
    "def myfunc(x,d):\n",
    "    return x**d\n",
    "\n",
    "deg=2\n",
    "integ=quad(myfunc,0,5,args=deg)"
   ]
  },
  {
   "cell_type": "markdown",
   "metadata": {},
   "source": [
    "*integ* è una lista di 2 valori: il valore dell'integrale e la stima dell'errore di integrazione; il valore dell'integrale è il primo elemento della lista (python *indicizza* le liste a partire dal valore 0 e non 1...)"
   ]
  },
  {
   "cell_type": "code",
   "execution_count": 13,
   "metadata": {},
   "outputs": [
    {
     "name": "stdout",
     "output_type": "stream",
     "text": [
      "(41.66666666666666, 4.625929269271485e-13)\n",
      "\n",
      "Valore dell'integrale 41.667:\n"
     ]
    }
   ],
   "source": [
    "print(integ)\n",
    "print(\"\\nValore dell'integrale %5.3f:\" % integ[0])"
   ]
  },
  {
   "cell_type": "markdown",
   "metadata": {},
   "source": [
    "Calcoliamo l'entropia a 400 K:"
   ]
  },
  {
   "cell_type": "code",
   "execution_count": 20,
   "metadata": {},
   "outputs": [
    {
     "data": {
      "text/plain": [
       "268.36895669379567"
      ]
     },
     "execution_count": 20,
     "metadata": {},
     "output_type": "execute_result"
    }
   ],
   "source": [
    "entropia(300)"
   ]
  },
  {
   "cell_type": "markdown",
   "metadata": {},
   "source": [
    "Possiamo fare un plot dell'entropia in funzione della temperatura, usando la funzione *plot_entropy*, il cui codice è:"
   ]
  },
  {
   "cell_type": "code",
   "execution_count": 15,
   "metadata": {},
   "outputs": [
    {
     "name": "stdout",
     "output_type": "stream",
     "text": [
      "def plot_entropy(T):\n",
      "    T_plot=np.linspace(10,T,100)\n",
      "    E_plot=np.array([])\n",
      "    for it in T_plot:\n",
      "        ie=entropia(it)\n",
      "        E_plot=np.append(E_plot,ie)\n",
      "        \n",
      "    plt.figure()\n",
      "    plt.plot(T_plot,E_plot)\n",
      "    plt.xlabel(\"T (K)\")\n",
      "    plt.ylabel(\"S (J/mole K)\")\n",
      "    plt.title(\"Entropia in funzione di T\")\n",
      "    plt.show()\n",
      "\n"
     ]
    }
   ],
   "source": [
    "print(ins.getsource(plot_entropy))"
   ]
  },
  {
   "cell_type": "code",
   "execution_count": 16,
   "metadata": {},
   "outputs": [
    {
     "data": {
      "image/png": "[encoded data removed]",
      "text/plain": [
       "<Figure size 432x288 with 1 Axes>"
      ]
     },
     "metadata": {
      "needs_background": "light"
     },
     "output_type": "display_data"
    }
   ],
   "source": [
    "plot_entropy(1000)"
   ]
  },
  {
   "cell_type": "markdown",
   "metadata": {},
   "source": [
    "Tutte le funzioni viste sopra possono essere richiamate in sequenza usando la funzione *start*:"
   ]
  },
  {
   "cell_type": "code",
   "execution_count": 18,
   "metadata": {},
   "outputs": [
    {
     "name": "stdout",
     "output_type": "stream",
     "text": [
      "def start(T):\n",
      "    fit(prt=False)\n",
      "    check_cp()\n",
      "    plot_entropy(T)\n",
      "    ent_st=entropia(298)\n",
      "    \n",
      "# Calcolo dell'entropia per una serie di valori di T contenuti\n",
      "# nell'array T_list\n",
      "    T_list=np.array([20, 100, 200, 300, 400, 500])\n",
      "    ent_list=np.array([])\n",
      "    for it in T_list:\n",
      "        ent_i=entropia(it)\n",
      "        ent_list=np.append(ent_list, ent_i)\n",
      "          \n",
      "    print(\"\\nEntropia di stato standard: %6.2f J/mole K\" % ent_st)\n",
      "    \n",
      "    serie=(T_list,ent_list)\n",
      "    df=pd.DataFrame(serie, index=['T','S(T)'])\n",
      "    df=df.T\n",
      "    df2=df.round(3)\n",
      "    print(\"\")\n",
      "    print(df2.to_string(index=False))\n",
      "\n"
     ]
    }
   ],
   "source": [
    "print(ins.getsource(start))"
   ]
  },
  {
   "cell_type": "markdown",
   "metadata": {},
   "source": [
    "Come si vede, la funzione *start* esegue il fit del $C_P$, lo visualizza, fa un plot dell'entropia e calcola l'entropia alla temperatura standard:"
   ]
  },
  {
   "cell_type": "code",
   "execution_count": 19,
   "metadata": {},
   "outputs": [
    {
     "data": {
      "image/png": "[encoded data removed]",
      "text/plain": [
       "<Figure size 432x288 with 1 Axes>"
      ]
     },
     "metadata": {
      "needs_background": "light"
     },
     "output_type": "display_data"
    },
    {
     "name": "stdout",
     "output_type": "stream",
     "text": [
      "\n",
      "      T   Cp_exp   Cp_fit  delta\n",
      "  20.00    0.862    0.855  0.007\n",
      "  40.00   11.054   11.192 -0.138\n",
      "  60.00   33.631   33.173  0.458\n",
      "  80.00   62.668   62.806 -0.138\n",
      " 100.00   94.270   94.818 -0.548\n",
      " 150.00  171.540  171.264  0.276\n",
      " 200.00  235.850  235.308  0.542\n",
      " 250.00  286.480  286.608 -0.128\n",
      " 298.15  325.310  325.887 -0.577\n",
      " 350.00  359.030  359.382 -0.352\n",
      " 400.00  385.800  385.022  0.778\n",
      " 500.00  422.800  422.980 -0.180\n"
     ]
    },
    {
     "data": {
      "image/png": "[encoded data removed]",
      "text/plain": [
       "<Figure size 432x288 with 1 Axes>"
      ]
     },
     "metadata": {
      "needs_background": "light"
     },
     "output_type": "display_data"
    },
    {
     "name": "stdout",
     "output_type": "stream",
     "text": [
      "\n",
      "Entropia di stato standard: 266.18 J/mole K\n",
      "\n",
      "     T     S(T)\n",
      "  20.0   -0.117\n",
      " 100.0   42.545\n",
      " 200.0  154.141\n",
      " 300.0  268.369\n",
      " 400.0  371.047\n",
      " 500.0  461.304\n"
     ]
    }
   ],
   "source": [
    "start(600)"
   ]
  },
  {
   "cell_type": "code",
   "execution_count": null,
   "metadata": {},
   "outputs": [],
   "source": []
  }
 ],
 "metadata": {
  "kernelspec": {
   "display_name": "Python 3",
   "language": "python",
   "name": "python3"
  },
  "language_info": {
   "codemirror_mode": {
    "name": "ipython",
    "version": 3
   },
   "file_extension": ".py",
   "mimetype": "text/x-python",
   "name": "python",
   "nbconvert_exporter": "python",
   "pygments_lexer": "ipython3",
   "version": "3.8.5"
  }
 },
 "nbformat": 4,
 "nbformat_minor": 4
}
